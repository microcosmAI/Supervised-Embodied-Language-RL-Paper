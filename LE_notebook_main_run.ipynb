{
 "cells": [
  {
   "cell_type": "markdown",
   "source": [
    "Results of running the notebook as it is - executed on a local machine for comparison with new results"
   ],
   "metadata": {
    "collapsed": false
   }
  },
  {
   "cell_type": "code",
   "execution_count": 1,
   "metadata": {
    "ExecuteTime": {
     "end_time": "2024-03-07T07:30:28.926448Z",
     "start_time": "2024-03-07T07:30:22.553721Z"
    }
   },
   "outputs": [
    {
     "name": "stderr",
     "output_type": "stream",
     "text": [
      "/Users/imtezcan/Repositories/CogSci/EBIMAS/venv-ebimas/lib/python3.10/site-packages/pygame/pkgdata.py:25: DeprecationWarning: pkg_resources is deprecated as an API. See https://setuptools.pypa.io/en/latest/pkg_resources.html\n",
      "  from pkg_resources import resource_stream, resource_exists\n",
      "/Users/imtezcan/Repositories/CogSci/EBIMAS/venv-ebimas/lib/python3.10/site-packages/pkg_resources/__init__.py:2871: DeprecationWarning: Deprecated call to `pkg_resources.declare_namespace('google')`.\n",
      "Implementing implicit namespace packages (as specified in PEP 420) is preferred to `pkg_resources.declare_namespace`. See https://setuptools.pypa.io/en/latest/references/keywords.html#keyword-namespace-packages\n",
      "  declare_namespace(pkg)\n",
      "/Users/imtezcan/Repositories/CogSci/EBIMAS/venv-ebimas/lib/python3.10/site-packages/pkg_resources/__init__.py:2871: DeprecationWarning: Deprecated call to `pkg_resources.declare_namespace('mpl_toolkits')`.\n",
      "Implementing implicit namespace packages (as specified in PEP 420) is preferred to `pkg_resources.declare_namespace`. See https://setuptools.pypa.io/en/latest/references/keywords.html#keyword-namespace-packages\n",
      "  declare_namespace(pkg)\n",
      "/Users/imtezcan/Repositories/CogSci/EBIMAS/venv-ebimas/lib/python3.10/site-packages/pkg_resources/__init__.py:2871: DeprecationWarning: Deprecated call to `pkg_resources.declare_namespace('sphinxcontrib')`.\n",
      "Implementing implicit namespace packages (as specified in PEP 420) is preferred to `pkg_resources.declare_namespace`. See https://setuptools.pypa.io/en/latest/references/keywords.html#keyword-namespace-packages\n",
      "  declare_namespace(pkg)\n",
      "/Users/imtezcan/Repositories/CogSci/EBIMAS/venv-ebimas/lib/python3.10/site-packages/ray/tune/logger/tensorboardx.py:35: DeprecationWarning: `np.bool8` is a deprecated alias for `np.bool_`.  (Deprecated NumPy 1.24)\n",
      "  VALID_NP_HPARAMS = (np.bool8, np.float32, np.float64, np.int32, np.int64)\n",
      "/Users/imtezcan/Repositories/CogSci/EBIMAS/venv-ebimas/lib/python3.10/site-packages/ray/tune/logger/tensorboardx.py:161: DeprecationWarning: `np.bool8` is a deprecated alias for `np.bool_`.  (Deprecated NumPy 1.24)\n",
      "  VALID_NP_HPARAMS = (np.bool8, np.float32, np.float64, np.int32, np.int64)\n",
      "/Users/imtezcan/Repositories/CogSci/EBIMAS/venv-ebimas/lib/python3.10/site-packages/tensorflow_probability/python/__init__.py:57: DeprecationWarning: distutils Version classes are deprecated. Use packaging.version instead.\n",
      "  if (distutils.version.LooseVersion(tf.__version__) <\n",
      "/Users/imtezcan/Repositories/CogSci/EBIMAS/venv-ebimas/lib/python3.10/site-packages/tensorflow_probability/python/__init__.py:58: DeprecationWarning: distutils Version classes are deprecated. Use packaging.version instead.\n",
      "  distutils.version.LooseVersion(required_tensorflow_version)):\n",
      "/Users/imtezcan/Repositories/CogSci/EBIMAS/venv-ebimas/lib/python3.10/site-packages/torch/utils/tensorboard/__init__.py:4: DeprecationWarning: distutils Version classes are deprecated. Use packaging.version instead.\n",
      "  if not hasattr(tensorboard, \"__version__\") or LooseVersion(\n",
      "/Users/imtezcan/Repositories/CogSci/EBIMAS/venv-ebimas/lib/python3.10/site-packages/torch/utils/tensorboard/__init__.py:6: DeprecationWarning: distutils Version classes are deprecated. Use packaging.version instead.\n",
      "  ) < LooseVersion(\"1.15\"):\n"
     ]
    }
   ],
   "source": [
    "from MuJoCo_Gym.mujoco_rl import MuJoCoRL\n",
    "from MuJoCo_Gym.wrappers import GymnasiumWrapper, GymWrapper\n",
    "from gymnasium.wrappers.frame_stack import FrameStack\n",
    "from gymnasium.experimental.wrappers import NormalizeObservationV0\n",
    "from dynamics import *\n",
    "import argparse\n",
    "import os\n",
    "import random\n",
    "import time\n",
    "from distutils.util import strtobool\n",
    "import gym\n",
    "import numpy as np\n",
    "import torch\n",
    "import torch.nn as nn\n",
    "import torch.optim as optim\n",
    "from torch.distributions.normal import Normal\n",
    "from torch.utils.tensorboard import SummaryWriter\n",
    "\n",
    "from wrappers.record_episode_statistics import RecordEpisodeStatistics\n",
    "from wrappers.frame_stack import FrameStack\n",
    "from wrappers.normalizeObservation import NormalizeObservation\n",
    "from wrappers.normalizeRewards import NormalizeReward\n",
    "\n",
    "from progressbar import progressbar"
   ]
  },
  {
   "cell_type": "markdown",
   "metadata": {},
   "source": [
    "# Dynamics"
   ]
  },
  {
   "cell_type": "code",
   "execution_count": 2,
   "metadata": {
    "ExecuteTime": {
     "end_time": "2024-03-07T07:30:28.928643Z",
     "start_time": "2024-03-07T07:30:28.925109Z"
    }
   },
   "outputs": [],
   "source": [
    "from sklearn.metrics import mean_squared_error\n",
    "from autoencoder import Autoencoder\n",
    "import math\n",
    "import mujoco"
   ]
  },
  {
   "cell_type": "markdown",
   "metadata": {},
   "source": [
    "## Vision"
   ]
  },
  {
   "cell_type": "code",
   "execution_count": 3,
   "metadata": {
    "ExecuteTime": {
     "end_time": "2024-03-07T07:30:30.926641Z",
     "start_time": "2024-03-07T07:30:30.912390Z"
    }
   },
   "outputs": [],
   "source": [
    "class Image:\n",
    "    def __init__(self, environment):\n",
    "        self.environment = environment\n",
    "        self.observation_space = {\"low\": [0 for _ in range(50)], \"high\": [1 for _ in range(50)]}\n",
    "        self.action_space = {\"low\": [], \"high\": []}\n",
    "        self.autoencoder = Autoencoder(latent_dim=50, input_shape=(64, 64, 3))\n",
    "        self.autoencoder.encoder.load_weights(\"models/encoder50.h5\")\n",
    "        self.index = 0\n",
    "\n",
    "    def dynamic(self, agent, actions):\n",
    "        self.index = self.index + 1\n",
    "        image = self.environment.get_camera_data(agent + \"_camera\")\n",
    "        image = cv2.resize(image, (64, 64))\n",
    "        result = self.autoencoder.encoder.predict(np.array([image]), verbose=0)[0]\n",
    "        # cv2.imwrite(f\"/Users/cowolff/Documents/GitHub/s.language_experiments/images/{agent}_{self.index}.png\", image)\n",
    "        return 0, result, False, {}"
   ]
  },
  {
   "cell_type": "markdown",
   "metadata": {},
   "source": [
    "## Communication"
   ]
  },
  {
   "cell_type": "code",
   "execution_count": 4,
   "metadata": {
    "ExecuteTime": {
     "end_time": "2024-03-07T07:30:31.288447Z",
     "start_time": "2024-03-07T07:30:31.268191Z"
    }
   },
   "outputs": [],
   "source": [
    "class Communication:\n",
    "    def __init__(self, environment):\n",
    "        self.environment = environment\n",
    "        self.observation_space = {\"low\": [0, 0, 0, 0], \"high\": [1, 1, 1, 1]}\n",
    "        self.action_space = {\"low\": [0, 0, 0, 0], \"high\": [1, 1, 1, 1]}\n",
    "\n",
    "    def dynamic(self, agent, actions):\n",
    "        if \"utterance\" not in self.environment.data_store[agent].keys():\n",
    "            self.environment.data_store[agent][\"utterance\"] = None\n",
    "        if agent == \"receiver\":\n",
    "            utterance = [0, 0, 0, 0]\n",
    "            if \"target_color\" in self.environment.data_store.keys():\n",
    "                utterance[np.argmax(self.environment.data_store[\"target_color\"])] = 1\n",
    "            observation = utterance\n",
    "        elif agent == \"sender\":\n",
    "            utterance = [0, 0, 0, 0]\n",
    "            utterance[np.argmax(actions)] = 1\n",
    "            self.environment.data_store[agent][\"utterance\"] = actions\n",
    "            self.environment.data_store[agent][\"utterance_max\"] = utterance\n",
    "            observation = [0, 0, 0, 0]\n",
    "        else:\n",
    "            print(\"Dafaq is going on here?\")\n",
    "        return 0, observation, False, {}"
   ]
  },
  {
   "cell_type": "markdown",
   "metadata": {},
   "source": [
    "## Reward Dynamic Function\n",
    "The reward function for the receiver gives a positive reward for the agent to move closer to the current target object.<br/>\n",
    "The sender in turn gets a positive reward if it chooses the correct word encoding for the color of the current target object."
   ]
  },
  {
   "cell_type": "code",
   "execution_count": 5,
   "metadata": {
    "ExecuteTime": {
     "end_time": "2024-03-07T07:30:31.821652Z",
     "start_time": "2024-03-07T07:30:31.800391Z"
    }
   },
   "outputs": [],
   "source": [
    "class Reward:\n",
    "    def __init__(self, environment):\n",
    "        self.environment = environment\n",
    "        self.observation_space = {\"low\": [], \"high\": []}\n",
    "        self.action_space = {\"low\": [], \"high\": []}\n",
    "        self.choices = [\"choice_1\", \"choice_2\"]\n",
    "\n",
    "    def dynamic(self, agent, actions):\n",
    "        if not \"target\" in self.environment.data_store.keys():\n",
    "            color = self.environment.get_data(\"reference_geom\")[\"color\"]\n",
    "            for choice in self.choices:\n",
    "                if (color == self.environment.get_data(choice + \"_geom\")[\"color\"]).all():\n",
    "                    self.environment.data_store[\"target\"] = choice\n",
    "                    self.environment.data_store[\"target_color\"] = self.environment.get_data(choice + \"_geom\")[\"color\"]\n",
    "                    self.environment.data_store[\"last_distance\"] = copy.deepcopy(self.environment.distance(\"receiver_geom\", choice + \"_geom\"))\n",
    "        if agent == \"receiver\":\n",
    "            target = self.environment.data_store[\"target\"]\n",
    "            new_distance = self.environment.distance(\"receiver_geom\", target + \"_geom\")\n",
    "            reward = (self.environment.data_store[\"last_distance\"] - new_distance) * 10\n",
    "            self.environment.data_store[\"last_distance\"] = copy.deepcopy(new_distance)\n",
    "        elif agent == \"sender\":\n",
    "            reference = [0, 0, 0, 0]\n",
    "            color = self.environment.data_store[\"target_color\"]\n",
    "            reference[np.argmax(color)] = 1\n",
    "            reward = 0\n",
    "            if \"utterance\" in self.environment.data_store[agent].keys():\n",
    "                reward = -1 * mean_squared_error(reference, self.environment.data_store[agent][\"utterance\"])\n",
    "        return reward, [], False, {}"
   ]
  },
  {
   "cell_type": "markdown",
   "metadata": {},
   "source": [
    "## Accuracy Measurement Dynamic"
   ]
  },
  {
   "cell_type": "code",
   "execution_count": 6,
   "metadata": {
    "ExecuteTime": {
     "end_time": "2024-03-07T07:30:32.194642Z",
     "start_time": "2024-03-07T07:30:32.083339Z"
    }
   },
   "outputs": [],
   "source": [
    "class Accuracy:\n",
    "    def __init__(self, environment):\n",
    "        self.environment = environment\n",
    "        self.observation_space = {\"low\": [], \"high\": []}\n",
    "        self.action_space = {\"low\": [], \"high\": []}\n",
    "        self.accuracies = []\n",
    "        self.variances = []\n",
    "        self.sendAccuracies = []\n",
    "        self.sendVariances = []\n",
    "        self.currentSend = []\n",
    "        self.report_accuracy = {\"sender\": 0, \"receiver\": 0}\n",
    "\n",
    "    def dynamic(self, agent, actions):\n",
    "        choices = [\"choice_1\", \"choice_2\"]\n",
    "        variance = {\"choice_1\":1, \"choice_2\":-1}\n",
    "        if \"target\" in self.environment.data_store.keys():\n",
    "            if \"sendVariances\" not in self.environment.data_store.keys():\n",
    "                self.environment.data_store[\"sendVariances\"] = True\n",
    "                self.currentSend = [0, 0, 0, 0]\n",
    "            target = self.environment.data_store[\"target\"]\n",
    "            # if any(self.environment.collision(ankle, target + \"_geom\") for ankle in [\"left_leg_geom_2\", \"left_ankle_geom_2\", \"right_leg_geom_2\", \"right_ankle_geom_2\", \"back_leg_geom_2\", \"third_ankle_geom_2\", \"rightback_leg_geom_2\", \"fourth_ankle_geom_2\"]):\n",
    "            if self.environment.collision(\"receiver_geom\", target + \"_geom\"):\n",
    "                self.accuracies.append(1)\n",
    "                self.variances.append(variance[target])\n",
    "\n",
    "                if len(self.variances) > 50:\n",
    "                    report_variance = 1 - abs(sum(self.variances[-50:]) / 50)\n",
    "                    self.report_accuracy[\"receiver\"] = sum(self.accuracies[-50:]) / 50\n",
    "            # elif any(self.environment.collision(ankle, [choice for choice in choices if choice != target][0] + \"_geom\") for ankle in [\"left_leg_geom_2\", \"left_ankle_geom_2\", \"right_leg_geom_2\", \"right_ankle_geom_2\", \"back_leg_geom_2\", \"third_ankle_geom_2\", \"rightback_leg_geom_2\", \"fourth_ankle_geom_2\"]):\n",
    "            elif self.environment.collision(\"receiver_geom\", [choice for choice in choices if choice != target][0] + \"_geom\"):\n",
    "                self.accuracies.append(0)\n",
    "                self.variances.append(variance[[choice for choice in choices if choice != target][0]])\n",
    "\n",
    "                if len(self.variances) > 50:\n",
    "                    report_variance = 1 - abs(sum(self.variances[-50:]) / 50)\n",
    "                    self.report_accuracy[0] = sum(self.accuracies[-50:]) / 50\n",
    "            if \"utterance_max\" in self.environment.data_store[agent].keys():\n",
    "                reference = [0, 0, 0, 0]\n",
    "                color = self.environment.data_store[\"target_color\"]\n",
    "                reference[np.argmax(color)] = 1\n",
    "                self.currentSend = np.add(self.currentSend, self.environment.data_store[agent][\"utterance_max\"])\n",
    "\n",
    "                if self.environment.data_store[agent][\"utterance_max\"]  == reference:\n",
    "                    self.sendAccuracies.append(1)\n",
    "                else:\n",
    "                    self.sendAccuracies.append(0)\n",
    "        return 0, [], False, {}"
   ]
  },
  {
   "cell_type": "markdown",
   "metadata": {},
   "source": [
    "# Reward Functions"
   ]
  },
  {
   "cell_type": "code",
   "execution_count": 7,
   "metadata": {
    "ExecuteTime": {
     "end_time": "2024-03-07T07:30:32.620417Z",
     "start_time": "2024-03-07T07:30:32.605799Z"
    }
   },
   "outputs": [],
   "source": [
    "def target_reward(mujoco_gym, agent):\n",
    "    if agent == \"receiver\":\n",
    "        choices = [\"choice_1\", \"choice_2\"]\n",
    "        if not \"target\" in mujoco_gym.data_store.keys():\n",
    "                color = mujoco_gym.get_data(\"reference_geom\")[\"color\"]\n",
    "                for choice in choices:\n",
    "                    if (color == mujoco_gym.get_data(choice + \"_geom\")[\"color\"]).all():\n",
    "                        mujoco_gym.data_store[\"target\"] = choice\n",
    "                        mujoco_gym.data_store[\"target_color\"] = mujoco_gym.get_data(choice + \"_geom\")[\"color\"]\n",
    "        \n",
    "        target = mujoco_gym.data_store[\"target\"]\n",
    "        # for ankle in [\"left_leg_geom_2\", \"left_ankle_geom_2\", \"right_leg_geom_2\", \"right_ankle_geom_2\", \"back_leg_geom_2\", \"third_ankle_geom_2\", \"rightback_leg_geom_2\", \"fourth_ankle_geom_2\"]:\n",
    "        for ankle in [\"receiver_geom\"]:\n",
    "            if mujoco_gym.collision(ankle, target + \"_geom\"):\n",
    "                return 1\n",
    "            elif mujoco_gym.collision(ankle, [choice for choice in choices if choice != target][0] + \"_geom\"):\n",
    "                return -1\n",
    "    return 0"
   ]
  },
  {
   "cell_type": "code",
   "execution_count": 8,
   "metadata": {
    "ExecuteTime": {
     "end_time": "2024-03-07T07:30:32.818248Z",
     "start_time": "2024-03-07T07:30:32.802622Z"
    }
   },
   "outputs": [],
   "source": [
    "def collision_reward(mujoco_gym, agent):\n",
    "    for border in [\"border1_geom\", \"border2_geom\", \"border3_geom\", \"border4_geom\", \"border5_geom\"]:\n",
    "        # for ankle in [\"left_leg_geom_2\", \"left_ankle_geom_2\", \"right_leg_geom_2\", \"right_ankle_geom_2\", \"back_leg_geom_2\", \"third_ankle_geom_2\", \"rightback_leg_geom_2\", \"fourth_ankle_geom_2\"]:\n",
    "        for ankle in [agent + \"_geom\"]:\n",
    "            if mujoco_gym.collision(border, ankle):\n",
    "                return -0.1\n",
    "    return 0"
   ]
  },
  {
   "cell_type": "markdown",
   "metadata": {},
   "source": [
    "# Environment Setup"
   ]
  },
  {
   "cell_type": "code",
   "execution_count": 9,
   "metadata": {
    "ExecuteTime": {
     "end_time": "2024-03-07T07:30:33.160255Z",
     "start_time": "2024-03-07T07:30:33.148819Z"
    }
   },
   "outputs": [],
   "source": [
    "def make_env(config_dict):\n",
    "    def thunk():\n",
    "        window = 5\n",
    "        env = MuJoCoRL(config_dict=config_dict)\n",
    "        # env = GymWrapper(env, \"receiver\")\n",
    "        # env = FrameStack(env, 4)\n",
    "        env = NormalizeObservation(env)\n",
    "        env = NormalizeReward(env)\n",
    "        # env = RecordEpisodeStatistics(env)\n",
    "        return env\n",
    "\n",
    "    return thunk"
   ]
  },
  {
   "cell_type": "code",
   "execution_count": 10,
   "metadata": {
    "ExecuteTime": {
     "end_time": "2024-03-07T07:30:33.973923Z",
     "start_time": "2024-03-07T07:30:33.327654Z"
    }
   },
   "outputs": [
    {
     "name": "stderr",
     "output_type": "stream",
     "text": [
      "/Users/imtezcan/Repositories/CogSci/EBIMAS/venv-ebimas/lib/python3.10/site-packages/gymnasium/spaces/box.py:130: UserWarning: \u001B[33mWARN: Box bound precision lowered by casting to float32\u001B[0m\n",
      "  gym.logger.warn(f\"Box bound precision lowered by casting to {self.dtype}\")\n",
      "/Users/imtezcan/Repositories/CogSci/EBIMAS/venv-ebimas/lib/python3.10/site-packages/keras/src/engine/training_v1.py:2359: UserWarning: `Model.state_updates` will be removed in a future version. This property should not be used in TensorFlow 2.0, as `updates` are applied automatically.\n",
      "  updates=self.state_updates,\n"
     ]
    }
   ],
   "source": [
    "xml_files = [\"levels/\" + file for file in os.listdir(\"levels/\")]\n",
    "agents = [\"sender\", \"receiver\"]\n",
    "\n",
    "config_dict = {\"xmlPath\":xml_files, \n",
    "                   \"agents\":agents, \n",
    "                   \"rewardFunctions\":[collision_reward, target_reward], \n",
    "                   \"doneFunctions\":[target_done, border_done], \n",
    "                   \"skipFrames\":5,\n",
    "                   \"environmentDynamics\":[Image, Reward, Communication, Accuracy],\n",
    "                   \"freeJoint\":True,\n",
    "                   \"renderMode\":False,\n",
    "                   \"maxSteps\":1024,\n",
    "                   \"agentCameras\":True}\n",
    "\n",
    "env = make_env(config_dict)()"
   ]
  },
  {
   "cell_type": "markdown",
   "metadata": {},
   "source": [
    "# RL Model"
   ]
  },
  {
   "cell_type": "code",
   "execution_count": 11,
   "metadata": {
    "ExecuteTime": {
     "end_time": "2024-03-07T07:30:33.974122Z",
     "start_time": "2024-03-07T07:30:33.965570Z"
    }
   },
   "outputs": [],
   "source": [
    "def layer_init(layer, std=np.sqrt(2), bias_const=0.0):\n",
    "    torch.nn.init.orthogonal_(layer.weight, std)\n",
    "    torch.nn.init.constant_(layer.bias, bias_const)\n",
    "    return layer\n",
    "\n",
    "class Agent(nn.Module):\n",
    "    def __init__(self, envs):\n",
    "        super(Agent, self).__init__()\n",
    "        self.critic = nn.Sequential(\n",
    "            nn.Flatten(),\n",
    "            layer_init(nn.Linear(np.array(envs.observation_space.shape).prod(), 128)),\n",
    "            nn.Tanh(),\n",
    "            layer_init(nn.Linear(128, 128)),\n",
    "            nn.Tanh(),\n",
    "            layer_init(nn.Linear(128, 1), std=1.0),\n",
    "        )\n",
    "        self.actor_mean = nn.Sequential(\n",
    "            nn.Flatten(),\n",
    "            layer_init(nn.Linear(np.array(envs.observation_space.shape).prod(), 128)),\n",
    "            nn.Tanh(),\n",
    "            layer_init(nn.Linear(128, 128)),\n",
    "            nn.Tanh(),\n",
    "            layer_init(nn.Linear(128, np.prod(envs.action_space.shape)), std=0.01),\n",
    "        )\n",
    "        self.actor_logstd = nn.Parameter(torch.zeros(1, np.prod(envs.action_space.shape)))\n",
    "\n",
    "    def get_value(self, x):\n",
    "        return self.critic(x)\n",
    "\n",
    "    def get_action_and_value(self, x, action=None):\n",
    "        action_mean = self.actor_mean(x)\n",
    "        action_logstd = self.actor_logstd.expand_as(action_mean)\n",
    "        action_std = torch.exp(action_logstd)\n",
    "        probs = Normal(action_mean, action_std)\n",
    "        if action is None:\n",
    "            action = probs.sample()\n",
    "        return action, probs.log_prob(action).sum(1), probs.entropy().sum(1), self.critic(x)"
   ]
  },
  {
   "cell_type": "markdown",
   "metadata": {},
   "source": [
    "# Buffer"
   ]
  },
  {
   "cell_type": "code",
   "execution_count": 12,
   "metadata": {
    "ExecuteTime": {
     "end_time": "2024-03-07T07:31:03.159816Z",
     "start_time": "2024-03-07T07:31:03.149330Z"
    }
   },
   "outputs": [],
   "source": [
    "class Buffer():\n",
    "    def __init__(self, num_steps, envs, num_envs, device):\n",
    "        self.obs = torch.zeros((num_steps, num_envs) + envs.observation_space.shape).to(device)\n",
    "        self.actions = torch.zeros((num_steps, num_envs) + envs.action_space.shape).to(device)\n",
    "        self.logprobs = torch.zeros((num_steps, num_envs)).to(device)\n",
    "        self.rewards = torch.zeros((num_steps, num_envs)).to(device)\n",
    "        self.dones = torch.zeros((num_steps, num_envs)).to(device)\n",
    "        self.values = torch.zeros((num_steps, num_envs)).to(device)"
   ]
  },
  {
   "cell_type": "markdown",
   "metadata": {},
   "source": [
    "# Update Function"
   ]
  },
  {
   "cell_type": "code",
   "execution_count": 13,
   "metadata": {
    "ExecuteTime": {
     "end_time": "2024-03-07T07:31:04.208552Z",
     "start_time": "2024-03-07T07:31:04.143036Z"
    }
   },
   "outputs": [],
   "source": [
    "def update_agent(agent, buffer, optimizer, next_obs, next_done, env, batch_size, update_epochs, minibatch_size, clip_coef, vf_coef, ent_coef, max_grad_norm, target_kl, clip_vloss, norm_adv, gae_lambda, gae, gamma, device, num_steps):\n",
    "\n",
    "    with torch.no_grad():\n",
    "        next_value = agent.get_value(next_obs).reshape(1, -1)\n",
    "        if gae:\n",
    "            advantages = torch.zeros_like(buffer.rewards).to(device)\n",
    "            lastgaelam = 0\n",
    "            for t in reversed(range(num_steps)):\n",
    "                if t == num_steps - 1:\n",
    "                    nextnonterminal = 1.0 - next_done\n",
    "                    nextvalues = next_value\n",
    "                else:\n",
    "                    nextnonterminal = 1.0 - buffer.dones[t + 1]\n",
    "                    nextvalues = buffer.values[t + 1]\n",
    "                delta = buffer.rewards[t] + gamma * nextvalues * nextnonterminal - buffer.values[t]\n",
    "                advantages[t] = lastgaelam = delta + gamma * gae_lambda * nextnonterminal * lastgaelam\n",
    "            returns = advantages + buffer.values\n",
    "        else:\n",
    "            returns = torch.zeros_like(buffer.rewards).to(device)\n",
    "            for t in reversed(range(num_steps)):\n",
    "                if t == num_steps - 1:\n",
    "                    nextnonterminal = 1.0 - next_done\n",
    "                    next_return = next_value\n",
    "                else:\n",
    "                    nextnonterminal = 1.0 - buffer.dones[t + 1]\n",
    "                    next_return = returns[t + 1]\n",
    "                returns[t] = buffer.rewards[t] + gamma * nextnonterminal * next_return\n",
    "            advantages = returns - buffer.values\n",
    "\n",
    "    # flatten the batch\n",
    "    b_obs = buffer.obs.reshape((-1,) + env.observation_space.shape)\n",
    "    b_logprobs = buffer.logprobs.reshape(-1)\n",
    "    b_actions = buffer.actions.reshape((-1,) + env.action_space.shape)\n",
    "    b_advantages = advantages.reshape(-1)\n",
    "    b_returns = returns.reshape(-1)\n",
    "    b_values = buffer.values.reshape(-1)\n",
    "\n",
    "    # Optimizing the policy and value network\n",
    "    b_inds = np.arange(batch_size)\n",
    "    clipfracs = []\n",
    "    for epoch in range(update_epochs):\n",
    "        np.random.shuffle(b_inds)\n",
    "        for start in range(0, batch_size, minibatch_size):\n",
    "            end = start + minibatch_size\n",
    "            mb_inds = b_inds[start:end]\n",
    "\n",
    "            _, newlogprob, entropy, newvalue = agent.get_action_and_value(b_obs[mb_inds], b_actions[mb_inds])\n",
    "            logratio = newlogprob - b_logprobs[mb_inds]\n",
    "            ratio = logratio.exp()\n",
    "\n",
    "            with torch.no_grad():\n",
    "                # calculate approx_kl http://joschu.net/blog/kl-approx.html\n",
    "                old_approx_kl = (-logratio).mean()\n",
    "                approx_kl = ((ratio - 1) - logratio).mean()\n",
    "                clipfracs += [((ratio - 1.0).abs() > clip_coef).float().mean().item()]\n",
    "\n",
    "            mb_advantages = b_advantages[mb_inds]\n",
    "            if norm_adv:\n",
    "                mb_advantages = (mb_advantages - mb_advantages.mean()) / (mb_advantages.std() + 1e-8)\n",
    "\n",
    "            # Policy loss\n",
    "            pg_loss1 = -mb_advantages * ratio\n",
    "            pg_loss2 = -mb_advantages * torch.clamp(ratio, 1 - clip_coef, 1 + clip_coef)\n",
    "            pg_loss = torch.max(pg_loss1, pg_loss2).mean()\n",
    "\n",
    "            # Value loss\n",
    "            newvalue = newvalue.view(-1)\n",
    "            if clip_vloss:\n",
    "                v_loss_unclipped = (newvalue - b_returns[mb_inds]) ** 2\n",
    "                v_clipped = b_values[mb_inds] + torch.clamp(\n",
    "                    newvalue - b_values[mb_inds],\n",
    "                    -clip_coef,\n",
    "                    clip_coef,\n",
    "                )\n",
    "                v_loss_clipped = (v_clipped - b_returns[mb_inds]) ** 2\n",
    "                v_loss_max = torch.max(v_loss_unclipped, v_loss_clipped)\n",
    "                v_loss = 0.5 * v_loss_max.mean()\n",
    "            else:\n",
    "                v_loss = 0.5 * ((newvalue - b_returns[mb_inds]) ** 2).mean()\n",
    "\n",
    "            entropy_loss = entropy.mean()\n",
    "            loss = pg_loss - ent_coef * entropy_loss + v_loss * vf_coef\n",
    "\n",
    "            optimizer.zero_grad()\n",
    "            loss.backward()\n",
    "            nn.utils.clip_grad_norm_(agent.parameters(), max_grad_norm)\n",
    "            optimizer.step()\n",
    "\n",
    "        if target_kl is not None:\n",
    "            if approx_kl > target_kl:\n",
    "                break\n",
    "\n",
    "    y_pred, y_true = b_values.cpu().numpy(), b_returns.cpu().numpy()\n",
    "    var_y = np.var(y_true)\n",
    "    explained_var = np.nan if var_y == 0 else 1 - np.var(y_true - y_pred) / var_y"
   ]
  },
  {
   "cell_type": "markdown",
   "metadata": {},
   "source": [
    "# Training"
   ]
  },
  {
   "cell_type": "markdown",
   "metadata": {},
   "source": [
    "## Helper Function"
   ]
  },
  {
   "cell_type": "code",
   "execution_count": 14,
   "metadata": {
    "ExecuteTime": {
     "end_time": "2024-03-07T07:31:06.230466Z",
     "start_time": "2024-03-07T07:31:05.985508Z"
    }
   },
   "outputs": [],
   "source": [
    "def initialize_agent(env, device, learning_rate):\n",
    "    agent = Agent(env).to(device)\n",
    "    optimizer = optim.Adam(agent.parameters(), lr=learning_rate, eps=1e-5)\n",
    "    return agent, optimizer\n",
    "\n",
    "def get_action_and_update_buffer(agent, obs, buffer, step):\n",
    "    with torch.no_grad():\n",
    "        action, logprob, _, value = agent.get_action_and_value(obs)\n",
    "        buffer.values[step] = value.flatten()\n",
    "    buffer.actions[step] = action\n",
    "    buffer.logprobs[step] = logprob\n",
    "    return action\n",
    "\n",
    "def reset_environment(env, device):\n",
    "    next_obs, infos = env.reset()\n",
    "    next_obs = {k: torch.Tensor(v).unsqueeze(0).to(device) for k, v in next_obs.items()}\n",
    "    return next_obs, infos"
   ]
  },
  {
   "cell_type": "markdown",
   "metadata": {},
   "source": [
    "## Hyperparameters"
   ]
  },
  {
   "cell_type": "code",
   "execution_count": 15,
   "metadata": {
    "ExecuteTime": {
     "end_time": "2024-03-07T07:31:06.529332Z",
     "start_time": "2024-03-07T07:31:06.512800Z"
    }
   },
   "outputs": [],
   "source": [
    "exp_name = \"Sender box default\"\n",
    "\n",
    "learning_rate = 1e-5\n",
    "seed = 1\n",
    "# total_timesteps = 20000000\n",
    "total_timesteps = 1000000\n",
    "torch_deterministic = True\n",
    "cuda = False\n",
    "mps = False\n",
    "track = False\n",
    "wandb_project_name = \"ppo-implementation-details\"\n",
    "wandb_entity = None\n",
    "capture_video = False\n",
    "\n",
    "# Algorithm-specific arguments\n",
    "num_envs = 1\n",
    "num_steps = 2048\n",
    "anneal_lr = True\n",
    "gae = True\n",
    "gamma = 0.99\n",
    "gae_lambda = 0.95\n",
    "num_minibatches = 128\n",
    "update_epochs = 10\n",
    "norm_adv = True\n",
    "clip_coef = 0.2\n",
    "clip_vloss = True\n",
    "ent_coef = 0.0\n",
    "vf_coef = 0.5\n",
    "max_grad_norm = 0.5\n",
    "target_kl = None\n",
    "store_freq = 20\n",
    "\n",
    "# Calculate derived variables\n",
    "batch_size = int(num_envs * num_steps)\n",
    "minibatch_size = int(batch_size // num_minibatches)"
   ]
  },
  {
   "cell_type": "code",
   "execution_count": 16,
   "metadata": {
    "ExecuteTime": {
     "end_time": "2024-03-07T10:55:05.853509Z",
     "start_time": "2024-03-07T07:31:07.373320Z"
    }
   },
   "outputs": [
    {
     "name": "stderr",
     "output_type": "stream",
     "text": [
      "  0% (0 of 488) |                        | Elapsed Time: 0:00:00 ETA:  --:--:--"
     ]
    },
    {
     "name": "stdout",
     "output_type": "stream",
     "text": [
      "SPS: 65 Average Reward: -38.92668490629348\n"
     ]
    },
    {
     "name": "stderr",
     "output_type": "stream",
     "text": [
      "  0% (1 of 488) |                        | Elapsed Time: 0:00:31 ETA:   4:14:21"
     ]
    },
    {
     "name": "stdout",
     "output_type": "stream",
     "text": [
      "SPS: 71 Average Reward: -10.97226696767313\n"
     ]
    },
    {
     "name": "stderr",
     "output_type": "stream",
     "text": [
      "  0% (2 of 488) |                        | Elapsed Time: 0:00:57 ETA:   3:32:35"
     ]
    },
    {
     "name": "stdout",
     "output_type": "stream",
     "text": [
      "SPS: 72 Average Reward: -10.691832144441234\n"
     ]
    },
    {
     "name": "stderr",
     "output_type": "stream",
     "text": [
      "  0% (3 of 488) |                        | Elapsed Time: 0:01:24 ETA:   3:37:15"
     ]
    },
    {
     "name": "stdout",
     "output_type": "stream",
     "text": [
      "SPS: 73 Average Reward: -10.337936241733106\n"
     ]
    },
    {
     "name": "stderr",
     "output_type": "stream",
     "text": [
      "  0% (4 of 488) |                        | Elapsed Time: 0:01:50 ETA:   3:32:47"
     ]
    },
    {
     "name": "stdout",
     "output_type": "stream",
     "text": [
      "SPS: 74 Average Reward: -10.343117983355496\n"
     ]
    },
    {
     "name": "stderr",
     "output_type": "stream",
     "text": [
      "  1% (5 of 488) |                        | Elapsed Time: 0:02:16 ETA:   3:29:48"
     ]
    },
    {
     "name": "stdout",
     "output_type": "stream",
     "text": [
      "SPS: 75 Average Reward: -10.768365945137852\n"
     ]
    },
    {
     "name": "stderr",
     "output_type": "stream",
     "text": [
      "  1% (6 of 488) |                        | Elapsed Time: 0:02:43 ETA:   3:31:16"
     ]
    },
    {
     "name": "stdout",
     "output_type": "stream",
     "text": [
      "SPS: 75 Average Reward: -10.716334582248884\n"
     ]
    },
    {
     "name": "stderr",
     "output_type": "stream",
     "text": [
      "  1% (7 of 488) |                        | Elapsed Time: 0:03:09 ETA:   3:31:57"
     ]
    },
    {
     "name": "stdout",
     "output_type": "stream",
     "text": [
      "SPS: 75 Average Reward: -11.520690001076183\n"
     ]
    },
    {
     "name": "stderr",
     "output_type": "stream",
     "text": [
      "  1% (8 of 488) |                        | Elapsed Time: 0:03:36 ETA:   3:38:24"
     ]
    },
    {
     "name": "stdout",
     "output_type": "stream",
     "text": [
      "SPS: 75 Average Reward: -10.888581292546458\n"
     ]
    },
    {
     "name": "stderr",
     "output_type": "stream",
     "text": [
      "  1% (9 of 488) |                        | Elapsed Time: 0:04:05 ETA:   3:46:00"
     ]
    },
    {
     "name": "stdout",
     "output_type": "stream",
     "text": [
      "SPS: 75 Average Reward: -10.611857478026621\n"
     ]
    },
    {
     "name": "stderr",
     "output_type": "stream",
     "text": [
      "  2% (10 of 488) |                       | Elapsed Time: 0:04:32 ETA:   3:33:07"
     ]
    },
    {
     "name": "stdout",
     "output_type": "stream",
     "text": [
      "SPS: 75 Average Reward: -10.643825146732723\n"
     ]
    },
    {
     "name": "stderr",
     "output_type": "stream",
     "text": [
      "  2% (11 of 488) |                       | Elapsed Time: 0:04:57 ETA:   3:22:40"
     ]
    },
    {
     "name": "stdout",
     "output_type": "stream",
     "text": [
      "SPS: 76 Average Reward: -11.358162940840781\n"
     ]
    },
    {
     "name": "stderr",
     "output_type": "stream",
     "text": [
      "  2% (12 of 488) |                       | Elapsed Time: 0:05:23 ETA:   3:23:49"
     ]
    },
    {
     "name": "stdout",
     "output_type": "stream",
     "text": [
      "SPS: 76 Average Reward: -10.456134902635602\n"
     ]
    },
    {
     "name": "stderr",
     "output_type": "stream",
     "text": [
      "  2% (13 of 488) |                       | Elapsed Time: 0:05:48 ETA:   3:20:04"
     ]
    },
    {
     "name": "stdout",
     "output_type": "stream",
     "text": [
      "SPS: 76 Average Reward: -10.366334884881015\n"
     ]
    },
    {
     "name": "stderr",
     "output_type": "stream",
     "text": [
      "  2% (14 of 488) |                       | Elapsed Time: 0:06:13 ETA:   3:14:43"
     ]
    },
    {
     "name": "stdout",
     "output_type": "stream",
     "text": [
      "SPS: 77 Average Reward: -10.344858110573924\n"
     ]
    },
    {
     "name": "stderr",
     "output_type": "stream",
     "text": [
      "  3% (15 of 488) |                       | Elapsed Time: 0:06:37 ETA:   3:11:41"
     ]
    },
    {
     "name": "stdout",
     "output_type": "stream",
     "text": [
      "SPS: 77 Average Reward: -10.053071418154305\n"
     ]
    },
    {
     "name": "stderr",
     "output_type": "stream",
     "text": [
      "  3% (16 of 488) |                       | Elapsed Time: 0:07:02 ETA:   3:15:40"
     ]
    },
    {
     "name": "stdout",
     "output_type": "stream",
     "text": [
      "SPS: 77 Average Reward: -11.06916436904046\n"
     ]
    },
    {
     "name": "stderr",
     "output_type": "stream",
     "text": [
      "  3% (17 of 488) |                       | Elapsed Time: 0:07:26 ETA:   3:11:52"
     ]
    },
    {
     "name": "stdout",
     "output_type": "stream",
     "text": [
      "SPS: 78 Average Reward: -10.443418919063324\n"
     ]
    },
    {
     "name": "stderr",
     "output_type": "stream",
     "text": [
      "  3% (18 of 488) |                       | Elapsed Time: 0:07:50 ETA:   3:09:26"
     ]
    },
    {
     "name": "stdout",
     "output_type": "stream",
     "text": [
      "SPS: 78 Average Reward: -10.182572690827124\n"
     ]
    },
    {
     "name": "stderr",
     "output_type": "stream",
     "text": [
      "  3% (19 of 488) |                       | Elapsed Time: 0:08:15 ETA:   3:10:42"
     ]
    },
    {
     "name": "stdout",
     "output_type": "stream",
     "text": [
      "SPS: 78 Average Reward: -10.36470115322051\n"
     ]
    },
    {
     "name": "stderr",
     "output_type": "stream",
     "text": [
      "  4% (20 of 488) |                       | Elapsed Time: 0:08:40 ETA:   3:12:56"
     ]
    },
    {
     "name": "stdout",
     "output_type": "stream",
     "text": [
      "SPS: 78 Average Reward: -10.661999265607456\n"
     ]
    },
    {
     "name": "stderr",
     "output_type": "stream",
     "text": [
      "  4% (21 of 488) |                       | Elapsed Time: 0:09:05 ETA:   3:14:29"
     ]
    },
    {
     "name": "stdout",
     "output_type": "stream",
     "text": [
      "SPS: 79 Average Reward: -10.683452966381113\n"
     ]
    },
    {
     "name": "stderr",
     "output_type": "stream",
     "text": [
      "  4% (22 of 488) |#                      | Elapsed Time: 0:09:29 ETA:   3:12:10"
     ]
    },
    {
     "name": "stdout",
     "output_type": "stream",
     "text": [
      "SPS: 79 Average Reward: -11.725612752057316\n"
     ]
    },
    {
     "name": "stderr",
     "output_type": "stream",
     "text": [
      "  4% (23 of 488) |#                      | Elapsed Time: 0:09:54 ETA:   3:10:26"
     ]
    },
    {
     "name": "stdout",
     "output_type": "stream",
     "text": [
      "SPS: 79 Average Reward: -11.324217947902644\n"
     ]
    },
    {
     "name": "stderr",
     "output_type": "stream",
     "text": [
      "  4% (24 of 488) |#                      | Elapsed Time: 0:10:18 ETA:   3:09:15"
     ]
    },
    {
     "name": "stdout",
     "output_type": "stream",
     "text": [
      "SPS: 79 Average Reward: -10.718005125638205\n"
     ]
    },
    {
     "name": "stderr",
     "output_type": "stream",
     "text": [
      "  5% (25 of 488) |#                      | Elapsed Time: 0:10:43 ETA:   3:12:19"
     ]
    },
    {
     "name": "stdout",
     "output_type": "stream",
     "text": [
      "SPS: 79 Average Reward: -12.238973864724676\n"
     ]
    },
    {
     "name": "stderr",
     "output_type": "stream",
     "text": [
      "  5% (26 of 488) |#                      | Elapsed Time: 0:11:08 ETA:   3:09:04"
     ]
    },
    {
     "name": "stdout",
     "output_type": "stream",
     "text": [
      "SPS: 79 Average Reward: -11.56223651360296\n"
     ]
    },
    {
     "name": "stderr",
     "output_type": "stream",
     "text": [
      "  5% (27 of 488) |#                      | Elapsed Time: 0:11:33 ETA:   3:10:14"
     ]
    },
    {
     "name": "stdout",
     "output_type": "stream",
     "text": [
      "SPS: 79 Average Reward: -9.960024902837125\n"
     ]
    },
    {
     "name": "stderr",
     "output_type": "stream",
     "text": [
      "  5% (28 of 488) |#                      | Elapsed Time: 0:11:57 ETA:   3:10:35"
     ]
    },
    {
     "name": "stdout",
     "output_type": "stream",
     "text": [
      "SPS: 80 Average Reward: -19.97970701374064\n"
     ]
    },
    {
     "name": "stderr",
     "output_type": "stream",
     "text": [
      "  5% (29 of 488) |#                      | Elapsed Time: 0:12:21 ETA:   3:03:59"
     ]
    },
    {
     "name": "stdout",
     "output_type": "stream",
     "text": [
      "SPS: 80 Average Reward: -29.881998525992678\n"
     ]
    },
    {
     "name": "stderr",
     "output_type": "stream",
     "text": [
      "  6% (30 of 488) |#                      | Elapsed Time: 0:12:47 ETA:   3:12:09"
     ]
    },
    {
     "name": "stdout",
     "output_type": "stream",
     "text": [
      "SPS: 80 Average Reward: -24.031254536778675\n"
     ]
    },
    {
     "name": "stderr",
     "output_type": "stream",
     "text": [
      "  6% (31 of 488) |#                      | Elapsed Time: 0:13:12 ETA:   3:10:50"
     ]
    },
    {
     "name": "stdout",
     "output_type": "stream",
     "text": [
      "SPS: 80 Average Reward: -21.899141025016107\n"
     ]
    },
    {
     "name": "stderr",
     "output_type": "stream",
     "text": [
      "  6% (32 of 488) |#                      | Elapsed Time: 0:13:36 ETA:   3:04:18"
     ]
    },
    {
     "name": "stdout",
     "output_type": "stream",
     "text": [
      "SPS: 80 Average Reward: -20.414520150692702\n"
     ]
    },
    {
     "name": "stderr",
     "output_type": "stream",
     "text": [
      "  6% (33 of 488) |#                      | Elapsed Time: 0:14:00 ETA:   3:03:02"
     ]
    },
    {
     "name": "stdout",
     "output_type": "stream",
     "text": [
      "SPS: 80 Average Reward: -19.67264097931174\n"
     ]
    },
    {
     "name": "stderr",
     "output_type": "stream",
     "text": [
      "  6% (34 of 488) |#                      | Elapsed Time: 0:14:25 ETA:   3:05:34"
     ]
    },
    {
     "name": "stdout",
     "output_type": "stream",
     "text": [
      "SPS: 80 Average Reward: -16.561675974745462\n"
     ]
    },
    {
     "name": "stderr",
     "output_type": "stream",
     "text": [
      "  7% (35 of 488) |#                      | Elapsed Time: 0:14:49 ETA:   3:04:50"
     ]
    },
    {
     "name": "stdout",
     "output_type": "stream",
     "text": [
      "SPS: 80 Average Reward: -18.962173372996528\n"
     ]
    },
    {
     "name": "stderr",
     "output_type": "stream",
     "text": [
      "  7% (36 of 488) |#                      | Elapsed Time: 0:15:14 ETA:   3:06:53"
     ]
    },
    {
     "name": "stdout",
     "output_type": "stream",
     "text": [
      "SPS: 80 Average Reward: -24.240573019662076\n"
     ]
    },
    {
     "name": "stderr",
     "output_type": "stream",
     "text": [
      "  7% (37 of 488) |#                      | Elapsed Time: 0:15:39 ETA:   3:07:09"
     ]
    },
    {
     "name": "stdout",
     "output_type": "stream",
     "text": [
      "SPS: 80 Average Reward: -17.43943864286338\n"
     ]
    },
    {
     "name": "stderr",
     "output_type": "stream",
     "text": [
      "  7% (38 of 488) |#                      | Elapsed Time: 0:16:03 ETA:   3:03:10"
     ]
    },
    {
     "name": "stdout",
     "output_type": "stream",
     "text": [
      "SPS: 80 Average Reward: -18.485311589723946\n"
     ]
    },
    {
     "name": "stderr",
     "output_type": "stream",
     "text": [
      "  7% (39 of 488) |#                      | Elapsed Time: 0:16:28 ETA:   3:05:52"
     ]
    },
    {
     "name": "stdout",
     "output_type": "stream",
     "text": [
      "SPS: 80 Average Reward: -13.075632845530382\n"
     ]
    },
    {
     "name": "stderr",
     "output_type": "stream",
     "text": [
      "  8% (40 of 488) |#                      | Elapsed Time: 0:16:53 ETA:   3:05:23"
     ]
    },
    {
     "name": "stdout",
     "output_type": "stream",
     "text": [
      "SPS: 80 Average Reward: -17.44947281800397\n"
     ]
    },
    {
     "name": "stderr",
     "output_type": "stream",
     "text": [
      "  8% (41 of 488) |#                      | Elapsed Time: 0:17:18 ETA:   3:04:44"
     ]
    },
    {
     "name": "stdout",
     "output_type": "stream",
     "text": [
      "SPS: 80 Average Reward: -17.947183171854324\n"
     ]
    },
    {
     "name": "stderr",
     "output_type": "stream",
     "text": [
      "  8% (42 of 488) |#                      | Elapsed Time: 0:17:42 ETA:   3:02:51"
     ]
    },
    {
     "name": "stdout",
     "output_type": "stream",
     "text": [
      "SPS: 80 Average Reward: -15.155368960644251\n"
     ]
    },
    {
     "name": "stderr",
     "output_type": "stream",
     "text": [
      "  8% (43 of 488) |##                     | Elapsed Time: 0:18:07 ETA:   3:00:56"
     ]
    },
    {
     "name": "stdout",
     "output_type": "stream",
     "text": [
      "SPS: 81 Average Reward: -14.323295062586022\n"
     ]
    },
    {
     "name": "stderr",
     "output_type": "stream",
     "text": [
      "  9% (44 of 488) |##                     | Elapsed Time: 0:18:31 ETA:   3:00:30"
     ]
    },
    {
     "name": "stdout",
     "output_type": "stream",
     "text": [
      "SPS: 81 Average Reward: -17.523099848791343\n"
     ]
    },
    {
     "name": "stderr",
     "output_type": "stream",
     "text": [
      "  9% (45 of 488) |##                     | Elapsed Time: 0:18:55 ETA:   2:59:52"
     ]
    },
    {
     "name": "stdout",
     "output_type": "stream",
     "text": [
      "SPS: 81 Average Reward: -21.06696564188911\n"
     ]
    },
    {
     "name": "stderr",
     "output_type": "stream",
     "text": [
      "  9% (46 of 488) |##                     | Elapsed Time: 0:19:20 ETA:   3:04:02"
     ]
    },
    {
     "name": "stdout",
     "output_type": "stream",
     "text": [
      "SPS: 81 Average Reward: -19.580144996236726\n"
     ]
    },
    {
     "name": "stderr",
     "output_type": "stream",
     "text": [
      "  9% (47 of 488) |##                     | Elapsed Time: 0:19:45 ETA:   3:00:35"
     ]
    },
    {
     "name": "stdout",
     "output_type": "stream",
     "text": [
      "SPS: 81 Average Reward: -24.014366595658203\n"
     ]
    },
    {
     "name": "stderr",
     "output_type": "stream",
     "text": [
      "  9% (48 of 488) |##                     | Elapsed Time: 0:20:10 ETA:   3:01:19"
     ]
    },
    {
     "name": "stdout",
     "output_type": "stream",
     "text": [
      "SPS: 81 Average Reward: -23.539553717740603\n"
     ]
    },
    {
     "name": "stderr",
     "output_type": "stream",
     "text": [
      " 10% (49 of 488) |##                     | Elapsed Time: 0:20:35 ETA:   3:01:46"
     ]
    },
    {
     "name": "stdout",
     "output_type": "stream",
     "text": [
      "SPS: 81 Average Reward: -19.764714211533974\n"
     ]
    },
    {
     "name": "stderr",
     "output_type": "stream",
     "text": [
      " 10% (50 of 488) |##                     | Elapsed Time: 0:20:59 ETA:   3:01:25"
     ]
    },
    {
     "name": "stdout",
     "output_type": "stream",
     "text": [
      "SPS: 81 Average Reward: -16.55679478234143\n"
     ]
    },
    {
     "name": "stderr",
     "output_type": "stream",
     "text": [
      " 10% (51 of 488) |##                     | Elapsed Time: 0:21:24 ETA:   2:57:37"
     ]
    },
    {
     "name": "stdout",
     "output_type": "stream",
     "text": [
      "SPS: 81 Average Reward: -12.453749513797785\n"
     ]
    },
    {
     "name": "stderr",
     "output_type": "stream",
     "text": [
      " 10% (52 of 488) |##                     | Elapsed Time: 0:21:49 ETA:   2:59:49"
     ]
    },
    {
     "name": "stdout",
     "output_type": "stream",
     "text": [
      "SPS: 81 Average Reward: -17.52891642755346\n"
     ]
    },
    {
     "name": "stderr",
     "output_type": "stream",
     "text": [
      " 10% (53 of 488) |##                     | Elapsed Time: 0:22:13 ETA:   2:57:43"
     ]
    },
    {
     "name": "stdout",
     "output_type": "stream",
     "text": [
      "SPS: 81 Average Reward: -18.38752015294486\n"
     ]
    },
    {
     "name": "stderr",
     "output_type": "stream",
     "text": [
      " 11% (54 of 488) |##                     | Elapsed Time: 0:22:38 ETA:   2:57:15"
     ]
    },
    {
     "name": "stdout",
     "output_type": "stream",
     "text": [
      "SPS: 81 Average Reward: -22.521504732014765\n"
     ]
    },
    {
     "name": "stderr",
     "output_type": "stream",
     "text": [
      " 11% (55 of 488) |##                     | Elapsed Time: 0:23:02 ETA:   2:58:52"
     ]
    },
    {
     "name": "stdout",
     "output_type": "stream",
     "text": [
      "SPS: 81 Average Reward: -15.547586677403672\n"
     ]
    },
    {
     "name": "stderr",
     "output_type": "stream",
     "text": [
      " 11% (56 of 488) |##                     | Elapsed Time: 0:23:27 ETA:   2:58:41"
     ]
    },
    {
     "name": "stdout",
     "output_type": "stream",
     "text": [
      "SPS: 81 Average Reward: -17.490439582339555\n"
     ]
    },
    {
     "name": "stderr",
     "output_type": "stream",
     "text": [
      " 11% (57 of 488) |##                     | Elapsed Time: 0:23:52 ETA:   2:56:21"
     ]
    },
    {
     "name": "stdout",
     "output_type": "stream",
     "text": [
      "SPS: 81 Average Reward: -16.199285528948995\n"
     ]
    },
    {
     "name": "stderr",
     "output_type": "stream",
     "text": [
      " 11% (58 of 488) |##                     | Elapsed Time: 0:24:16 ETA:   2:55:09"
     ]
    },
    {
     "name": "stdout",
     "output_type": "stream",
     "text": [
      "SPS: 81 Average Reward: -16.645496085858493\n"
     ]
    },
    {
     "name": "stderr",
     "output_type": "stream",
     "text": [
      " 12% (59 of 488) |##                     | Elapsed Time: 0:24:41 ETA:   2:58:06"
     ]
    },
    {
     "name": "stdout",
     "output_type": "stream",
     "text": [
      "SPS: 81 Average Reward: -12.997080820780608\n"
     ]
    },
    {
     "name": "stderr",
     "output_type": "stream",
     "text": [
      " 12% (60 of 488) |##                     | Elapsed Time: 0:25:06 ETA:   2:56:43"
     ]
    },
    {
     "name": "stdout",
     "output_type": "stream",
     "text": [
      "SPS: 81 Average Reward: -17.591542471709648\n"
     ]
    },
    {
     "name": "stderr",
     "output_type": "stream",
     "text": [
      " 12% (61 of 488) |##                     | Elapsed Time: 0:25:30 ETA:   2:54:05"
     ]
    },
    {
     "name": "stdout",
     "output_type": "stream",
     "text": [
      "SPS: 81 Average Reward: -17.972963018155298\n"
     ]
    },
    {
     "name": "stderr",
     "output_type": "stream",
     "text": [
      " 12% (62 of 488) |##                     | Elapsed Time: 0:25:55 ETA:   2:57:44"
     ]
    },
    {
     "name": "stdout",
     "output_type": "stream",
     "text": [
      "SPS: 81 Average Reward: -14.483753431205733\n"
     ]
    },
    {
     "name": "stderr",
     "output_type": "stream",
     "text": [
      " 12% (63 of 488) |##                     | Elapsed Time: 0:26:20 ETA:   2:56:39"
     ]
    },
    {
     "name": "stdout",
     "output_type": "stream",
     "text": [
      "SPS: 81 Average Reward: -13.642296389725976\n"
     ]
    },
    {
     "name": "stderr",
     "output_type": "stream",
     "text": [
      " 13% (64 of 488) |###                    | Elapsed Time: 0:26:45 ETA:   2:53:16"
     ]
    },
    {
     "name": "stdout",
     "output_type": "stream",
     "text": [
      "SPS: 81 Average Reward: -16.82656603138741\n"
     ]
    },
    {
     "name": "stderr",
     "output_type": "stream",
     "text": [
      " 13% (65 of 488) |###                    | Elapsed Time: 0:27:10 ETA:   2:55:23"
     ]
    },
    {
     "name": "stdout",
     "output_type": "stream",
     "text": [
      "SPS: 81 Average Reward: -18.7760296154479\n"
     ]
    },
    {
     "name": "stderr",
     "output_type": "stream",
     "text": [
      " 13% (66 of 488) |###                    | Elapsed Time: 0:27:34 ETA:   2:52:02"
     ]
    },
    {
     "name": "stdout",
     "output_type": "stream",
     "text": [
      "SPS: 81 Average Reward: -15.71531116942825\n"
     ]
    },
    {
     "name": "stderr",
     "output_type": "stream",
     "text": [
      " 13% (67 of 488) |###                    | Elapsed Time: 0:27:59 ETA:   2:54:10"
     ]
    },
    {
     "name": "stdout",
     "output_type": "stream",
     "text": [
      "SPS: 81 Average Reward: -15.187443899884585\n"
     ]
    },
    {
     "name": "stderr",
     "output_type": "stream",
     "text": [
      " 13% (68 of 488) |###                    | Elapsed Time: 0:28:24 ETA:   2:54:07"
     ]
    },
    {
     "name": "stdout",
     "output_type": "stream",
     "text": [
      "SPS: 81 Average Reward: -17.063327956871163\n"
     ]
    },
    {
     "name": "stderr",
     "output_type": "stream",
     "text": [
      " 14% (69 of 488) |###                    | Elapsed Time: 0:28:48 ETA:   2:50:31"
     ]
    },
    {
     "name": "stdout",
     "output_type": "stream",
     "text": [
      "SPS: 81 Average Reward: -15.384762122055896\n"
     ]
    },
    {
     "name": "stderr",
     "output_type": "stream",
     "text": [
      " 14% (70 of 488) |###                    | Elapsed Time: 0:29:13 ETA:   2:53:04"
     ]
    },
    {
     "name": "stdout",
     "output_type": "stream",
     "text": [
      "SPS: 81 Average Reward: -11.488322568147893\n"
     ]
    },
    {
     "name": "stderr",
     "output_type": "stream",
     "text": [
      " 14% (71 of 488) |###                    | Elapsed Time: 0:29:38 ETA:   2:50:17"
     ]
    },
    {
     "name": "stdout",
     "output_type": "stream",
     "text": [
      "SPS: 81 Average Reward: -13.53787761291428\n"
     ]
    },
    {
     "name": "stderr",
     "output_type": "stream",
     "text": [
      " 14% (72 of 488) |###                    | Elapsed Time: 0:30:03 ETA:   2:52:57"
     ]
    },
    {
     "name": "stdout",
     "output_type": "stream",
     "text": [
      "SPS: 81 Average Reward: -15.090946698425254\n"
     ]
    },
    {
     "name": "stderr",
     "output_type": "stream",
     "text": [
      " 14% (73 of 488) |###                    | Elapsed Time: 0:30:27 ETA:   2:50:06"
     ]
    },
    {
     "name": "stdout",
     "output_type": "stream",
     "text": [
      "SPS: 81 Average Reward: -13.388589548650037\n"
     ]
    },
    {
     "name": "stderr",
     "output_type": "stream",
     "text": [
      " 15% (74 of 488) |###                    | Elapsed Time: 0:30:52 ETA:   2:51:03"
     ]
    },
    {
     "name": "stdout",
     "output_type": "stream",
     "text": [
      "SPS: 81 Average Reward: -13.9459928643811\n"
     ]
    },
    {
     "name": "stderr",
     "output_type": "stream",
     "text": [
      " 15% (75 of 488) |###                    | Elapsed Time: 0:31:17 ETA:   2:50:01"
     ]
    },
    {
     "name": "stdout",
     "output_type": "stream",
     "text": [
      "SPS: 81 Average Reward: -15.096461026630317\n"
     ]
    },
    {
     "name": "stderr",
     "output_type": "stream",
     "text": [
      " 15% (76 of 488) |###                    | Elapsed Time: 0:31:41 ETA:   2:50:27"
     ]
    },
    {
     "name": "stdout",
     "output_type": "stream",
     "text": [
      "SPS: 81 Average Reward: -14.476250808258873\n"
     ]
    },
    {
     "name": "stderr",
     "output_type": "stream",
     "text": [
      " 15% (77 of 488) |###                    | Elapsed Time: 0:32:06 ETA:   2:49:29"
     ]
    },
    {
     "name": "stdout",
     "output_type": "stream",
     "text": [
      "SPS: 81 Average Reward: -13.033015818782209\n"
     ]
    },
    {
     "name": "stderr",
     "output_type": "stream",
     "text": [
      " 15% (78 of 488) |###                    | Elapsed Time: 0:32:31 ETA:   2:49:18"
     ]
    },
    {
     "name": "stdout",
     "output_type": "stream",
     "text": [
      "SPS: 81 Average Reward: -11.806973929571427\n"
     ]
    },
    {
     "name": "stderr",
     "output_type": "stream",
     "text": [
      " 16% (79 of 488) |###                    | Elapsed Time: 0:32:56 ETA:   2:48:48"
     ]
    },
    {
     "name": "stdout",
     "output_type": "stream",
     "text": [
      "SPS: 81 Average Reward: -14.513671835501526\n"
     ]
    },
    {
     "name": "stderr",
     "output_type": "stream",
     "text": [
      " 16% (80 of 488) |###                    | Elapsed Time: 0:33:21 ETA:   2:48:21"
     ]
    },
    {
     "name": "stdout",
     "output_type": "stream",
     "text": [
      "SPS: 81 Average Reward: -13.594009909516638\n"
     ]
    },
    {
     "name": "stderr",
     "output_type": "stream",
     "text": [
      " 16% (81 of 488) |###                    | Elapsed Time: 0:33:45 ETA:   2:45:24"
     ]
    },
    {
     "name": "stdout",
     "output_type": "stream",
     "text": [
      "SPS: 81 Average Reward: -13.639336912737402\n"
     ]
    },
    {
     "name": "stderr",
     "output_type": "stream",
     "text": [
      " 16% (82 of 488) |###                    | Elapsed Time: 0:34:10 ETA:   2:48:31"
     ]
    },
    {
     "name": "stdout",
     "output_type": "stream",
     "text": [
      "SPS: 81 Average Reward: -13.827386298624582\n"
     ]
    },
    {
     "name": "stderr",
     "output_type": "stream",
     "text": [
      " 17% (83 of 488) |###                    | Elapsed Time: 0:34:34 ETA:   2:45:04"
     ]
    },
    {
     "name": "stdout",
     "output_type": "stream",
     "text": [
      "SPS: 81 Average Reward: -18.180218023134294\n"
     ]
    },
    {
     "name": "stderr",
     "output_type": "stream",
     "text": [
      " 17% (84 of 488) |###                    | Elapsed Time: 0:34:59 ETA:   2:45:29"
     ]
    },
    {
     "name": "stdout",
     "output_type": "stream",
     "text": [
      "SPS: 81 Average Reward: -15.034945837633664\n"
     ]
    },
    {
     "name": "stderr",
     "output_type": "stream",
     "text": [
      " 17% (85 of 488) |####                   | Elapsed Time: 0:35:24 ETA:   2:48:55"
     ]
    },
    {
     "name": "stdout",
     "output_type": "stream",
     "text": [
      "SPS: 81 Average Reward: -14.873507630829003\n"
     ]
    },
    {
     "name": "stderr",
     "output_type": "stream",
     "text": [
      " 17% (86 of 488) |####                   | Elapsed Time: 0:35:49 ETA:   2:44:12"
     ]
    },
    {
     "name": "stdout",
     "output_type": "stream",
     "text": [
      "SPS: 81 Average Reward: -14.027558769021942\n"
     ]
    },
    {
     "name": "stderr",
     "output_type": "stream",
     "text": [
      " 17% (87 of 488) |####                   | Elapsed Time: 0:36:13 ETA:   2:43:12"
     ]
    },
    {
     "name": "stdout",
     "output_type": "stream",
     "text": [
      "SPS: 81 Average Reward: -17.66501310403321\n"
     ]
    },
    {
     "name": "stderr",
     "output_type": "stream",
     "text": [
      " 18% (88 of 488) |####                   | Elapsed Time: 0:36:38 ETA:   2:45:36"
     ]
    },
    {
     "name": "stdout",
     "output_type": "stream",
     "text": [
      "SPS: 82 Average Reward: -15.134620771990294\n"
     ]
    },
    {
     "name": "stderr",
     "output_type": "stream",
     "text": [
      " 18% (89 of 488) |####                   | Elapsed Time: 0:37:02 ETA:   2:42:19"
     ]
    },
    {
     "name": "stdout",
     "output_type": "stream",
     "text": [
      "SPS: 82 Average Reward: -17.674341701786577\n"
     ]
    },
    {
     "name": "stderr",
     "output_type": "stream",
     "text": [
      " 18% (90 of 488) |####                   | Elapsed Time: 0:37:27 ETA:   2:44:51"
     ]
    },
    {
     "name": "stdout",
     "output_type": "stream",
     "text": [
      "SPS: 82 Average Reward: -15.60250798144698\n"
     ]
    },
    {
     "name": "stderr",
     "output_type": "stream",
     "text": [
      " 18% (91 of 488) |####                   | Elapsed Time: 0:37:52 ETA:   2:44:08"
     ]
    },
    {
     "name": "stdout",
     "output_type": "stream",
     "text": [
      "SPS: 82 Average Reward: -16.671466349195928\n"
     ]
    },
    {
     "name": "stderr",
     "output_type": "stream",
     "text": [
      " 18% (92 of 488) |####                   | Elapsed Time: 0:38:17 ETA:   2:45:45"
     ]
    },
    {
     "name": "stdout",
     "output_type": "stream",
     "text": [
      "SPS: 82 Average Reward: -14.46982882489071\n"
     ]
    },
    {
     "name": "stderr",
     "output_type": "stream",
     "text": [
      " 19% (93 of 488) |####                   | Elapsed Time: 0:38:41 ETA:   2:40:26"
     ]
    },
    {
     "name": "stdout",
     "output_type": "stream",
     "text": [
      "SPS: 82 Average Reward: -16.902373742621872\n"
     ]
    },
    {
     "name": "stderr",
     "output_type": "stream",
     "text": [
      " 19% (94 of 488) |####                   | Elapsed Time: 0:39:06 ETA:   2:43:26"
     ]
    },
    {
     "name": "stdout",
     "output_type": "stream",
     "text": [
      "SPS: 82 Average Reward: -14.669775597603225\n"
     ]
    },
    {
     "name": "stderr",
     "output_type": "stream",
     "text": [
      " 19% (95 of 488) |####                   | Elapsed Time: 0:39:31 ETA:   2:40:43"
     ]
    },
    {
     "name": "stdout",
     "output_type": "stream",
     "text": [
      "SPS: 82 Average Reward: -15.084513755210448\n"
     ]
    },
    {
     "name": "stderr",
     "output_type": "stream",
     "text": [
      " 19% (96 of 488) |####                   | Elapsed Time: 0:39:55 ETA:   2:40:03"
     ]
    },
    {
     "name": "stdout",
     "output_type": "stream",
     "text": [
      "SPS: 82 Average Reward: -14.489058754123121\n"
     ]
    },
    {
     "name": "stderr",
     "output_type": "stream",
     "text": [
      " 19% (97 of 488) |####                   | Elapsed Time: 0:40:20 ETA:   2:41:50"
     ]
    },
    {
     "name": "stdout",
     "output_type": "stream",
     "text": [
      "SPS: 82 Average Reward: -12.574305243847284\n"
     ]
    },
    {
     "name": "stderr",
     "output_type": "stream",
     "text": [
      " 20% (98 of 488) |####                   | Elapsed Time: 0:40:45 ETA:   2:39:26"
     ]
    },
    {
     "name": "stdout",
     "output_type": "stream",
     "text": [
      "SPS: 82 Average Reward: -12.111619691700232\n"
     ]
    },
    {
     "name": "stderr",
     "output_type": "stream",
     "text": [
      " 20% (99 of 488) |####                   | Elapsed Time: 0:41:09 ETA:   2:41:00"
     ]
    },
    {
     "name": "stdout",
     "output_type": "stream",
     "text": [
      "SPS: 82 Average Reward: -12.908619023965237\n"
     ]
    },
    {
     "name": "stderr",
     "output_type": "stream",
     "text": [
      " 20% (100 of 488) |####                  | Elapsed Time: 0:41:34 ETA:   2:38:54"
     ]
    },
    {
     "name": "stdout",
     "output_type": "stream",
     "text": [
      "SPS: 82 Average Reward: -13.110492947049737\n"
     ]
    },
    {
     "name": "stderr",
     "output_type": "stream",
     "text": [
      " 20% (101 of 488) |####                  | Elapsed Time: 0:41:59 ETA:   2:39:35"
     ]
    },
    {
     "name": "stdout",
     "output_type": "stream",
     "text": [
      "SPS: 82 Average Reward: -17.073382945748776\n"
     ]
    },
    {
     "name": "stderr",
     "output_type": "stream",
     "text": [
      " 20% (102 of 488) |####                  | Elapsed Time: 0:42:24 ETA:   2:39:43"
     ]
    },
    {
     "name": "stdout",
     "output_type": "stream",
     "text": [
      "SPS: 82 Average Reward: -13.46264950677234\n"
     ]
    },
    {
     "name": "stderr",
     "output_type": "stream",
     "text": [
      " 21% (103 of 488) |####                  | Elapsed Time: 0:42:48 ETA:   2:37:17"
     ]
    },
    {
     "name": "stdout",
     "output_type": "stream",
     "text": [
      "SPS: 82 Average Reward: -10.134560201153306\n"
     ]
    },
    {
     "name": "stderr",
     "output_type": "stream",
     "text": [
      " 21% (104 of 488) |####                  | Elapsed Time: 0:43:13 ETA:   2:37:18"
     ]
    },
    {
     "name": "stdout",
     "output_type": "stream",
     "text": [
      "SPS: 82 Average Reward: -15.342932218385446\n"
     ]
    },
    {
     "name": "stderr",
     "output_type": "stream",
     "text": [
      " 21% (105 of 488) |####                  | Elapsed Time: 0:43:37 ETA:   2:36:03"
     ]
    },
    {
     "name": "stdout",
     "output_type": "stream",
     "text": [
      "SPS: 82 Average Reward: -14.227605101801577\n"
     ]
    },
    {
     "name": "stderr",
     "output_type": "stream",
     "text": [
      " 21% (106 of 488) |####                  | Elapsed Time: 0:44:02 ETA:   2:38:13"
     ]
    },
    {
     "name": "stdout",
     "output_type": "stream",
     "text": [
      "SPS: 82 Average Reward: -13.009110509452265\n"
     ]
    },
    {
     "name": "stderr",
     "output_type": "stream",
     "text": [
      " 21% (107 of 488) |####                  | Elapsed Time: 0:44:27 ETA:   2:37:31"
     ]
    },
    {
     "name": "stdout",
     "output_type": "stream",
     "text": [
      "SPS: 82 Average Reward: -12.120298263225623\n"
     ]
    },
    {
     "name": "stderr",
     "output_type": "stream",
     "text": [
      " 22% (108 of 488) |####                  | Elapsed Time: 0:44:51 ETA:   2:34:11"
     ]
    },
    {
     "name": "stdout",
     "output_type": "stream",
     "text": [
      "SPS: 82 Average Reward: -16.496008950915254\n"
     ]
    },
    {
     "name": "stderr",
     "output_type": "stream",
     "text": [
      " 22% (109 of 488) |####                  | Elapsed Time: 0:45:16 ETA:   2:37:12"
     ]
    },
    {
     "name": "stdout",
     "output_type": "stream",
     "text": [
      "SPS: 82 Average Reward: -14.015303436247061\n"
     ]
    },
    {
     "name": "stderr",
     "output_type": "stream",
     "text": [
      " 22% (110 of 488) |####                  | Elapsed Time: 0:45:41 ETA:   2:36:31"
     ]
    },
    {
     "name": "stdout",
     "output_type": "stream",
     "text": [
      "SPS: 82 Average Reward: -11.427562108198721\n"
     ]
    },
    {
     "name": "stderr",
     "output_type": "stream",
     "text": [
      " 22% (111 of 488) |#####                 | Elapsed Time: 0:46:05 ETA:   2:33:55"
     ]
    },
    {
     "name": "stdout",
     "output_type": "stream",
     "text": [
      "SPS: 82 Average Reward: -9.038596815441062\n"
     ]
    },
    {
     "name": "stderr",
     "output_type": "stream",
     "text": [
      " 22% (112 of 488) |#####                 | Elapsed Time: 0:46:30 ETA:   2:35:17"
     ]
    },
    {
     "name": "stdout",
     "output_type": "stream",
     "text": [
      "SPS: 82 Average Reward: -12.846553454675368\n"
     ]
    },
    {
     "name": "stderr",
     "output_type": "stream",
     "text": [
      " 23% (113 of 488) |#####                 | Elapsed Time: 0:46:55 ETA:   2:34:58"
     ]
    },
    {
     "name": "stdout",
     "output_type": "stream",
     "text": [
      "SPS: 82 Average Reward: -11.49588709778143\n"
     ]
    },
    {
     "name": "stderr",
     "output_type": "stream",
     "text": [
      " 23% (114 of 488) |#####                 | Elapsed Time: 0:47:20 ETA:   2:34:10"
     ]
    },
    {
     "name": "stdout",
     "output_type": "stream",
     "text": [
      "SPS: 82 Average Reward: -11.99063125104146\n"
     ]
    },
    {
     "name": "stderr",
     "output_type": "stream",
     "text": [
      " 23% (115 of 488) |#####                 | Elapsed Time: 0:47:44 ETA:   2:33:32"
     ]
    },
    {
     "name": "stdout",
     "output_type": "stream",
     "text": [
      "SPS: 82 Average Reward: -8.11817099071561\n"
     ]
    },
    {
     "name": "stderr",
     "output_type": "stream",
     "text": [
      " 23% (116 of 488) |#####                 | Elapsed Time: 0:48:09 ETA:   2:34:39"
     ]
    },
    {
     "name": "stdout",
     "output_type": "stream",
     "text": [
      "SPS: 81 Average Reward: -11.591811133735744\n"
     ]
    },
    {
     "name": "stderr",
     "output_type": "stream",
     "text": [
      " 23% (117 of 488) |#####                 | Elapsed Time: 0:48:43 ETA:   3:29:47"
     ]
    },
    {
     "name": "stdout",
     "output_type": "stream",
     "text": [
      "SPS: 81 Average Reward: -15.703502899332697\n"
     ]
    },
    {
     "name": "stderr",
     "output_type": "stream",
     "text": [
      " 24% (118 of 488) |#####                 | Elapsed Time: 0:49:10 ETA:   2:42:26"
     ]
    },
    {
     "name": "stdout",
     "output_type": "stream",
     "text": [
      "SPS: 81 Average Reward: -11.097739515573222\n"
     ]
    },
    {
     "name": "stderr",
     "output_type": "stream",
     "text": [
      " 24% (119 of 488) |#####                 | Elapsed Time: 0:49:36 ETA:   2:39:56"
     ]
    },
    {
     "name": "stdout",
     "output_type": "stream",
     "text": [
      "SPS: 81 Average Reward: -12.369286692460532\n"
     ]
    },
    {
     "name": "stderr",
     "output_type": "stream",
     "text": [
      " 24% (120 of 488) |#####                 | Elapsed Time: 0:50:01 ETA:   2:38:17"
     ]
    },
    {
     "name": "stdout",
     "output_type": "stream",
     "text": [
      "SPS: 81 Average Reward: -12.712748366332926\n"
     ]
    },
    {
     "name": "stderr",
     "output_type": "stream",
     "text": [
      " 24% (121 of 488) |#####                 | Elapsed Time: 0:50:27 ETA:   2:38:51"
     ]
    },
    {
     "name": "stdout",
     "output_type": "stream",
     "text": [
      "SPS: 81 Average Reward: -15.31734844687188\n"
     ]
    },
    {
     "name": "stderr",
     "output_type": "stream",
     "text": [
      " 25% (122 of 488) |#####                 | Elapsed Time: 0:50:53 ETA:   2:36:46"
     ]
    },
    {
     "name": "stdout",
     "output_type": "stream",
     "text": [
      "SPS: 81 Average Reward: -14.23227463474936\n"
     ]
    },
    {
     "name": "stderr",
     "output_type": "stream",
     "text": [
      " 25% (123 of 488) |#####                 | Elapsed Time: 0:51:19 ETA:   2:35:38"
     ]
    },
    {
     "name": "stdout",
     "output_type": "stream",
     "text": [
      "SPS: 81 Average Reward: -11.978224367423614\n"
     ]
    },
    {
     "name": "stderr",
     "output_type": "stream",
     "text": [
      " 25% (124 of 488) |#####                 | Elapsed Time: 0:51:45 ETA:   2:42:29"
     ]
    },
    {
     "name": "stdout",
     "output_type": "stream",
     "text": [
      "SPS: 81 Average Reward: -12.597256384921966\n"
     ]
    },
    {
     "name": "stderr",
     "output_type": "stream",
     "text": [
      " 25% (125 of 488) |#####                 | Elapsed Time: 0:52:12 ETA:   2:42:44"
     ]
    },
    {
     "name": "stdout",
     "output_type": "stream",
     "text": [
      "SPS: 81 Average Reward: -14.043186231384132\n"
     ]
    },
    {
     "name": "stderr",
     "output_type": "stream",
     "text": [
      " 25% (126 of 488) |#####                 | Elapsed Time: 0:52:38 ETA:   2:36:30"
     ]
    },
    {
     "name": "stdout",
     "output_type": "stream",
     "text": [
      "SPS: 81 Average Reward: -13.358358247701007\n"
     ]
    },
    {
     "name": "stderr",
     "output_type": "stream",
     "text": [
      " 26% (127 of 488) |#####                 | Elapsed Time: 0:53:04 ETA:   2:35:15"
     ]
    },
    {
     "name": "stdout",
     "output_type": "stream",
     "text": [
      "SPS: 81 Average Reward: -11.242256490887465\n"
     ]
    },
    {
     "name": "stderr",
     "output_type": "stream",
     "text": [
      " 26% (128 of 488) |#####                 | Elapsed Time: 0:53:29 ETA:   2:30:50"
     ]
    },
    {
     "name": "stdout",
     "output_type": "stream",
     "text": [
      "SPS: 81 Average Reward: -12.896362960913075\n"
     ]
    },
    {
     "name": "stderr",
     "output_type": "stream",
     "text": [
      " 26% (129 of 488) |#####                 | Elapsed Time: 0:53:55 ETA:   2:32:17"
     ]
    },
    {
     "name": "stdout",
     "output_type": "stream",
     "text": [
      "SPS: 81 Average Reward: -12.725033032307762\n"
     ]
    },
    {
     "name": "stderr",
     "output_type": "stream",
     "text": [
      " 26% (130 of 488) |#####                 | Elapsed Time: 0:54:19 ETA:   2:26:09"
     ]
    },
    {
     "name": "stdout",
     "output_type": "stream",
     "text": [
      "SPS: 81 Average Reward: -12.991131376395318\n"
     ]
    },
    {
     "name": "stderr",
     "output_type": "stream",
     "text": [
      " 26% (131 of 488) |#####                 | Elapsed Time: 0:54:44 ETA:   2:28:24"
     ]
    },
    {
     "name": "stdout",
     "output_type": "stream",
     "text": [
      "SPS: 81 Average Reward: -12.306664319768338\n"
     ]
    },
    {
     "name": "stderr",
     "output_type": "stream",
     "text": [
      " 27% (132 of 488) |#####                 | Elapsed Time: 0:55:09 ETA:   2:25:23"
     ]
    },
    {
     "name": "stdout",
     "output_type": "stream",
     "text": [
      "SPS: 81 Average Reward: -12.360276737517959\n"
     ]
    },
    {
     "name": "stderr",
     "output_type": "stream",
     "text": [
      " 27% (133 of 488) |#####                 | Elapsed Time: 0:55:33 ETA:   2:26:25"
     ]
    },
    {
     "name": "stdout",
     "output_type": "stream",
     "text": [
      "SPS: 81 Average Reward: -11.62050968729611\n"
     ]
    },
    {
     "name": "stderr",
     "output_type": "stream",
     "text": [
      " 27% (134 of 488) |######                | Elapsed Time: 0:55:58 ETA:   2:28:07"
     ]
    },
    {
     "name": "stdout",
     "output_type": "stream",
     "text": [
      "SPS: 81 Average Reward: -11.820141141567042\n"
     ]
    },
    {
     "name": "stderr",
     "output_type": "stream",
     "text": [
      " 27% (135 of 488) |######                | Elapsed Time: 0:56:23 ETA:   2:24:29"
     ]
    },
    {
     "name": "stdout",
     "output_type": "stream",
     "text": [
      "SPS: 81 Average Reward: -9.880164634619026\n"
     ]
    },
    {
     "name": "stderr",
     "output_type": "stream",
     "text": [
      " 27% (136 of 488) |######                | Elapsed Time: 0:56:48 ETA:   2:26:47"
     ]
    },
    {
     "name": "stdout",
     "output_type": "stream",
     "text": [
      "SPS: 81 Average Reward: -11.21573254274664\n"
     ]
    },
    {
     "name": "stderr",
     "output_type": "stream",
     "text": [
      " 28% (137 of 488) |######                | Elapsed Time: 0:57:13 ETA:   2:23:18"
     ]
    },
    {
     "name": "stdout",
     "output_type": "stream",
     "text": [
      "SPS: 81 Average Reward: -12.506666801740788\n"
     ]
    },
    {
     "name": "stderr",
     "output_type": "stream",
     "text": [
      " 28% (138 of 488) |######                | Elapsed Time: 0:57:37 ETA:   2:23:24"
     ]
    },
    {
     "name": "stdout",
     "output_type": "stream",
     "text": [
      "SPS: 81 Average Reward: -8.556141663124766\n"
     ]
    },
    {
     "name": "stderr",
     "output_type": "stream",
     "text": [
      " 28% (139 of 488) |######                | Elapsed Time: 0:58:02 ETA:   2:25:20"
     ]
    },
    {
     "name": "stdout",
     "output_type": "stream",
     "text": [
      "SPS: 81 Average Reward: -12.076607557276132\n"
     ]
    },
    {
     "name": "stderr",
     "output_type": "stream",
     "text": [
      " 28% (140 of 488) |######                | Elapsed Time: 0:58:27 ETA:   2:21:58"
     ]
    },
    {
     "name": "stdout",
     "output_type": "stream",
     "text": [
      "SPS: 81 Average Reward: -11.823860934728236\n"
     ]
    },
    {
     "name": "stderr",
     "output_type": "stream",
     "text": [
      " 28% (141 of 488) |######                | Elapsed Time: 0:58:52 ETA:   2:24:13"
     ]
    },
    {
     "name": "stdout",
     "output_type": "stream",
     "text": [
      "SPS: 81 Average Reward: -11.924073901443707\n"
     ]
    },
    {
     "name": "stderr",
     "output_type": "stream",
     "text": [
      " 29% (142 of 488) |######                | Elapsed Time: 0:59:16 ETA:   2:21:20"
     ]
    },
    {
     "name": "stdout",
     "output_type": "stream",
     "text": [
      "SPS: 81 Average Reward: -11.440348209272907\n"
     ]
    },
    {
     "name": "stderr",
     "output_type": "stream",
     "text": [
      " 29% (143 of 488) |######                | Elapsed Time: 0:59:41 ETA:   2:21:32"
     ]
    },
    {
     "name": "stdout",
     "output_type": "stream",
     "text": [
      "SPS: 81 Average Reward: -11.039241618872087\n"
     ]
    },
    {
     "name": "stderr",
     "output_type": "stream",
     "text": [
      " 29% (144 of 488) |######                | Elapsed Time: 1:00:06 ETA:   2:22:51"
     ]
    },
    {
     "name": "stdout",
     "output_type": "stream",
     "text": [
      "SPS: 81 Average Reward: -12.160544485152446\n"
     ]
    },
    {
     "name": "stderr",
     "output_type": "stream",
     "text": [
      " 29% (145 of 488) |######                | Elapsed Time: 1:00:30 ETA:   2:21:58"
     ]
    },
    {
     "name": "stdout",
     "output_type": "stream",
     "text": [
      "SPS: 81 Average Reward: -12.410640268151555\n"
     ]
    },
    {
     "name": "stderr",
     "output_type": "stream",
     "text": [
      " 29% (146 of 488) |######                | Elapsed Time: 1:00:55 ETA:   2:19:37"
     ]
    },
    {
     "name": "stdout",
     "output_type": "stream",
     "text": [
      "SPS: 81 Average Reward: -10.539242530059655\n"
     ]
    },
    {
     "name": "stderr",
     "output_type": "stream",
     "text": [
      " 30% (147 of 488) |######                | Elapsed Time: 1:01:20 ETA:   2:22:04"
     ]
    },
    {
     "name": "stdout",
     "output_type": "stream",
     "text": [
      "SPS: 81 Average Reward: -10.448494154776151\n"
     ]
    },
    {
     "name": "stderr",
     "output_type": "stream",
     "text": [
      " 30% (148 of 488) |######                | Elapsed Time: 1:01:44 ETA:   2:19:00"
     ]
    },
    {
     "name": "stdout",
     "output_type": "stream",
     "text": [
      "SPS: 81 Average Reward: -13.350721462007625\n"
     ]
    },
    {
     "name": "stderr",
     "output_type": "stream",
     "text": [
      " 30% (149 of 488) |######                | Elapsed Time: 1:02:09 ETA:   2:20:56"
     ]
    },
    {
     "name": "stdout",
     "output_type": "stream",
     "text": [
      "SPS: 81 Average Reward: -12.327443989194649\n"
     ]
    },
    {
     "name": "stderr",
     "output_type": "stream",
     "text": [
      " 30% (150 of 488) |######                | Elapsed Time: 1:02:34 ETA:   2:17:56"
     ]
    },
    {
     "name": "stdout",
     "output_type": "stream",
     "text": [
      "SPS: 81 Average Reward: -11.543464576557728\n"
     ]
    },
    {
     "name": "stderr",
     "output_type": "stream",
     "text": [
      " 30% (151 of 488) |######                | Elapsed Time: 1:02:58 ETA:   2:18:00"
     ]
    },
    {
     "name": "stdout",
     "output_type": "stream",
     "text": [
      "SPS: 81 Average Reward: -13.072594376383279\n"
     ]
    },
    {
     "name": "stderr",
     "output_type": "stream",
     "text": [
      " 31% (152 of 488) |######                | Elapsed Time: 1:03:23 ETA:   2:19:38"
     ]
    },
    {
     "name": "stdout",
     "output_type": "stream",
     "text": [
      "SPS: 81 Average Reward: -12.062687661412633\n"
     ]
    },
    {
     "name": "stderr",
     "output_type": "stream",
     "text": [
      " 31% (153 of 488) |######                | Elapsed Time: 1:03:48 ETA:   2:18:50"
     ]
    },
    {
     "name": "stdout",
     "output_type": "stream",
     "text": [
      "SPS: 81 Average Reward: -13.286687130775647\n"
     ]
    },
    {
     "name": "stderr",
     "output_type": "stream",
     "text": [
      " 31% (154 of 488) |######                | Elapsed Time: 1:04:13 ETA:   2:18:20"
     ]
    },
    {
     "name": "stdout",
     "output_type": "stream",
     "text": [
      "SPS: 81 Average Reward: -9.93902568353956\n"
     ]
    },
    {
     "name": "stderr",
     "output_type": "stream",
     "text": [
      " 31% (155 of 488) |######                | Elapsed Time: 1:04:38 ETA:   2:16:16"
     ]
    },
    {
     "name": "stdout",
     "output_type": "stream",
     "text": [
      "SPS: 81 Average Reward: -9.029568805816847\n"
     ]
    },
    {
     "name": "stderr",
     "output_type": "stream",
     "text": [
      " 31% (156 of 488) |#######               | Elapsed Time: 1:05:02 ETA:   2:17:18"
     ]
    },
    {
     "name": "stdout",
     "output_type": "stream",
     "text": [
      "SPS: 81 Average Reward: -11.18455248935503\n"
     ]
    },
    {
     "name": "stderr",
     "output_type": "stream",
     "text": [
      " 32% (157 of 488) |#######               | Elapsed Time: 1:05:27 ETA:   2:15:17"
     ]
    },
    {
     "name": "stdout",
     "output_type": "stream",
     "text": [
      "SPS: 81 Average Reward: -9.827729986249278\n"
     ]
    },
    {
     "name": "stderr",
     "output_type": "stream",
     "text": [
      " 32% (158 of 488) |#######               | Elapsed Time: 1:05:52 ETA:   2:15:03"
     ]
    },
    {
     "name": "stdout",
     "output_type": "stream",
     "text": [
      "SPS: 81 Average Reward: -12.124796968947438\n"
     ]
    },
    {
     "name": "stderr",
     "output_type": "stream",
     "text": [
      " 32% (159 of 488) |#######               | Elapsed Time: 1:06:16 ETA:   2:14:37"
     ]
    },
    {
     "name": "stdout",
     "output_type": "stream",
     "text": [
      "SPS: 81 Average Reward: -12.466640358476733\n"
     ]
    },
    {
     "name": "stderr",
     "output_type": "stream",
     "text": [
      " 32% (160 of 488) |#######               | Elapsed Time: 1:06:41 ETA:   2:16:27"
     ]
    },
    {
     "name": "stdout",
     "output_type": "stream",
     "text": [
      "SPS: 81 Average Reward: -7.821668816855466\n"
     ]
    },
    {
     "name": "stderr",
     "output_type": "stream",
     "text": [
      " 32% (161 of 488) |#######               | Elapsed Time: 1:07:06 ETA:   2:15:41"
     ]
    },
    {
     "name": "stdout",
     "output_type": "stream",
     "text": [
      "SPS: 81 Average Reward: -11.050556681208725\n"
     ]
    },
    {
     "name": "stderr",
     "output_type": "stream",
     "text": [
      " 33% (162 of 488) |#######               | Elapsed Time: 1:07:31 ETA:   2:14:21"
     ]
    },
    {
     "name": "stdout",
     "output_type": "stream",
     "text": [
      "SPS: 81 Average Reward: -12.995431472460156\n"
     ]
    },
    {
     "name": "stderr",
     "output_type": "stream",
     "text": [
      " 33% (163 of 488) |#######               | Elapsed Time: 1:07:56 ETA:   2:15:01"
     ]
    },
    {
     "name": "stdout",
     "output_type": "stream",
     "text": [
      "SPS: 81 Average Reward: -11.812246069093861\n"
     ]
    },
    {
     "name": "stderr",
     "output_type": "stream",
     "text": [
      " 33% (164 of 488) |#######               | Elapsed Time: 1:08:21 ETA:   2:14:26"
     ]
    },
    {
     "name": "stdout",
     "output_type": "stream",
     "text": [
      "SPS: 81 Average Reward: -10.413728068016939\n"
     ]
    },
    {
     "name": "stderr",
     "output_type": "stream",
     "text": [
      " 33% (165 of 488) |#######               | Elapsed Time: 1:08:45 ETA:   2:12:41"
     ]
    },
    {
     "name": "stdout",
     "output_type": "stream",
     "text": [
      "SPS: 81 Average Reward: -8.249695651749429\n"
     ]
    },
    {
     "name": "stderr",
     "output_type": "stream",
     "text": [
      " 34% (166 of 488) |#######               | Elapsed Time: 1:09:10 ETA:   2:13:37"
     ]
    },
    {
     "name": "stdout",
     "output_type": "stream",
     "text": [
      "SPS: 81 Average Reward: -8.907805963797538\n"
     ]
    },
    {
     "name": "stderr",
     "output_type": "stream",
     "text": [
      " 34% (167 of 488) |#######               | Elapsed Time: 1:09:36 ETA:   2:16:07"
     ]
    },
    {
     "name": "stdout",
     "output_type": "stream",
     "text": [
      "SPS: 81 Average Reward: -9.689018200362666\n"
     ]
    },
    {
     "name": "stderr",
     "output_type": "stream",
     "text": [
      " 34% (168 of 488) |#######               | Elapsed Time: 1:10:00 ETA:   2:11:21"
     ]
    },
    {
     "name": "stdout",
     "output_type": "stream",
     "text": [
      "SPS: 81 Average Reward: -12.088548490878132\n"
     ]
    },
    {
     "name": "stderr",
     "output_type": "stream",
     "text": [
      " 34% (169 of 488) |#######               | Elapsed Time: 1:10:25 ETA:   2:12:12"
     ]
    },
    {
     "name": "stdout",
     "output_type": "stream",
     "text": [
      "SPS: 81 Average Reward: -9.467999890059813\n"
     ]
    },
    {
     "name": "stderr",
     "output_type": "stream",
     "text": [
      " 34% (170 of 488) |#######               | Elapsed Time: 1:10:50 ETA:   2:12:13"
     ]
    },
    {
     "name": "stdout",
     "output_type": "stream",
     "text": [
      "SPS: 81 Average Reward: -9.251155309193322\n"
     ]
    },
    {
     "name": "stderr",
     "output_type": "stream",
     "text": [
      " 35% (171 of 488) |#######               | Elapsed Time: 1:11:15 ETA:   2:10:44"
     ]
    },
    {
     "name": "stdout",
     "output_type": "stream",
     "text": [
      "SPS: 81 Average Reward: -10.678957925572123\n"
     ]
    },
    {
     "name": "stderr",
     "output_type": "stream",
     "text": [
      " 35% (172 of 488) |#######               | Elapsed Time: 1:11:39 ETA:   2:09:52"
     ]
    },
    {
     "name": "stdout",
     "output_type": "stream",
     "text": [
      "SPS: 81 Average Reward: -10.901063201913015\n"
     ]
    },
    {
     "name": "stderr",
     "output_type": "stream",
     "text": [
      " 35% (173 of 488) |#######               | Elapsed Time: 1:12:04 ETA:   2:11:04"
     ]
    },
    {
     "name": "stdout",
     "output_type": "stream",
     "text": [
      "SPS: 81 Average Reward: -11.486998829379058\n"
     ]
    },
    {
     "name": "stderr",
     "output_type": "stream",
     "text": [
      " 35% (174 of 488) |#######               | Elapsed Time: 1:12:29 ETA:   2:08:48"
     ]
    },
    {
     "name": "stdout",
     "output_type": "stream",
     "text": [
      "SPS: 81 Average Reward: -12.866633899822453\n"
     ]
    },
    {
     "name": "stderr",
     "output_type": "stream",
     "text": [
      " 35% (175 of 488) |#######               | Elapsed Time: 1:12:53 ETA:   2:07:48"
     ]
    },
    {
     "name": "stdout",
     "output_type": "stream",
     "text": [
      "SPS: 81 Average Reward: -10.580841002104941\n"
     ]
    },
    {
     "name": "stderr",
     "output_type": "stream",
     "text": [
      " 36% (176 of 488) |#######               | Elapsed Time: 1:13:18 ETA:   2:08:03"
     ]
    },
    {
     "name": "stdout",
     "output_type": "stream",
     "text": [
      "SPS: 81 Average Reward: -9.411513361146195\n"
     ]
    },
    {
     "name": "stderr",
     "output_type": "stream",
     "text": [
      " 36% (177 of 488) |#######               | Elapsed Time: 1:13:43 ETA:   2:09:31"
     ]
    },
    {
     "name": "stdout",
     "output_type": "stream",
     "text": [
      "SPS: 81 Average Reward: -9.655657440276553\n"
     ]
    },
    {
     "name": "stderr",
     "output_type": "stream",
     "text": [
      " 36% (178 of 488) |########              | Elapsed Time: 1:14:08 ETA:   2:08:35"
     ]
    },
    {
     "name": "stdout",
     "output_type": "stream",
     "text": [
      "SPS: 81 Average Reward: -9.815303392191176\n"
     ]
    },
    {
     "name": "stderr",
     "output_type": "stream",
     "text": [
      " 36% (179 of 488) |########              | Elapsed Time: 1:14:32 ETA:   2:05:22"
     ]
    },
    {
     "name": "stdout",
     "output_type": "stream",
     "text": [
      "SPS: 81 Average Reward: -10.161554427099345\n"
     ]
    },
    {
     "name": "stderr",
     "output_type": "stream",
     "text": [
      " 36% (180 of 488) |########              | Elapsed Time: 1:14:57 ETA:   2:05:26"
     ]
    },
    {
     "name": "stdout",
     "output_type": "stream",
     "text": [
      "SPS: 81 Average Reward: -8.286019247736848\n"
     ]
    },
    {
     "name": "stderr",
     "output_type": "stream",
     "text": [
      " 37% (181 of 488) |########              | Elapsed Time: 1:15:21 ETA:   2:05:46"
     ]
    },
    {
     "name": "stdout",
     "output_type": "stream",
     "text": [
      "SPS: 81 Average Reward: -9.824299974861585\n"
     ]
    },
    {
     "name": "stderr",
     "output_type": "stream",
     "text": [
      " 37% (182 of 488) |########              | Elapsed Time: 1:15:46 ETA:   2:07:58"
     ]
    },
    {
     "name": "stdout",
     "output_type": "stream",
     "text": [
      "SPS: 81 Average Reward: -10.92530680393558\n"
     ]
    },
    {
     "name": "stderr",
     "output_type": "stream",
     "text": [
      " 37% (183 of 488) |########              | Elapsed Time: 1:16:11 ETA:   2:06:03"
     ]
    },
    {
     "name": "stdout",
     "output_type": "stream",
     "text": [
      "SPS: 81 Average Reward: -10.390500801277538\n"
     ]
    },
    {
     "name": "stderr",
     "output_type": "stream",
     "text": [
      " 37% (184 of 488) |########              | Elapsed Time: 1:16:36 ETA:   2:06:29"
     ]
    },
    {
     "name": "stdout",
     "output_type": "stream",
     "text": [
      "SPS: 81 Average Reward: -10.01450706535124\n"
     ]
    },
    {
     "name": "stderr",
     "output_type": "stream",
     "text": [
      " 37% (185 of 488) |########              | Elapsed Time: 1:17:01 ETA:   2:04:36"
     ]
    },
    {
     "name": "stdout",
     "output_type": "stream",
     "text": [
      "SPS: 81 Average Reward: -10.506569481805611\n"
     ]
    },
    {
     "name": "stderr",
     "output_type": "stream",
     "text": [
      " 38% (186 of 488) |########              | Elapsed Time: 1:17:26 ETA:   2:05:56"
     ]
    },
    {
     "name": "stdout",
     "output_type": "stream",
     "text": [
      "SPS: 81 Average Reward: -7.757098253064214\n"
     ]
    },
    {
     "name": "stderr",
     "output_type": "stream",
     "text": [
      " 38% (187 of 488) |########              | Elapsed Time: 1:17:50 ETA:   2:02:42"
     ]
    },
    {
     "name": "stdout",
     "output_type": "stream",
     "text": [
      "SPS: 81 Average Reward: -9.520135733628964\n"
     ]
    },
    {
     "name": "stderr",
     "output_type": "stream",
     "text": [
      " 38% (188 of 488) |########              | Elapsed Time: 1:18:15 ETA:   2:04:12"
     ]
    },
    {
     "name": "stdout",
     "output_type": "stream",
     "text": [
      "SPS: 81 Average Reward: -10.66980112949271\n"
     ]
    },
    {
     "name": "stderr",
     "output_type": "stream",
     "text": [
      " 38% (189 of 488) |########              | Elapsed Time: 1:18:40 ETA:   2:04:09"
     ]
    },
    {
     "name": "stdout",
     "output_type": "stream",
     "text": [
      "SPS: 81 Average Reward: -10.954076623017583\n"
     ]
    },
    {
     "name": "stderr",
     "output_type": "stream",
     "text": [
      " 38% (190 of 488) |########              | Elapsed Time: 1:19:05 ETA:   2:04:00"
     ]
    },
    {
     "name": "stdout",
     "output_type": "stream",
     "text": [
      "SPS: 82 Average Reward: -10.074400977749061\n"
     ]
    },
    {
     "name": "stderr",
     "output_type": "stream",
     "text": [
      " 39% (191 of 488) |########              | Elapsed Time: 1:19:30 ETA:   2:01:04"
     ]
    },
    {
     "name": "stdout",
     "output_type": "stream",
     "text": [
      "SPS: 82 Average Reward: -9.47851506730849\n"
     ]
    },
    {
     "name": "stderr",
     "output_type": "stream",
     "text": [
      " 39% (192 of 488) |########              | Elapsed Time: 1:19:55 ETA:   2:03:17"
     ]
    },
    {
     "name": "stdout",
     "output_type": "stream",
     "text": [
      "SPS: 82 Average Reward: -9.84751921372945\n"
     ]
    },
    {
     "name": "stderr",
     "output_type": "stream",
     "text": [
      " 39% (193 of 488) |########              | Elapsed Time: 1:20:19 ETA:   2:02:07"
     ]
    },
    {
     "name": "stdout",
     "output_type": "stream",
     "text": [
      "SPS: 82 Average Reward: -9.549313771390711\n"
     ]
    },
    {
     "name": "stderr",
     "output_type": "stream",
     "text": [
      " 39% (194 of 488) |########              | Elapsed Time: 1:20:44 ETA:   2:02:09"
     ]
    },
    {
     "name": "stdout",
     "output_type": "stream",
     "text": [
      "SPS: 82 Average Reward: -9.412073028124487\n"
     ]
    },
    {
     "name": "stderr",
     "output_type": "stream",
     "text": [
      " 39% (195 of 488) |########              | Elapsed Time: 1:21:09 ETA:   2:01:50"
     ]
    },
    {
     "name": "stdout",
     "output_type": "stream",
     "text": [
      "SPS: 82 Average Reward: -10.012659523635389\n"
     ]
    },
    {
     "name": "stderr",
     "output_type": "stream",
     "text": [
      " 40% (196 of 488) |########              | Elapsed Time: 1:21:34 ETA:   1:59:04"
     ]
    },
    {
     "name": "stdout",
     "output_type": "stream",
     "text": [
      "SPS: 82 Average Reward: -8.690561620230488\n"
     ]
    },
    {
     "name": "stderr",
     "output_type": "stream",
     "text": [
      " 40% (197 of 488) |########              | Elapsed Time: 1:21:59 ETA:   2:01:15"
     ]
    },
    {
     "name": "stdout",
     "output_type": "stream",
     "text": [
      "SPS: 82 Average Reward: -10.65404384764529\n"
     ]
    },
    {
     "name": "stderr",
     "output_type": "stream",
     "text": [
      " 40% (198 of 488) |########              | Elapsed Time: 1:22:23 ETA:   1:57:36"
     ]
    },
    {
     "name": "stdout",
     "output_type": "stream",
     "text": [
      "SPS: 82 Average Reward: -8.786543470345068\n"
     ]
    },
    {
     "name": "stderr",
     "output_type": "stream",
     "text": [
      " 40% (199 of 488) |########              | Elapsed Time: 1:22:48 ETA:   2:00:38"
     ]
    },
    {
     "name": "stdout",
     "output_type": "stream",
     "text": [
      "SPS: 82 Average Reward: -9.392649434023722\n"
     ]
    },
    {
     "name": "stderr",
     "output_type": "stream",
     "text": [
      " 40% (200 of 488) |#########             | Elapsed Time: 1:23:13 ETA:   1:59:25"
     ]
    },
    {
     "name": "stdout",
     "output_type": "stream",
     "text": [
      "SPS: 82 Average Reward: -10.17152459657047\n"
     ]
    },
    {
     "name": "stderr",
     "output_type": "stream",
     "text": [
      " 41% (201 of 488) |#########             | Elapsed Time: 1:23:38 ETA:   1:59:37"
     ]
    },
    {
     "name": "stdout",
     "output_type": "stream",
     "text": [
      "SPS: 82 Average Reward: -9.371158788113942\n"
     ]
    },
    {
     "name": "stderr",
     "output_type": "stream",
     "text": [
      " 41% (202 of 488) |#########             | Elapsed Time: 1:24:03 ETA:   1:58:27"
     ]
    },
    {
     "name": "stdout",
     "output_type": "stream",
     "text": [
      "SPS: 82 Average Reward: -12.10202791610128\n"
     ]
    },
    {
     "name": "stderr",
     "output_type": "stream",
     "text": [
      " 41% (203 of 488) |#########             | Elapsed Time: 1:24:28 ETA:   1:57:50"
     ]
    },
    {
     "name": "stdout",
     "output_type": "stream",
     "text": [
      "SPS: 82 Average Reward: -7.990712982814459\n"
     ]
    },
    {
     "name": "stderr",
     "output_type": "stream",
     "text": [
      " 41% (204 of 488) |#########             | Elapsed Time: 1:24:52 ETA:   1:56:20"
     ]
    },
    {
     "name": "stdout",
     "output_type": "stream",
     "text": [
      "SPS: 82 Average Reward: -9.609006701249571\n"
     ]
    },
    {
     "name": "stderr",
     "output_type": "stream",
     "text": [
      " 42% (205 of 488) |#########             | Elapsed Time: 1:25:17 ETA:   1:57:49"
     ]
    },
    {
     "name": "stdout",
     "output_type": "stream",
     "text": [
      "SPS: 82 Average Reward: -8.687471118145579\n"
     ]
    },
    {
     "name": "stderr",
     "output_type": "stream",
     "text": [
      " 42% (206 of 488) |#########             | Elapsed Time: 1:25:42 ETA:   1:56:16"
     ]
    },
    {
     "name": "stdout",
     "output_type": "stream",
     "text": [
      "SPS: 82 Average Reward: -9.042831089951926\n"
     ]
    },
    {
     "name": "stderr",
     "output_type": "stream",
     "text": [
      " 42% (207 of 488) |#########             | Elapsed Time: 1:26:07 ETA:   1:57:31"
     ]
    },
    {
     "name": "stdout",
     "output_type": "stream",
     "text": [
      "SPS: 82 Average Reward: -9.570420495759999\n"
     ]
    },
    {
     "name": "stderr",
     "output_type": "stream",
     "text": [
      " 42% (208 of 488) |#########             | Elapsed Time: 1:26:32 ETA:   1:57:08"
     ]
    },
    {
     "name": "stdout",
     "output_type": "stream",
     "text": [
      "SPS: 82 Average Reward: -9.87896029998763\n"
     ]
    },
    {
     "name": "stderr",
     "output_type": "stream",
     "text": [
      " 42% (209 of 488) |#########             | Elapsed Time: 1:26:57 ETA:   1:56:59"
     ]
    },
    {
     "name": "stdout",
     "output_type": "stream",
     "text": [
      "SPS: 82 Average Reward: -10.395791841185915\n"
     ]
    },
    {
     "name": "stderr",
     "output_type": "stream",
     "text": [
      " 43% (210 of 488) |#########             | Elapsed Time: 1:27:22 ETA:   1:55:40"
     ]
    },
    {
     "name": "stdout",
     "output_type": "stream",
     "text": [
      "SPS: 82 Average Reward: -9.572141767749136\n"
     ]
    },
    {
     "name": "stderr",
     "output_type": "stream",
     "text": [
      " 43% (211 of 488) |#########             | Elapsed Time: 1:27:47 ETA:   1:53:40"
     ]
    },
    {
     "name": "stdout",
     "output_type": "stream",
     "text": [
      "SPS: 82 Average Reward: -8.999774437673686\n"
     ]
    },
    {
     "name": "stderr",
     "output_type": "stream",
     "text": [
      " 43% (212 of 488) |#########             | Elapsed Time: 1:28:12 ETA:   1:54:40"
     ]
    },
    {
     "name": "stdout",
     "output_type": "stream",
     "text": [
      "SPS: 82 Average Reward: -9.355965953733486\n"
     ]
    },
    {
     "name": "stderr",
     "output_type": "stream",
     "text": [
      " 43% (213 of 488) |#########             | Elapsed Time: 1:28:36 ETA:   1:53:00"
     ]
    },
    {
     "name": "stdout",
     "output_type": "stream",
     "text": [
      "SPS: 82 Average Reward: -9.861908009532023\n"
     ]
    },
    {
     "name": "stderr",
     "output_type": "stream",
     "text": [
      " 43% (214 of 488) |#########             | Elapsed Time: 1:29:02 ETA:   1:54:28"
     ]
    },
    {
     "name": "stdout",
     "output_type": "stream",
     "text": [
      "SPS: 82 Average Reward: -8.493548166878467\n"
     ]
    },
    {
     "name": "stderr",
     "output_type": "stream",
     "text": [
      " 44% (215 of 488) |#########             | Elapsed Time: 1:29:26 ETA:   1:52:35"
     ]
    },
    {
     "name": "stdout",
     "output_type": "stream",
     "text": [
      "SPS: 82 Average Reward: -9.157691245311874\n"
     ]
    },
    {
     "name": "stderr",
     "output_type": "stream",
     "text": [
      " 44% (216 of 488) |#########             | Elapsed Time: 1:29:51 ETA:   1:51:35"
     ]
    },
    {
     "name": "stdout",
     "output_type": "stream",
     "text": [
      "SPS: 82 Average Reward: -9.653878550691328\n"
     ]
    },
    {
     "name": "stderr",
     "output_type": "stream",
     "text": [
      " 44% (217 of 488) |#########             | Elapsed Time: 1:30:16 ETA:   1:51:12"
     ]
    },
    {
     "name": "stdout",
     "output_type": "stream",
     "text": [
      "SPS: 82 Average Reward: -8.951443828154083\n"
     ]
    },
    {
     "name": "stderr",
     "output_type": "stream",
     "text": [
      " 44% (218 of 488) |#########             | Elapsed Time: 1:30:41 ETA:   1:53:09"
     ]
    },
    {
     "name": "stdout",
     "output_type": "stream",
     "text": [
      "SPS: 82 Average Reward: -7.856603327755653\n"
     ]
    },
    {
     "name": "stderr",
     "output_type": "stream",
     "text": [
      " 44% (219 of 488) |#########             | Elapsed Time: 1:31:05 ETA:   1:50:35"
     ]
    },
    {
     "name": "stdout",
     "output_type": "stream",
     "text": [
      "SPS: 82 Average Reward: -9.179490202718794\n"
     ]
    },
    {
     "name": "stderr",
     "output_type": "stream",
     "text": [
      " 45% (220 of 488) |#########             | Elapsed Time: 1:31:30 ETA:   1:51:48"
     ]
    },
    {
     "name": "stdout",
     "output_type": "stream",
     "text": [
      "SPS: 82 Average Reward: -9.079470151610137\n"
     ]
    },
    {
     "name": "stderr",
     "output_type": "stream",
     "text": [
      " 45% (221 of 488) |#########             | Elapsed Time: 1:31:55 ETA:   1:50:28"
     ]
    },
    {
     "name": "stdout",
     "output_type": "stream",
     "text": [
      "SPS: 82 Average Reward: -8.684209831583564\n"
     ]
    },
    {
     "name": "stderr",
     "output_type": "stream",
     "text": [
      " 45% (222 of 488) |##########            | Elapsed Time: 1:32:20 ETA:   1:49:27"
     ]
    },
    {
     "name": "stdout",
     "output_type": "stream",
     "text": [
      "SPS: 82 Average Reward: -8.793314450822987\n"
     ]
    },
    {
     "name": "stderr",
     "output_type": "stream",
     "text": [
      " 45% (223 of 488) |##########            | Elapsed Time: 1:32:45 ETA:   1:49:09"
     ]
    },
    {
     "name": "stdout",
     "output_type": "stream",
     "text": [
      "SPS: 82 Average Reward: -7.0605080692533315\n"
     ]
    },
    {
     "name": "stderr",
     "output_type": "stream",
     "text": [
      " 45% (224 of 488) |##########            | Elapsed Time: 1:33:09 ETA:   1:49:13"
     ]
    },
    {
     "name": "stdout",
     "output_type": "stream",
     "text": [
      "SPS: 82 Average Reward: -8.326960366517387\n"
     ]
    },
    {
     "name": "stderr",
     "output_type": "stream",
     "text": [
      " 46% (225 of 488) |##########            | Elapsed Time: 1:33:35 ETA:   1:50:16"
     ]
    },
    {
     "name": "stdout",
     "output_type": "stream",
     "text": [
      "SPS: 82 Average Reward: -9.160445745035958\n"
     ]
    },
    {
     "name": "stderr",
     "output_type": "stream",
     "text": [
      " 46% (226 of 488) |##########            | Elapsed Time: 1:33:59 ETA:   1:48:13"
     ]
    },
    {
     "name": "stdout",
     "output_type": "stream",
     "text": [
      "SPS: 82 Average Reward: -8.164619740049297\n"
     ]
    },
    {
     "name": "stderr",
     "output_type": "stream",
     "text": [
      " 46% (227 of 488) |##########            | Elapsed Time: 1:34:24 ETA:   1:47:06"
     ]
    },
    {
     "name": "stdout",
     "output_type": "stream",
     "text": [
      "SPS: 82 Average Reward: -8.648248077186373\n"
     ]
    },
    {
     "name": "stderr",
     "output_type": "stream",
     "text": [
      " 46% (228 of 488) |##########            | Elapsed Time: 1:34:49 ETA:   1:47:05"
     ]
    },
    {
     "name": "stdout",
     "output_type": "stream",
     "text": [
      "SPS: 82 Average Reward: -8.332502187561234\n"
     ]
    },
    {
     "name": "stderr",
     "output_type": "stream",
     "text": [
      " 46% (229 of 488) |##########            | Elapsed Time: 1:35:14 ETA:   1:48:31"
     ]
    },
    {
     "name": "stdout",
     "output_type": "stream",
     "text": [
      "SPS: 82 Average Reward: -8.456648038632279\n"
     ]
    },
    {
     "name": "stderr",
     "output_type": "stream",
     "text": [
      " 47% (230 of 488) |##########            | Elapsed Time: 1:35:39 ETA:   1:47:29"
     ]
    },
    {
     "name": "stdout",
     "output_type": "stream",
     "text": [
      "SPS: 82 Average Reward: -8.939507636911655\n"
     ]
    },
    {
     "name": "stderr",
     "output_type": "stream",
     "text": [
      " 47% (231 of 488) |##########            | Elapsed Time: 1:36:04 ETA:   1:47:12"
     ]
    },
    {
     "name": "stdout",
     "output_type": "stream",
     "text": [
      "SPS: 82 Average Reward: -8.111120063712985\n"
     ]
    },
    {
     "name": "stderr",
     "output_type": "stream",
     "text": [
      " 47% (232 of 488) |##########            | Elapsed Time: 1:36:28 ETA:   1:45:00"
     ]
    },
    {
     "name": "stdout",
     "output_type": "stream",
     "text": [
      "SPS: 82 Average Reward: -8.885987870603483\n"
     ]
    },
    {
     "name": "stderr",
     "output_type": "stream",
     "text": [
      " 47% (233 of 488) |##########            | Elapsed Time: 1:36:53 ETA:   1:45:16"
     ]
    },
    {
     "name": "stdout",
     "output_type": "stream",
     "text": [
      "SPS: 82 Average Reward: -8.386534490034082\n"
     ]
    },
    {
     "name": "stderr",
     "output_type": "stream",
     "text": [
      " 47% (234 of 488) |##########            | Elapsed Time: 1:37:18 ETA:   1:45:49"
     ]
    },
    {
     "name": "stdout",
     "output_type": "stream",
     "text": [
      "SPS: 82 Average Reward: -8.22191750051289\n"
     ]
    },
    {
     "name": "stderr",
     "output_type": "stream",
     "text": [
      " 48% (235 of 488) |##########            | Elapsed Time: 1:37:43 ETA:   1:45:34"
     ]
    },
    {
     "name": "stdout",
     "output_type": "stream",
     "text": [
      "SPS: 82 Average Reward: -9.303067211690035\n"
     ]
    },
    {
     "name": "stderr",
     "output_type": "stream",
     "text": [
      " 48% (236 of 488) |##########            | Elapsed Time: 1:38:08 ETA:   1:44:53"
     ]
    },
    {
     "name": "stdout",
     "output_type": "stream",
     "text": [
      "SPS: 82 Average Reward: -8.33189394925315\n"
     ]
    },
    {
     "name": "stderr",
     "output_type": "stream",
     "text": [
      " 48% (237 of 488) |##########            | Elapsed Time: 1:38:33 ETA:   1:43:42"
     ]
    },
    {
     "name": "stdout",
     "output_type": "stream",
     "text": [
      "SPS: 82 Average Reward: -8.128764664570655\n"
     ]
    },
    {
     "name": "stderr",
     "output_type": "stream",
     "text": [
      " 48% (238 of 488) |##########            | Elapsed Time: 1:38:58 ETA:   1:45:06"
     ]
    },
    {
     "name": "stdout",
     "output_type": "stream",
     "text": [
      "SPS: 82 Average Reward: -7.659927892249986\n"
     ]
    },
    {
     "name": "stderr",
     "output_type": "stream",
     "text": [
      " 48% (239 of 488) |##########            | Elapsed Time: 1:39:23 ETA:   1:44:13"
     ]
    },
    {
     "name": "stdout",
     "output_type": "stream",
     "text": [
      "SPS: 82 Average Reward: -7.947182143257011\n"
     ]
    },
    {
     "name": "stderr",
     "output_type": "stream",
     "text": [
      " 49% (240 of 488) |##########            | Elapsed Time: 1:39:48 ETA:   1:42:15"
     ]
    },
    {
     "name": "stdout",
     "output_type": "stream",
     "text": [
      "SPS: 82 Average Reward: -8.27228676966786\n"
     ]
    },
    {
     "name": "stderr",
     "output_type": "stream",
     "text": [
      " 49% (241 of 488) |##########            | Elapsed Time: 1:40:13 ETA:   1:43:17"
     ]
    },
    {
     "name": "stdout",
     "output_type": "stream",
     "text": [
      "SPS: 82 Average Reward: -8.734610993883338\n"
     ]
    },
    {
     "name": "stderr",
     "output_type": "stream",
     "text": [
      " 49% (242 of 488) |##########            | Elapsed Time: 1:40:38 ETA:   1:43:25"
     ]
    },
    {
     "name": "stdout",
     "output_type": "stream",
     "text": [
      "SPS: 82 Average Reward: -8.35934406100673\n"
     ]
    },
    {
     "name": "stderr",
     "output_type": "stream",
     "text": [
      " 49% (243 of 488) |##########            | Elapsed Time: 1:41:03 ETA:   1:42:16"
     ]
    },
    {
     "name": "stdout",
     "output_type": "stream",
     "text": [
      "SPS: 82 Average Reward: -8.1354845775886\n"
     ]
    },
    {
     "name": "stderr",
     "output_type": "stream",
     "text": [
      " 50% (244 of 488) |###########           | Elapsed Time: 1:41:28 ETA:   1:40:41"
     ]
    },
    {
     "name": "stdout",
     "output_type": "stream",
     "text": [
      "SPS: 82 Average Reward: -8.30625624049594\n"
     ]
    },
    {
     "name": "stderr",
     "output_type": "stream",
     "text": [
      " 50% (245 of 488) |###########           | Elapsed Time: 1:41:53 ETA:   1:41:51"
     ]
    },
    {
     "name": "stdout",
     "output_type": "stream",
     "text": [
      "SPS: 82 Average Reward: -8.495614367023416\n"
     ]
    },
    {
     "name": "stderr",
     "output_type": "stream",
     "text": [
      " 50% (246 of 488) |###########           | Elapsed Time: 1:42:18 ETA:   1:39:38"
     ]
    },
    {
     "name": "stdout",
     "output_type": "stream",
     "text": [
      "SPS: 82 Average Reward: -7.83940439574109\n"
     ]
    },
    {
     "name": "stderr",
     "output_type": "stream",
     "text": [
      " 50% (247 of 488) |###########           | Elapsed Time: 1:42:43 ETA:   1:40:46"
     ]
    },
    {
     "name": "stdout",
     "output_type": "stream",
     "text": [
      "SPS: 82 Average Reward: -8.175869277645216\n"
     ]
    },
    {
     "name": "stderr",
     "output_type": "stream",
     "text": [
      " 50% (248 of 488) |###########           | Elapsed Time: 1:43:08 ETA:   1:40:23"
     ]
    },
    {
     "name": "stdout",
     "output_type": "stream",
     "text": [
      "SPS: 82 Average Reward: -7.858834572366413\n"
     ]
    },
    {
     "name": "stderr",
     "output_type": "stream",
     "text": [
      " 51% (249 of 488) |###########           | Elapsed Time: 1:43:33 ETA:   1:39:51"
     ]
    },
    {
     "name": "stdout",
     "output_type": "stream",
     "text": [
      "SPS: 82 Average Reward: -7.1663863477553145\n"
     ]
    },
    {
     "name": "stderr",
     "output_type": "stream",
     "text": [
      " 51% (250 of 488) |###########           | Elapsed Time: 1:43:58 ETA:   1:39:11"
     ]
    },
    {
     "name": "stdout",
     "output_type": "stream",
     "text": [
      "SPS: 82 Average Reward: -6.886915322722713\n"
     ]
    },
    {
     "name": "stderr",
     "output_type": "stream",
     "text": [
      " 51% (251 of 488) |###########           | Elapsed Time: 1:44:23 ETA:   1:37:43"
     ]
    },
    {
     "name": "stdout",
     "output_type": "stream",
     "text": [
      "SPS: 82 Average Reward: -9.2882585300327\n"
     ]
    },
    {
     "name": "stderr",
     "output_type": "stream",
     "text": [
      " 51% (252 of 488) |###########           | Elapsed Time: 1:44:48 ETA:   1:38:14"
     ]
    },
    {
     "name": "stdout",
     "output_type": "stream",
     "text": [
      "SPS: 82 Average Reward: -8.294751850683237\n"
     ]
    },
    {
     "name": "stderr",
     "output_type": "stream",
     "text": [
      " 51% (253 of 488) |###########           | Elapsed Time: 1:45:13 ETA:   1:38:37"
     ]
    },
    {
     "name": "stdout",
     "output_type": "stream",
     "text": [
      "SPS: 82 Average Reward: -8.130431983126877\n"
     ]
    },
    {
     "name": "stderr",
     "output_type": "stream",
     "text": [
      " 52% (254 of 488) |###########           | Elapsed Time: 1:45:38 ETA:   1:37:29"
     ]
    },
    {
     "name": "stdout",
     "output_type": "stream",
     "text": [
      "SPS: 82 Average Reward: -10.770965281513899\n"
     ]
    },
    {
     "name": "stderr",
     "output_type": "stream",
     "text": [
      " 52% (255 of 488) |###########           | Elapsed Time: 1:46:03 ETA:   1:36:14"
     ]
    },
    {
     "name": "stdout",
     "output_type": "stream",
     "text": [
      "SPS: 82 Average Reward: -8.612896079900588\n"
     ]
    },
    {
     "name": "stderr",
     "output_type": "stream",
     "text": [
      " 52% (256 of 488) |###########           | Elapsed Time: 1:46:28 ETA:   1:36:34"
     ]
    },
    {
     "name": "stdout",
     "output_type": "stream",
     "text": [
      "SPS: 82 Average Reward: -7.9411347488519874\n"
     ]
    },
    {
     "name": "stderr",
     "output_type": "stream",
     "text": [
      " 52% (257 of 488) |###########           | Elapsed Time: 1:46:53 ETA:   1:36:19"
     ]
    },
    {
     "name": "stdout",
     "output_type": "stream",
     "text": [
      "SPS: 82 Average Reward: -7.431328331360441\n"
     ]
    },
    {
     "name": "stderr",
     "output_type": "stream",
     "text": [
      " 52% (258 of 488) |###########           | Elapsed Time: 1:47:18 ETA:   1:36:14"
     ]
    },
    {
     "name": "stdout",
     "output_type": "stream",
     "text": [
      "SPS: 82 Average Reward: -8.04621519112547\n"
     ]
    },
    {
     "name": "stderr",
     "output_type": "stream",
     "text": [
      " 53% (259 of 488) |###########           | Elapsed Time: 1:47:43 ETA:   1:36:08"
     ]
    },
    {
     "name": "stdout",
     "output_type": "stream",
     "text": [
      "SPS: 82 Average Reward: -7.1682066584385735\n"
     ]
    },
    {
     "name": "stderr",
     "output_type": "stream",
     "text": [
      " 53% (260 of 488) |###########           | Elapsed Time: 1:48:08 ETA:   1:33:46"
     ]
    },
    {
     "name": "stdout",
     "output_type": "stream",
     "text": [
      "SPS: 82 Average Reward: -7.691362657805655\n"
     ]
    },
    {
     "name": "stderr",
     "output_type": "stream",
     "text": [
      " 53% (261 of 488) |###########           | Elapsed Time: 1:48:33 ETA:   1:34:02"
     ]
    },
    {
     "name": "stdout",
     "output_type": "stream",
     "text": [
      "SPS: 82 Average Reward: -8.126623840846404\n"
     ]
    },
    {
     "name": "stderr",
     "output_type": "stream",
     "text": [
      " 53% (262 of 488) |###########           | Elapsed Time: 1:48:58 ETA:   1:34:38"
     ]
    },
    {
     "name": "stdout",
     "output_type": "stream",
     "text": [
      "SPS: 82 Average Reward: -7.280127911636768\n"
     ]
    },
    {
     "name": "stderr",
     "output_type": "stream",
     "text": [
      " 53% (263 of 488) |###########           | Elapsed Time: 1:49:23 ETA:   1:33:16"
     ]
    },
    {
     "name": "stdout",
     "output_type": "stream",
     "text": [
      "SPS: 82 Average Reward: -7.11692097924266\n"
     ]
    },
    {
     "name": "stderr",
     "output_type": "stream",
     "text": [
      " 54% (264 of 488) |###########           | Elapsed Time: 1:49:48 ETA:   1:34:25"
     ]
    },
    {
     "name": "stdout",
     "output_type": "stream",
     "text": [
      "SPS: 82 Average Reward: -7.402534633155262\n"
     ]
    },
    {
     "name": "stderr",
     "output_type": "stream",
     "text": [
      " 54% (265 of 488) |###########           | Elapsed Time: 1:50:13 ETA:   1:32:29"
     ]
    },
    {
     "name": "stdout",
     "output_type": "stream",
     "text": [
      "SPS: 82 Average Reward: -7.798486480144574\n"
     ]
    },
    {
     "name": "stderr",
     "output_type": "stream",
     "text": [
      " 54% (266 of 488) |###########           | Elapsed Time: 1:50:38 ETA:   1:33:12"
     ]
    },
    {
     "name": "stdout",
     "output_type": "stream",
     "text": [
      "SPS: 82 Average Reward: -7.492424179583093\n"
     ]
    },
    {
     "name": "stderr",
     "output_type": "stream",
     "text": [
      " 54% (267 of 488) |############          | Elapsed Time: 1:51:03 ETA:   1:31:09"
     ]
    },
    {
     "name": "stdout",
     "output_type": "stream",
     "text": [
      "SPS: 82 Average Reward: -6.690467979917074\n"
     ]
    },
    {
     "name": "stderr",
     "output_type": "stream",
     "text": [
      " 54% (268 of 488) |############          | Elapsed Time: 1:51:28 ETA:   1:31:48"
     ]
    },
    {
     "name": "stdout",
     "output_type": "stream",
     "text": [
      "SPS: 82 Average Reward: -7.372446111963625\n"
     ]
    },
    {
     "name": "stderr",
     "output_type": "stream",
     "text": [
      " 55% (269 of 488) |############          | Elapsed Time: 1:51:53 ETA:   1:31:08"
     ]
    },
    {
     "name": "stdout",
     "output_type": "stream",
     "text": [
      "SPS: 82 Average Reward: -7.504617325821196\n"
     ]
    },
    {
     "name": "stderr",
     "output_type": "stream",
     "text": [
      " 55% (270 of 488) |############          | Elapsed Time: 1:52:18 ETA:   1:31:15"
     ]
    },
    {
     "name": "stdout",
     "output_type": "stream",
     "text": [
      "SPS: 82 Average Reward: -7.595635660010301\n"
     ]
    },
    {
     "name": "stderr",
     "output_type": "stream",
     "text": [
      " 55% (271 of 488) |############          | Elapsed Time: 1:52:43 ETA:   1:29:43"
     ]
    },
    {
     "name": "stdout",
     "output_type": "stream",
     "text": [
      "SPS: 82 Average Reward: -7.267831371240585\n"
     ]
    },
    {
     "name": "stderr",
     "output_type": "stream",
     "text": [
      " 55% (272 of 488) |############          | Elapsed Time: 1:53:08 ETA:   1:30:47"
     ]
    },
    {
     "name": "stdout",
     "output_type": "stream",
     "text": [
      "SPS: 82 Average Reward: -7.458612596925658\n"
     ]
    },
    {
     "name": "stderr",
     "output_type": "stream",
     "text": [
      " 55% (273 of 488) |############          | Elapsed Time: 1:53:33 ETA:   1:28:48"
     ]
    },
    {
     "name": "stdout",
     "output_type": "stream",
     "text": [
      "SPS: 82 Average Reward: -7.396271353598355\n"
     ]
    },
    {
     "name": "stderr",
     "output_type": "stream",
     "text": [
      " 56% (274 of 488) |############          | Elapsed Time: 1:53:58 ETA:   1:29:47"
     ]
    },
    {
     "name": "stdout",
     "output_type": "stream",
     "text": [
      "SPS: 82 Average Reward: -7.383152069687262\n"
     ]
    },
    {
     "name": "stderr",
     "output_type": "stream",
     "text": [
      " 56% (275 of 488) |############          | Elapsed Time: 1:54:23 ETA:   1:28:00"
     ]
    },
    {
     "name": "stdout",
     "output_type": "stream",
     "text": [
      "SPS: 82 Average Reward: -7.298620545092212\n"
     ]
    },
    {
     "name": "stderr",
     "output_type": "stream",
     "text": [
      " 56% (276 of 488) |############          | Elapsed Time: 1:54:48 ETA:   1:29:06"
     ]
    },
    {
     "name": "stdout",
     "output_type": "stream",
     "text": [
      "SPS: 82 Average Reward: -7.180758372636373\n"
     ]
    },
    {
     "name": "stderr",
     "output_type": "stream",
     "text": [
      " 56% (277 of 488) |############          | Elapsed Time: 1:55:13 ETA:   1:27:13"
     ]
    },
    {
     "name": "stdout",
     "output_type": "stream",
     "text": [
      "SPS: 82 Average Reward: -7.0512779772388186\n"
     ]
    },
    {
     "name": "stderr",
     "output_type": "stream",
     "text": [
      " 56% (278 of 488) |############          | Elapsed Time: 1:55:38 ETA:   1:28:05"
     ]
    },
    {
     "name": "stdout",
     "output_type": "stream",
     "text": [
      "SPS: 82 Average Reward: -7.009120296122079\n"
     ]
    },
    {
     "name": "stderr",
     "output_type": "stream",
     "text": [
      " 57% (279 of 488) |############          | Elapsed Time: 1:56:03 ETA:   1:27:23"
     ]
    },
    {
     "name": "stdout",
     "output_type": "stream",
     "text": [
      "SPS: 82 Average Reward: -7.316602992031637\n"
     ]
    },
    {
     "name": "stderr",
     "output_type": "stream",
     "text": [
      " 57% (280 of 488) |############          | Elapsed Time: 1:56:28 ETA:   1:27:01"
     ]
    },
    {
     "name": "stdout",
     "output_type": "stream",
     "text": [
      "SPS: 82 Average Reward: -6.851521493197507\n"
     ]
    },
    {
     "name": "stderr",
     "output_type": "stream",
     "text": [
      " 57% (281 of 488) |############          | Elapsed Time: 1:56:53 ETA:   1:25:32"
     ]
    },
    {
     "name": "stdout",
     "output_type": "stream",
     "text": [
      "SPS: 82 Average Reward: -8.330534113346575\n"
     ]
    },
    {
     "name": "stderr",
     "output_type": "stream",
     "text": [
      " 57% (282 of 488) |############          | Elapsed Time: 1:57:18 ETA:   1:25:29"
     ]
    },
    {
     "name": "stdout",
     "output_type": "stream",
     "text": [
      "SPS: 82 Average Reward: -7.343688577009589\n"
     ]
    },
    {
     "name": "stderr",
     "output_type": "stream",
     "text": [
      " 57% (283 of 488) |############          | Elapsed Time: 1:57:43 ETA:   1:26:06"
     ]
    },
    {
     "name": "stdout",
     "output_type": "stream",
     "text": [
      "SPS: 82 Average Reward: -7.158479554593572\n"
     ]
    },
    {
     "name": "stderr",
     "output_type": "stream",
     "text": [
      " 58% (284 of 488) |############          | Elapsed Time: 1:58:08 ETA:   1:24:26"
     ]
    },
    {
     "name": "stdout",
     "output_type": "stream",
     "text": [
      "SPS: 82 Average Reward: -6.820124386186179\n"
     ]
    },
    {
     "name": "stderr",
     "output_type": "stream",
     "text": [
      " 58% (285 of 488) |############          | Elapsed Time: 1:58:33 ETA:   1:24:59"
     ]
    },
    {
     "name": "stdout",
     "output_type": "stream",
     "text": [
      "SPS: 82 Average Reward: -7.353279504694621\n"
     ]
    },
    {
     "name": "stderr",
     "output_type": "stream",
     "text": [
      " 58% (286 of 488) |############          | Elapsed Time: 1:58:58 ETA:   1:23:30"
     ]
    },
    {
     "name": "stdout",
     "output_type": "stream",
     "text": [
      "SPS: 82 Average Reward: -7.29655433762191\n"
     ]
    },
    {
     "name": "stderr",
     "output_type": "stream",
     "text": [
      " 58% (287 of 488) |############          | Elapsed Time: 1:59:23 ETA:   1:24:30"
     ]
    },
    {
     "name": "stdout",
     "output_type": "stream",
     "text": [
      "SPS: 82 Average Reward: -7.01290331332338\n"
     ]
    },
    {
     "name": "stderr",
     "output_type": "stream",
     "text": [
      " 59% (288 of 488) |############          | Elapsed Time: 1:59:48 ETA:   1:22:53"
     ]
    },
    {
     "name": "stdout",
     "output_type": "stream",
     "text": [
      "SPS: 82 Average Reward: -6.7614399128456055\n"
     ]
    },
    {
     "name": "stderr",
     "output_type": "stream",
     "text": [
      " 59% (289 of 488) |#############         | Elapsed Time: 2:00:13 ETA:   1:23:07"
     ]
    },
    {
     "name": "stdout",
     "output_type": "stream",
     "text": [
      "SPS: 82 Average Reward: -6.842870449644458\n"
     ]
    },
    {
     "name": "stderr",
     "output_type": "stream",
     "text": [
      " 59% (290 of 488) |#############         | Elapsed Time: 2:00:38 ETA:   1:23:10"
     ]
    },
    {
     "name": "stdout",
     "output_type": "stream",
     "text": [
      "SPS: 82 Average Reward: -7.025731372360625\n"
     ]
    },
    {
     "name": "stderr",
     "output_type": "stream",
     "text": [
      " 59% (291 of 488) |#############         | Elapsed Time: 2:01:03 ETA:   1:21:27"
     ]
    },
    {
     "name": "stdout",
     "output_type": "stream",
     "text": [
      "SPS: 82 Average Reward: -7.265263252830738\n"
     ]
    },
    {
     "name": "stderr",
     "output_type": "stream",
     "text": [
      " 59% (292 of 488) |#############         | Elapsed Time: 2:01:28 ETA:   1:22:26"
     ]
    },
    {
     "name": "stdout",
     "output_type": "stream",
     "text": [
      "SPS: 82 Average Reward: -7.003916894052959\n"
     ]
    },
    {
     "name": "stderr",
     "output_type": "stream",
     "text": [
      " 60% (293 of 488) |#############         | Elapsed Time: 2:01:53 ETA:   1:20:43"
     ]
    },
    {
     "name": "stdout",
     "output_type": "stream",
     "text": [
      "SPS: 82 Average Reward: -6.909728369664517\n"
     ]
    },
    {
     "name": "stderr",
     "output_type": "stream",
     "text": [
      " 60% (294 of 488) |#############         | Elapsed Time: 2:02:18 ETA:   1:21:33"
     ]
    },
    {
     "name": "stdout",
     "output_type": "stream",
     "text": [
      "SPS: 82 Average Reward: -6.86765442019243\n"
     ]
    },
    {
     "name": "stderr",
     "output_type": "stream",
     "text": [
      " 60% (295 of 488) |#############         | Elapsed Time: 2:02:43 ETA:   1:19:50"
     ]
    },
    {
     "name": "stdout",
     "output_type": "stream",
     "text": [
      "SPS: 82 Average Reward: -6.6197838452323525\n"
     ]
    },
    {
     "name": "stderr",
     "output_type": "stream",
     "text": [
      " 60% (296 of 488) |#############         | Elapsed Time: 2:03:08 ETA:   1:20:33"
     ]
    },
    {
     "name": "stdout",
     "output_type": "stream",
     "text": [
      "SPS: 82 Average Reward: -8.966337946453905\n"
     ]
    },
    {
     "name": "stderr",
     "output_type": "stream",
     "text": [
      " 60% (297 of 488) |#############         | Elapsed Time: 2:03:33 ETA:   1:18:46"
     ]
    },
    {
     "name": "stdout",
     "output_type": "stream",
     "text": [
      "SPS: 82 Average Reward: -6.661726724362256\n"
     ]
    },
    {
     "name": "stderr",
     "output_type": "stream",
     "text": [
      " 61% (298 of 488) |#############         | Elapsed Time: 2:03:58 ETA:   1:20:06"
     ]
    },
    {
     "name": "stdout",
     "output_type": "stream",
     "text": [
      "SPS: 82 Average Reward: -6.813150683759899\n"
     ]
    },
    {
     "name": "stderr",
     "output_type": "stream",
     "text": [
      " 61% (299 of 488) |#############         | Elapsed Time: 2:04:23 ETA:   1:18:50"
     ]
    },
    {
     "name": "stdout",
     "output_type": "stream",
     "text": [
      "SPS: 82 Average Reward: -6.767126041763117\n"
     ]
    },
    {
     "name": "stderr",
     "output_type": "stream",
     "text": [
      " 61% (300 of 488) |#############         | Elapsed Time: 2:04:49 ETA:   1:18:54"
     ]
    },
    {
     "name": "stdout",
     "output_type": "stream",
     "text": [
      "SPS: 82 Average Reward: -6.650550596231558\n"
     ]
    },
    {
     "name": "stderr",
     "output_type": "stream",
     "text": [
      " 61% (301 of 488) |#############         | Elapsed Time: 2:05:14 ETA:   1:17:29"
     ]
    },
    {
     "name": "stdout",
     "output_type": "stream",
     "text": [
      "SPS: 82 Average Reward: -6.715912389636078\n"
     ]
    },
    {
     "name": "stderr",
     "output_type": "stream",
     "text": [
      " 61% (302 of 488) |#############         | Elapsed Time: 2:05:39 ETA:   1:18:22"
     ]
    },
    {
     "name": "stdout",
     "output_type": "stream",
     "text": [
      "SPS: 82 Average Reward: -6.675145063728283\n"
     ]
    },
    {
     "name": "stderr",
     "output_type": "stream",
     "text": [
      " 62% (303 of 488) |#############         | Elapsed Time: 2:06:04 ETA:   1:16:43"
     ]
    },
    {
     "name": "stdout",
     "output_type": "stream",
     "text": [
      "SPS: 82 Average Reward: -6.763282855899313\n"
     ]
    },
    {
     "name": "stderr",
     "output_type": "stream",
     "text": [
      " 62% (304 of 488) |#############         | Elapsed Time: 2:06:29 ETA:   1:17:42"
     ]
    },
    {
     "name": "stdout",
     "output_type": "stream",
     "text": [
      "SPS: 82 Average Reward: -6.603561781549873\n"
     ]
    },
    {
     "name": "stderr",
     "output_type": "stream",
     "text": [
      " 62% (305 of 488) |#############         | Elapsed Time: 2:06:54 ETA:   1:15:30"
     ]
    },
    {
     "name": "stdout",
     "output_type": "stream",
     "text": [
      "SPS: 82 Average Reward: -6.808797328326166\n"
     ]
    },
    {
     "name": "stderr",
     "output_type": "stream",
     "text": [
      " 62% (306 of 488) |#############         | Elapsed Time: 2:07:19 ETA:   1:15:38"
     ]
    },
    {
     "name": "stdout",
     "output_type": "stream",
     "text": [
      "SPS: 82 Average Reward: -6.5998656442358445\n"
     ]
    },
    {
     "name": "stderr",
     "output_type": "stream",
     "text": [
      " 62% (307 of 488) |#############         | Elapsed Time: 2:07:44 ETA:   1:14:52"
     ]
    },
    {
     "name": "stdout",
     "output_type": "stream",
     "text": [
      "SPS: 82 Average Reward: -6.75869303780963\n"
     ]
    },
    {
     "name": "stderr",
     "output_type": "stream",
     "text": [
      " 63% (308 of 488) |#############         | Elapsed Time: 2:08:09 ETA:   1:15:40"
     ]
    },
    {
     "name": "stdout",
     "output_type": "stream",
     "text": [
      "SPS: 82 Average Reward: -6.698863038342437\n"
     ]
    },
    {
     "name": "stderr",
     "output_type": "stream",
     "text": [
      " 63% (309 of 488) |#############         | Elapsed Time: 2:08:34 ETA:   1:15:28"
     ]
    },
    {
     "name": "stdout",
     "output_type": "stream",
     "text": [
      "SPS: 82 Average Reward: -6.42471478868253\n"
     ]
    },
    {
     "name": "stderr",
     "output_type": "stream",
     "text": [
      " 63% (310 of 488) |#############         | Elapsed Time: 2:08:59 ETA:   1:14:40"
     ]
    },
    {
     "name": "stdout",
     "output_type": "stream",
     "text": [
      "SPS: 82 Average Reward: -6.667806941386528\n"
     ]
    },
    {
     "name": "stderr",
     "output_type": "stream",
     "text": [
      " 63% (311 of 488) |##############        | Elapsed Time: 2:09:24 ETA:   1:14:33"
     ]
    },
    {
     "name": "stdout",
     "output_type": "stream",
     "text": [
      "SPS: 82 Average Reward: -6.560751868469364\n"
     ]
    },
    {
     "name": "stderr",
     "output_type": "stream",
     "text": [
      " 63% (312 of 488) |##############        | Elapsed Time: 2:09:50 ETA:   1:13:49"
     ]
    },
    {
     "name": "stdout",
     "output_type": "stream",
     "text": [
      "SPS: 82 Average Reward: -7.0940412532606\n"
     ]
    },
    {
     "name": "stderr",
     "output_type": "stream",
     "text": [
      " 64% (313 of 488) |##############        | Elapsed Time: 2:10:15 ETA:   1:14:58"
     ]
    },
    {
     "name": "stdout",
     "output_type": "stream",
     "text": [
      "SPS: 82 Average Reward: -7.059503634282579\n"
     ]
    },
    {
     "name": "stderr",
     "output_type": "stream",
     "text": [
      " 64% (314 of 488) |##############        | Elapsed Time: 2:10:41 ETA:   1:13:02"
     ]
    },
    {
     "name": "stdout",
     "output_type": "stream",
     "text": [
      "SPS: 82 Average Reward: -6.5476317145193015\n"
     ]
    },
    {
     "name": "stderr",
     "output_type": "stream",
     "text": [
      " 64% (315 of 488) |##############        | Elapsed Time: 2:11:06 ETA:   1:12:50"
     ]
    },
    {
     "name": "stdout",
     "output_type": "stream",
     "text": [
      "SPS: 82 Average Reward: -5.677425784732926\n"
     ]
    },
    {
     "name": "stderr",
     "output_type": "stream",
     "text": [
      " 64% (316 of 488) |##############        | Elapsed Time: 2:11:31 ETA:   1:12:23"
     ]
    },
    {
     "name": "stdout",
     "output_type": "stream",
     "text": [
      "SPS: 82 Average Reward: -6.467799715924106\n"
     ]
    },
    {
     "name": "stderr",
     "output_type": "stream",
     "text": [
      " 64% (317 of 488) |##############        | Elapsed Time: 2:11:56 ETA:   1:12:02"
     ]
    },
    {
     "name": "stdout",
     "output_type": "stream",
     "text": [
      "SPS: 81 Average Reward: -6.622790863870312\n"
     ]
    },
    {
     "name": "stderr",
     "output_type": "stream",
     "text": [
      " 65% (318 of 488) |##############        | Elapsed Time: 2:12:22 ETA:   1:12:14"
     ]
    },
    {
     "name": "stdout",
     "output_type": "stream",
     "text": [
      "SPS: 81 Average Reward: -6.574290640576149\n"
     ]
    },
    {
     "name": "stderr",
     "output_type": "stream",
     "text": [
      " 65% (319 of 488) |##############        | Elapsed Time: 2:12:47 ETA:   1:11:19"
     ]
    },
    {
     "name": "stdout",
     "output_type": "stream",
     "text": [
      "SPS: 81 Average Reward: -6.545589171308959\n"
     ]
    },
    {
     "name": "stderr",
     "output_type": "stream",
     "text": [
      " 65% (320 of 488) |##############        | Elapsed Time: 2:13:12 ETA:   1:10:33"
     ]
    },
    {
     "name": "stdout",
     "output_type": "stream",
     "text": [
      "SPS: 81 Average Reward: -7.518865294483572\n"
     ]
    },
    {
     "name": "stderr",
     "output_type": "stream",
     "text": [
      " 65% (321 of 488) |##############        | Elapsed Time: 2:13:38 ETA:   1:11:30"
     ]
    },
    {
     "name": "stdout",
     "output_type": "stream",
     "text": [
      "SPS: 81 Average Reward: -6.580970407905863\n"
     ]
    },
    {
     "name": "stderr",
     "output_type": "stream",
     "text": [
      " 65% (322 of 488) |##############        | Elapsed Time: 2:14:03 ETA:   1:09:01"
     ]
    },
    {
     "name": "stdout",
     "output_type": "stream",
     "text": [
      "SPS: 81 Average Reward: -6.865001753997019\n"
     ]
    },
    {
     "name": "stderr",
     "output_type": "stream",
     "text": [
      " 66% (323 of 488) |##############        | Elapsed Time: 2:14:28 ETA:   1:09:54"
     ]
    },
    {
     "name": "stdout",
     "output_type": "stream",
     "text": [
      "SPS: 81 Average Reward: -6.4964348193156605\n"
     ]
    },
    {
     "name": "stderr",
     "output_type": "stream",
     "text": [
      " 66% (324 of 488) |##############        | Elapsed Time: 2:14:53 ETA:   1:08:22"
     ]
    },
    {
     "name": "stdout",
     "output_type": "stream",
     "text": [
      "SPS: 81 Average Reward: -7.30956499811435\n"
     ]
    },
    {
     "name": "stderr",
     "output_type": "stream",
     "text": [
      " 66% (325 of 488) |##############        | Elapsed Time: 2:15:18 ETA:   1:07:40"
     ]
    },
    {
     "name": "stdout",
     "output_type": "stream",
     "text": [
      "SPS: 81 Average Reward: -6.731108130455257\n"
     ]
    },
    {
     "name": "stderr",
     "output_type": "stream",
     "text": [
      " 66% (326 of 488) |##############        | Elapsed Time: 2:15:44 ETA:   1:08:00"
     ]
    },
    {
     "name": "stdout",
     "output_type": "stream",
     "text": [
      "SPS: 81 Average Reward: -6.255131006537033\n"
     ]
    },
    {
     "name": "stderr",
     "output_type": "stream",
     "text": [
      " 67% (327 of 488) |##############        | Elapsed Time: 2:16:09 ETA:   1:07:46"
     ]
    },
    {
     "name": "stdout",
     "output_type": "stream",
     "text": [
      "SPS: 81 Average Reward: -6.242855026312724\n"
     ]
    },
    {
     "name": "stderr",
     "output_type": "stream",
     "text": [
      " 67% (328 of 488) |##############        | Elapsed Time: 2:16:34 ETA:   1:06:00"
     ]
    },
    {
     "name": "stdout",
     "output_type": "stream",
     "text": [
      "SPS: 81 Average Reward: -6.198521013435349\n"
     ]
    },
    {
     "name": "stderr",
     "output_type": "stream",
     "text": [
      " 67% (329 of 488) |##############        | Elapsed Time: 2:16:59 ETA:   1:07:08"
     ]
    },
    {
     "name": "stdout",
     "output_type": "stream",
     "text": [
      "SPS: 81 Average Reward: -4.957231591781613\n"
     ]
    },
    {
     "name": "stderr",
     "output_type": "stream",
     "text": [
      " 67% (330 of 488) |##############        | Elapsed Time: 2:17:24 ETA:   1:05:16"
     ]
    },
    {
     "name": "stdout",
     "output_type": "stream",
     "text": [
      "SPS: 81 Average Reward: -6.617485011737626\n"
     ]
    },
    {
     "name": "stderr",
     "output_type": "stream",
     "text": [
      " 67% (331 of 488) |##############        | Elapsed Time: 2:17:49 ETA:   1:05:54"
     ]
    },
    {
     "name": "stdout",
     "output_type": "stream",
     "text": [
      "SPS: 81 Average Reward: -6.5087056693342324\n"
     ]
    },
    {
     "name": "stderr",
     "output_type": "stream",
     "text": [
      " 68% (332 of 488) |##############        | Elapsed Time: 2:18:14 ETA:   1:04:48"
     ]
    },
    {
     "name": "stdout",
     "output_type": "stream",
     "text": [
      "SPS: 81 Average Reward: -6.2819536078067015\n"
     ]
    },
    {
     "name": "stderr",
     "output_type": "stream",
     "text": [
      " 68% (333 of 488) |###############       | Elapsed Time: 2:18:39 ETA:   1:05:00"
     ]
    },
    {
     "name": "stdout",
     "output_type": "stream",
     "text": [
      "SPS: 81 Average Reward: -6.027534953202894\n"
     ]
    },
    {
     "name": "stderr",
     "output_type": "stream",
     "text": [
      " 68% (334 of 488) |###############       | Elapsed Time: 2:19:04 ETA:   1:05:24"
     ]
    },
    {
     "name": "stdout",
     "output_type": "stream",
     "text": [
      "SPS: 81 Average Reward: -6.463336447405649\n"
     ]
    },
    {
     "name": "stderr",
     "output_type": "stream",
     "text": [
      " 68% (335 of 488) |###############       | Elapsed Time: 2:19:29 ETA:   1:03:51"
     ]
    },
    {
     "name": "stdout",
     "output_type": "stream",
     "text": [
      "SPS: 81 Average Reward: -6.563654476880007\n"
     ]
    },
    {
     "name": "stderr",
     "output_type": "stream",
     "text": [
      " 68% (336 of 488) |###############       | Elapsed Time: 2:19:55 ETA:   1:03:21"
     ]
    },
    {
     "name": "stdout",
     "output_type": "stream",
     "text": [
      "SPS: 81 Average Reward: -6.173878744864738\n"
     ]
    },
    {
     "name": "stderr",
     "output_type": "stream",
     "text": [
      " 69% (337 of 488) |###############       | Elapsed Time: 2:20:19 ETA:   1:02:30"
     ]
    },
    {
     "name": "stdout",
     "output_type": "stream",
     "text": [
      "SPS: 81 Average Reward: -5.932547342136354\n"
     ]
    },
    {
     "name": "stderr",
     "output_type": "stream",
     "text": [
      " 69% (338 of 488) |###############       | Elapsed Time: 2:20:44 ETA:   1:02:19"
     ]
    },
    {
     "name": "stdout",
     "output_type": "stream",
     "text": [
      "SPS: 81 Average Reward: -6.297747805342975\n"
     ]
    },
    {
     "name": "stderr",
     "output_type": "stream",
     "text": [
      " 69% (339 of 488) |###############       | Elapsed Time: 2:21:10 ETA:   1:02:43"
     ]
    },
    {
     "name": "stdout",
     "output_type": "stream",
     "text": [
      "SPS: 81 Average Reward: -6.277168352845877\n"
     ]
    },
    {
     "name": "stderr",
     "output_type": "stream",
     "text": [
      " 69% (340 of 488) |###############       | Elapsed Time: 2:21:35 ETA:   1:03:04"
     ]
    },
    {
     "name": "stdout",
     "output_type": "stream",
     "text": [
      "SPS: 81 Average Reward: -6.2681393941829535\n"
     ]
    },
    {
     "name": "stderr",
     "output_type": "stream",
     "text": [
      " 69% (341 of 488) |###############       | Elapsed Time: 2:22:00 ETA:   1:01:21"
     ]
    },
    {
     "name": "stdout",
     "output_type": "stream",
     "text": [
      "SPS: 81 Average Reward: -6.349875281001121\n"
     ]
    },
    {
     "name": "stderr",
     "output_type": "stream",
     "text": [
      " 70% (342 of 488) |###############       | Elapsed Time: 2:22:26 ETA:   1:01:58"
     ]
    },
    {
     "name": "stdout",
     "output_type": "stream",
     "text": [
      "SPS: 81 Average Reward: -5.952573073537835\n"
     ]
    },
    {
     "name": "stderr",
     "output_type": "stream",
     "text": [
      " 70% (343 of 488) |###############       | Elapsed Time: 2:22:50 ETA:   1:00:00"
     ]
    },
    {
     "name": "stdout",
     "output_type": "stream",
     "text": [
      "SPS: 81 Average Reward: -6.073596834527471\n"
     ]
    },
    {
     "name": "stderr",
     "output_type": "stream",
     "text": [
      " 70% (344 of 488) |###############       | Elapsed Time: 2:23:16 ETA:   1:00:54"
     ]
    },
    {
     "name": "stdout",
     "output_type": "stream",
     "text": [
      "SPS: 81 Average Reward: -6.086273778648524\n"
     ]
    },
    {
     "name": "stderr",
     "output_type": "stream",
     "text": [
      " 70% (345 of 488) |###############       | Elapsed Time: 2:23:41 ETA:   0:59:52"
     ]
    },
    {
     "name": "stdout",
     "output_type": "stream",
     "text": [
      "SPS: 81 Average Reward: -6.158194023545886\n"
     ]
    },
    {
     "name": "stderr",
     "output_type": "stream",
     "text": [
      " 70% (346 of 488) |###############       | Elapsed Time: 2:24:06 ETA:   0:59:45"
     ]
    },
    {
     "name": "stdout",
     "output_type": "stream",
     "text": [
      "SPS: 81 Average Reward: -6.1852761470374675\n"
     ]
    },
    {
     "name": "stderr",
     "output_type": "stream",
     "text": [
      " 71% (347 of 488) |###############       | Elapsed Time: 2:24:31 ETA:   0:58:25"
     ]
    },
    {
     "name": "stdout",
     "output_type": "stream",
     "text": [
      "SPS: 81 Average Reward: -5.952004166708921\n"
     ]
    },
    {
     "name": "stderr",
     "output_type": "stream",
     "text": [
      " 71% (348 of 488) |###############       | Elapsed Time: 2:24:56 ETA:   0:59:03"
     ]
    },
    {
     "name": "stdout",
     "output_type": "stream",
     "text": [
      "SPS: 81 Average Reward: -6.189697904180804\n"
     ]
    },
    {
     "name": "stderr",
     "output_type": "stream",
     "text": [
      " 71% (349 of 488) |###############       | Elapsed Time: 2:25:21 ETA:   0:57:40"
     ]
    },
    {
     "name": "stdout",
     "output_type": "stream",
     "text": [
      "SPS: 81 Average Reward: -6.086107803629709\n"
     ]
    },
    {
     "name": "stderr",
     "output_type": "stream",
     "text": [
      " 71% (350 of 488) |###############       | Elapsed Time: 2:25:47 ETA:   0:58:21"
     ]
    },
    {
     "name": "stdout",
     "output_type": "stream",
     "text": [
      "SPS: 81 Average Reward: -5.829780050079391\n"
     ]
    },
    {
     "name": "stderr",
     "output_type": "stream",
     "text": [
      " 71% (351 of 488) |###############       | Elapsed Time: 2:26:11 ETA:   0:56:42"
     ]
    },
    {
     "name": "stdout",
     "output_type": "stream",
     "text": [
      "SPS: 81 Average Reward: -5.108344587454012\n"
     ]
    },
    {
     "name": "stderr",
     "output_type": "stream",
     "text": [
      " 72% (352 of 488) |###############       | Elapsed Time: 2:26:37 ETA:   0:57:09"
     ]
    },
    {
     "name": "stdout",
     "output_type": "stream",
     "text": [
      "SPS: 81 Average Reward: -9.906824787910718\n"
     ]
    },
    {
     "name": "stderr",
     "output_type": "stream",
     "text": [
      " 72% (353 of 488) |###############       | Elapsed Time: 2:27:01 ETA:   0:55:37"
     ]
    },
    {
     "name": "stdout",
     "output_type": "stream",
     "text": [
      "SPS: 81 Average Reward: -6.271832051172976\n"
     ]
    },
    {
     "name": "stderr",
     "output_type": "stream",
     "text": [
      " 72% (354 of 488) |###############       | Elapsed Time: 2:27:27 ETA:   0:56:46"
     ]
    },
    {
     "name": "stdout",
     "output_type": "stream",
     "text": [
      "SPS: 81 Average Reward: -5.972193346815622\n"
     ]
    },
    {
     "name": "stderr",
     "output_type": "stream",
     "text": [
      " 72% (355 of 488) |################      | Elapsed Time: 2:27:52 ETA:   0:55:59"
     ]
    },
    {
     "name": "stdout",
     "output_type": "stream",
     "text": [
      "SPS: 81 Average Reward: -6.073435185756895\n"
     ]
    },
    {
     "name": "stderr",
     "output_type": "stream",
     "text": [
      " 72% (356 of 488) |################      | Elapsed Time: 2:28:17 ETA:   0:54:49"
     ]
    },
    {
     "name": "stdout",
     "output_type": "stream",
     "text": [
      "SPS: 81 Average Reward: -6.065723313297309\n"
     ]
    },
    {
     "name": "stderr",
     "output_type": "stream",
     "text": [
      " 73% (357 of 488) |################      | Elapsed Time: 2:28:42 ETA:   0:55:04"
     ]
    },
    {
     "name": "stdout",
     "output_type": "stream",
     "text": [
      "SPS: 81 Average Reward: -6.09783527811253\n"
     ]
    },
    {
     "name": "stderr",
     "output_type": "stream",
     "text": [
      " 73% (358 of 488) |################      | Elapsed Time: 2:29:07 ETA:   0:54:01"
     ]
    },
    {
     "name": "stdout",
     "output_type": "stream",
     "text": [
      "SPS: 81 Average Reward: -5.786626026954891\n"
     ]
    },
    {
     "name": "stderr",
     "output_type": "stream",
     "text": [
      " 73% (359 of 488) |################      | Elapsed Time: 2:29:33 ETA:   0:54:41"
     ]
    },
    {
     "name": "stdout",
     "output_type": "stream",
     "text": [
      "SPS: 81 Average Reward: -5.816427083986571\n"
     ]
    },
    {
     "name": "stderr",
     "output_type": "stream",
     "text": [
      " 73% (360 of 488) |################      | Elapsed Time: 2:29:58 ETA:   0:53:52"
     ]
    },
    {
     "name": "stdout",
     "output_type": "stream",
     "text": [
      "SPS: 81 Average Reward: -6.029949927141366\n"
     ]
    },
    {
     "name": "stderr",
     "output_type": "stream",
     "text": [
      " 73% (361 of 488) |################      | Elapsed Time: 2:30:23 ETA:   0:52:45"
     ]
    },
    {
     "name": "stdout",
     "output_type": "stream",
     "text": [
      "SPS: 81 Average Reward: -5.906975077068197\n"
     ]
    },
    {
     "name": "stderr",
     "output_type": "stream",
     "text": [
      " 74% (362 of 488) |################      | Elapsed Time: 2:30:48 ETA:   0:53:27"
     ]
    },
    {
     "name": "stdout",
     "output_type": "stream",
     "text": [
      "SPS: 81 Average Reward: -6.0207269230071905\n"
     ]
    },
    {
     "name": "stderr",
     "output_type": "stream",
     "text": [
      " 74% (363 of 488) |################      | Elapsed Time: 2:31:13 ETA:   0:51:58"
     ]
    },
    {
     "name": "stdout",
     "output_type": "stream",
     "text": [
      "SPS: 81 Average Reward: -5.987802473536284\n"
     ]
    },
    {
     "name": "stderr",
     "output_type": "stream",
     "text": [
      " 74% (364 of 488) |################      | Elapsed Time: 2:31:39 ETA:   0:52:28"
     ]
    },
    {
     "name": "stdout",
     "output_type": "stream",
     "text": [
      "SPS: 81 Average Reward: -6.1004502306748805\n"
     ]
    },
    {
     "name": "stderr",
     "output_type": "stream",
     "text": [
      " 74% (365 of 488) |################      | Elapsed Time: 2:32:04 ETA:   0:51:44"
     ]
    },
    {
     "name": "stdout",
     "output_type": "stream",
     "text": [
      "SPS: 81 Average Reward: -5.9518822333658905\n"
     ]
    },
    {
     "name": "stderr",
     "output_type": "stream",
     "text": [
      " 75% (366 of 488) |################      | Elapsed Time: 2:32:29 ETA:   0:51:37"
     ]
    },
    {
     "name": "stdout",
     "output_type": "stream",
     "text": [
      "SPS: 81 Average Reward: -6.160751541767579\n"
     ]
    },
    {
     "name": "stderr",
     "output_type": "stream",
     "text": [
      " 75% (367 of 488) |################      | Elapsed Time: 2:32:54 ETA:   0:50:48"
     ]
    },
    {
     "name": "stdout",
     "output_type": "stream",
     "text": [
      "SPS: 81 Average Reward: -6.160313958610801\n"
     ]
    },
    {
     "name": "stderr",
     "output_type": "stream",
     "text": [
      " 75% (368 of 488) |################      | Elapsed Time: 2:33:19 ETA:   0:50:01"
     ]
    },
    {
     "name": "stdout",
     "output_type": "stream",
     "text": [
      "SPS: 81 Average Reward: -5.883494842042918\n"
     ]
    },
    {
     "name": "stderr",
     "output_type": "stream",
     "text": [
      " 75% (369 of 488) |################      | Elapsed Time: 2:33:45 ETA:   0:50:09"
     ]
    },
    {
     "name": "stdout",
     "output_type": "stream",
     "text": [
      "SPS: 81 Average Reward: -6.137962785417519\n"
     ]
    },
    {
     "name": "stderr",
     "output_type": "stream",
     "text": [
      " 75% (370 of 488) |################      | Elapsed Time: 2:34:10 ETA:   0:49:40"
     ]
    },
    {
     "name": "stdout",
     "output_type": "stream",
     "text": [
      "SPS: 81 Average Reward: -6.07410584650852\n"
     ]
    },
    {
     "name": "stderr",
     "output_type": "stream",
     "text": [
      " 76% (371 of 488) |################      | Elapsed Time: 2:34:35 ETA:   0:49:11"
     ]
    },
    {
     "name": "stdout",
     "output_type": "stream",
     "text": [
      "SPS: 81 Average Reward: -5.827003802155903\n"
     ]
    },
    {
     "name": "stderr",
     "output_type": "stream",
     "text": [
      " 76% (372 of 488) |################      | Elapsed Time: 2:35:00 ETA:   0:48:21"
     ]
    },
    {
     "name": "stdout",
     "output_type": "stream",
     "text": [
      "SPS: 81 Average Reward: -5.728627219240213\n"
     ]
    },
    {
     "name": "stderr",
     "output_type": "stream",
     "text": [
      " 76% (373 of 488) |################      | Elapsed Time: 2:35:25 ETA:   0:48:03"
     ]
    },
    {
     "name": "stdout",
     "output_type": "stream",
     "text": [
      "SPS: 81 Average Reward: -5.78444906946266\n"
     ]
    },
    {
     "name": "stderr",
     "output_type": "stream",
     "text": [
      " 76% (374 of 488) |################      | Elapsed Time: 2:35:50 ETA:   0:47:52"
     ]
    },
    {
     "name": "stdout",
     "output_type": "stream",
     "text": [
      "SPS: 81 Average Reward: -5.822033070958886\n"
     ]
    },
    {
     "name": "stderr",
     "output_type": "stream",
     "text": [
      " 76% (375 of 488) |################      | Elapsed Time: 2:36:16 ETA:   0:47:06"
     ]
    },
    {
     "name": "stdout",
     "output_type": "stream",
     "text": [
      "SPS: 81 Average Reward: -5.678641449909281\n"
     ]
    },
    {
     "name": "stderr",
     "output_type": "stream",
     "text": [
      " 77% (376 of 488) |################      | Elapsed Time: 2:36:41 ETA:   0:47:02"
     ]
    },
    {
     "name": "stdout",
     "output_type": "stream",
     "text": [
      "SPS: 81 Average Reward: -5.968786533940462\n"
     ]
    },
    {
     "name": "stderr",
     "output_type": "stream",
     "text": [
      " 77% (377 of 488) |################      | Elapsed Time: 2:37:06 ETA:   0:46:53"
     ]
    },
    {
     "name": "stdout",
     "output_type": "stream",
     "text": [
      "SPS: 81 Average Reward: -5.8970225563128995\n"
     ]
    },
    {
     "name": "stderr",
     "output_type": "stream",
     "text": [
      " 77% (378 of 488) |#################     | Elapsed Time: 2:37:32 ETA:   0:47:12"
     ]
    },
    {
     "name": "stdout",
     "output_type": "stream",
     "text": [
      "SPS: 81 Average Reward: -5.577937798346934\n"
     ]
    },
    {
     "name": "stderr",
     "output_type": "stream",
     "text": [
      " 77% (379 of 488) |#################     | Elapsed Time: 2:37:57 ETA:   0:45:30"
     ]
    },
    {
     "name": "stdout",
     "output_type": "stream",
     "text": [
      "SPS: 81 Average Reward: -5.986953842517113\n"
     ]
    },
    {
     "name": "stderr",
     "output_type": "stream",
     "text": [
      " 77% (380 of 488) |#################     | Elapsed Time: 2:38:22 ETA:   0:45:48"
     ]
    },
    {
     "name": "stdout",
     "output_type": "stream",
     "text": [
      "SPS: 81 Average Reward: -5.959267752309646\n"
     ]
    },
    {
     "name": "stderr",
     "output_type": "stream",
     "text": [
      " 78% (381 of 488) |#################     | Elapsed Time: 2:38:48 ETA:   0:45:24"
     ]
    },
    {
     "name": "stdout",
     "output_type": "stream",
     "text": [
      "SPS: 81 Average Reward: -5.868005260285733\n"
     ]
    },
    {
     "name": "stderr",
     "output_type": "stream",
     "text": [
      " 78% (382 of 488) |#################     | Elapsed Time: 2:39:14 ETA:   0:45:28"
     ]
    },
    {
     "name": "stdout",
     "output_type": "stream",
     "text": [
      "SPS: 81 Average Reward: -6.1160361008427575\n"
     ]
    },
    {
     "name": "stderr",
     "output_type": "stream",
     "text": [
      " 78% (383 of 488) |#################     | Elapsed Time: 2:39:39 ETA:   0:44:23"
     ]
    },
    {
     "name": "stdout",
     "output_type": "stream",
     "text": [
      "SPS: 81 Average Reward: -6.096900376894376\n"
     ]
    },
    {
     "name": "stderr",
     "output_type": "stream",
     "text": [
      " 78% (384 of 488) |#################     | Elapsed Time: 2:40:04 ETA:   0:43:39"
     ]
    },
    {
     "name": "stdout",
     "output_type": "stream",
     "text": [
      "SPS: 81 Average Reward: -5.769969075996694\n"
     ]
    },
    {
     "name": "stderr",
     "output_type": "stream",
     "text": [
      " 78% (385 of 488) |#################     | Elapsed Time: 2:40:29 ETA:   0:42:50"
     ]
    },
    {
     "name": "stdout",
     "output_type": "stream",
     "text": [
      "SPS: 81 Average Reward: -5.848801855517106\n"
     ]
    },
    {
     "name": "stderr",
     "output_type": "stream",
     "text": [
      " 79% (386 of 488) |#################     | Elapsed Time: 2:40:54 ETA:   0:43:18"
     ]
    },
    {
     "name": "stdout",
     "output_type": "stream",
     "text": [
      "SPS: 81 Average Reward: -5.96416169641667\n"
     ]
    },
    {
     "name": "stderr",
     "output_type": "stream",
     "text": [
      " 79% (387 of 488) |#################     | Elapsed Time: 2:41:20 ETA:   0:43:23"
     ]
    },
    {
     "name": "stdout",
     "output_type": "stream",
     "text": [
      "SPS: 81 Average Reward: -5.995543110072483\n"
     ]
    },
    {
     "name": "stderr",
     "output_type": "stream",
     "text": [
      " 79% (388 of 488) |#################     | Elapsed Time: 2:41:45 ETA:   0:41:50"
     ]
    },
    {
     "name": "stdout",
     "output_type": "stream",
     "text": [
      "SPS: 81 Average Reward: -5.837830505776157\n"
     ]
    },
    {
     "name": "stderr",
     "output_type": "stream",
     "text": [
      " 79% (389 of 488) |#################     | Elapsed Time: 2:42:11 ETA:   0:41:59"
     ]
    },
    {
     "name": "stdout",
     "output_type": "stream",
     "text": [
      "SPS: 81 Average Reward: -5.917879990902318\n"
     ]
    },
    {
     "name": "stderr",
     "output_type": "stream",
     "text": [
      " 79% (390 of 488) |#################     | Elapsed Time: 2:42:36 ETA:   0:41:18"
     ]
    },
    {
     "name": "stdout",
     "output_type": "stream",
     "text": [
      "SPS: 81 Average Reward: -5.9702549055204805\n"
     ]
    },
    {
     "name": "stderr",
     "output_type": "stream",
     "text": [
      " 80% (391 of 488) |#################     | Elapsed Time: 2:43:01 ETA:   0:40:45"
     ]
    },
    {
     "name": "stdout",
     "output_type": "stream",
     "text": [
      "SPS: 81 Average Reward: -5.684052612452289\n"
     ]
    },
    {
     "name": "stderr",
     "output_type": "stream",
     "text": [
      " 80% (392 of 488) |#################     | Elapsed Time: 2:43:27 ETA:   0:41:21"
     ]
    },
    {
     "name": "stdout",
     "output_type": "stream",
     "text": [
      "SPS: 81 Average Reward: -5.733119675379334\n"
     ]
    },
    {
     "name": "stderr",
     "output_type": "stream",
     "text": [
      " 80% (393 of 488) |#################     | Elapsed Time: 2:43:52 ETA:   0:39:48"
     ]
    },
    {
     "name": "stdout",
     "output_type": "stream",
     "text": [
      "SPS: 81 Average Reward: -5.9595512278354255\n"
     ]
    },
    {
     "name": "stderr",
     "output_type": "stream",
     "text": [
      " 80% (394 of 488) |#################     | Elapsed Time: 2:44:18 ETA:   0:39:48"
     ]
    },
    {
     "name": "stdout",
     "output_type": "stream",
     "text": [
      "SPS: 81 Average Reward: -5.833036106988844\n"
     ]
    },
    {
     "name": "stderr",
     "output_type": "stream",
     "text": [
      " 80% (395 of 488) |#################     | Elapsed Time: 2:44:43 ETA:   0:38:40"
     ]
    },
    {
     "name": "stdout",
     "output_type": "stream",
     "text": [
      "SPS: 81 Average Reward: -5.855973775953482\n"
     ]
    },
    {
     "name": "stderr",
     "output_type": "stream",
     "text": [
      " 81% (396 of 488) |#################     | Elapsed Time: 2:45:08 ETA:   0:38:53"
     ]
    },
    {
     "name": "stdout",
     "output_type": "stream",
     "text": [
      "SPS: 81 Average Reward: -5.680508024435259\n"
     ]
    },
    {
     "name": "stderr",
     "output_type": "stream",
     "text": [
      " 81% (397 of 488) |#################     | Elapsed Time: 2:45:34 ETA:   0:38:58"
     ]
    },
    {
     "name": "stdout",
     "output_type": "stream",
     "text": [
      "SPS: 81 Average Reward: -5.84073442749416\n"
     ]
    },
    {
     "name": "stderr",
     "output_type": "stream",
     "text": [
      " 81% (398 of 488) |#################     | Elapsed Time: 2:45:59 ETA:   0:37:38"
     ]
    },
    {
     "name": "stdout",
     "output_type": "stream",
     "text": [
      "SPS: 81 Average Reward: -5.732249870424176\n"
     ]
    },
    {
     "name": "stderr",
     "output_type": "stream",
     "text": [
      " 81% (399 of 488) |#################     | Elapsed Time: 2:46:24 ETA:   0:37:45"
     ]
    },
    {
     "name": "stdout",
     "output_type": "stream",
     "text": [
      "SPS: 81 Average Reward: -5.859042739276895\n"
     ]
    },
    {
     "name": "stderr",
     "output_type": "stream",
     "text": [
      " 81% (400 of 488) |##################    | Elapsed Time: 2:46:50 ETA:   0:37:03"
     ]
    },
    {
     "name": "stdout",
     "output_type": "stream",
     "text": [
      "SPS: 81 Average Reward: -5.5887775889781475\n"
     ]
    },
    {
     "name": "stderr",
     "output_type": "stream",
     "text": [
      " 82% (401 of 488) |##################    | Elapsed Time: 2:47:15 ETA:   0:36:31"
     ]
    },
    {
     "name": "stdout",
     "output_type": "stream",
     "text": [
      "SPS: 81 Average Reward: -5.466952218167369\n"
     ]
    },
    {
     "name": "stderr",
     "output_type": "stream",
     "text": [
      " 82% (402 of 488) |##################    | Elapsed Time: 2:47:40 ETA:   0:36:11"
     ]
    },
    {
     "name": "stdout",
     "output_type": "stream",
     "text": [
      "SPS: 81 Average Reward: -5.565406217407413\n"
     ]
    },
    {
     "name": "stderr",
     "output_type": "stream",
     "text": [
      " 82% (403 of 488) |##################    | Elapsed Time: 2:48:05 ETA:   0:35:48"
     ]
    },
    {
     "name": "stdout",
     "output_type": "stream",
     "text": [
      "SPS: 81 Average Reward: -5.709785472798995\n"
     ]
    },
    {
     "name": "stderr",
     "output_type": "stream",
     "text": [
      " 82% (404 of 488) |##################    | Elapsed Time: 2:48:31 ETA:   0:35:26"
     ]
    },
    {
     "name": "stdout",
     "output_type": "stream",
     "text": [
      "SPS: 81 Average Reward: -5.906710850055747\n"
     ]
    },
    {
     "name": "stderr",
     "output_type": "stream",
     "text": [
      " 82% (405 of 488) |##################    | Elapsed Time: 2:48:56 ETA:   0:35:04"
     ]
    },
    {
     "name": "stdout",
     "output_type": "stream",
     "text": [
      "SPS: 81 Average Reward: -5.668881633687042\n"
     ]
    },
    {
     "name": "stderr",
     "output_type": "stream",
     "text": [
      " 83% (406 of 488) |##################    | Elapsed Time: 2:49:21 ETA:   0:34:32"
     ]
    },
    {
     "name": "stdout",
     "output_type": "stream",
     "text": [
      "SPS: 81 Average Reward: -5.731384731179359\n"
     ]
    },
    {
     "name": "stderr",
     "output_type": "stream",
     "text": [
      " 83% (407 of 488) |##################    | Elapsed Time: 2:49:47 ETA:   0:34:22"
     ]
    },
    {
     "name": "stdout",
     "output_type": "stream",
     "text": [
      "SPS: 81 Average Reward: -5.679965686519028\n"
     ]
    },
    {
     "name": "stderr",
     "output_type": "stream",
     "text": [
      " 83% (408 of 488) |##################    | Elapsed Time: 2:50:12 ETA:   0:33:27"
     ]
    },
    {
     "name": "stdout",
     "output_type": "stream",
     "text": [
      "SPS: 81 Average Reward: -5.681494098239871\n"
     ]
    },
    {
     "name": "stderr",
     "output_type": "stream",
     "text": [
      " 83% (409 of 488) |##################    | Elapsed Time: 2:50:37 ETA:   0:33:30"
     ]
    },
    {
     "name": "stdout",
     "output_type": "stream",
     "text": [
      "SPS: 81 Average Reward: -5.680619831251244\n"
     ]
    },
    {
     "name": "stderr",
     "output_type": "stream",
     "text": [
      " 84% (410 of 488) |##################    | Elapsed Time: 2:51:02 ETA:   0:32:28"
     ]
    },
    {
     "name": "stdout",
     "output_type": "stream",
     "text": [
      "SPS: 81 Average Reward: -5.876054078815292\n"
     ]
    },
    {
     "name": "stderr",
     "output_type": "stream",
     "text": [
      " 84% (411 of 488) |##################    | Elapsed Time: 2:51:28 ETA:   0:32:38"
     ]
    },
    {
     "name": "stdout",
     "output_type": "stream",
     "text": [
      "SPS: 81 Average Reward: -5.938812591891762\n"
     ]
    },
    {
     "name": "stderr",
     "output_type": "stream",
     "text": [
      " 84% (412 of 488) |##################    | Elapsed Time: 2:51:53 ETA:   0:31:52"
     ]
    },
    {
     "name": "stdout",
     "output_type": "stream",
     "text": [
      "SPS: 81 Average Reward: -5.745771813387495\n"
     ]
    },
    {
     "name": "stderr",
     "output_type": "stream",
     "text": [
      " 84% (413 of 488) |##################    | Elapsed Time: 2:52:19 ETA:   0:32:09"
     ]
    },
    {
     "name": "stdout",
     "output_type": "stream",
     "text": [
      "SPS: 81 Average Reward: -5.699450827780082\n"
     ]
    },
    {
     "name": "stderr",
     "output_type": "stream",
     "text": [
      " 84% (414 of 488) |##################    | Elapsed Time: 2:52:44 ETA:   0:31:11"
     ]
    },
    {
     "name": "stdout",
     "output_type": "stream",
     "text": [
      "SPS: 81 Average Reward: -5.648324410931744\n"
     ]
    },
    {
     "name": "stderr",
     "output_type": "stream",
     "text": [
      " 85% (415 of 488) |##################    | Elapsed Time: 2:53:09 ETA:   0:30:55"
     ]
    },
    {
     "name": "stdout",
     "output_type": "stream",
     "text": [
      "SPS: 81 Average Reward: -5.718833017539443\n"
     ]
    },
    {
     "name": "stderr",
     "output_type": "stream",
     "text": [
      " 85% (416 of 488) |##################    | Elapsed Time: 2:53:34 ETA:   0:29:56"
     ]
    },
    {
     "name": "stdout",
     "output_type": "stream",
     "text": [
      "SPS: 81 Average Reward: -5.678433547972667\n"
     ]
    },
    {
     "name": "stderr",
     "output_type": "stream",
     "text": [
      " 85% (417 of 488) |##################    | Elapsed Time: 2:54:00 ETA:   0:30:05"
     ]
    },
    {
     "name": "stdout",
     "output_type": "stream",
     "text": [
      "SPS: 81 Average Reward: -5.758798448336393\n"
     ]
    },
    {
     "name": "stderr",
     "output_type": "stream",
     "text": [
      " 85% (418 of 488) |##################    | Elapsed Time: 2:54:25 ETA:   0:29:07"
     ]
    },
    {
     "name": "stdout",
     "output_type": "stream",
     "text": [
      "SPS: 81 Average Reward: -5.631631682842339\n"
     ]
    },
    {
     "name": "stderr",
     "output_type": "stream",
     "text": [
      " 85% (419 of 488) |##################    | Elapsed Time: 2:54:50 ETA:   0:29:13"
     ]
    },
    {
     "name": "stdout",
     "output_type": "stream",
     "text": [
      "SPS: 81 Average Reward: -5.496090453087439\n"
     ]
    },
    {
     "name": "stderr",
     "output_type": "stream",
     "text": [
      " 86% (420 of 488) |##################    | Elapsed Time: 2:55:15 ETA:   0:28:24"
     ]
    },
    {
     "name": "stdout",
     "output_type": "stream",
     "text": [
      "SPS: 81 Average Reward: -5.642984628304949\n"
     ]
    },
    {
     "name": "stderr",
     "output_type": "stream",
     "text": [
      " 86% (421 of 488) |##################    | Elapsed Time: 2:55:40 ETA:   0:28:20"
     ]
    },
    {
     "name": "stdout",
     "output_type": "stream",
     "text": [
      "SPS: 81 Average Reward: -5.659750379493935\n"
     ]
    },
    {
     "name": "stderr",
     "output_type": "stream",
     "text": [
      " 86% (422 of 488) |###################   | Elapsed Time: 2:56:06 ETA:   0:27:53"
     ]
    },
    {
     "name": "stdout",
     "output_type": "stream",
     "text": [
      "SPS: 81 Average Reward: -5.431149093056316\n"
     ]
    },
    {
     "name": "stderr",
     "output_type": "stream",
     "text": [
      " 86% (423 of 488) |###################   | Elapsed Time: 2:56:31 ETA:   0:27:19"
     ]
    },
    {
     "name": "stdout",
     "output_type": "stream",
     "text": [
      "SPS: 81 Average Reward: -5.724023514500682\n"
     ]
    },
    {
     "name": "stderr",
     "output_type": "stream",
     "text": [
      " 86% (424 of 488) |###################   | Elapsed Time: 2:56:56 ETA:   0:27:04"
     ]
    },
    {
     "name": "stdout",
     "output_type": "stream",
     "text": [
      "SPS: 81 Average Reward: -5.917324580283969\n"
     ]
    },
    {
     "name": "stderr",
     "output_type": "stream",
     "text": [
      " 87% (425 of 488) |###################   | Elapsed Time: 2:57:21 ETA:   0:26:12"
     ]
    },
    {
     "name": "stdout",
     "output_type": "stream",
     "text": [
      "SPS: 81 Average Reward: -5.719199912034532\n"
     ]
    },
    {
     "name": "stderr",
     "output_type": "stream",
     "text": [
      " 87% (426 of 488) |###################   | Elapsed Time: 2:57:47 ETA:   0:26:13"
     ]
    },
    {
     "name": "stdout",
     "output_type": "stream",
     "text": [
      "SPS: 81 Average Reward: -5.680472473886519\n"
     ]
    },
    {
     "name": "stderr",
     "output_type": "stream",
     "text": [
      " 87% (427 of 488) |###################   | Elapsed Time: 2:58:12 ETA:   0:25:27"
     ]
    },
    {
     "name": "stdout",
     "output_type": "stream",
     "text": [
      "SPS: 81 Average Reward: -5.499763979859933\n"
     ]
    },
    {
     "name": "stderr",
     "output_type": "stream",
     "text": [
      " 87% (428 of 488) |###################   | Elapsed Time: 2:58:37 ETA:   0:25:25"
     ]
    },
    {
     "name": "stdout",
     "output_type": "stream",
     "text": [
      "SPS: 81 Average Reward: -5.767066233055145\n"
     ]
    },
    {
     "name": "stderr",
     "output_type": "stream",
     "text": [
      " 87% (429 of 488) |###################   | Elapsed Time: 2:59:02 ETA:   0:24:46"
     ]
    },
    {
     "name": "stdout",
     "output_type": "stream",
     "text": [
      "SPS: 81 Average Reward: -5.566521232981701\n"
     ]
    },
    {
     "name": "stderr",
     "output_type": "stream",
     "text": [
      " 88% (430 of 488) |###################   | Elapsed Time: 2:59:28 ETA:   0:24:32"
     ]
    },
    {
     "name": "stdout",
     "output_type": "stream",
     "text": [
      "SPS: 81 Average Reward: -5.499521380875474\n"
     ]
    },
    {
     "name": "stderr",
     "output_type": "stream",
     "text": [
      " 88% (431 of 488) |###################   | Elapsed Time: 2:59:53 ETA:   0:23:47"
     ]
    },
    {
     "name": "stdout",
     "output_type": "stream",
     "text": [
      "SPS: 81 Average Reward: -5.688244248897204\n"
     ]
    },
    {
     "name": "stderr",
     "output_type": "stream",
     "text": [
      " 88% (432 of 488) |###################   | Elapsed Time: 3:00:18 ETA:   0:23:44"
     ]
    },
    {
     "name": "stdout",
     "output_type": "stream",
     "text": [
      "SPS: 81 Average Reward: -5.644832165029425\n"
     ]
    },
    {
     "name": "stderr",
     "output_type": "stream",
     "text": [
      " 88% (433 of 488) |###################   | Elapsed Time: 3:00:43 ETA:   0:22:51"
     ]
    },
    {
     "name": "stdout",
     "output_type": "stream",
     "text": [
      "SPS: 81 Average Reward: -5.464486304263099\n"
     ]
    },
    {
     "name": "stderr",
     "output_type": "stream",
     "text": [
      " 88% (434 of 488) |###################   | Elapsed Time: 3:01:08 ETA:   0:22:41"
     ]
    },
    {
     "name": "stdout",
     "output_type": "stream",
     "text": [
      "SPS: 81 Average Reward: -5.493602064619987\n"
     ]
    },
    {
     "name": "stderr",
     "output_type": "stream",
     "text": [
      " 89% (435 of 488) |###################   | Elapsed Time: 3:01:34 ETA:   0:22:12"
     ]
    },
    {
     "name": "stdout",
     "output_type": "stream",
     "text": [
      "SPS: 81 Average Reward: -5.55827220827502\n"
     ]
    },
    {
     "name": "stderr",
     "output_type": "stream",
     "text": [
      " 89% (436 of 488) |###################   | Elapsed Time: 3:01:59 ETA:   0:22:05"
     ]
    },
    {
     "name": "stdout",
     "output_type": "stream",
     "text": [
      "SPS: 81 Average Reward: -5.341954870065227\n"
     ]
    },
    {
     "name": "stderr",
     "output_type": "stream",
     "text": [
      " 89% (437 of 488) |###################   | Elapsed Time: 3:02:24 ETA:   0:21:35"
     ]
    },
    {
     "name": "stdout",
     "output_type": "stream",
     "text": [
      "SPS: 81 Average Reward: -5.82449175709797\n"
     ]
    },
    {
     "name": "stderr",
     "output_type": "stream",
     "text": [
      " 89% (438 of 488) |###################   | Elapsed Time: 3:02:50 ETA:   0:21:14"
     ]
    },
    {
     "name": "stdout",
     "output_type": "stream",
     "text": [
      "SPS: 81 Average Reward: -5.631118558392976\n"
     ]
    },
    {
     "name": "stderr",
     "output_type": "stream",
     "text": [
      " 89% (439 of 488) |###################   | Elapsed Time: 3:03:15 ETA:   0:20:32"
     ]
    },
    {
     "name": "stdout",
     "output_type": "stream",
     "text": [
      "SPS: 81 Average Reward: -5.576953826963286\n"
     ]
    },
    {
     "name": "stderr",
     "output_type": "stream",
     "text": [
      " 90% (440 of 488) |###################   | Elapsed Time: 3:03:41 ETA:   0:20:22"
     ]
    },
    {
     "name": "stdout",
     "output_type": "stream",
     "text": [
      "SPS: 81 Average Reward: -5.773769237311059\n"
     ]
    },
    {
     "name": "stderr",
     "output_type": "stream",
     "text": [
      " 90% (441 of 488) |###################   | Elapsed Time: 3:04:06 ETA:   0:19:51"
     ]
    },
    {
     "name": "stdout",
     "output_type": "stream",
     "text": [
      "SPS: 81 Average Reward: -5.54836813246896\n"
     ]
    },
    {
     "name": "stderr",
     "output_type": "stream",
     "text": [
      " 90% (442 of 488) |###################   | Elapsed Time: 3:04:31 ETA:   0:19:36"
     ]
    },
    {
     "name": "stdout",
     "output_type": "stream",
     "text": [
      "SPS: 81 Average Reward: -6.575092637802774\n"
     ]
    },
    {
     "name": "stderr",
     "output_type": "stream",
     "text": [
      " 90% (443 of 488) |###################   | Elapsed Time: 3:04:57 ETA:   0:18:46"
     ]
    },
    {
     "name": "stdout",
     "output_type": "stream",
     "text": [
      "SPS: 81 Average Reward: -5.4947993478377954\n"
     ]
    },
    {
     "name": "stderr",
     "output_type": "stream",
     "text": [
      " 90% (444 of 488) |####################  | Elapsed Time: 3:05:22 ETA:   0:18:53"
     ]
    },
    {
     "name": "stdout",
     "output_type": "stream",
     "text": [
      "SPS: 81 Average Reward: -5.720315401005357\n"
     ]
    },
    {
     "name": "stderr",
     "output_type": "stream",
     "text": [
      " 91% (445 of 488) |####################  | Elapsed Time: 3:05:48 ETA:   0:18:03"
     ]
    },
    {
     "name": "stdout",
     "output_type": "stream",
     "text": [
      "SPS: 81 Average Reward: -5.652301731086859\n"
     ]
    },
    {
     "name": "stderr",
     "output_type": "stream",
     "text": [
      " 91% (446 of 488) |####################  | Elapsed Time: 3:06:13 ETA:   0:17:49"
     ]
    },
    {
     "name": "stdout",
     "output_type": "stream",
     "text": [
      "SPS: 81 Average Reward: -5.629771639107716\n"
     ]
    },
    {
     "name": "stderr",
     "output_type": "stream",
     "text": [
      " 91% (447 of 488) |####################  | Elapsed Time: 3:06:38 ETA:   0:17:24"
     ]
    },
    {
     "name": "stdout",
     "output_type": "stream",
     "text": [
      "SPS: 81 Average Reward: -5.534185018662821\n"
     ]
    },
    {
     "name": "stderr",
     "output_type": "stream",
     "text": [
      " 91% (448 of 488) |####################  | Elapsed Time: 3:07:04 ETA:   0:16:50"
     ]
    },
    {
     "name": "stdout",
     "output_type": "stream",
     "text": [
      "SPS: 81 Average Reward: -5.558166970352341\n"
     ]
    },
    {
     "name": "stderr",
     "output_type": "stream",
     "text": [
      " 92% (449 of 488) |####################  | Elapsed Time: 3:07:29 ETA:   0:16:37"
     ]
    },
    {
     "name": "stdout",
     "output_type": "stream",
     "text": [
      "SPS: 81 Average Reward: -5.608934489682156\n"
     ]
    },
    {
     "name": "stderr",
     "output_type": "stream",
     "text": [
      " 92% (450 of 488) |####################  | Elapsed Time: 3:07:55 ETA:   0:15:59"
     ]
    },
    {
     "name": "stdout",
     "output_type": "stream",
     "text": [
      "SPS: 81 Average Reward: -5.68434260365634\n"
     ]
    },
    {
     "name": "stderr",
     "output_type": "stream",
     "text": [
      " 92% (451 of 488) |####################  | Elapsed Time: 3:08:20 ETA:   0:15:52"
     ]
    },
    {
     "name": "stdout",
     "output_type": "stream",
     "text": [
      "SPS: 81 Average Reward: -5.708614468597131\n"
     ]
    },
    {
     "name": "stderr",
     "output_type": "stream",
     "text": [
      " 92% (452 of 488) |####################  | Elapsed Time: 3:08:46 ETA:   0:15:11"
     ]
    },
    {
     "name": "stdout",
     "output_type": "stream",
     "text": [
      "SPS: 81 Average Reward: -5.853220255210718\n"
     ]
    },
    {
     "name": "stderr",
     "output_type": "stream",
     "text": [
      " 92% (453 of 488) |####################  | Elapsed Time: 3:09:11 ETA:   0:14:55"
     ]
    },
    {
     "name": "stdout",
     "output_type": "stream",
     "text": [
      "SPS: 81 Average Reward: -5.690965515694901\n"
     ]
    },
    {
     "name": "stderr",
     "output_type": "stream",
     "text": [
      " 93% (454 of 488) |####################  | Elapsed Time: 3:09:36 ETA:   0:14:14"
     ]
    },
    {
     "name": "stdout",
     "output_type": "stream",
     "text": [
      "SPS: 81 Average Reward: -5.875265181957007\n"
     ]
    },
    {
     "name": "stderr",
     "output_type": "stream",
     "text": [
      " 93% (455 of 488) |####################  | Elapsed Time: 3:10:02 ETA:   0:13:57"
     ]
    },
    {
     "name": "stdout",
     "output_type": "stream",
     "text": [
      "SPS: 81 Average Reward: -5.493461330277347\n"
     ]
    },
    {
     "name": "stderr",
     "output_type": "stream",
     "text": [
      " 93% (456 of 488) |####################  | Elapsed Time: 3:10:27 ETA:   0:13:19"
     ]
    },
    {
     "name": "stdout",
     "output_type": "stream",
     "text": [
      "SPS: 81 Average Reward: -5.639295205338479\n"
     ]
    },
    {
     "name": "stderr",
     "output_type": "stream",
     "text": [
      " 93% (457 of 488) |####################  | Elapsed Time: 3:10:53 ETA:   0:13:21"
     ]
    },
    {
     "name": "stdout",
     "output_type": "stream",
     "text": [
      "SPS: 81 Average Reward: -5.579573803955296\n"
     ]
    },
    {
     "name": "stderr",
     "output_type": "stream",
     "text": [
      " 93% (458 of 488) |####################  | Elapsed Time: 3:11:18 ETA:   0:12:44"
     ]
    },
    {
     "name": "stdout",
     "output_type": "stream",
     "text": [
      "SPS: 81 Average Reward: -5.680048779917343\n"
     ]
    },
    {
     "name": "stderr",
     "output_type": "stream",
     "text": [
      " 94% (459 of 488) |####################  | Elapsed Time: 3:11:44 ETA:   0:12:27"
     ]
    },
    {
     "name": "stdout",
     "output_type": "stream",
     "text": [
      "SPS: 81 Average Reward: -5.513574064924075\n"
     ]
    },
    {
     "name": "stderr",
     "output_type": "stream",
     "text": [
      " 94% (460 of 488) |####################  | Elapsed Time: 3:12:09 ETA:   0:11:40"
     ]
    },
    {
     "name": "stdout",
     "output_type": "stream",
     "text": [
      "SPS: 81 Average Reward: -5.750529911654736\n"
     ]
    },
    {
     "name": "stderr",
     "output_type": "stream",
     "text": [
      " 94% (461 of 488) |####################  | Elapsed Time: 3:12:34 ETA:   0:11:24"
     ]
    },
    {
     "name": "stdout",
     "output_type": "stream",
     "text": [
      "SPS: 81 Average Reward: -5.718633446790334\n"
     ]
    },
    {
     "name": "stderr",
     "output_type": "stream",
     "text": [
      " 94% (462 of 488) |####################  | Elapsed Time: 3:12:59 ETA:   0:10:49"
     ]
    },
    {
     "name": "stdout",
     "output_type": "stream",
     "text": [
      "SPS: 81 Average Reward: -5.569684352491629\n"
     ]
    },
    {
     "name": "stderr",
     "output_type": "stream",
     "text": [
      " 94% (463 of 488) |####################  | Elapsed Time: 3:13:24 ETA:   0:10:32"
     ]
    },
    {
     "name": "stdout",
     "output_type": "stream",
     "text": [
      "SPS: 81 Average Reward: -5.659567946776292\n"
     ]
    },
    {
     "name": "stderr",
     "output_type": "stream",
     "text": [
      " 95% (464 of 488) |####################  | Elapsed Time: 3:13:50 ETA:   0:10:21"
     ]
    },
    {
     "name": "stdout",
     "output_type": "stream",
     "text": [
      "SPS: 81 Average Reward: -5.685659077159954\n"
     ]
    },
    {
     "name": "stderr",
     "output_type": "stream",
     "text": [
      " 95% (465 of 488) |####################  | Elapsed Time: 3:14:16 ETA:   0:09:45"
     ]
    },
    {
     "name": "stdout",
     "output_type": "stream",
     "text": [
      "SPS: 81 Average Reward: -5.644325859958914\n"
     ]
    },
    {
     "name": "stderr",
     "output_type": "stream",
     "text": [
      " 95% (466 of 488) |##################### | Elapsed Time: 3:14:41 ETA:   0:09:13"
     ]
    },
    {
     "name": "stdout",
     "output_type": "stream",
     "text": [
      "SPS: 81 Average Reward: -5.701521886691164\n"
     ]
    },
    {
     "name": "stderr",
     "output_type": "stream",
     "text": [
      " 95% (467 of 488) |##################### | Elapsed Time: 3:15:07 ETA:   0:09:00"
     ]
    },
    {
     "name": "stdout",
     "output_type": "stream",
     "text": [
      "SPS: 81 Average Reward: -5.664393222503454\n"
     ]
    },
    {
     "name": "stderr",
     "output_type": "stream",
     "text": [
      " 95% (468 of 488) |##################### | Elapsed Time: 3:15:32 ETA:   0:08:27"
     ]
    },
    {
     "name": "stdout",
     "output_type": "stream",
     "text": [
      "SPS: 81 Average Reward: -5.651405818100279\n"
     ]
    },
    {
     "name": "stderr",
     "output_type": "stream",
     "text": [
      " 96% (469 of 488) |##################### | Elapsed Time: 3:15:57 ETA:   0:07:56"
     ]
    },
    {
     "name": "stdout",
     "output_type": "stream",
     "text": [
      "SPS: 81 Average Reward: -5.609884787108478\n"
     ]
    },
    {
     "name": "stderr",
     "output_type": "stream",
     "text": [
      " 96% (470 of 488) |##################### | Elapsed Time: 3:16:23 ETA:   0:07:37"
     ]
    },
    {
     "name": "stdout",
     "output_type": "stream",
     "text": [
      "SPS: 81 Average Reward: -5.657309261252363\n"
     ]
    },
    {
     "name": "stderr",
     "output_type": "stream",
     "text": [
      " 96% (471 of 488) |##################### | Elapsed Time: 3:16:48 ETA:   0:07:10"
     ]
    },
    {
     "name": "stdout",
     "output_type": "stream",
     "text": [
      "SPS: 81 Average Reward: -5.778764373022924\n"
     ]
    },
    {
     "name": "stderr",
     "output_type": "stream",
     "text": [
      " 96% (472 of 488) |##################### | Elapsed Time: 3:17:13 ETA:   0:06:46"
     ]
    },
    {
     "name": "stdout",
     "output_type": "stream",
     "text": [
      "SPS: 81 Average Reward: -5.79302480763597\n"
     ]
    },
    {
     "name": "stderr",
     "output_type": "stream",
     "text": [
      " 96% (473 of 488) |##################### | Elapsed Time: 3:17:38 ETA:   0:06:15"
     ]
    },
    {
     "name": "stdout",
     "output_type": "stream",
     "text": [
      "SPS: 81 Average Reward: -5.436603436039245\n"
     ]
    },
    {
     "name": "stderr",
     "output_type": "stream",
     "text": [
      " 97% (474 of 488) |##################### | Elapsed Time: 3:18:04 ETA:   0:05:55"
     ]
    },
    {
     "name": "stdout",
     "output_type": "stream",
     "text": [
      "SPS: 81 Average Reward: -5.782902503387314\n"
     ]
    },
    {
     "name": "stderr",
     "output_type": "stream",
     "text": [
      " 97% (475 of 488) |##################### | Elapsed Time: 3:18:29 ETA:   0:05:26"
     ]
    },
    {
     "name": "stdout",
     "output_type": "stream",
     "text": [
      "SPS: 81 Average Reward: -5.809048105151766\n"
     ]
    },
    {
     "name": "stderr",
     "output_type": "stream",
     "text": [
      " 97% (476 of 488) |##################### | Elapsed Time: 3:18:54 ETA:   0:05:05"
     ]
    },
    {
     "name": "stdout",
     "output_type": "stream",
     "text": [
      "SPS: 81 Average Reward: -5.542450701913314\n"
     ]
    },
    {
     "name": "stderr",
     "output_type": "stream",
     "text": [
      " 97% (477 of 488) |##################### | Elapsed Time: 3:19:19 ETA:   0:04:37"
     ]
    },
    {
     "name": "stdout",
     "output_type": "stream",
     "text": [
      "SPS: 81 Average Reward: -5.4892885140014975\n"
     ]
    },
    {
     "name": "stderr",
     "output_type": "stream",
     "text": [
      " 97% (478 of 488) |##################### | Elapsed Time: 3:19:44 ETA:   0:04:10"
     ]
    },
    {
     "name": "stdout",
     "output_type": "stream",
     "text": [
      "SPS: 81 Average Reward: -5.550323686186603\n"
     ]
    },
    {
     "name": "stderr",
     "output_type": "stream",
     "text": [
      " 98% (479 of 488) |##################### | Elapsed Time: 3:20:09 ETA:   0:03:44"
     ]
    },
    {
     "name": "stdout",
     "output_type": "stream",
     "text": [
      "SPS: 81 Average Reward: -5.438167276375871\n"
     ]
    },
    {
     "name": "stderr",
     "output_type": "stream",
     "text": [
      " 98% (480 of 488) |##################### | Elapsed Time: 3:20:35 ETA:   0:03:22"
     ]
    },
    {
     "name": "stdout",
     "output_type": "stream",
     "text": [
      "SPS: 81 Average Reward: -5.667509045508895\n"
     ]
    },
    {
     "name": "stderr",
     "output_type": "stream",
     "text": [
      " 98% (481 of 488) |##################### | Elapsed Time: 3:21:00 ETA:   0:02:55"
     ]
    },
    {
     "name": "stdout",
     "output_type": "stream",
     "text": [
      "SPS: 81 Average Reward: -5.523641311362461\n"
     ]
    },
    {
     "name": "stderr",
     "output_type": "stream",
     "text": [
      " 98% (482 of 488) |##################### | Elapsed Time: 3:21:25 ETA:   0:02:32"
     ]
    },
    {
     "name": "stdout",
     "output_type": "stream",
     "text": [
      "SPS: 81 Average Reward: -5.635068871736035\n"
     ]
    },
    {
     "name": "stderr",
     "output_type": "stream",
     "text": [
      " 98% (483 of 488) |##################### | Elapsed Time: 3:21:51 ETA:   0:02:08"
     ]
    },
    {
     "name": "stdout",
     "output_type": "stream",
     "text": [
      "SPS: 81 Average Reward: -5.611750830753701\n"
     ]
    },
    {
     "name": "stderr",
     "output_type": "stream",
     "text": [
      " 99% (484 of 488) |##################### | Elapsed Time: 3:22:16 ETA:   0:01:40"
     ]
    },
    {
     "name": "stdout",
     "output_type": "stream",
     "text": [
      "SPS: 81 Average Reward: -5.980757105259587\n"
     ]
    },
    {
     "name": "stderr",
     "output_type": "stream",
     "text": [
      " 99% (485 of 488) |##################### | Elapsed Time: 3:22:42 ETA:   0:01:16"
     ]
    },
    {
     "name": "stdout",
     "output_type": "stream",
     "text": [
      "SPS: 81 Average Reward: -5.6928455958465225\n"
     ]
    },
    {
     "name": "stderr",
     "output_type": "stream",
     "text": [
      " 99% (486 of 488) |##################### | Elapsed Time: 3:23:07 ETA:   0:00:50"
     ]
    },
    {
     "name": "stdout",
     "output_type": "stream",
     "text": [
      "SPS: 81 Average Reward: -5.457613407277383\n"
     ]
    },
    {
     "name": "stderr",
     "output_type": "stream",
     "text": [
      " 99% (487 of 488) |##################### | Elapsed Time: 3:23:32 ETA:   0:00:25"
     ]
    },
    {
     "name": "stdout",
     "output_type": "stream",
     "text": [
      "SPS: 81 Average Reward: -5.642115992574342\n"
     ]
    },
    {
     "name": "stderr",
     "output_type": "stream",
     "text": [
      "100% (488 of 488) |######################| Elapsed Time: 3:23:58 Time:  3:23:58\n"
     ]
    }
   ],
   "source": [
    "torch.set_default_dtype(torch.float32)\n",
    "\n",
    "run_name = f\"{exp_name}__{seed}__{int(time.time())}\"\n",
    "\n",
    "writer = SummaryWriter(f\"runs/{run_name}\")\n",
    "\n",
    "writer.add_text(\"environment/level_number\", str(len(xml_files)), 0)\n",
    "writer.add_text(\"environment/agents\", ', '.join(agents), 0)\n",
    "writer.add_text(\"hyperparameters/learning_rate\", str(learning_rate), 0)\n",
    "writer.add_text(\"hyperparameters/network_size\", ', '.join(str(e) for e in [512, 256]), 0)\n",
    "writer.add_text(\"hyperparameters/batch\", str(minibatch_size), 0)\n",
    "\n",
    "# TRY NOT TO MODIFY: seeding\n",
    "random.seed(seed)\n",
    "np.random.seed(seed)\n",
    "torch.manual_seed(seed)\n",
    "torch.backends.cudnn.deterministic = torch_deterministic\n",
    "\n",
    "device = torch.device(\"cuda\" if torch.cuda.is_available() and cuda else \"cpu\")\n",
    "\n",
    "obs, infos = env.reset()\n",
    "\n",
    "sender, sender_optimizer = initialize_agent(env, device, learning_rate)\n",
    "receiver, receiver_optimizer = initialize_agent(env, device, learning_rate)\n",
    "\n",
    "buffer_sender = Buffer(num_steps, env, num_envs, device)\n",
    "buffer_receiver = Buffer(num_steps, env, num_envs, device)\n",
    "\n",
    "global_step = 0\n",
    "start_time = time.time()\n",
    "next_obs, infos = reset_environment(env, device)\n",
    "\n",
    "next_done = {\"sender\": torch.zeros(num_envs).to(device), \"receiver\": torch.zeros(num_envs).to(device)}\n",
    "\n",
    "num_updates = total_timesteps // batch_size\n",
    "train_start = time.time()\n",
    "\n",
    "epoch_lengths = []\n",
    "current_length = 0\n",
    "\n",
    "for update in progressbar(range(1, num_updates + 1), redirect_stdout=True):\n",
    "    # Annealing the rate if instructed to do so.\n",
    "    if anneal_lr:\n",
    "        frac = 1.0 - (update - 1.0) / num_updates\n",
    "        lrnow = frac * learning_rate\n",
    "        sender_optimizer.param_groups[0][\"lr\"] = lrnow\n",
    "        receiver_optimizer.param_groups[0][\"lr\"] = lrnow\n",
    "    \n",
    "    epoch_rewards = {\"sender\":0, \"receiver\":0}\n",
    "    current_rewards = {\"sender\":[], \"receiver\":[]}\n",
    "    variances = {\"sender\":[], \"receiver\":[]}\n",
    "    epoch_runs = 0\n",
    "    episode_accuracies = 0\n",
    "    episode_sendAccuracies = 0\n",
    "    for step in range(0, num_steps):\n",
    "        global_step += 1 * num_envs\n",
    "        current_length += 1\n",
    "        buffer_sender.obs[step] = next_obs[\"sender\"]\n",
    "        buffer_receiver.obs[step] = next_obs[\"receiver\"]\n",
    "\n",
    "\n",
    "        sender_action = get_action_and_update_buffer(sender, next_obs[\"sender\"], buffer_sender, step)\n",
    "        receiver_action = get_action_and_update_buffer(receiver, next_obs[\"receiver\"], buffer_receiver, step)\n",
    "\n",
    "        next_obs, reward, terminations, truncations, info = env.step({\"sender\": sender_action.cpu().numpy()[0], \"receiver\": receiver_action.cpu().numpy()[0]})\n",
    "        current_rewards[\"sender\"].append(reward[\"sender\"])\n",
    "        current_rewards[\"receiver\"].append(reward[\"receiver\"])\n",
    "        next_obs = {\"sender\": torch.Tensor(next_obs[\"sender\"]).unsqueeze(0).to(device), \"receiver\": torch.Tensor(next_obs[\"receiver\"]).unsqueeze(0).to(device)}\n",
    "\n",
    "        if terminations[\"sender\"] or terminations[\"receiver\"] or truncations[\"sender\"] or truncations[\"receiver\"]:\n",
    "            next_obs, infos = reset_environment(env, device)\n",
    "            epoch_rewards[\"sender\"] += sum(current_rewards[\"sender\"])\n",
    "            epoch_rewards[\"receiver\"] += sum(current_rewards[\"receiver\"])\n",
    "\n",
    "            epoch_lengths.append(current_length)\n",
    "            current_length = 0\n",
    "\n",
    "            dynamic = env.env.env.environment_dynamics[3]\n",
    "\n",
    "            if len(dynamic.sendAccuracies) > 512:\n",
    "                episode_sendAccuracies = sum(dynamic.sendAccuracies[-512:]) / 512\n",
    "                del dynamic.sendAccuracies[:-513]\n",
    "                writer.add_scalar(\"charts/sender/accuracies\", episode_sendAccuracies, global_step)\n",
    "\n",
    "            if len(dynamic.accuracies) > 4:\n",
    "                window = min(15, len(dynamic.accuracies))\n",
    "                episode_accuracies = sum(dynamic.accuracies[-1 * window:]) / window\n",
    "                writer.add_scalar(\"charts/receiver/accuracies\", episode_accuracies, global_step)\n",
    "                if window == 15:\n",
    "                    del dynamic.accuracies[:-16]\n",
    "\n",
    "            if len(dynamic.variances) > 4:\n",
    "                window = min(15, len(dynamic.variances))\n",
    "                current_variance = sum(dynamic.variances[-1 * window:]) / window\n",
    "                writer.add_scalar(\"charts/receiver_variance\", current_variance, global_step)\n",
    "                if window == 15:\n",
    "                    del dynamic.variances[:-16]\n",
    "\n",
    "            if len(epoch_lengths) > 3:\n",
    "                window = min(10, len(epoch_lengths))\n",
    "                epoch_length = sum(epoch_lengths[-1 * window:]) / window\n",
    "                writer.add_scalar(\"charts/episodic_length\", epoch_length, global_step)\n",
    "                if window == 10:\n",
    "                    del epoch_lengths[:-11]\n",
    "            epoch_runs += 1\n",
    "        \n",
    "        buffer_sender.rewards[step] = torch.tensor(reward[\"sender\"]).to(device).view(-1)\n",
    "        buffer_receiver.rewards[step] = torch.tensor(reward[\"receiver\"]).to(device).view(-1)\n",
    "        next_done = {\"sender\": torch.Tensor([terminations[\"sender\"]]).to(device), \"receiver\": torch.Tensor([terminations[\"receiver\"]]).to(device)}\n",
    "    if update % store_freq == 0:\n",
    "        torch.save(sender, \"models/model\" + str(start_time) + \".pth\")\n",
    "        torch.save(receiver, \"models/model\" + str(start_time) + \".pth\")\n",
    "\n",
    "    update_agent(sender, buffer_sender, sender_optimizer, next_obs[\"sender\"], next_done[\"sender\"], env, batch_size, update_epochs, minibatch_size, clip_coef, vf_coef, ent_coef, max_grad_norm, target_kl, clip_vloss, norm_adv, gae_lambda, gae, gamma, device, step)\n",
    "    update_agent(receiver, buffer_receiver, receiver_optimizer, next_obs[\"receiver\"], next_done[\"receiver\"], env, batch_size, update_epochs, minibatch_size, clip_coef, vf_coef, ent_coef, max_grad_norm, target_kl, clip_vloss, norm_adv, gae_lambda, gae, gamma, device, step)\n",
    "\n",
    "    writer.add_scalar(\"charts/learning_rate\", sender_optimizer.param_groups[0][\"lr\"], global_step)\n",
    "    writer.add_scalar(\"charts/sender/episodic_return\", epoch_rewards[\"sender\"] / epoch_runs, global_step)\n",
    "    writer.add_scalar(\"charts/receiver/episodic_return\", epoch_rewards[\"receiver\"] / epoch_runs, global_step)\n",
    "    print(\"SPS:\", int(global_step / (time.time() - start_time)), \"Average Reward:\", epoch_rewards[\"sender\"] / epoch_runs)\n",
    "    writer.add_scalar(\"charts/SPS\", int(global_step / (time.time() - start_time)), global_step)\n",
    "\n",
    "torch.save(sender, \"models/model\" + str(start_time) + \".pth\")\n",
    "torch.save(receiver, \"models/model\" + str(start_time) + \".pth\")\n",
    "writer.close()"
   ]
  },
  {
   "cell_type": "code",
   "execution_count": 17,
   "metadata": {
    "ExecuteTime": {
     "end_time": "2024-03-07T10:55:05.908398Z",
     "start_time": "2024-03-07T10:55:05.765500Z"
    }
   },
   "outputs": [],
   "source": [
    "torch.save(sender, \"models/sender\" + str(start_time) + \".pth\")\n",
    "torch.save(receiver, \"models/receiver\" + str(start_time) + \".pth\")"
   ]
  },
  {
   "cell_type": "markdown",
   "metadata": {},
   "source": [
    "# Direct communication test"
   ]
  },
  {
   "cell_type": "code",
   "execution_count": 22,
   "metadata": {
    "ExecuteTime": {
     "end_time": "2024-03-07T11:31:52.931637Z",
     "start_time": "2024-03-07T11:31:52.914354Z"
    }
   },
   "outputs": [],
   "source": [
    "class Test_Communication:\n",
    "    def __init__(self, environment):\n",
    "        self.environment = environment\n",
    "        self.observation_space = {\"low\": [0, 0, 0, 0], \"high\": [1, 1, 1, 1]}\n",
    "        self.action_space = {\"low\": [0, 0, 0, 0], \"high\": [1, 1, 1, 1]}\n",
    "\n",
    "    def dynamic(self, agent, actions):\n",
    "        if \"utterance\" not in self.environment.data_store[agent].keys():\n",
    "            self.environment.data_store[agent][\"utterance\"] = None\n",
    "        if agent == \"receiver\":\n",
    "            utterance = [0, 0, 0, 0]\n",
    "            if \"utterance_max\" in self.environment.data_store[\"sender\"].keys():\n",
    "                observation = self.environment.data_store[\"sender\"][\"utterance_max\"]\n",
    "            else:\n",
    "                observation = utterance\n",
    "        elif agent == \"sender\":\n",
    "            utterance = [0, 0, 0, 0]\n",
    "            utterance[np.argmax(actions)] = 1\n",
    "            self.environment.data_store[agent][\"utterance\"] = actions\n",
    "            self.environment.data_store[agent][\"utterance_max\"] = utterance\n",
    "            observation = [0, 0, 0, 0]\n",
    "        else:\n",
    "            print(\"Dafaq is going on here?\")\n",
    "        return 0, observation, False, {}"
   ]
  },
  {
   "cell_type": "code",
   "execution_count": 23,
   "metadata": {
    "ExecuteTime": {
     "end_time": "2024-03-07T11:31:54.450703Z",
     "start_time": "2024-03-07T11:31:53.837959Z"
    }
   },
   "outputs": [
    {
     "name": "stderr",
     "output_type": "stream",
     "text": [
      "/Users/imtezcan/Repositories/CogSci/EBIMAS/venv-ebimas/lib/python3.10/site-packages/gymnasium/spaces/box.py:130: UserWarning: \u001B[33mWARN: Box bound precision lowered by casting to float32\u001B[0m\n",
      "  gym.logger.warn(f\"Box bound precision lowered by casting to {self.dtype}\")\n",
      "/Users/imtezcan/Repositories/CogSci/EBIMAS/venv-ebimas/lib/python3.10/site-packages/keras/src/engine/training_v1.py:2359: UserWarning: `Model.state_updates` will be removed in a future version. This property should not be used in TensorFlow 2.0, as `updates` are applied automatically.\n",
      "  updates=self.state_updates,\n"
     ]
    }
   ],
   "source": [
    "xml_files = [\"levels/\" + file for file in os.listdir(\"levels/\")]\n",
    "agents = [\"sender\", \"receiver\"]\n",
    "\n",
    "config_dict = {\"xmlPath\":xml_files, \n",
    "                   \"agents\":agents, \n",
    "                   \"rewardFunctions\":[collision_reward, target_reward], \n",
    "                   \"doneFunctions\":[target_done, border_done], \n",
    "                   \"skipFrames\":5,\n",
    "                   \"environmentDynamics\":[Image, Reward, Test_Communication, Accuracy],\n",
    "                   \"freeJoint\":True,\n",
    "                   \"renderMode\":False,\n",
    "                   \"maxSteps\":1024,\n",
    "                   \"agentCameras\":True}\n",
    "\n",
    "env = make_env(config_dict)()"
   ]
  },
  {
   "cell_type": "code",
   "execution_count": 24,
   "metadata": {
    "ExecuteTime": {
     "end_time": "2024-03-07T11:32:18.467323Z",
     "start_time": "2024-03-07T11:31:56.511864Z"
    }
   },
   "outputs": [],
   "source": [
    "epochs = 30\n",
    "num_steps = 1024\n",
    "lengths = []\n",
    "\n",
    "for epoch in range(epochs):\n",
    "    next_obs, infos = reset_environment(env, device)\n",
    "\n",
    "    next_obs = {k: torch.Tensor(v).unsqueeze(0).to(device) for k, v in next_obs.items()}\n",
    "    next_done = {\"sender\": torch.zeros(num_envs).to(device), \"receiver\": torch.zeros(num_envs).to(device)}\n",
    "\n",
    "    for step in range(0, num_steps):\n",
    "        sender_action = sender.get_action_and_value(next_obs[\"sender\"])[0]\n",
    "        receiver_action = receiver.get_action_and_value(next_obs[\"receiver\"])[0]\n",
    "\n",
    "        next_obs, reward, terminations, truncations, info = env.step({\"sender\": sender_action.cpu().numpy()[0], \"receiver\": receiver_action.cpu().numpy()[0]})\n",
    "        next_obs = {\"sender\": torch.Tensor(next_obs[\"sender\"]).unsqueeze(0).to(device), \"receiver\": torch.Tensor(next_obs[\"receiver\"]).unsqueeze(0).to(device)}\n",
    "\n",
    "        if terminations[\"sender\"] or terminations[\"receiver\"] or truncations[\"sender\"] or truncations[\"receiver\"]:\n",
    "            next_obs, infos = reset_environment(env, device)\n",
    "            lengths.append(step)\n",
    "            break"
   ]
  },
  {
   "cell_type": "code",
   "execution_count": 25,
   "metadata": {
    "ExecuteTime": {
     "end_time": "2024-03-07T11:32:19.560786Z",
     "start_time": "2024-03-07T11:32:19.547430Z"
    }
   },
   "outputs": [
    {
     "name": "stdout",
     "output_type": "stream",
     "text": [
      "Accuracy: 0.7142857142857143\n",
      "Variance: 0.07142857142857142\n",
      "Send Accuracy: 0.7862554112554112\n",
      "Length: 58.56666666666667\n"
     ]
    }
   ],
   "source": [
    "dynamic = env.env.env.environment_dynamics[3]\n",
    "print(\"Accuracy:\", sum(dynamic.accuracies) / len(dynamic.accuracies))\n",
    "print(\"Variance:\", sum(dynamic.variances) / len(dynamic.variances))\n",
    "print(\"Send Accuracy:\", sum(dynamic.sendAccuracies) / len(dynamic.sendAccuracies))\n",
    "print(\"Length:\", sum(lengths) / len(lengths))"
   ]
  },
  {
   "cell_type": "code",
   "execution_count": null,
   "outputs": [],
   "source": [],
   "metadata": {
    "collapsed": false
   }
  }
 ],
 "metadata": {
  "kernelspec": {
   "display_name": "Ray",
   "language": "python",
   "name": "python3"
  },
  "language_info": {
   "codemirror_mode": {
    "name": "ipython",
    "version": 3
   },
   "file_extension": ".py",
   "mimetype": "text/x-python",
   "name": "python",
   "nbconvert_exporter": "python",
   "pygments_lexer": "ipython3",
   "version": "3.9.16"
  }
 },
 "nbformat": 4,
 "nbformat_minor": 2
}
