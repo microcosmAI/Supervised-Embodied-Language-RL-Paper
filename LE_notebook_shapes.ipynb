{
 "cells": [
  {
   "cell_type": "markdown",
   "source": [
    "One-hot encoded 6-bit utterance vector for 3 colors and 2 shapes\n",
    "New AE trained on 3 colors and 2 shapes"
   ],
   "metadata": {
    "collapsed": false
   }
  },
  {
   "cell_type": "code",
   "execution_count": null,
   "outputs": [],
   "source": [
    "from MuJoCo_Gym.mujoco_rl import MuJoCoRL\n",
    "from MuJoCo_Gym.wrappers import GymnasiumWrapper, GymWrapper\n",
    "from gymnasium.wrappers.frame_stack import FrameStack\n",
    "from gymnasium.experimental.wrappers import NormalizeObservationV0\n",
    "from dynamics import *\n",
    "import argparse\n",
    "import os\n",
    "import random\n",
    "import time\n",
    "from distutils.util import strtobool\n",
    "import gym\n",
    "import numpy as np\n",
    "import torch\n",
    "import torch.nn as nn\n",
    "import torch.optim as optim\n",
    "from torch.distributions.normal import Normal\n",
    "from torch.utils.tensorboard import SummaryWriter\n",
    "\n",
    "from wrappers.record_episode_statistics import RecordEpisodeStatistics\n",
    "from wrappers.frame_stack import FrameStack\n",
    "from wrappers.normalizeObservation import NormalizeObservation\n",
    "from wrappers.normalizeRewards import NormalizeReward\n",
    "\n",
    "from progressbar import progressbar\n",
    "import tensorflow as tf\n",
    "\n",
    "# Check if eager execution is enabled\n",
    "if not tf.executing_eagerly():\n",
    "    tf.compat.v1.enable_eager_execution()"
   ],
   "metadata": {
    "collapsed": false
   }
  },
  {
   "cell_type": "markdown",
   "source": [
    "# Dynamics"
   ],
   "metadata": {
    "collapsed": false
   }
  },
  {
   "cell_type": "markdown",
   "source": [
    "## Vision"
   ],
   "metadata": {
    "collapsed": false
   }
  },
  {
   "cell_type": "code",
   "execution_count": 2,
   "outputs": [],
   "source": [
    "from autoencoder import load_autoencoder_model, get_a_single_image_embedding\n",
    "\n",
    "class Image:\n",
    "    def __init__(self, environment):\n",
    "        self.environment = environment\n",
    "        self.observation_space = {\"low\": [0 for _ in range(50)], \"high\": [255 for _ in range(50)]}\n",
    "        self.action_space = {\"low\": [], \"high\": []}\n",
    "        self.autoencoder = load_autoencoder_model(\"models/3colors_2shapes_50.tf\")\n",
    "        self.index = 0\n",
    "\n",
    "    def dynamic(self, agent, actions):\n",
    "        self.index = self.index + 1\n",
    "        image = self.environment.get_camera_data(agent + \"_camera\")\n",
    "        result = get_a_single_image_embedding(self.autoencoder, image)\n",
    "        # cv2.imwrite(f\"/Users/cowolff/Documents/GitHub/s.language_experiments/images/{agent}_{self.index}.png\", image)\n",
    "        return 0, result, False, {}"
   ],
   "metadata": {
    "collapsed": false,
    "ExecuteTime": {
     "end_time": "2024-03-11T21:14:58.817178Z",
     "start_time": "2024-03-11T21:14:58.815188Z"
    }
   }
  },
  {
   "cell_type": "markdown",
   "source": [
    "## Communication"
   ],
   "metadata": {
    "collapsed": false
   }
  },
  {
   "cell_type": "code",
   "execution_count": 3,
   "outputs": [],
   "source": [
    "def get_shape(shape_id):\n",
    "    if shape_id == 6:  # box\n",
    "        return np.array([1, 0])\n",
    "    elif shape_id == 2:  # sphere\n",
    "        return np.array([0, 1])\n",
    "    else:\n",
    "        raise ValueError(\"Unknown shape\")\n",
    "    \n",
    "def encode_to_one_hot_vector(color, shape):\n",
    "    combined_vector = [0, 0, 0, 0, 0, 0]\n",
    "    color_index = np.argmax(color)\n",
    "    shape_index = np.argmax(shape)\n",
    "    # [Red Box, Red Sphere, Green Box, Green Sphere, Blue Box, Blue Sphere]\n",
    "    combined_index = color_index * 2 + shape_index\n",
    "    combined_vector[combined_index] = 1\n",
    "    return combined_vector"
   ],
   "metadata": {
    "collapsed": false,
    "ExecuteTime": {
     "end_time": "2024-03-11T21:15:03.252554Z",
     "start_time": "2024-03-11T21:15:03.243359Z"
    }
   }
  },
  {
   "cell_type": "code",
   "execution_count": 4,
   "outputs": [],
   "source": [
    "class Communication:\n",
    "    def __init__(self, environment):\n",
    "        self.environment = environment\n",
    "        self.observation_space = {\"low\": [0, 0, 0, 0, 0, 0], \"high\": [1, 1, 1, 1, 1, 1]}\n",
    "        self.action_space = {\"low\": [0, 0, 0, 0, 0, 0], \"high\": [1, 1, 1, 1, 1, 1]}\n",
    "\n",
    "    def dynamic(self, agent, actions):\n",
    "        if \"utterance\" not in self.environment.data_store[agent].keys():\n",
    "            self.environment.data_store[agent][\"utterance\"] = None\n",
    "        if agent == \"receiver\":\n",
    "            utterance = [0, 0, 0, 0, 0, 0]\n",
    "            if \"target_color\" in self.environment.data_store.keys() and \"target_shape\" in self.environment.data_store.keys():\n",
    "                utterance = encode_to_one_hot_vector(self.environment.data_store[\"target_color\"], self.environment.data_store[\"target_shape\"])\n",
    "            observation = utterance\n",
    "            # print(f'Comm Receiver Utterance: {utterance}')  # TODO remove\n",
    "        elif agent == \"sender\":\n",
    "            utterance = [0, 0, 0, 0, 0, 0]\n",
    "            utterance[np.argmax(actions)] = 1\n",
    "            self.environment.data_store[agent][\"utterance\"] = actions\n",
    "            self.environment.data_store[agent][\"utterance_max\"] = utterance\n",
    "            # print(f'Comm Sender Utterance: {actions}, Utterance_max: {utterance}')  # TODO remove\n",
    "            observation = [0, 0, 0, 0, 0, 0]\n",
    "        else:\n",
    "            print(\"Unknown agent\")\n",
    "        return 0, observation, False, {}"
   ],
   "metadata": {
    "collapsed": false,
    "ExecuteTime": {
     "end_time": "2024-03-11T21:15:04.738001Z",
     "start_time": "2024-03-11T21:15:04.727483Z"
    }
   }
  },
  {
   "cell_type": "markdown",
   "metadata": {},
   "source": [
    "## Reward Dynamic Function\n",
    "The reward function for the receiver gives a positive reward for the agent to move closer to the current target object.<br/>\n",
    "The sender in turn gets a positive reward if it chooses the correct word encoding for the color and shape of the current target object."
   ]
  },
  {
   "cell_type": "code",
   "execution_count": 5,
   "outputs": [],
   "source": [
    "from sklearn.metrics import mean_squared_error\n",
    "from autoencoder import Autoencoder\n",
    "import math\n",
    "import mujoco"
   ],
   "metadata": {
    "collapsed": false,
    "ExecuteTime": {
     "end_time": "2024-03-11T21:15:06.086731Z",
     "start_time": "2024-03-11T21:15:06.084419Z"
    }
   }
  },
  {
   "cell_type": "code",
   "execution_count": 6,
   "metadata": {
    "ExecuteTime": {
     "end_time": "2024-03-11T21:15:06.672360Z",
     "start_time": "2024-03-11T21:15:06.664823Z"
    }
   },
   "outputs": [],
   "source": [
    "class Reward:\n",
    "    def __init__(self, environment):\n",
    "        self.environment = environment\n",
    "        self.observation_space = {\"low\": [], \"high\": []}\n",
    "        self.action_space = {\"low\": [], \"high\": []}\n",
    "        self.choices = [\"choice_1\", \"choice_2\"]\n",
    "\n",
    "    def dynamic(self, agent, actions):\n",
    "        if not \"target\" in self.environment.data_store.keys():\n",
    "            color = self.environment.get_data(\"reference_geom\")[\"color\"]\n",
    "            shape = get_shape(self.environment.get_data(\"reference_geom\")[\"shape\"])\n",
    "            # print(f'Color: {color}, Shape: {shape}')  # TODO remove\n",
    "            for choice in self.choices:\n",
    "                choice_color = self.environment.get_data(choice + \"_geom\")[\"color\"]\n",
    "                choice_shape = get_shape(self.environment.get_data(choice + \"_geom\")[\"shape\"])\n",
    "                # Check if both color and shape match\n",
    "                if (color == choice_color).all() and (shape == choice_shape).all():\n",
    "                    self.environment.data_store[\"target\"] = choice\n",
    "                    self.environment.data_store[\"target_color\"] = choice_color\n",
    "                    self.environment.data_store[\"target_shape\"] = choice_shape\n",
    "                    self.environment.data_store[\"last_distance\"] = copy.deepcopy(self.environment.distance(\"receiver_geom\", choice + \"_geom\"))\n",
    "                    break \n",
    "        if agent == \"receiver\":\n",
    "            target = self.environment.data_store[\"target\"]\n",
    "            new_distance = self.environment.distance(\"receiver_geom\", target + \"_geom\")\n",
    "            reward = (self.environment.data_store[\"last_distance\"] - new_distance) * 10\n",
    "            self.environment.data_store[\"last_distance\"] = copy.deepcopy(new_distance)\n",
    "        elif agent == \"sender\":\n",
    "            reference = [0, 0, 0, 0, 0, 0]\n",
    "            color = self.environment.data_store[\"target_color\"]\n",
    "            shape = self.environment.data_store[\"target_shape\"]\n",
    "            \n",
    "            reference = encode_to_one_hot_vector(color, shape)\n",
    "            reward = 0\n",
    "            if \"utterance\" in self.environment.data_store[agent].keys():\n",
    "                reward = -1 * mean_squared_error(reference, self.environment.data_store[agent][\"utterance\"])\n",
    "        return reward, [], False, {}"
   ]
  },
  {
   "cell_type": "markdown",
   "metadata": {},
   "source": [
    "## Accuracy Measurement Dynamic"
   ]
  },
  {
   "cell_type": "code",
   "execution_count": 7,
   "metadata": {
    "ExecuteTime": {
     "end_time": "2024-03-11T21:15:07.746004Z",
     "start_time": "2024-03-11T21:15:07.736119Z"
    }
   },
   "outputs": [],
   "source": [
    "class Accuracy:\n",
    "    def __init__(self, environment):\n",
    "        self.environment = environment\n",
    "        self.observation_space = {\"low\": [], \"high\": []}\n",
    "        self.action_space = {\"low\": [], \"high\": []}\n",
    "        self.accuracies = []\n",
    "        self.variances = []\n",
    "        self.sendAccuracies = []\n",
    "        self.sendVariances = []\n",
    "        self.currentSend = []\n",
    "        self.report_accuracy = {\"sender\": 0, \"receiver\": 0}\n",
    "\n",
    "    def dynamic(self, agent, actions):\n",
    "        choices = [\"choice_1\", \"choice_2\"]\n",
    "        variance = {\"choice_1\":1, \"choice_2\":-1}\n",
    "        if \"target\" in self.environment.data_store.keys():\n",
    "            if \"sendVariances\" not in self.environment.data_store.keys():\n",
    "                self.environment.data_store[\"sendVariances\"] = True\n",
    "                self.currentSend = [0, 0, 0, 0, 0, 0]\n",
    "            target = self.environment.data_store[\"target\"]\n",
    "            # if any(self.environment.collision(ankle, target + \"_geom\") for ankle in [\"left_leg_geom_2\", \"left_ankle_geom_2\", \"right_leg_geom_2\", \"right_ankle_geom_2\", \"back_leg_geom_2\", \"third_ankle_geom_2\", \"rightback_leg_geom_2\", \"fourth_ankle_geom_2\"]):\n",
    "            if self.environment.collision(\"receiver_geom\", target + \"_geom\"):\n",
    "                self.accuracies.append(1)\n",
    "                self.variances.append(variance[target])\n",
    "\n",
    "                if len(self.variances) > 50:\n",
    "                    report_variance = 1 - abs(sum(self.variances[-50:]) / 50)\n",
    "                    self.report_accuracy[\"receiver\"] = sum(self.accuracies[-50:]) / 50\n",
    "            # elif any(self.environment.collision(ankle, [choice for choice in choices if choice != target][0] + \"_geom\") for ankle in [\"left_leg_geom_2\", \"left_ankle_geom_2\", \"right_leg_geom_2\", \"right_ankle_geom_2\", \"back_leg_geom_2\", \"third_ankle_geom_2\", \"rightback_leg_geom_2\", \"fourth_ankle_geom_2\"]):\n",
    "            elif self.environment.collision(\"receiver_geom\", [choice for choice in choices if choice != target][0] + \"_geom\"):\n",
    "                self.accuracies.append(0)\n",
    "                self.variances.append(variance[[choice for choice in choices if choice != target][0]])\n",
    "\n",
    "                if len(self.variances) > 50:\n",
    "                    report_variance = 1 - abs(sum(self.variances[-50:]) / 50)\n",
    "                    self.report_accuracy[0] = sum(self.accuracies[-50:]) / 50\n",
    "            if \"utterance_max\" in self.environment.data_store[agent].keys():\n",
    "                color = self.environment.data_store[\"target_color\"]\n",
    "                shape = self.environment.data_store[\"target_shape\"]\n",
    "                reference = encode_to_one_hot_vector(color, shape)\n",
    "                self.currentSend = np.add(self.currentSend, self.environment.data_store[agent][\"utterance_max\"])\n",
    "                # print(f'Utterance Max: {self.environment.data_store[agent][\"utterance_max\"]}')  # TODO remove\n",
    "                # print(f'Reference: {reference}')  # TODO remove\n",
    "\n",
    "                if self.environment.data_store[agent][\"utterance_max\"]  == reference:\n",
    "                    self.sendAccuracies.append(1)\n",
    "                else:\n",
    "                    self.sendAccuracies.append(0)\n",
    "        return 0, [], False, {}"
   ]
  },
  {
   "cell_type": "markdown",
   "metadata": {},
   "source": [
    "# Reward Functions"
   ]
  },
  {
   "cell_type": "code",
   "execution_count": 8,
   "metadata": {
    "ExecuteTime": {
     "end_time": "2024-03-11T21:15:09.105643Z",
     "start_time": "2024-03-11T21:15:09.020112Z"
    }
   },
   "outputs": [],
   "source": [
    "def target_reward(mujoco_gym, agent):\n",
    "    if agent == \"receiver\":\n",
    "        choices = [\"choice_1\", \"choice_2\"]\n",
    "        if not \"target\" in mujoco_gym.data_store.keys():\n",
    "                color = mujoco_gym.get_data(\"reference_geom\")[\"color\"]\n",
    "                shape = get_shape(mujoco_gym.get_data(\"reference_geom\")[\"shape\"])\n",
    "                # print(f'Target Reward Color: {color}, Shape: {shape}')  # TODO remove\n",
    "                for choice in choices:\n",
    "                    choice_shape = get_shape(mujoco_gym.get_data(choice + \"_geom\")[\"shape\"])\n",
    "                    if (color == mujoco_gym.get_data(choice + \"_geom\")[\"color\"]).all() and (shape == choice_shape).all():\n",
    "                        mujoco_gym.data_store[\"target\"] = choice\n",
    "                        mujoco_gym.data_store[\"target_color\"] = mujoco_gym.get_data(choice + \"_geom\")[\"color\"]\n",
    "                        mujoco_gym.data_store[\"target_shape\"] = choice_shape\n",
    "                        # print(f'Target Reward target shape: {choice_shape}')  # TODO remove\n",
    "                        break\n",
    "        \n",
    "        target = mujoco_gym.data_store[\"target\"]\n",
    "        # for ankle in [\"left_leg_geom_2\", \"left_ankle_geom_2\", \"right_leg_geom_2\", \"right_ankle_geom_2\", \"back_leg_geom_2\", \"third_ankle_geom_2\", \"rightback_leg_geom_2\", \"fourth_ankle_geom_2\"]:\n",
    "        for ankle in [\"receiver_geom\"]:\n",
    "            if mujoco_gym.collision(ankle, target + \"_geom\"):\n",
    "                return 1\n",
    "            elif mujoco_gym.collision(ankle, [choice for choice in choices if choice != target][0] + \"_geom\"):\n",
    "                return -1\n",
    "    return 0"
   ]
  },
  {
   "cell_type": "code",
   "execution_count": 9,
   "metadata": {
    "ExecuteTime": {
     "end_time": "2024-03-11T21:15:09.470065Z",
     "start_time": "2024-03-11T21:15:09.467849Z"
    }
   },
   "outputs": [],
   "source": [
    "def collision_reward(mujoco_gym, agent):\n",
    "    for border in [\"border1_geom\", \"border2_geom\", \"border3_geom\", \"border4_geom\", \"border5_geom\"]:\n",
    "        # for ankle in [\"left_leg_geom_2\", \"left_ankle_geom_2\", \"right_leg_geom_2\", \"right_ankle_geom_2\", \"back_leg_geom_2\", \"third_ankle_geom_2\", \"rightback_leg_geom_2\", \"fourth_ankle_geom_2\"]:\n",
    "        for ankle in [agent + \"_geom\"]:\n",
    "            if mujoco_gym.collision(border, ankle):\n",
    "                return -0.1\n",
    "    return 0"
   ]
  },
  {
   "cell_type": "markdown",
   "metadata": {},
   "source": [
    "# Environment Setup"
   ]
  },
  {
   "cell_type": "code",
   "execution_count": 10,
   "metadata": {
    "ExecuteTime": {
     "end_time": "2024-03-11T21:15:11.007302Z",
     "start_time": "2024-03-11T21:15:10.992175Z"
    }
   },
   "outputs": [],
   "source": [
    "def make_env(config_dict):\n",
    "    def thunk():\n",
    "        window = 5\n",
    "        env = MuJoCoRL(config_dict=config_dict)\n",
    "        # env = GymWrapper(env, \"receiver\")\n",
    "        # env = FrameStack(env, 4)\n",
    "        env = NormalizeObservation(env)\n",
    "        env = NormalizeReward(env)\n",
    "        # env = RecordEpisodeStatistics(env)\n",
    "        return env\n",
    "\n",
    "    return thunk"
   ]
  },
  {
   "cell_type": "code",
   "execution_count": 11,
   "metadata": {
    "ExecuteTime": {
     "end_time": "2024-03-11T21:15:13.692155Z",
     "start_time": "2024-03-11T21:15:12.875419Z"
    }
   },
   "outputs": [
    {
     "name": "stderr",
     "output_type": "stream",
     "text": [
      "/Users/imtezcan/Repositories/CogSci/EBIMAS/venv-ebimas/lib/python3.10/site-packages/gymnasium/spaces/box.py:130: UserWarning: \u001B[33mWARN: Box bound precision lowered by casting to float32\u001B[0m\n",
      "  gym.logger.warn(f\"Box bound precision lowered by casting to {self.dtype}\")\n"
     ]
    }
   ],
   "source": [
    "# xml_files = [\"levels/\" + file for file in os.listdir(\"levels/\")]\n",
    "xml_files = [\"levels_shape/modified/\" + file for file in os.listdir(\"levels_shape/modified/\")]\n",
    "agents = [\"sender\", \"receiver\"]\n",
    "\n",
    "config_dict = {\"xmlPath\":xml_files, \n",
    "                   \"agents\":agents, \n",
    "                   \"rewardFunctions\":[collision_reward, target_reward], \n",
    "                   \"doneFunctions\":[target_done, border_done], \n",
    "                   \"skipFrames\":5,\n",
    "                   \"environmentDynamics\":[Image, Reward, Communication, Accuracy],\n",
    "                   \"freeJoint\":True,\n",
    "                   \"renderMode\":False,\n",
    "                   \"maxSteps\":1024,\n",
    "                   \"agentCameras\":True}\n",
    "\n",
    "env = make_env(config_dict)()"
   ]
  },
  {
   "cell_type": "markdown",
   "metadata": {},
   "source": [
    "# RL Model"
   ]
  },
  {
   "cell_type": "code",
   "execution_count": 12,
   "metadata": {
    "ExecuteTime": {
     "end_time": "2024-03-11T21:15:18.107470Z",
     "start_time": "2024-03-11T21:15:18.081763Z"
    }
   },
   "outputs": [],
   "source": [
    "def layer_init(layer, std=np.sqrt(2), bias_const=0.0):\n",
    "    torch.nn.init.orthogonal_(layer.weight, std)\n",
    "    torch.nn.init.constant_(layer.bias, bias_const)\n",
    "    return layer\n",
    "\n",
    "class Agent(nn.Module):\n",
    "    def __init__(self, envs):\n",
    "        super(Agent, self).__init__()\n",
    "        self.critic = nn.Sequential(\n",
    "            nn.Flatten(),\n",
    "            layer_init(nn.Linear(np.array(envs.observation_space.shape).prod(), 128)),\n",
    "            nn.Tanh(),\n",
    "            layer_init(nn.Linear(128, 128)),\n",
    "            nn.Tanh(),\n",
    "            layer_init(nn.Linear(128, 1), std=1.0),\n",
    "        )\n",
    "        self.actor_mean = nn.Sequential(\n",
    "            nn.Flatten(),\n",
    "            layer_init(nn.Linear(np.array(envs.observation_space.shape).prod(), 128)),\n",
    "            nn.Tanh(),\n",
    "            layer_init(nn.Linear(128, 128)),\n",
    "            nn.Tanh(),\n",
    "            layer_init(nn.Linear(128, np.prod(envs.action_space.shape)), std=0.01),\n",
    "        )\n",
    "        self.actor_logstd = nn.Parameter(torch.zeros(1, np.prod(envs.action_space.shape)))\n",
    "\n",
    "    def get_value(self, x):\n",
    "        return self.critic(x)\n",
    "\n",
    "    def get_action_and_value(self, x, action=None):\n",
    "        action_mean = self.actor_mean(x)\n",
    "        action_logstd = self.actor_logstd.expand_as(action_mean)\n",
    "        action_std = torch.exp(action_logstd)\n",
    "        probs = Normal(action_mean, action_std)\n",
    "        if action is None:\n",
    "            action = probs.sample()\n",
    "        return action, probs.log_prob(action).sum(1), probs.entropy().sum(1), self.critic(x)"
   ]
  },
  {
   "cell_type": "markdown",
   "metadata": {},
   "source": [
    "# Buffer"
   ]
  },
  {
   "cell_type": "code",
   "execution_count": 13,
   "metadata": {
    "ExecuteTime": {
     "end_time": "2024-03-11T21:15:19.133702Z",
     "start_time": "2024-03-11T21:15:19.104480Z"
    }
   },
   "outputs": [],
   "source": [
    "class Buffer():\n",
    "    def __init__(self, num_steps, envs, num_envs, device):\n",
    "        self.obs = torch.zeros((num_steps, num_envs) + envs.observation_space.shape).to(device)\n",
    "        self.actions = torch.zeros((num_steps, num_envs) + envs.action_space.shape).to(device)\n",
    "        self.logprobs = torch.zeros((num_steps, num_envs)).to(device)\n",
    "        self.rewards = torch.zeros((num_steps, num_envs)).to(device)\n",
    "        self.dones = torch.zeros((num_steps, num_envs)).to(device)\n",
    "        self.values = torch.zeros((num_steps, num_envs)).to(device)"
   ]
  },
  {
   "cell_type": "markdown",
   "metadata": {},
   "source": [
    "# Update Function"
   ]
  },
  {
   "cell_type": "code",
   "execution_count": 14,
   "metadata": {
    "ExecuteTime": {
     "end_time": "2024-03-11T21:15:20.379542Z",
     "start_time": "2024-03-11T21:15:20.358942Z"
    }
   },
   "outputs": [],
   "source": [
    "def update_agent(agent, buffer, optimizer, next_obs, next_done, env, batch_size, update_epochs, minibatch_size, clip_coef, vf_coef, ent_coef, max_grad_norm, target_kl, clip_vloss, norm_adv, gae_lambda, gae, gamma, device, num_steps):\n",
    "\n",
    "    with torch.no_grad():\n",
    "        next_value = agent.get_value(next_obs).reshape(1, -1)\n",
    "        if gae:\n",
    "            advantages = torch.zeros_like(buffer.rewards).to(device)\n",
    "            lastgaelam = 0\n",
    "            for t in reversed(range(num_steps)):\n",
    "                if t == num_steps - 1:\n",
    "                    nextnonterminal = 1.0 - next_done\n",
    "                    nextvalues = next_value\n",
    "                else:\n",
    "                    nextnonterminal = 1.0 - buffer.dones[t + 1]\n",
    "                    nextvalues = buffer.values[t + 1]\n",
    "                delta = buffer.rewards[t] + gamma * nextvalues * nextnonterminal - buffer.values[t]\n",
    "                advantages[t] = lastgaelam = delta + gamma * gae_lambda * nextnonterminal * lastgaelam\n",
    "            returns = advantages + buffer.values\n",
    "        else:\n",
    "            returns = torch.zeros_like(buffer.rewards).to(device)\n",
    "            for t in reversed(range(num_steps)):\n",
    "                if t == num_steps - 1:\n",
    "                    nextnonterminal = 1.0 - next_done\n",
    "                    next_return = next_value\n",
    "                else:\n",
    "                    nextnonterminal = 1.0 - buffer.dones[t + 1]\n",
    "                    next_return = returns[t + 1]\n",
    "                returns[t] = buffer.rewards[t] + gamma * nextnonterminal * next_return\n",
    "            advantages = returns - buffer.values\n",
    "\n",
    "    # flatten the batch\n",
    "    b_obs = buffer.obs.reshape((-1,) + env.observation_space.shape)\n",
    "    b_logprobs = buffer.logprobs.reshape(-1)\n",
    "    b_actions = buffer.actions.reshape((-1,) + env.action_space.shape)\n",
    "    b_advantages = advantages.reshape(-1)\n",
    "    b_returns = returns.reshape(-1)\n",
    "    b_values = buffer.values.reshape(-1)\n",
    "\n",
    "    # Optimizing the policy and value network\n",
    "    b_inds = np.arange(batch_size)\n",
    "    clipfracs = []\n",
    "    for epoch in range(update_epochs):\n",
    "        np.random.shuffle(b_inds)\n",
    "        for start in range(0, batch_size, minibatch_size):\n",
    "            end = start + minibatch_size\n",
    "            mb_inds = b_inds[start:end]\n",
    "\n",
    "            _, newlogprob, entropy, newvalue = agent.get_action_and_value(b_obs[mb_inds], b_actions[mb_inds])\n",
    "            logratio = newlogprob - b_logprobs[mb_inds]\n",
    "            ratio = logratio.exp()\n",
    "\n",
    "            with torch.no_grad():\n",
    "                # calculate approx_kl http://joschu.net/blog/kl-approx.html\n",
    "                old_approx_kl = (-logratio).mean()\n",
    "                approx_kl = ((ratio - 1) - logratio).mean()\n",
    "                clipfracs += [((ratio - 1.0).abs() > clip_coef).float().mean().item()]\n",
    "\n",
    "            mb_advantages = b_advantages[mb_inds]\n",
    "            if norm_adv:\n",
    "                mb_advantages = (mb_advantages - mb_advantages.mean()) / (mb_advantages.std() + 1e-8)\n",
    "\n",
    "            # Policy loss\n",
    "            pg_loss1 = -mb_advantages * ratio\n",
    "            pg_loss2 = -mb_advantages * torch.clamp(ratio, 1 - clip_coef, 1 + clip_coef)\n",
    "            pg_loss = torch.max(pg_loss1, pg_loss2).mean()\n",
    "\n",
    "            # Value loss\n",
    "            newvalue = newvalue.view(-1)\n",
    "            if clip_vloss:\n",
    "                v_loss_unclipped = (newvalue - b_returns[mb_inds]) ** 2\n",
    "                v_clipped = b_values[mb_inds] + torch.clamp(\n",
    "                    newvalue - b_values[mb_inds],\n",
    "                    -clip_coef,\n",
    "                    clip_coef,\n",
    "                )\n",
    "                v_loss_clipped = (v_clipped - b_returns[mb_inds]) ** 2\n",
    "                v_loss_max = torch.max(v_loss_unclipped, v_loss_clipped)\n",
    "                v_loss = 0.5 * v_loss_max.mean()\n",
    "            else:\n",
    "                v_loss = 0.5 * ((newvalue - b_returns[mb_inds]) ** 2).mean()\n",
    "\n",
    "            entropy_loss = entropy.mean()\n",
    "            loss = pg_loss - ent_coef * entropy_loss + v_loss * vf_coef\n",
    "\n",
    "            optimizer.zero_grad()\n",
    "            loss.backward()\n",
    "            nn.utils.clip_grad_norm_(agent.parameters(), max_grad_norm)\n",
    "            optimizer.step()\n",
    "\n",
    "        if target_kl is not None:\n",
    "            if approx_kl > target_kl:\n",
    "                break\n",
    "\n",
    "    y_pred, y_true = b_values.cpu().numpy(), b_returns.cpu().numpy()\n",
    "    var_y = np.var(y_true)\n",
    "    explained_var = np.nan if var_y == 0 else 1 - np.var(y_true - y_pred) / var_y"
   ]
  },
  {
   "cell_type": "markdown",
   "metadata": {},
   "source": [
    "# Training"
   ]
  },
  {
   "cell_type": "markdown",
   "metadata": {},
   "source": [
    "## Helper Function"
   ]
  },
  {
   "cell_type": "code",
   "execution_count": 15,
   "metadata": {
    "ExecuteTime": {
     "end_time": "2024-03-11T21:15:21.406238Z",
     "start_time": "2024-03-11T21:15:21.399225Z"
    }
   },
   "outputs": [],
   "source": [
    "def initialize_agent(env, device, learning_rate):\n",
    "    agent = Agent(env).to(device)\n",
    "    optimizer = optim.Adam(agent.parameters(), lr=learning_rate, eps=1e-5)\n",
    "    return agent, optimizer\n",
    "\n",
    "def get_action_and_update_buffer(agent, obs, buffer, step):\n",
    "    with torch.no_grad():\n",
    "        action, logprob, _, value = agent.get_action_and_value(obs)\n",
    "        buffer.values[step] = value.flatten()\n",
    "    buffer.actions[step] = action\n",
    "    buffer.logprobs[step] = logprob\n",
    "    return action\n",
    "\n",
    "def reset_environment(env, device):\n",
    "    next_obs, infos = env.reset()\n",
    "    next_obs = {k: torch.Tensor(v).unsqueeze(0).to(device) for k, v in next_obs.items()}\n",
    "    return next_obs, infos"
   ]
  },
  {
   "cell_type": "markdown",
   "metadata": {},
   "source": [
    "## Hyperparameters"
   ]
  },
  {
   "cell_type": "code",
   "execution_count": 17,
   "metadata": {
    "ExecuteTime": {
     "end_time": "2024-03-11T21:15:46.817098Z",
     "start_time": "2024-03-11T21:15:46.792895Z"
    }
   },
   "outputs": [],
   "source": [
    "exp_name = \"3 Colors 2 Shapes New AE 6-bit Vector\"\n",
    "\n",
    "learning_rate = 1e-5\n",
    "seed = 1\n",
    "# total_timesteps = 20000000\n",
    "total_timesteps = 1000000\n",
    "torch_deterministic = True\n",
    "cuda = False\n",
    "mps = True\n",
    "track = False\n",
    "wandb_project_name = \"ppo-implementation-details\"\n",
    "wandb_entity = None\n",
    "capture_video = False\n",
    "\n",
    "# Algorithm-specific arguments\n",
    "num_envs = 1\n",
    "num_steps = 2048\n",
    "anneal_lr = True\n",
    "gae = True\n",
    "gamma = 0.99\n",
    "gae_lambda = 0.95\n",
    "num_minibatches = 128\n",
    "update_epochs = 10\n",
    "norm_adv = True\n",
    "clip_coef = 0.2\n",
    "clip_vloss = True\n",
    "ent_coef = 0.0\n",
    "vf_coef = 0.5\n",
    "max_grad_norm = 0.5\n",
    "target_kl = None\n",
    "store_freq = 20\n",
    "\n",
    "# Calculate derived variables\n",
    "batch_size = int(num_envs * num_steps)\n",
    "minibatch_size = int(batch_size // num_minibatches)"
   ]
  },
  {
   "cell_type": "code",
   "execution_count": 18,
   "metadata": {
    "ExecuteTime": {
     "end_time": "2024-03-12T09:53:23.659843Z",
     "start_time": "2024-03-11T21:15:48.623217Z"
    }
   },
   "outputs": [
    {
     "name": "stderr",
     "output_type": "stream",
     "text": [
      "  0% (0 of 1464) |                       | Elapsed Time: 0:00:00 ETA:  --:--:--"
     ]
    },
    {
     "name": "stdout",
     "output_type": "stream",
     "text": [
      "SPS: 52 Average Reward: -40.65240528976611\n"
     ]
    },
    {
     "name": "stderr",
     "output_type": "stream",
     "text": [
      "  0% (1 of 1464) |                       | Elapsed Time: 0:00:38 ETA:  15:49:01"
     ]
    },
    {
     "name": "stdout",
     "output_type": "stream",
     "text": [
      "SPS: 57 Average Reward: -11.090793909216826\n"
     ]
    },
    {
     "name": "stderr",
     "output_type": "stream",
     "text": [
      "  0% (2 of 1464) |                       | Elapsed Time: 0:01:11 ETA:  13:10:55"
     ]
    },
    {
     "name": "stdout",
     "output_type": "stream",
     "text": [
      "SPS: 59 Average Reward: -10.690336334995973\n"
     ]
    },
    {
     "name": "stderr",
     "output_type": "stream",
     "text": [
      "  0% (3 of 1464) |                       | Elapsed Time: 0:01:43 ETA:  13:10:10"
     ]
    },
    {
     "name": "stdout",
     "output_type": "stream",
     "text": [
      "SPS: 60 Average Reward: -10.671138515919012\n"
     ]
    },
    {
     "name": "stderr",
     "output_type": "stream",
     "text": [
      "  0% (4 of 1464) |                       | Elapsed Time: 0:02:16 ETA:  13:07:35"
     ]
    },
    {
     "name": "stdout",
     "output_type": "stream",
     "text": [
      "SPS: 60 Average Reward: -10.879743423028224\n"
     ]
    },
    {
     "name": "stderr",
     "output_type": "stream",
     "text": [
      "  0% (5 of 1464) |                       | Elapsed Time: 0:02:48 ETA:  13:11:23"
     ]
    },
    {
     "name": "stdout",
     "output_type": "stream",
     "text": [
      "SPS: 60 Average Reward: -10.487150730492138\n"
     ]
    },
    {
     "name": "stderr",
     "output_type": "stream",
     "text": [
      "  0% (6 of 1464) |                       | Elapsed Time: 0:03:21 ETA:  13:23:41"
     ]
    },
    {
     "name": "stdout",
     "output_type": "stream",
     "text": [
      "SPS: 60 Average Reward: -10.878893940741632\n"
     ]
    },
    {
     "name": "stderr",
     "output_type": "stream",
     "text": [
      "  0% (7 of 1464) |                       | Elapsed Time: 0:03:55 ETA:  13:35:30"
     ]
    },
    {
     "name": "stdout",
     "output_type": "stream",
     "text": [
      "SPS: 61 Average Reward: -10.831433110844412\n"
     ]
    },
    {
     "name": "stderr",
     "output_type": "stream",
     "text": [
      "  0% (8 of 1464) |                       | Elapsed Time: 0:04:28 ETA:  13:13:45"
     ]
    },
    {
     "name": "stdout",
     "output_type": "stream",
     "text": [
      "SPS: 61 Average Reward: -10.965190316759397\n"
     ]
    },
    {
     "name": "stderr",
     "output_type": "stream",
     "text": [
      "  0% (9 of 1464) |                       | Elapsed Time: 0:04:59 ETA:  12:40:40"
     ]
    },
    {
     "name": "stdout",
     "output_type": "stream",
     "text": [
      "SPS: 61 Average Reward: -10.70670843118054\n"
     ]
    },
    {
     "name": "stderr",
     "output_type": "stream",
     "text": [
      "  0% (10 of 1464) |                      | Elapsed Time: 0:05:31 ETA:  12:44:14"
     ]
    },
    {
     "name": "stdout",
     "output_type": "stream",
     "text": [
      "SPS: 62 Average Reward: -10.587913893271008\n"
     ]
    },
    {
     "name": "stderr",
     "output_type": "stream",
     "text": [
      "  0% (11 of 1464) |                      | Elapsed Time: 0:06:01 ETA:  12:18:52"
     ]
    },
    {
     "name": "stdout",
     "output_type": "stream",
     "text": [
      "SPS: 62 Average Reward: -11.006748093236618\n"
     ]
    },
    {
     "name": "stderr",
     "output_type": "stream",
     "text": [
      "  0% (12 of 1464) |                      | Elapsed Time: 0:06:32 ETA:  12:26:44"
     ]
    },
    {
     "name": "stdout",
     "output_type": "stream",
     "text": [
      "SPS: 62 Average Reward: -10.908648650980963\n"
     ]
    },
    {
     "name": "stderr",
     "output_type": "stream",
     "text": [
      "  0% (13 of 1464) |                      | Elapsed Time: 0:07:02 ETA:  12:14:14"
     ]
    },
    {
     "name": "stdout",
     "output_type": "stream",
     "text": [
      "SPS: 63 Average Reward: -11.093986908089455\n"
     ]
    },
    {
     "name": "stderr",
     "output_type": "stream",
     "text": [
      "  0% (14 of 1464) |                      | Elapsed Time: 0:07:33 ETA:  12:13:57"
     ]
    },
    {
     "name": "stdout",
     "output_type": "stream",
     "text": [
      "SPS: 63 Average Reward: -11.221570938480271\n"
     ]
    },
    {
     "name": "stderr",
     "output_type": "stream",
     "text": [
      "  1% (15 of 1464) |                      | Elapsed Time: 0:08:03 ETA:  12:20:33"
     ]
    },
    {
     "name": "stdout",
     "output_type": "stream",
     "text": [
      "SPS: 63 Average Reward: -10.530906927166509\n"
     ]
    },
    {
     "name": "stderr",
     "output_type": "stream",
     "text": [
      "  1% (16 of 1464) |                      | Elapsed Time: 0:08:34 ETA:  12:23:54"
     ]
    },
    {
     "name": "stdout",
     "output_type": "stream",
     "text": [
      "SPS: 63 Average Reward: -11.273393915096637\n"
     ]
    },
    {
     "name": "stderr",
     "output_type": "stream",
     "text": [
      "  1% (17 of 1464) |                      | Elapsed Time: 0:09:04 ETA:  12:04:37"
     ]
    },
    {
     "name": "stdout",
     "output_type": "stream",
     "text": [
      "SPS: 64 Average Reward: -10.789925728224748\n"
     ]
    },
    {
     "name": "stderr",
     "output_type": "stream",
     "text": [
      "  1% (18 of 1464) |                      | Elapsed Time: 0:09:34 ETA:  12:08:37"
     ]
    },
    {
     "name": "stdout",
     "output_type": "stream",
     "text": [
      "SPS: 64 Average Reward: -11.20547674720442\n"
     ]
    },
    {
     "name": "stderr",
     "output_type": "stream",
     "text": [
      "  1% (19 of 1464) |                      | Elapsed Time: 0:10:05 ETA:  12:19:18"
     ]
    },
    {
     "name": "stdout",
     "output_type": "stream",
     "text": [
      "SPS: 64 Average Reward: -11.185842790344122\n"
     ]
    },
    {
     "name": "stderr",
     "output_type": "stream",
     "text": [
      "  1% (20 of 1464) |                      | Elapsed Time: 0:10:35 ETA:  12:07:26"
     ]
    },
    {
     "name": "stdout",
     "output_type": "stream",
     "text": [
      "SPS: 64 Average Reward: -11.466835707409228\n"
     ]
    },
    {
     "name": "stderr",
     "output_type": "stream",
     "text": [
      "  1% (21 of 1464) |                      | Elapsed Time: 0:11:06 ETA:  12:11:55"
     ]
    },
    {
     "name": "stdout",
     "output_type": "stream",
     "text": [
      "SPS: 64 Average Reward: -10.926459560547208\n"
     ]
    },
    {
     "name": "stderr",
     "output_type": "stream",
     "text": [
      "  1% (22 of 1464) |                      | Elapsed Time: 0:11:36 ETA:  12:13:10"
     ]
    },
    {
     "name": "stdout",
     "output_type": "stream",
     "text": [
      "SPS: 64 Average Reward: -11.324737241788505\n"
     ]
    },
    {
     "name": "stderr",
     "output_type": "stream",
     "text": [
      "  1% (23 of 1464) |                      | Elapsed Time: 0:12:07 ETA:  12:21:59"
     ]
    },
    {
     "name": "stdout",
     "output_type": "stream",
     "text": [
      "SPS: 64 Average Reward: -11.186026316808206\n"
     ]
    },
    {
     "name": "stderr",
     "output_type": "stream",
     "text": [
      "  1% (24 of 1464) |                      | Elapsed Time: 0:12:38 ETA:  12:17:15"
     ]
    },
    {
     "name": "stdout",
     "output_type": "stream",
     "text": [
      "SPS: 64 Average Reward: -10.968478289525066\n"
     ]
    },
    {
     "name": "stderr",
     "output_type": "stream",
     "text": [
      "  1% (25 of 1464) |                      | Elapsed Time: 0:13:09 ETA:  12:22:02"
     ]
    },
    {
     "name": "stdout",
     "output_type": "stream",
     "text": [
      "SPS: 64 Average Reward: -11.118308048807977\n"
     ]
    },
    {
     "name": "stderr",
     "output_type": "stream",
     "text": [
      "  1% (26 of 1464) |                      | Elapsed Time: 0:13:39 ETA:  12:13:04"
     ]
    },
    {
     "name": "stdout",
     "output_type": "stream",
     "text": [
      "SPS: 64 Average Reward: -11.514687617327908\n"
     ]
    },
    {
     "name": "stderr",
     "output_type": "stream",
     "text": [
      "  1% (27 of 1464) |                      | Elapsed Time: 0:14:10 ETA:  12:21:33"
     ]
    },
    {
     "name": "stdout",
     "output_type": "stream",
     "text": [
      "SPS: 65 Average Reward: -10.735856656453006\n"
     ]
    },
    {
     "name": "stderr",
     "output_type": "stream",
     "text": [
      "  1% (28 of 1464) |                      | Elapsed Time: 0:14:41 ETA:  12:22:22"
     ]
    },
    {
     "name": "stdout",
     "output_type": "stream",
     "text": [
      "SPS: 65 Average Reward: -11.02838358728875\n"
     ]
    },
    {
     "name": "stderr",
     "output_type": "stream",
     "text": [
      "  1% (29 of 1464) |                      | Elapsed Time: 0:15:12 ETA:  12:20:13"
     ]
    },
    {
     "name": "stdout",
     "output_type": "stream",
     "text": [
      "SPS: 65 Average Reward: -11.113335134582844\n"
     ]
    },
    {
     "name": "stderr",
     "output_type": "stream",
     "text": [
      "  2% (30 of 1464) |                      | Elapsed Time: 0:15:43 ETA:  12:20:45"
     ]
    },
    {
     "name": "stdout",
     "output_type": "stream",
     "text": [
      "SPS: 65 Average Reward: -10.831646456437593\n"
     ]
    },
    {
     "name": "stderr",
     "output_type": "stream",
     "text": [
      "  2% (31 of 1464) |                      | Elapsed Time: 0:16:14 ETA:  12:18:27"
     ]
    },
    {
     "name": "stdout",
     "output_type": "stream",
     "text": [
      "SPS: 65 Average Reward: -10.479780443147602\n"
     ]
    },
    {
     "name": "stderr",
     "output_type": "stream",
     "text": [
      "  2% (32 of 1464) |                      | Elapsed Time: 0:16:45 ETA:  12:10:59"
     ]
    },
    {
     "name": "stdout",
     "output_type": "stream",
     "text": [
      "SPS: 65 Average Reward: -11.482333966770483\n"
     ]
    },
    {
     "name": "stderr",
     "output_type": "stream",
     "text": [
      "  2% (33 of 1464) |                      | Elapsed Time: 0:17:15 ETA:  12:10:16"
     ]
    },
    {
     "name": "stdout",
     "output_type": "stream",
     "text": [
      "SPS: 65 Average Reward: -11.264515957939603\n"
     ]
    },
    {
     "name": "stderr",
     "output_type": "stream",
     "text": [
      "  2% (34 of 1464) |                      | Elapsed Time: 0:17:46 ETA:  12:16:09"
     ]
    },
    {
     "name": "stdout",
     "output_type": "stream",
     "text": [
      "SPS: 65 Average Reward: -19.016560901494387\n"
     ]
    },
    {
     "name": "stderr",
     "output_type": "stream",
     "text": [
      "  2% (35 of 1464) |                      | Elapsed Time: 0:18:17 ETA:  12:12:26"
     ]
    },
    {
     "name": "stdout",
     "output_type": "stream",
     "text": [
      "SPS: 65 Average Reward: -26.346389821735674\n"
     ]
    },
    {
     "name": "stderr",
     "output_type": "stream",
     "text": [
      "  2% (36 of 1464) |                      | Elapsed Time: 0:18:48 ETA:  12:18:15"
     ]
    },
    {
     "name": "stdout",
     "output_type": "stream",
     "text": [
      "SPS: 65 Average Reward: -26.981002769912088\n"
     ]
    },
    {
     "name": "stderr",
     "output_type": "stream",
     "text": [
      "  2% (37 of 1464) |                      | Elapsed Time: 0:19:19 ETA:  12:16:06"
     ]
    },
    {
     "name": "stdout",
     "output_type": "stream",
     "text": [
      "SPS: 65 Average Reward: -25.789890586320062\n"
     ]
    },
    {
     "name": "stderr",
     "output_type": "stream",
     "text": [
      "  2% (38 of 1464) |                      | Elapsed Time: 0:19:50 ETA:  12:13:48"
     ]
    },
    {
     "name": "stdout",
     "output_type": "stream",
     "text": [
      "SPS: 65 Average Reward: -25.439086593922912\n"
     ]
    },
    {
     "name": "stderr",
     "output_type": "stream",
     "text": [
      "  2% (39 of 1464) |                      | Elapsed Time: 0:20:21 ETA:  12:10:56"
     ]
    },
    {
     "name": "stdout",
     "output_type": "stream",
     "text": [
      "SPS: 65 Average Reward: -29.361187896298752\n"
     ]
    },
    {
     "name": "stderr",
     "output_type": "stream",
     "text": [
      "  2% (40 of 1464) |                      | Elapsed Time: 0:20:52 ETA:  12:13:18"
     ]
    },
    {
     "name": "stdout",
     "output_type": "stream",
     "text": [
      "SPS: 65 Average Reward: -23.28030911711089\n"
     ]
    },
    {
     "name": "stderr",
     "output_type": "stream",
     "text": [
      "  2% (41 of 1464) |                      | Elapsed Time: 0:21:22 ETA:  11:59:58"
     ]
    },
    {
     "name": "stdout",
     "output_type": "stream",
     "text": [
      "SPS: 65 Average Reward: -24.04468536205057\n"
     ]
    },
    {
     "name": "stderr",
     "output_type": "stream",
     "text": [
      "  2% (42 of 1464) |                      | Elapsed Time: 0:21:53 ETA:  12:11:17"
     ]
    },
    {
     "name": "stdout",
     "output_type": "stream",
     "text": [
      "SPS: 65 Average Reward: -17.389207250884432\n"
     ]
    },
    {
     "name": "stderr",
     "output_type": "stream",
     "text": [
      "  2% (43 of 1464) |                      | Elapsed Time: 0:22:24 ETA:  12:10:23"
     ]
    },
    {
     "name": "stdout",
     "output_type": "stream",
     "text": [
      "SPS: 65 Average Reward: -18.983172372790232\n"
     ]
    },
    {
     "name": "stderr",
     "output_type": "stream",
     "text": [
      "  3% (44 of 1464) |                      | Elapsed Time: 0:22:55 ETA:  12:11:23"
     ]
    },
    {
     "name": "stdout",
     "output_type": "stream",
     "text": [
      "SPS: 65 Average Reward: -18.42549224655168\n"
     ]
    },
    {
     "name": "stderr",
     "output_type": "stream",
     "text": [
      "  3% (45 of 1464) |                      | Elapsed Time: 0:23:25 ETA:  12:05:27"
     ]
    },
    {
     "name": "stdout",
     "output_type": "stream",
     "text": [
      "SPS: 65 Average Reward: -8.759610214577533\n"
     ]
    },
    {
     "name": "stderr",
     "output_type": "stream",
     "text": [
      "  3% (46 of 1464) |                      | Elapsed Time: 0:23:56 ETA:  12:10:20"
     ]
    },
    {
     "name": "stdout",
     "output_type": "stream",
     "text": [
      "SPS: 65 Average Reward: -9.037210775088603\n"
     ]
    },
    {
     "name": "stderr",
     "output_type": "stream",
     "text": [
      "  3% (47 of 1464) |                      | Elapsed Time: 0:24:27 ETA:  12:04:36"
     ]
    },
    {
     "name": "stdout",
     "output_type": "stream",
     "text": [
      "SPS: 65 Average Reward: -9.47693144615446\n"
     ]
    },
    {
     "name": "stderr",
     "output_type": "stream",
     "text": [
      "  3% (48 of 1464) |                      | Elapsed Time: 0:24:58 ETA:  12:08:52"
     ]
    },
    {
     "name": "stdout",
     "output_type": "stream",
     "text": [
      "SPS: 65 Average Reward: -14.760941161291292\n"
     ]
    },
    {
     "name": "stderr",
     "output_type": "stream",
     "text": [
      "  3% (49 of 1464) |                      | Elapsed Time: 0:25:29 ETA:  12:09:11"
     ]
    },
    {
     "name": "stdout",
     "output_type": "stream",
     "text": [
      "SPS: 65 Average Reward: -18.873630717680605\n"
     ]
    },
    {
     "name": "stderr",
     "output_type": "stream",
     "text": [
      "  3% (50 of 1464) |                      | Elapsed Time: 0:25:59 ETA:  12:05:35"
     ]
    },
    {
     "name": "stdout",
     "output_type": "stream",
     "text": [
      "SPS: 65 Average Reward: -18.964792090733486\n"
     ]
    },
    {
     "name": "stderr",
     "output_type": "stream",
     "text": [
      "  3% (51 of 1464) |                      | Elapsed Time: 0:26:30 ETA:  12:06:45"
     ]
    },
    {
     "name": "stdout",
     "output_type": "stream",
     "text": [
      "SPS: 65 Average Reward: -18.015960798309614\n"
     ]
    },
    {
     "name": "stderr",
     "output_type": "stream",
     "text": [
      "  3% (52 of 1464) |                      | Elapsed Time: 0:27:01 ETA:  12:04:47"
     ]
    },
    {
     "name": "stdout",
     "output_type": "stream",
     "text": [
      "SPS: 65 Average Reward: -18.514197723825923\n"
     ]
    },
    {
     "name": "stderr",
     "output_type": "stream",
     "text": [
      "  3% (53 of 1464) |                      | Elapsed Time: 0:27:32 ETA:  12:07:02"
     ]
    },
    {
     "name": "stdout",
     "output_type": "stream",
     "text": [
      "SPS: 65 Average Reward: -10.463063844826138\n"
     ]
    },
    {
     "name": "stderr",
     "output_type": "stream",
     "text": [
      "  3% (54 of 1464) |                      | Elapsed Time: 0:28:03 ETA:  12:06:58"
     ]
    },
    {
     "name": "stdout",
     "output_type": "stream",
     "text": [
      "SPS: 65 Average Reward: -9.712085759641313\n"
     ]
    },
    {
     "name": "stderr",
     "output_type": "stream",
     "text": [
      "  3% (55 of 1464) |                      | Elapsed Time: 0:28:34 ETA:  12:06:12"
     ]
    },
    {
     "name": "stdout",
     "output_type": "stream",
     "text": [
      "SPS: 65 Average Reward: -12.587017963436589\n"
     ]
    },
    {
     "name": "stderr",
     "output_type": "stream",
     "text": [
      "  3% (56 of 1464) |                      | Elapsed Time: 0:29:05 ETA:  12:06:49"
     ]
    },
    {
     "name": "stdout",
     "output_type": "stream",
     "text": [
      "SPS: 65 Average Reward: -12.488167563771576\n"
     ]
    },
    {
     "name": "stderr",
     "output_type": "stream",
     "text": [
      "  3% (57 of 1464) |                      | Elapsed Time: 0:29:36 ETA:  12:02:57"
     ]
    },
    {
     "name": "stdout",
     "output_type": "stream",
     "text": [
      "SPS: 65 Average Reward: -17.801478738867797\n"
     ]
    },
    {
     "name": "stderr",
     "output_type": "stream",
     "text": [
      "  3% (58 of 1464) |                      | Elapsed Time: 0:30:06 ETA:  11:45:47"
     ]
    },
    {
     "name": "stdout",
     "output_type": "stream",
     "text": [
      "SPS: 65 Average Reward: -19.41594690652896\n"
     ]
    },
    {
     "name": "stderr",
     "output_type": "stream",
     "text": [
      "  4% (59 of 1464) |                      | Elapsed Time: 0:30:36 ETA:  11:55:52"
     ]
    },
    {
     "name": "stdout",
     "output_type": "stream",
     "text": [
      "SPS: 65 Average Reward: -17.401526423769177\n"
     ]
    },
    {
     "name": "stderr",
     "output_type": "stream",
     "text": [
      "  4% (60 of 1464) |                      | Elapsed Time: 0:31:07 ETA:  11:45:58"
     ]
    },
    {
     "name": "stdout",
     "output_type": "stream",
     "text": [
      "SPS: 65 Average Reward: -15.008521090096592\n"
     ]
    },
    {
     "name": "stderr",
     "output_type": "stream",
     "text": [
      "  4% (61 of 1464) |                      | Elapsed Time: 0:31:37 ETA:  11:47:53"
     ]
    },
    {
     "name": "stdout",
     "output_type": "stream",
     "text": [
      "SPS: 65 Average Reward: -24.496714648723533\n"
     ]
    },
    {
     "name": "stderr",
     "output_type": "stream",
     "text": [
      "  4% (62 of 1464) |                      | Elapsed Time: 0:32:08 ETA:  11:57:35"
     ]
    },
    {
     "name": "stdout",
     "output_type": "stream",
     "text": [
      "SPS: 65 Average Reward: -22.2282615739207\n"
     ]
    },
    {
     "name": "stderr",
     "output_type": "stream",
     "text": [
      "  4% (63 of 1464) |                      | Elapsed Time: 0:32:38 ETA:  11:58:31"
     ]
    },
    {
     "name": "stdout",
     "output_type": "stream",
     "text": [
      "SPS: 65 Average Reward: -16.389300595505468\n"
     ]
    },
    {
     "name": "stderr",
     "output_type": "stream",
     "text": [
      "  4% (64 of 1464) |                      | Elapsed Time: 0:33:09 ETA:  11:59:33"
     ]
    },
    {
     "name": "stdout",
     "output_type": "stream",
     "text": [
      "SPS: 65 Average Reward: -15.568967014689964\n"
     ]
    },
    {
     "name": "stderr",
     "output_type": "stream",
     "text": [
      "  4% (65 of 1464) |                      | Elapsed Time: 0:33:40 ETA:  12:00:52"
     ]
    },
    {
     "name": "stdout",
     "output_type": "stream",
     "text": [
      "SPS: 65 Average Reward: -16.115530288987184\n"
     ]
    },
    {
     "name": "stderr",
     "output_type": "stream",
     "text": [
      "  4% (66 of 1464) |                      | Elapsed Time: 0:34:11 ETA:  11:56:04"
     ]
    },
    {
     "name": "stdout",
     "output_type": "stream",
     "text": [
      "SPS: 65 Average Reward: -15.926404717262773\n"
     ]
    },
    {
     "name": "stderr",
     "output_type": "stream",
     "text": [
      "  4% (67 of 1464) |#                     | Elapsed Time: 0:34:42 ETA:  11:59:10"
     ]
    },
    {
     "name": "stdout",
     "output_type": "stream",
     "text": [
      "SPS: 65 Average Reward: -16.21867692810901\n"
     ]
    },
    {
     "name": "stderr",
     "output_type": "stream",
     "text": [
      "  4% (68 of 1464) |#                     | Elapsed Time: 0:35:13 ETA:  11:59:18"
     ]
    },
    {
     "name": "stdout",
     "output_type": "stream",
     "text": [
      "SPS: 65 Average Reward: -14.98675775446987\n"
     ]
    },
    {
     "name": "stderr",
     "output_type": "stream",
     "text": [
      "  4% (69 of 1464) |#                     | Elapsed Time: 0:35:44 ETA:  11:59:50"
     ]
    },
    {
     "name": "stdout",
     "output_type": "stream",
     "text": [
      "SPS: 65 Average Reward: -11.573336401896675\n"
     ]
    },
    {
     "name": "stderr",
     "output_type": "stream",
     "text": [
      "  4% (70 of 1464) |#                     | Elapsed Time: 0:36:15 ETA:  11:59:12"
     ]
    },
    {
     "name": "stdout",
     "output_type": "stream",
     "text": [
      "SPS: 65 Average Reward: -15.43692901480468\n"
     ]
    },
    {
     "name": "stderr",
     "output_type": "stream",
     "text": [
      "  4% (71 of 1464) |#                     | Elapsed Time: 0:36:45 ETA:  11:58:37"
     ]
    },
    {
     "name": "stdout",
     "output_type": "stream",
     "text": [
      "SPS: 65 Average Reward: -15.077934350299708\n"
     ]
    },
    {
     "name": "stderr",
     "output_type": "stream",
     "text": [
      "  4% (72 of 1464) |#                     | Elapsed Time: 0:37:16 ETA:  11:57:24"
     ]
    },
    {
     "name": "stdout",
     "output_type": "stream",
     "text": [
      "SPS: 65 Average Reward: -16.091371759202236\n"
     ]
    },
    {
     "name": "stderr",
     "output_type": "stream",
     "text": [
      "  4% (73 of 1464) |#                     | Elapsed Time: 0:37:47 ETA:  11:58:11"
     ]
    },
    {
     "name": "stdout",
     "output_type": "stream",
     "text": [
      "SPS: 65 Average Reward: -13.799954129118484\n"
     ]
    },
    {
     "name": "stderr",
     "output_type": "stream",
     "text": [
      "  5% (74 of 1464) |#                     | Elapsed Time: 0:38:18 ETA:  11:54:16"
     ]
    },
    {
     "name": "stdout",
     "output_type": "stream",
     "text": [
      "SPS: 65 Average Reward: -15.30864214353609\n"
     ]
    },
    {
     "name": "stderr",
     "output_type": "stream",
     "text": [
      "  5% (75 of 1464) |#                     | Elapsed Time: 0:38:49 ETA:  11:47:46"
     ]
    },
    {
     "name": "stdout",
     "output_type": "stream",
     "text": [
      "SPS: 65 Average Reward: -9.755476175662718\n"
     ]
    },
    {
     "name": "stderr",
     "output_type": "stream",
     "text": [
      "  5% (76 of 1464) |#                     | Elapsed Time: 0:39:20 ETA:  11:54:13"
     ]
    },
    {
     "name": "stdout",
     "output_type": "stream",
     "text": [
      "SPS: 65 Average Reward: -13.707878981936945\n"
     ]
    },
    {
     "name": "stderr",
     "output_type": "stream",
     "text": [
      "  5% (77 of 1464) |#                     | Elapsed Time: 0:39:51 ETA:  11:54:46"
     ]
    },
    {
     "name": "stdout",
     "output_type": "stream",
     "text": [
      "SPS: 65 Average Reward: -13.256600862662971\n"
     ]
    },
    {
     "name": "stderr",
     "output_type": "stream",
     "text": [
      "  5% (78 of 1464) |#                     | Elapsed Time: 0:40:22 ETA:  11:56:38"
     ]
    },
    {
     "name": "stdout",
     "output_type": "stream",
     "text": [
      "SPS: 65 Average Reward: -9.473899894805491\n"
     ]
    },
    {
     "name": "stderr",
     "output_type": "stream",
     "text": [
      "  5% (79 of 1464) |#                     | Elapsed Time: 0:40:52 ETA:  11:43:35"
     ]
    },
    {
     "name": "stdout",
     "output_type": "stream",
     "text": [
      "SPS: 65 Average Reward: -13.167085933570583\n"
     ]
    },
    {
     "name": "stderr",
     "output_type": "stream",
     "text": [
      "  5% (80 of 1464) |#                     | Elapsed Time: 0:41:23 ETA:  11:55:58"
     ]
    },
    {
     "name": "stdout",
     "output_type": "stream",
     "text": [
      "SPS: 65 Average Reward: -14.84971018366898\n"
     ]
    },
    {
     "name": "stderr",
     "output_type": "stream",
     "text": [
      "  5% (81 of 1464) |#                     | Elapsed Time: 0:41:54 ETA:  11:51:17"
     ]
    },
    {
     "name": "stdout",
     "output_type": "stream",
     "text": [
      "SPS: 65 Average Reward: -16.1731466520075\n"
     ]
    },
    {
     "name": "stderr",
     "output_type": "stream",
     "text": [
      "  5% (82 of 1464) |#                     | Elapsed Time: 0:42:25 ETA:  11:51:51"
     ]
    },
    {
     "name": "stdout",
     "output_type": "stream",
     "text": [
      "SPS: 65 Average Reward: -15.392811686931356\n"
     ]
    },
    {
     "name": "stderr",
     "output_type": "stream",
     "text": [
      "  5% (83 of 1464) |#                     | Elapsed Time: 0:42:56 ETA:  11:52:59"
     ]
    },
    {
     "name": "stdout",
     "output_type": "stream",
     "text": [
      "SPS: 65 Average Reward: -10.138707784464193\n"
     ]
    },
    {
     "name": "stderr",
     "output_type": "stream",
     "text": [
      "  5% (84 of 1464) |#                     | Elapsed Time: 0:43:27 ETA:  11:48:00"
     ]
    },
    {
     "name": "stdout",
     "output_type": "stream",
     "text": [
      "SPS: 65 Average Reward: -13.88524876556477\n"
     ]
    },
    {
     "name": "stderr",
     "output_type": "stream",
     "text": [
      "  5% (85 of 1464) |#                     | Elapsed Time: 0:43:58 ETA:  11:51:22"
     ]
    },
    {
     "name": "stdout",
     "output_type": "stream",
     "text": [
      "SPS: 65 Average Reward: -13.822332459609742\n"
     ]
    },
    {
     "name": "stderr",
     "output_type": "stream",
     "text": [
      "  5% (86 of 1464) |#                     | Elapsed Time: 0:44:28 ETA:  11:43:40"
     ]
    },
    {
     "name": "stdout",
     "output_type": "stream",
     "text": [
      "SPS: 66 Average Reward: -10.536038267168191\n"
     ]
    },
    {
     "name": "stderr",
     "output_type": "stream",
     "text": [
      "  5% (87 of 1464) |#                     | Elapsed Time: 0:44:59 ETA:  11:47:20"
     ]
    },
    {
     "name": "stdout",
     "output_type": "stream",
     "text": [
      "SPS: 66 Average Reward: -11.339983477319237\n"
     ]
    },
    {
     "name": "stderr",
     "output_type": "stream",
     "text": [
      "  6% (88 of 1464) |#                     | Elapsed Time: 0:45:30 ETA:  11:51:35"
     ]
    },
    {
     "name": "stdout",
     "output_type": "stream",
     "text": [
      "SPS: 66 Average Reward: -11.59078713846714\n"
     ]
    },
    {
     "name": "stderr",
     "output_type": "stream",
     "text": [
      "  6% (89 of 1464) |#                     | Elapsed Time: 0:46:01 ETA:  11:46:47"
     ]
    },
    {
     "name": "stdout",
     "output_type": "stream",
     "text": [
      "SPS: 66 Average Reward: -20.346966654827252\n"
     ]
    },
    {
     "name": "stderr",
     "output_type": "stream",
     "text": [
      "  6% (90 of 1464) |#                     | Elapsed Time: 0:46:32 ETA:  11:47:51"
     ]
    },
    {
     "name": "stdout",
     "output_type": "stream",
     "text": [
      "SPS: 66 Average Reward: -18.81542568681602\n"
     ]
    },
    {
     "name": "stderr",
     "output_type": "stream",
     "text": [
      "  6% (91 of 1464) |#                     | Elapsed Time: 0:47:03 ETA:  11:46:07"
     ]
    },
    {
     "name": "stdout",
     "output_type": "stream",
     "text": [
      "SPS: 66 Average Reward: -12.862971556431699\n"
     ]
    },
    {
     "name": "stderr",
     "output_type": "stream",
     "text": [
      "  6% (92 of 1464) |#                     | Elapsed Time: 0:47:34 ETA:  11:48:27"
     ]
    },
    {
     "name": "stdout",
     "output_type": "stream",
     "text": [
      "SPS: 66 Average Reward: -13.82908160770524\n"
     ]
    },
    {
     "name": "stderr",
     "output_type": "stream",
     "text": [
      "  6% (93 of 1464) |#                     | Elapsed Time: 0:48:05 ETA:  11:47:01"
     ]
    },
    {
     "name": "stdout",
     "output_type": "stream",
     "text": [
      "SPS: 66 Average Reward: -14.78927655738253\n"
     ]
    },
    {
     "name": "stderr",
     "output_type": "stream",
     "text": [
      "  6% (94 of 1464) |#                     | Elapsed Time: 0:48:35 ETA:  11:42:45"
     ]
    },
    {
     "name": "stdout",
     "output_type": "stream",
     "text": [
      "SPS: 66 Average Reward: -17.695171540445067\n"
     ]
    },
    {
     "name": "stderr",
     "output_type": "stream",
     "text": [
      "  6% (95 of 1464) |#                     | Elapsed Time: 0:49:06 ETA:  11:37:22"
     ]
    },
    {
     "name": "stdout",
     "output_type": "stream",
     "text": [
      "SPS: 66 Average Reward: -19.965034751383318\n"
     ]
    },
    {
     "name": "stderr",
     "output_type": "stream",
     "text": [
      "  6% (96 of 1464) |#                     | Elapsed Time: 0:49:37 ETA:  11:45:00"
     ]
    },
    {
     "name": "stdout",
     "output_type": "stream",
     "text": [
      "SPS: 66 Average Reward: -13.602939646403424\n"
     ]
    },
    {
     "name": "stderr",
     "output_type": "stream",
     "text": [
      "  6% (97 of 1464) |#                     | Elapsed Time: 0:50:08 ETA:  11:42:51"
     ]
    },
    {
     "name": "stdout",
     "output_type": "stream",
     "text": [
      "SPS: 66 Average Reward: -14.599387617345087\n"
     ]
    },
    {
     "name": "stderr",
     "output_type": "stream",
     "text": [
      "  6% (98 of 1464) |#                     | Elapsed Time: 0:50:39 ETA:  11:46:00"
     ]
    },
    {
     "name": "stdout",
     "output_type": "stream",
     "text": [
      "SPS: 66 Average Reward: -16.629399968409327\n"
     ]
    },
    {
     "name": "stderr",
     "output_type": "stream",
     "text": [
      "  6% (99 of 1464) |#                     | Elapsed Time: 0:51:10 ETA:  11:44:13"
     ]
    },
    {
     "name": "stdout",
     "output_type": "stream",
     "text": [
      "SPS: 66 Average Reward: -8.638438772266271\n"
     ]
    },
    {
     "name": "stderr",
     "output_type": "stream",
     "text": [
      "  6% (100 of 1464) |#                    | Elapsed Time: 0:51:41 ETA:  11:45:04"
     ]
    },
    {
     "name": "stdout",
     "output_type": "stream",
     "text": [
      "SPS: 66 Average Reward: -16.185571350359194\n"
     ]
    },
    {
     "name": "stderr",
     "output_type": "stream",
     "text": [
      "  6% (101 of 1464) |#                    | Elapsed Time: 0:52:12 ETA:  11:41:59"
     ]
    },
    {
     "name": "stdout",
     "output_type": "stream",
     "text": [
      "SPS: 66 Average Reward: -17.364376127840586\n"
     ]
    },
    {
     "name": "stderr",
     "output_type": "stream",
     "text": [
      "  6% (102 of 1464) |#                    | Elapsed Time: 0:52:42 ETA:  11:33:50"
     ]
    },
    {
     "name": "stdout",
     "output_type": "stream",
     "text": [
      "SPS: 66 Average Reward: -11.271832946347132\n"
     ]
    },
    {
     "name": "stderr",
     "output_type": "stream",
     "text": [
      "  7% (103 of 1464) |#                    | Elapsed Time: 0:53:13 ETA:  11:41:30"
     ]
    },
    {
     "name": "stdout",
     "output_type": "stream",
     "text": [
      "SPS: 66 Average Reward: -14.246141621958964\n"
     ]
    },
    {
     "name": "stderr",
     "output_type": "stream",
     "text": [
      "  7% (104 of 1464) |#                    | Elapsed Time: 0:53:44 ETA:  11:42:00"
     ]
    },
    {
     "name": "stdout",
     "output_type": "stream",
     "text": [
      "SPS: 66 Average Reward: -14.12189353435351\n"
     ]
    },
    {
     "name": "stderr",
     "output_type": "stream",
     "text": [
      "  7% (105 of 1464) |#                    | Elapsed Time: 0:54:15 ETA:  11:40:53"
     ]
    },
    {
     "name": "stdout",
     "output_type": "stream",
     "text": [
      "SPS: 66 Average Reward: -15.381155754847775\n"
     ]
    },
    {
     "name": "stderr",
     "output_type": "stream",
     "text": [
      "  7% (106 of 1464) |#                    | Elapsed Time: 0:54:46 ETA:  11:44:14"
     ]
    },
    {
     "name": "stdout",
     "output_type": "stream",
     "text": [
      "SPS: 66 Average Reward: -15.470950182423774\n"
     ]
    },
    {
     "name": "stderr",
     "output_type": "stream",
     "text": [
      "  7% (107 of 1464) |#                    | Elapsed Time: 0:55:17 ETA:  11:44:17"
     ]
    },
    {
     "name": "stdout",
     "output_type": "stream",
     "text": [
      "SPS: 66 Average Reward: -14.124777717095958\n"
     ]
    },
    {
     "name": "stderr",
     "output_type": "stream",
     "text": [
      "  7% (108 of 1464) |#                    | Elapsed Time: 0:55:48 ETA:  11:39:31"
     ]
    },
    {
     "name": "stdout",
     "output_type": "stream",
     "text": [
      "SPS: 66 Average Reward: -15.139924205203727\n"
     ]
    },
    {
     "name": "stderr",
     "output_type": "stream",
     "text": [
      "  7% (109 of 1464) |#                    | Elapsed Time: 0:56:19 ETA:  11:40:06"
     ]
    },
    {
     "name": "stdout",
     "output_type": "stream",
     "text": [
      "SPS: 66 Average Reward: -20.508920447107915\n"
     ]
    },
    {
     "name": "stderr",
     "output_type": "stream",
     "text": [
      "  7% (110 of 1464) |#                    | Elapsed Time: 0:56:50 ETA:  11:44:22"
     ]
    },
    {
     "name": "stdout",
     "output_type": "stream",
     "text": [
      "SPS: 66 Average Reward: -14.192059674254443\n"
     ]
    },
    {
     "name": "stderr",
     "output_type": "stream",
     "text": [
      "  7% (111 of 1464) |#                    | Elapsed Time: 0:57:21 ETA:  11:40:21"
     ]
    },
    {
     "name": "stdout",
     "output_type": "stream",
     "text": [
      "SPS: 66 Average Reward: -13.093390736519133\n"
     ]
    },
    {
     "name": "stderr",
     "output_type": "stream",
     "text": [
      "  7% (112 of 1464) |#                    | Elapsed Time: 0:57:53 ETA:  11:38:59"
     ]
    },
    {
     "name": "stdout",
     "output_type": "stream",
     "text": [
      "SPS: 66 Average Reward: -15.111075848503068\n"
     ]
    },
    {
     "name": "stderr",
     "output_type": "stream",
     "text": [
      "  7% (113 of 1464) |#                    | Elapsed Time: 0:58:24 ETA:  11:39:18"
     ]
    },
    {
     "name": "stdout",
     "output_type": "stream",
     "text": [
      "SPS: 66 Average Reward: -17.20860500180039\n"
     ]
    },
    {
     "name": "stderr",
     "output_type": "stream",
     "text": [
      "  7% (114 of 1464) |#                    | Elapsed Time: 0:58:55 ETA:  11:37:57"
     ]
    },
    {
     "name": "stdout",
     "output_type": "stream",
     "text": [
      "SPS: 66 Average Reward: -16.888144096954882\n"
     ]
    },
    {
     "name": "stderr",
     "output_type": "stream",
     "text": [
      "  7% (115 of 1464) |#                    | Elapsed Time: 0:59:26 ETA:  11:37:16"
     ]
    },
    {
     "name": "stdout",
     "output_type": "stream",
     "text": [
      "SPS: 66 Average Reward: -16.812152233971407\n"
     ]
    },
    {
     "name": "stderr",
     "output_type": "stream",
     "text": [
      "  7% (116 of 1464) |#                    | Elapsed Time: 0:59:56 ETA:  11:27:12"
     ]
    },
    {
     "name": "stdout",
     "output_type": "stream",
     "text": [
      "SPS: 66 Average Reward: -17.143938992224626\n"
     ]
    },
    {
     "name": "stderr",
     "output_type": "stream",
     "text": [
      "  7% (117 of 1464) |#                    | Elapsed Time: 1:00:27 ETA:  11:35:22"
     ]
    },
    {
     "name": "stdout",
     "output_type": "stream",
     "text": [
      "SPS: 66 Average Reward: -14.523583468277149\n"
     ]
    },
    {
     "name": "stderr",
     "output_type": "stream",
     "text": [
      "  8% (118 of 1464) |#                    | Elapsed Time: 1:00:58 ETA:  11:35:32"
     ]
    },
    {
     "name": "stdout",
     "output_type": "stream",
     "text": [
      "SPS: 66 Average Reward: -13.943339304109484\n"
     ]
    },
    {
     "name": "stderr",
     "output_type": "stream",
     "text": [
      "  8% (119 of 1464) |#                    | Elapsed Time: 1:01:29 ETA:  11:26:12"
     ]
    },
    {
     "name": "stdout",
     "output_type": "stream",
     "text": [
      "SPS: 66 Average Reward: -13.441159615561503\n"
     ]
    },
    {
     "name": "stderr",
     "output_type": "stream",
     "text": [
      "  8% (120 of 1464) |#                    | Elapsed Time: 1:02:00 ETA:  11:31:52"
     ]
    },
    {
     "name": "stdout",
     "output_type": "stream",
     "text": [
      "SPS: 66 Average Reward: -16.17324411764273\n"
     ]
    },
    {
     "name": "stderr",
     "output_type": "stream",
     "text": [
      "  8% (121 of 1464) |#                    | Elapsed Time: 1:02:31 ETA:  11:33:40"
     ]
    },
    {
     "name": "stdout",
     "output_type": "stream",
     "text": [
      "SPS: 66 Average Reward: -15.637067270200134\n"
     ]
    },
    {
     "name": "stderr",
     "output_type": "stream",
     "text": [
      "  8% (122 of 1464) |#                    | Elapsed Time: 1:03:02 ETA:  11:33:46"
     ]
    },
    {
     "name": "stdout",
     "output_type": "stream",
     "text": [
      "SPS: 66 Average Reward: -10.978905036339311\n"
     ]
    },
    {
     "name": "stderr",
     "output_type": "stream",
     "text": [
      "  8% (123 of 1464) |#                    | Elapsed Time: 1:03:33 ETA:  11:32:48"
     ]
    },
    {
     "name": "stdout",
     "output_type": "stream",
     "text": [
      "SPS: 66 Average Reward: -12.651263735307914\n"
     ]
    },
    {
     "name": "stderr",
     "output_type": "stream",
     "text": [
      "  8% (124 of 1464) |#                    | Elapsed Time: 1:04:04 ETA:  11:32:58"
     ]
    },
    {
     "name": "stdout",
     "output_type": "stream",
     "text": [
      "SPS: 66 Average Reward: -10.715836220204329\n"
     ]
    },
    {
     "name": "stderr",
     "output_type": "stream",
     "text": [
      "  8% (125 of 1464) |#                    | Elapsed Time: 1:04:35 ETA:  11:36:01"
     ]
    },
    {
     "name": "stdout",
     "output_type": "stream",
     "text": [
      "SPS: 66 Average Reward: -12.95492966219506\n"
     ]
    },
    {
     "name": "stderr",
     "output_type": "stream",
     "text": [
      "  8% (126 of 1464) |#                    | Elapsed Time: 1:05:06 ETA:  11:32:38"
     ]
    },
    {
     "name": "stdout",
     "output_type": "stream",
     "text": [
      "SPS: 66 Average Reward: -12.004860931642153\n"
     ]
    },
    {
     "name": "stderr",
     "output_type": "stream",
     "text": [
      "  8% (127 of 1464) |#                    | Elapsed Time: 1:05:37 ETA:  11:32:48"
     ]
    },
    {
     "name": "stdout",
     "output_type": "stream",
     "text": [
      "SPS: 66 Average Reward: -12.79123543996352\n"
     ]
    },
    {
     "name": "stderr",
     "output_type": "stream",
     "text": [
      "  8% (128 of 1464) |#                    | Elapsed Time: 1:06:08 ETA:  11:21:13"
     ]
    },
    {
     "name": "stdout",
     "output_type": "stream",
     "text": [
      "SPS: 66 Average Reward: -12.356736162238853\n"
     ]
    },
    {
     "name": "stderr",
     "output_type": "stream",
     "text": [
      "  8% (129 of 1464) |#                    | Elapsed Time: 1:06:39 ETA:  11:28:56"
     ]
    },
    {
     "name": "stdout",
     "output_type": "stream",
     "text": [
      "SPS: 66 Average Reward: -15.719081371639067\n"
     ]
    },
    {
     "name": "stderr",
     "output_type": "stream",
     "text": [
      "  8% (130 of 1464) |#                    | Elapsed Time: 1:07:09 ETA:  11:25:56"
     ]
    },
    {
     "name": "stdout",
     "output_type": "stream",
     "text": [
      "SPS: 66 Average Reward: -10.72549262106314\n"
     ]
    },
    {
     "name": "stderr",
     "output_type": "stream",
     "text": [
      "  8% (131 of 1464) |#                    | Elapsed Time: 1:07:40 ETA:  11:12:15"
     ]
    },
    {
     "name": "stdout",
     "output_type": "stream",
     "text": [
      "SPS: 66 Average Reward: -13.073431983277937\n"
     ]
    },
    {
     "name": "stderr",
     "output_type": "stream",
     "text": [
      "  9% (132 of 1464) |#                    | Elapsed Time: 1:08:10 ETA:  11:14:38"
     ]
    },
    {
     "name": "stdout",
     "output_type": "stream",
     "text": [
      "SPS: 66 Average Reward: -18.294509296563483\n"
     ]
    },
    {
     "name": "stderr",
     "output_type": "stream",
     "text": [
      "  9% (133 of 1464) |#                    | Elapsed Time: 1:08:41 ETA:  11:29:04"
     ]
    },
    {
     "name": "stdout",
     "output_type": "stream",
     "text": [
      "SPS: 66 Average Reward: -17.77435348988172\n"
     ]
    },
    {
     "name": "stderr",
     "output_type": "stream",
     "text": [
      "  9% (134 of 1464) |#                    | Elapsed Time: 1:09:12 ETA:  11:31:07"
     ]
    },
    {
     "name": "stdout",
     "output_type": "stream",
     "text": [
      "SPS: 66 Average Reward: -14.091342676608404\n"
     ]
    },
    {
     "name": "stderr",
     "output_type": "stream",
     "text": [
      "  9% (135 of 1464) |#                    | Elapsed Time: 1:09:43 ETA:  11:29:30"
     ]
    },
    {
     "name": "stdout",
     "output_type": "stream",
     "text": [
      "SPS: 66 Average Reward: -11.468467028393794\n"
     ]
    },
    {
     "name": "stderr",
     "output_type": "stream",
     "text": [
      "  9% (136 of 1464) |#                    | Elapsed Time: 1:10:15 ETA:  11:30:51"
     ]
    },
    {
     "name": "stdout",
     "output_type": "stream",
     "text": [
      "SPS: 66 Average Reward: -8.199808446588563\n"
     ]
    },
    {
     "name": "stderr",
     "output_type": "stream",
     "text": [
      "  9% (137 of 1464) |#                    | Elapsed Time: 1:10:46 ETA:  11:27:05"
     ]
    },
    {
     "name": "stdout",
     "output_type": "stream",
     "text": [
      "SPS: 66 Average Reward: -11.981497023527854\n"
     ]
    },
    {
     "name": "stderr",
     "output_type": "stream",
     "text": [
      "  9% (138 of 1464) |#                    | Elapsed Time: 1:11:17 ETA:  11:27:56"
     ]
    },
    {
     "name": "stdout",
     "output_type": "stream",
     "text": [
      "SPS: 66 Average Reward: -11.933948671761783\n"
     ]
    },
    {
     "name": "stderr",
     "output_type": "stream",
     "text": [
      "  9% (139 of 1464) |#                    | Elapsed Time: 1:11:48 ETA:  11:27:26"
     ]
    },
    {
     "name": "stdout",
     "output_type": "stream",
     "text": [
      "SPS: 66 Average Reward: -11.787551540094308\n"
     ]
    },
    {
     "name": "stderr",
     "output_type": "stream",
     "text": [
      "  9% (140 of 1464) |##                   | Elapsed Time: 1:12:19 ETA:  11:25:04"
     ]
    },
    {
     "name": "stdout",
     "output_type": "stream",
     "text": [
      "SPS: 66 Average Reward: -13.385354647311408\n"
     ]
    },
    {
     "name": "stderr",
     "output_type": "stream",
     "text": [
      "  9% (141 of 1464) |##                   | Elapsed Time: 1:12:50 ETA:  11:16:05"
     ]
    },
    {
     "name": "stdout",
     "output_type": "stream",
     "text": [
      "SPS: 66 Average Reward: -11.024375304306368\n"
     ]
    },
    {
     "name": "stderr",
     "output_type": "stream",
     "text": [
      "  9% (142 of 1464) |##                   | Elapsed Time: 1:13:21 ETA:  11:25:49"
     ]
    },
    {
     "name": "stdout",
     "output_type": "stream",
     "text": [
      "SPS: 66 Average Reward: -16.091618505904716\n"
     ]
    },
    {
     "name": "stderr",
     "output_type": "stream",
     "text": [
      "  9% (143 of 1464) |##                   | Elapsed Time: 1:13:52 ETA:  11:23:42"
     ]
    },
    {
     "name": "stdout",
     "output_type": "stream",
     "text": [
      "SPS: 66 Average Reward: -14.356805370874282\n"
     ]
    },
    {
     "name": "stderr",
     "output_type": "stream",
     "text": [
      "  9% (144 of 1464) |##                   | Elapsed Time: 1:14:23 ETA:  11:22:26"
     ]
    },
    {
     "name": "stdout",
     "output_type": "stream",
     "text": [
      "SPS: 66 Average Reward: -14.873967908537917\n"
     ]
    },
    {
     "name": "stderr",
     "output_type": "stream",
     "text": [
      "  9% (145 of 1464) |##                   | Elapsed Time: 1:14:54 ETA:  11:23:32"
     ]
    },
    {
     "name": "stdout",
     "output_type": "stream",
     "text": [
      "SPS: 66 Average Reward: -15.17999132720615\n"
     ]
    },
    {
     "name": "stderr",
     "output_type": "stream",
     "text": [
      "  9% (146 of 1464) |##                   | Elapsed Time: 1:15:25 ETA:  11:21:11"
     ]
    },
    {
     "name": "stdout",
     "output_type": "stream",
     "text": [
      "SPS: 66 Average Reward: -9.984151869243528\n"
     ]
    },
    {
     "name": "stderr",
     "output_type": "stream",
     "text": [
      " 10% (147 of 1464) |##                   | Elapsed Time: 1:15:56 ETA:  11:24:21"
     ]
    },
    {
     "name": "stdout",
     "output_type": "stream",
     "text": [
      "SPS: 66 Average Reward: -11.50732287336622\n"
     ]
    },
    {
     "name": "stderr",
     "output_type": "stream",
     "text": [
      " 10% (148 of 1464) |##                   | Elapsed Time: 1:16:27 ETA:  11:15:56"
     ]
    },
    {
     "name": "stdout",
     "output_type": "stream",
     "text": [
      "SPS: 66 Average Reward: -14.140525229469104\n"
     ]
    },
    {
     "name": "stderr",
     "output_type": "stream",
     "text": [
      " 10% (149 of 1464) |##                   | Elapsed Time: 1:16:58 ETA:  11:20:23"
     ]
    },
    {
     "name": "stdout",
     "output_type": "stream",
     "text": [
      "SPS: 66 Average Reward: -11.241770758735633\n"
     ]
    },
    {
     "name": "stderr",
     "output_type": "stream",
     "text": [
      " 10% (150 of 1464) |##                   | Elapsed Time: 1:17:29 ETA:  11:21:54"
     ]
    },
    {
     "name": "stdout",
     "output_type": "stream",
     "text": [
      "SPS: 66 Average Reward: -11.139511581535603\n"
     ]
    },
    {
     "name": "stderr",
     "output_type": "stream",
     "text": [
      " 10% (151 of 1464) |##                   | Elapsed Time: 1:18:00 ETA:  11:20:09"
     ]
    },
    {
     "name": "stdout",
     "output_type": "stream",
     "text": [
      "SPS: 66 Average Reward: -9.338311874068884\n"
     ]
    },
    {
     "name": "stderr",
     "output_type": "stream",
     "text": [
      " 10% (152 of 1464) |##                   | Elapsed Time: 1:18:31 ETA:  11:18:42"
     ]
    },
    {
     "name": "stdout",
     "output_type": "stream",
     "text": [
      "SPS: 66 Average Reward: -10.045243426387891\n"
     ]
    },
    {
     "name": "stderr",
     "output_type": "stream",
     "text": [
      " 10% (153 of 1464) |##                   | Elapsed Time: 1:19:02 ETA:  11:20:32"
     ]
    },
    {
     "name": "stdout",
     "output_type": "stream",
     "text": [
      "SPS: 66 Average Reward: -16.48534689424117\n"
     ]
    },
    {
     "name": "stderr",
     "output_type": "stream",
     "text": [
      " 10% (154 of 1464) |##                   | Elapsed Time: 1:19:33 ETA:  11:17:23"
     ]
    },
    {
     "name": "stdout",
     "output_type": "stream",
     "text": [
      "SPS: 66 Average Reward: -16.36951349280646\n"
     ]
    },
    {
     "name": "stderr",
     "output_type": "stream",
     "text": [
      " 10% (155 of 1464) |##                   | Elapsed Time: 1:20:04 ETA:  11:10:49"
     ]
    },
    {
     "name": "stdout",
     "output_type": "stream",
     "text": [
      "SPS: 66 Average Reward: -14.398619154723988\n"
     ]
    },
    {
     "name": "stderr",
     "output_type": "stream",
     "text": [
      " 10% (156 of 1464) |##                   | Elapsed Time: 1:20:35 ETA:  11:18:34"
     ]
    },
    {
     "name": "stdout",
     "output_type": "stream",
     "text": [
      "SPS: 66 Average Reward: -10.148578469789566\n"
     ]
    },
    {
     "name": "stderr",
     "output_type": "stream",
     "text": [
      " 10% (157 of 1464) |##                   | Elapsed Time: 1:21:06 ETA:  11:16:15"
     ]
    },
    {
     "name": "stdout",
     "output_type": "stream",
     "text": [
      "SPS: 66 Average Reward: -8.82715840501089\n"
     ]
    },
    {
     "name": "stderr",
     "output_type": "stream",
     "text": [
      " 10% (158 of 1464) |##                   | Elapsed Time: 1:21:37 ETA:  11:15:16"
     ]
    },
    {
     "name": "stdout",
     "output_type": "stream",
     "text": [
      "SPS: 66 Average Reward: -9.85494741587075\n"
     ]
    },
    {
     "name": "stderr",
     "output_type": "stream",
     "text": [
      " 10% (159 of 1464) |##                   | Elapsed Time: 1:22:09 ETA:  11:16:58"
     ]
    },
    {
     "name": "stdout",
     "output_type": "stream",
     "text": [
      "SPS: 66 Average Reward: -14.111109939682038\n"
     ]
    },
    {
     "name": "stderr",
     "output_type": "stream",
     "text": [
      " 10% (160 of 1464) |##                   | Elapsed Time: 1:22:40 ETA:  11:16:28"
     ]
    },
    {
     "name": "stdout",
     "output_type": "stream",
     "text": [
      "SPS: 66 Average Reward: -9.95333518942418\n"
     ]
    },
    {
     "name": "stderr",
     "output_type": "stream",
     "text": [
      " 10% (161 of 1464) |##                   | Elapsed Time: 1:23:11 ETA:  11:13:23"
     ]
    },
    {
     "name": "stdout",
     "output_type": "stream",
     "text": [
      "SPS: 66 Average Reward: -10.429206684620546\n"
     ]
    },
    {
     "name": "stderr",
     "output_type": "stream",
     "text": [
      " 11% (162 of 1464) |##                   | Elapsed Time: 1:23:41 ETA:  11:06:19"
     ]
    },
    {
     "name": "stdout",
     "output_type": "stream",
     "text": [
      "SPS: 66 Average Reward: -13.10473861562725\n"
     ]
    },
    {
     "name": "stderr",
     "output_type": "stream",
     "text": [
      " 11% (163 of 1464) |##                   | Elapsed Time: 1:24:12 ETA:  11:12:30"
     ]
    },
    {
     "name": "stdout",
     "output_type": "stream",
     "text": [
      "SPS: 66 Average Reward: -8.816671267028923\n"
     ]
    },
    {
     "name": "stderr",
     "output_type": "stream",
     "text": [
      " 11% (164 of 1464) |##                   | Elapsed Time: 1:24:44 ETA:  11:13:29"
     ]
    },
    {
     "name": "stdout",
     "output_type": "stream",
     "text": [
      "SPS: 66 Average Reward: -8.430334065740563\n"
     ]
    },
    {
     "name": "stderr",
     "output_type": "stream",
     "text": [
      " 11% (165 of 1464) |##                   | Elapsed Time: 1:25:15 ETA:  11:15:30"
     ]
    },
    {
     "name": "stdout",
     "output_type": "stream",
     "text": [
      "SPS: 66 Average Reward: -11.921799997569739\n"
     ]
    },
    {
     "name": "stderr",
     "output_type": "stream",
     "text": [
      " 11% (166 of 1464) |##                   | Elapsed Time: 1:25:46 ETA:  11:13:44"
     ]
    },
    {
     "name": "stdout",
     "output_type": "stream",
     "text": [
      "SPS: 66 Average Reward: -11.001226638648376\n"
     ]
    },
    {
     "name": "stderr",
     "output_type": "stream",
     "text": [
      " 11% (167 of 1464) |##                   | Elapsed Time: 1:26:17 ETA:  11:13:24"
     ]
    },
    {
     "name": "stdout",
     "output_type": "stream",
     "text": [
      "SPS: 66 Average Reward: -10.716175114466926\n"
     ]
    },
    {
     "name": "stderr",
     "output_type": "stream",
     "text": [
      " 11% (168 of 1464) |##                   | Elapsed Time: 1:26:48 ETA:  11:10:48"
     ]
    },
    {
     "name": "stdout",
     "output_type": "stream",
     "text": [
      "SPS: 66 Average Reward: -9.107848774431968\n"
     ]
    },
    {
     "name": "stderr",
     "output_type": "stream",
     "text": [
      " 11% (169 of 1464) |##                   | Elapsed Time: 1:27:19 ETA:  11:05:20"
     ]
    },
    {
     "name": "stdout",
     "output_type": "stream",
     "text": [
      "SPS: 66 Average Reward: -8.218843479194232\n"
     ]
    },
    {
     "name": "stderr",
     "output_type": "stream",
     "text": [
      " 11% (170 of 1464) |##                   | Elapsed Time: 1:27:50 ETA:  11:11:51"
     ]
    },
    {
     "name": "stdout",
     "output_type": "stream",
     "text": [
      "SPS: 66 Average Reward: -10.763521502178993\n"
     ]
    },
    {
     "name": "stderr",
     "output_type": "stream",
     "text": [
      " 11% (171 of 1464) |##                   | Elapsed Time: 1:28:21 ETA:  11:09:50"
     ]
    },
    {
     "name": "stdout",
     "output_type": "stream",
     "text": [
      "SPS: 66 Average Reward: -12.99840562269586\n"
     ]
    },
    {
     "name": "stderr",
     "output_type": "stream",
     "text": [
      " 11% (172 of 1464) |##                   | Elapsed Time: 1:28:52 ETA:  11:06:18"
     ]
    },
    {
     "name": "stdout",
     "output_type": "stream",
     "text": [
      "SPS: 66 Average Reward: -10.913429002671277\n"
     ]
    },
    {
     "name": "stderr",
     "output_type": "stream",
     "text": [
      " 11% (173 of 1464) |##                   | Elapsed Time: 1:29:23 ETA:  11:08:29"
     ]
    },
    {
     "name": "stdout",
     "output_type": "stream",
     "text": [
      "SPS: 66 Average Reward: -10.494259251418892\n"
     ]
    },
    {
     "name": "stderr",
     "output_type": "stream",
     "text": [
      " 11% (174 of 1464) |##                   | Elapsed Time: 1:29:54 ETA:  11:10:31"
     ]
    },
    {
     "name": "stdout",
     "output_type": "stream",
     "text": [
      "SPS: 66 Average Reward: -12.63831224684406\n"
     ]
    },
    {
     "name": "stderr",
     "output_type": "stream",
     "text": [
      " 11% (175 of 1464) |##                   | Elapsed Time: 1:30:25 ETA:  11:08:28"
     ]
    },
    {
     "name": "stdout",
     "output_type": "stream",
     "text": [
      "SPS: 66 Average Reward: -7.986465355276542\n"
     ]
    },
    {
     "name": "stderr",
     "output_type": "stream",
     "text": [
      " 12% (176 of 1464) |##                   | Elapsed Time: 1:30:57 ETA:  11:08:55"
     ]
    },
    {
     "name": "stdout",
     "output_type": "stream",
     "text": [
      "SPS: 66 Average Reward: -11.720553505892948\n"
     ]
    },
    {
     "name": "stderr",
     "output_type": "stream",
     "text": [
      " 12% (177 of 1464) |##                   | Elapsed Time: 1:31:28 ETA:  11:05:14"
     ]
    },
    {
     "name": "stdout",
     "output_type": "stream",
     "text": [
      "SPS: 66 Average Reward: -11.121355798361977\n"
     ]
    },
    {
     "name": "stderr",
     "output_type": "stream",
     "text": [
      " 12% (178 of 1464) |##                   | Elapsed Time: 1:31:59 ETA:  11:05:53"
     ]
    },
    {
     "name": "stdout",
     "output_type": "stream",
     "text": [
      "SPS: 66 Average Reward: -13.724695064074936\n"
     ]
    },
    {
     "name": "stderr",
     "output_type": "stream",
     "text": [
      " 12% (179 of 1464) |##                   | Elapsed Time: 1:32:30 ETA:  11:03:52"
     ]
    },
    {
     "name": "stdout",
     "output_type": "stream",
     "text": [
      "SPS: 66 Average Reward: -17.57943102195129\n"
     ]
    },
    {
     "name": "stderr",
     "output_type": "stream",
     "text": [
      " 12% (180 of 1464) |##                   | Elapsed Time: 1:33:01 ETA:  11:04:33"
     ]
    },
    {
     "name": "stdout",
     "output_type": "stream",
     "text": [
      "SPS: 66 Average Reward: -9.922094551761246\n"
     ]
    },
    {
     "name": "stderr",
     "output_type": "stream",
     "text": [
      " 12% (181 of 1464) |##                   | Elapsed Time: 1:33:32 ETA:  11:04:37"
     ]
    },
    {
     "name": "stdout",
     "output_type": "stream",
     "text": [
      "SPS: 66 Average Reward: -9.628845052381154\n"
     ]
    },
    {
     "name": "stderr",
     "output_type": "stream",
     "text": [
      " 12% (182 of 1464) |##                   | Elapsed Time: 1:34:03 ETA:  11:05:50"
     ]
    },
    {
     "name": "stdout",
     "output_type": "stream",
     "text": [
      "SPS: 66 Average Reward: -10.449964009433016\n"
     ]
    },
    {
     "name": "stderr",
     "output_type": "stream",
     "text": [
      " 12% (183 of 1464) |##                   | Elapsed Time: 1:34:34 ETA:  11:05:44"
     ]
    },
    {
     "name": "stdout",
     "output_type": "stream",
     "text": [
      "SPS: 66 Average Reward: -9.880238953553791\n"
     ]
    },
    {
     "name": "stderr",
     "output_type": "stream",
     "text": [
      " 12% (184 of 1464) |##                   | Elapsed Time: 1:35:05 ETA:  11:01:27"
     ]
    },
    {
     "name": "stdout",
     "output_type": "stream",
     "text": [
      "SPS: 66 Average Reward: -10.502270606216284\n"
     ]
    },
    {
     "name": "stderr",
     "output_type": "stream",
     "text": [
      " 12% (185 of 1464) |##                   | Elapsed Time: 1:35:36 ETA:  11:03:32"
     ]
    },
    {
     "name": "stdout",
     "output_type": "stream",
     "text": [
      "SPS: 66 Average Reward: -13.013915878361516\n"
     ]
    },
    {
     "name": "stderr",
     "output_type": "stream",
     "text": [
      " 12% (186 of 1464) |##                   | Elapsed Time: 1:36:07 ETA:  11:02:41"
     ]
    },
    {
     "name": "stdout",
     "output_type": "stream",
     "text": [
      "SPS: 66 Average Reward: -9.104899423617857\n"
     ]
    },
    {
     "name": "stderr",
     "output_type": "stream",
     "text": [
      " 12% (187 of 1464) |##                   | Elapsed Time: 1:36:38 ETA:  11:01:41"
     ]
    },
    {
     "name": "stdout",
     "output_type": "stream",
     "text": [
      "SPS: 66 Average Reward: -10.149630242408453\n"
     ]
    },
    {
     "name": "stderr",
     "output_type": "stream",
     "text": [
      " 12% (188 of 1464) |##                   | Elapsed Time: 1:37:10 ETA:  11:01:12"
     ]
    },
    {
     "name": "stdout",
     "output_type": "stream",
     "text": [
      "SPS: 66 Average Reward: -13.780454269779733\n"
     ]
    },
    {
     "name": "stderr",
     "output_type": "stream",
     "text": [
      " 12% (189 of 1464) |##                   | Elapsed Time: 1:37:41 ETA:  11:00:09"
     ]
    },
    {
     "name": "stdout",
     "output_type": "stream",
     "text": [
      "SPS: 66 Average Reward: -9.948726885381086\n"
     ]
    },
    {
     "name": "stderr",
     "output_type": "stream",
     "text": [
      " 12% (190 of 1464) |##                   | Elapsed Time: 1:38:12 ETA:  11:01:55"
     ]
    },
    {
     "name": "stdout",
     "output_type": "stream",
     "text": [
      "SPS: 66 Average Reward: -9.00180632084382\n"
     ]
    },
    {
     "name": "stderr",
     "output_type": "stream",
     "text": [
      " 13% (191 of 1464) |##                   | Elapsed Time: 1:38:43 ETA:  11:02:31"
     ]
    },
    {
     "name": "stdout",
     "output_type": "stream",
     "text": [
      "SPS: 66 Average Reward: -7.426257405929659\n"
     ]
    },
    {
     "name": "stderr",
     "output_type": "stream",
     "text": [
      " 13% (192 of 1464) |##                   | Elapsed Time: 1:39:14 ETA:  10:59:27"
     ]
    },
    {
     "name": "stdout",
     "output_type": "stream",
     "text": [
      "SPS: 66 Average Reward: -10.56087262402142\n"
     ]
    },
    {
     "name": "stderr",
     "output_type": "stream",
     "text": [
      " 13% (193 of 1464) |##                   | Elapsed Time: 1:39:45 ETA:  10:58:00"
     ]
    },
    {
     "name": "stdout",
     "output_type": "stream",
     "text": [
      "SPS: 66 Average Reward: -9.29944680372183\n"
     ]
    },
    {
     "name": "stderr",
     "output_type": "stream",
     "text": [
      " 13% (194 of 1464) |##                   | Elapsed Time: 1:40:16 ETA:  10:58:27"
     ]
    },
    {
     "name": "stdout",
     "output_type": "stream",
     "text": [
      "SPS: 66 Average Reward: -11.361594810555237\n"
     ]
    },
    {
     "name": "stderr",
     "output_type": "stream",
     "text": [
      " 13% (195 of 1464) |##                   | Elapsed Time: 1:40:47 ETA:  10:57:10"
     ]
    },
    {
     "name": "stdout",
     "output_type": "stream",
     "text": [
      "SPS: 66 Average Reward: -9.896404161011082\n"
     ]
    },
    {
     "name": "stderr",
     "output_type": "stream",
     "text": [
      " 13% (196 of 1464) |##                   | Elapsed Time: 1:41:18 ETA:  10:55:48"
     ]
    },
    {
     "name": "stdout",
     "output_type": "stream",
     "text": [
      "SPS: 66 Average Reward: -9.585557754546823\n"
     ]
    },
    {
     "name": "stderr",
     "output_type": "stream",
     "text": [
      " 13% (197 of 1464) |##                   | Elapsed Time: 1:41:49 ETA:  10:56:00"
     ]
    },
    {
     "name": "stdout",
     "output_type": "stream",
     "text": [
      "SPS: 66 Average Reward: -9.964860574684192\n"
     ]
    },
    {
     "name": "stderr",
     "output_type": "stream",
     "text": [
      " 13% (198 of 1464) |##                   | Elapsed Time: 1:42:21 ETA:  10:55:26"
     ]
    },
    {
     "name": "stdout",
     "output_type": "stream",
     "text": [
      "SPS: 66 Average Reward: -11.918718569002403\n"
     ]
    },
    {
     "name": "stderr",
     "output_type": "stream",
     "text": [
      " 13% (199 of 1464) |##                   | Elapsed Time: 1:42:51 ETA:  10:50:13"
     ]
    },
    {
     "name": "stdout",
     "output_type": "stream",
     "text": [
      "SPS: 66 Average Reward: -11.712471421066745\n"
     ]
    },
    {
     "name": "stderr",
     "output_type": "stream",
     "text": [
      " 13% (200 of 1464) |##                   | Elapsed Time: 1:43:22 ETA:  10:51:53"
     ]
    },
    {
     "name": "stdout",
     "output_type": "stream",
     "text": [
      "SPS: 66 Average Reward: -12.367701904641084\n"
     ]
    },
    {
     "name": "stderr",
     "output_type": "stream",
     "text": [
      " 13% (201 of 1464) |##                   | Elapsed Time: 1:43:53 ETA:  10:51:39"
     ]
    },
    {
     "name": "stdout",
     "output_type": "stream",
     "text": [
      "SPS: 66 Average Reward: -9.005454021549802\n"
     ]
    },
    {
     "name": "stderr",
     "output_type": "stream",
     "text": [
      " 13% (202 of 1464) |##                   | Elapsed Time: 1:44:24 ETA:  10:52:37"
     ]
    },
    {
     "name": "stdout",
     "output_type": "stream",
     "text": [
      "SPS: 66 Average Reward: -7.408626713858018\n"
     ]
    },
    {
     "name": "stderr",
     "output_type": "stream",
     "text": [
      " 13% (203 of 1464) |##                   | Elapsed Time: 1:44:55 ETA:  10:51:03"
     ]
    },
    {
     "name": "stdout",
     "output_type": "stream",
     "text": [
      "SPS: 66 Average Reward: -7.168923548773705\n"
     ]
    },
    {
     "name": "stderr",
     "output_type": "stream",
     "text": [
      " 13% (204 of 1464) |##                   | Elapsed Time: 1:45:26 ETA:  10:46:25"
     ]
    },
    {
     "name": "stdout",
     "output_type": "stream",
     "text": [
      "SPS: 66 Average Reward: -13.700388067529552\n"
     ]
    },
    {
     "name": "stderr",
     "output_type": "stream",
     "text": [
      " 14% (205 of 1464) |##                   | Elapsed Time: 1:45:57 ETA:  10:49:23"
     ]
    },
    {
     "name": "stdout",
     "output_type": "stream",
     "text": [
      "SPS: 66 Average Reward: -7.117940072564455\n"
     ]
    },
    {
     "name": "stderr",
     "output_type": "stream",
     "text": [
      " 14% (206 of 1464) |##                   | Elapsed Time: 1:46:28 ETA:  10:49:35"
     ]
    },
    {
     "name": "stdout",
     "output_type": "stream",
     "text": [
      "SPS: 66 Average Reward: -5.624635843724752\n"
     ]
    },
    {
     "name": "stderr",
     "output_type": "stream",
     "text": [
      " 14% (207 of 1464) |##                   | Elapsed Time: 1:46:58 ETA:  10:36:10"
     ]
    },
    {
     "name": "stdout",
     "output_type": "stream",
     "text": [
      "SPS: 66 Average Reward: -12.391206164547068\n"
     ]
    },
    {
     "name": "stderr",
     "output_type": "stream",
     "text": [
      " 14% (208 of 1464) |##                   | Elapsed Time: 1:47:29 ETA:  10:49:20"
     ]
    },
    {
     "name": "stdout",
     "output_type": "stream",
     "text": [
      "SPS: 66 Average Reward: -11.21995575211648\n"
     ]
    },
    {
     "name": "stderr",
     "output_type": "stream",
     "text": [
      " 14% (209 of 1464) |##                   | Elapsed Time: 1:48:00 ETA:  10:49:43"
     ]
    },
    {
     "name": "stdout",
     "output_type": "stream",
     "text": [
      "SPS: 66 Average Reward: -10.652911593539734\n"
     ]
    },
    {
     "name": "stderr",
     "output_type": "stream",
     "text": [
      " 14% (210 of 1464) |###                  | Elapsed Time: 1:48:32 ETA:  10:49:19"
     ]
    },
    {
     "name": "stdout",
     "output_type": "stream",
     "text": [
      "SPS: 66 Average Reward: -9.369168694460095\n"
     ]
    },
    {
     "name": "stderr",
     "output_type": "stream",
     "text": [
      " 14% (211 of 1464) |###                  | Elapsed Time: 1:49:02 ETA:  10:44:32"
     ]
    },
    {
     "name": "stdout",
     "output_type": "stream",
     "text": [
      "SPS: 66 Average Reward: -12.505092378909954\n"
     ]
    },
    {
     "name": "stderr",
     "output_type": "stream",
     "text": [
      " 14% (212 of 1464) |###                  | Elapsed Time: 1:49:33 ETA:  10:45:36"
     ]
    },
    {
     "name": "stdout",
     "output_type": "stream",
     "text": [
      "SPS: 66 Average Reward: -9.669524170537011\n"
     ]
    },
    {
     "name": "stderr",
     "output_type": "stream",
     "text": [
      " 14% (213 of 1464) |###                  | Elapsed Time: 1:50:04 ETA:  10:45:08"
     ]
    },
    {
     "name": "stdout",
     "output_type": "stream",
     "text": [
      "SPS: 66 Average Reward: -8.065726667578378\n"
     ]
    },
    {
     "name": "stderr",
     "output_type": "stream",
     "text": [
      " 14% (214 of 1464) |###                  | Elapsed Time: 1:50:35 ETA:  10:44:56"
     ]
    },
    {
     "name": "stdout",
     "output_type": "stream",
     "text": [
      "SPS: 66 Average Reward: -8.725066469810153\n"
     ]
    },
    {
     "name": "stderr",
     "output_type": "stream",
     "text": [
      " 14% (215 of 1464) |###                  | Elapsed Time: 1:51:06 ETA:  10:45:06"
     ]
    },
    {
     "name": "stdout",
     "output_type": "stream",
     "text": [
      "SPS: 66 Average Reward: -8.853993888004592\n"
     ]
    },
    {
     "name": "stderr",
     "output_type": "stream",
     "text": [
      " 14% (216 of 1464) |###                  | Elapsed Time: 1:51:37 ETA:  10:44:16"
     ]
    },
    {
     "name": "stdout",
     "output_type": "stream",
     "text": [
      "SPS: 66 Average Reward: -9.486125156625686\n"
     ]
    },
    {
     "name": "stderr",
     "output_type": "stream",
     "text": [
      " 14% (217 of 1464) |###                  | Elapsed Time: 1:52:08 ETA:  10:44:25"
     ]
    },
    {
     "name": "stdout",
     "output_type": "stream",
     "text": [
      "SPS: 66 Average Reward: -9.275792998675904\n"
     ]
    },
    {
     "name": "stderr",
     "output_type": "stream",
     "text": [
      " 14% (218 of 1464) |###                  | Elapsed Time: 1:52:39 ETA:  10:43:14"
     ]
    },
    {
     "name": "stdout",
     "output_type": "stream",
     "text": [
      "SPS: 66 Average Reward: -12.233624270612992\n"
     ]
    },
    {
     "name": "stderr",
     "output_type": "stream",
     "text": [
      " 14% (219 of 1464) |###                  | Elapsed Time: 1:53:10 ETA:  10:42:43"
     ]
    },
    {
     "name": "stdout",
     "output_type": "stream",
     "text": [
      "SPS: 66 Average Reward: -6.093673317431497\n"
     ]
    },
    {
     "name": "stderr",
     "output_type": "stream",
     "text": [
      " 15% (220 of 1464) |###                  | Elapsed Time: 1:53:41 ETA:  10:42:54"
     ]
    },
    {
     "name": "stdout",
     "output_type": "stream",
     "text": [
      "SPS: 66 Average Reward: -10.095860020559542\n"
     ]
    },
    {
     "name": "stderr",
     "output_type": "stream",
     "text": [
      " 15% (221 of 1464) |###                  | Elapsed Time: 1:54:12 ETA:  10:43:33"
     ]
    },
    {
     "name": "stdout",
     "output_type": "stream",
     "text": [
      "SPS: 66 Average Reward: -10.27683517022148\n"
     ]
    },
    {
     "name": "stderr",
     "output_type": "stream",
     "text": [
      " 15% (222 of 1464) |###                  | Elapsed Time: 1:54:43 ETA:  10:40:57"
     ]
    },
    {
     "name": "stdout",
     "output_type": "stream",
     "text": [
      "SPS: 66 Average Reward: -8.824823435602633\n"
     ]
    },
    {
     "name": "stderr",
     "output_type": "stream",
     "text": [
      " 15% (223 of 1464) |###                  | Elapsed Time: 1:55:14 ETA:  10:39:05"
     ]
    },
    {
     "name": "stdout",
     "output_type": "stream",
     "text": [
      "SPS: 66 Average Reward: -11.090058777427902\n"
     ]
    },
    {
     "name": "stderr",
     "output_type": "stream",
     "text": [
      " 15% (224 of 1464) |###                  | Elapsed Time: 1:55:45 ETA:  10:37:57"
     ]
    },
    {
     "name": "stdout",
     "output_type": "stream",
     "text": [
      "SPS: 66 Average Reward: -7.924899138586848\n"
     ]
    },
    {
     "name": "stderr",
     "output_type": "stream",
     "text": [
      " 15% (225 of 1464) |###                  | Elapsed Time: 1:56:16 ETA:  10:39:50"
     ]
    },
    {
     "name": "stdout",
     "output_type": "stream",
     "text": [
      "SPS: 66 Average Reward: -11.894595943084722\n"
     ]
    },
    {
     "name": "stderr",
     "output_type": "stream",
     "text": [
      " 15% (226 of 1464) |###                  | Elapsed Time: 1:56:47 ETA:  10:32:32"
     ]
    },
    {
     "name": "stdout",
     "output_type": "stream",
     "text": [
      "SPS: 66 Average Reward: -7.878571531197246\n"
     ]
    },
    {
     "name": "stderr",
     "output_type": "stream",
     "text": [
      " 15% (227 of 1464) |###                  | Elapsed Time: 1:57:18 ETA:  10:38:29"
     ]
    },
    {
     "name": "stdout",
     "output_type": "stream",
     "text": [
      "SPS: 66 Average Reward: -6.093740221029594\n"
     ]
    },
    {
     "name": "stderr",
     "output_type": "stream",
     "text": [
      " 15% (228 of 1464) |###                  | Elapsed Time: 1:57:49 ETA:  10:40:09"
     ]
    },
    {
     "name": "stdout",
     "output_type": "stream",
     "text": [
      "SPS: 66 Average Reward: -8.735668583640496\n"
     ]
    },
    {
     "name": "stderr",
     "output_type": "stream",
     "text": [
      " 15% (229 of 1464) |###                  | Elapsed Time: 1:58:20 ETA:  10:38:40"
     ]
    },
    {
     "name": "stdout",
     "output_type": "stream",
     "text": [
      "SPS: 66 Average Reward: -9.674678520431538\n"
     ]
    },
    {
     "name": "stderr",
     "output_type": "stream",
     "text": [
      " 15% (230 of 1464) |###                  | Elapsed Time: 1:58:51 ETA:  10:38:14"
     ]
    },
    {
     "name": "stdout",
     "output_type": "stream",
     "text": [
      "SPS: 66 Average Reward: -8.03009021308353\n"
     ]
    },
    {
     "name": "stderr",
     "output_type": "stream",
     "text": [
      " 15% (231 of 1464) |###                  | Elapsed Time: 1:59:21 ETA:  10:32:10"
     ]
    },
    {
     "name": "stdout",
     "output_type": "stream",
     "text": [
      "SPS: 66 Average Reward: -8.091802979973117\n"
     ]
    },
    {
     "name": "stderr",
     "output_type": "stream",
     "text": [
      " 15% (232 of 1464) |###                  | Elapsed Time: 1:59:52 ETA:  10:36:57"
     ]
    },
    {
     "name": "stdout",
     "output_type": "stream",
     "text": [
      "SPS: 66 Average Reward: -8.996321120300802\n"
     ]
    },
    {
     "name": "stderr",
     "output_type": "stream",
     "text": [
      " 15% (233 of 1464) |###                  | Elapsed Time: 2:00:24 ETA:  10:37:30"
     ]
    },
    {
     "name": "stdout",
     "output_type": "stream",
     "text": [
      "SPS: 66 Average Reward: -4.557517284562353\n"
     ]
    },
    {
     "name": "stderr",
     "output_type": "stream",
     "text": [
      " 15% (234 of 1464) |###                  | Elapsed Time: 2:00:54 ETA:  10:23:55"
     ]
    },
    {
     "name": "stdout",
     "output_type": "stream",
     "text": [
      "SPS: 66 Average Reward: -13.076227738059973\n"
     ]
    },
    {
     "name": "stderr",
     "output_type": "stream",
     "text": [
      " 16% (235 of 1464) |###                  | Elapsed Time: 2:01:25 ETA:  10:27:38"
     ]
    },
    {
     "name": "stdout",
     "output_type": "stream",
     "text": [
      "SPS: 66 Average Reward: -7.751494917363854\n"
     ]
    },
    {
     "name": "stderr",
     "output_type": "stream",
     "text": [
      " 16% (236 of 1464) |###                  | Elapsed Time: 2:01:56 ETA:  10:32:48"
     ]
    },
    {
     "name": "stdout",
     "output_type": "stream",
     "text": [
      "SPS: 66 Average Reward: -10.487584342933491\n"
     ]
    },
    {
     "name": "stderr",
     "output_type": "stream",
     "text": [
      " 16% (237 of 1464) |###                  | Elapsed Time: 2:02:27 ETA:  10:33:11"
     ]
    },
    {
     "name": "stdout",
     "output_type": "stream",
     "text": [
      "SPS: 66 Average Reward: -7.9075539611285555\n"
     ]
    },
    {
     "name": "stderr",
     "output_type": "stream",
     "text": [
      " 16% (238 of 1464) |###                  | Elapsed Time: 2:02:58 ETA:  10:33:20"
     ]
    },
    {
     "name": "stdout",
     "output_type": "stream",
     "text": [
      "SPS: 66 Average Reward: -11.122129718370925\n"
     ]
    },
    {
     "name": "stderr",
     "output_type": "stream",
     "text": [
      " 16% (239 of 1464) |###                  | Elapsed Time: 2:03:29 ETA:  10:33:59"
     ]
    },
    {
     "name": "stdout",
     "output_type": "stream",
     "text": [
      "SPS: 66 Average Reward: -9.100614324336313\n"
     ]
    },
    {
     "name": "stderr",
     "output_type": "stream",
     "text": [
      " 16% (240 of 1464) |###                  | Elapsed Time: 2:03:59 ETA:  10:30:18"
     ]
    },
    {
     "name": "stdout",
     "output_type": "stream",
     "text": [
      "SPS: 66 Average Reward: -9.87949744716811\n"
     ]
    },
    {
     "name": "stderr",
     "output_type": "stream",
     "text": [
      " 16% (241 of 1464) |###                  | Elapsed Time: 2:04:30 ETA:  10:30:36"
     ]
    },
    {
     "name": "stdout",
     "output_type": "stream",
     "text": [
      "SPS: 66 Average Reward: -6.207214860471242\n"
     ]
    },
    {
     "name": "stderr",
     "output_type": "stream",
     "text": [
      " 16% (242 of 1464) |###                  | Elapsed Time: 2:05:01 ETA:  10:27:58"
     ]
    },
    {
     "name": "stdout",
     "output_type": "stream",
     "text": [
      "SPS: 66 Average Reward: -9.122638355635507\n"
     ]
    },
    {
     "name": "stderr",
     "output_type": "stream",
     "text": [
      " 16% (243 of 1464) |###                  | Elapsed Time: 2:05:32 ETA:  10:30:39"
     ]
    },
    {
     "name": "stdout",
     "output_type": "stream",
     "text": [
      "SPS: 66 Average Reward: -5.574110409212685\n"
     ]
    },
    {
     "name": "stderr",
     "output_type": "stream",
     "text": [
      " 16% (244 of 1464) |###                  | Elapsed Time: 2:06:03 ETA:  10:26:02"
     ]
    },
    {
     "name": "stdout",
     "output_type": "stream",
     "text": [
      "SPS: 66 Average Reward: -12.13035764863926\n"
     ]
    },
    {
     "name": "stderr",
     "output_type": "stream",
     "text": [
      " 16% (245 of 1464) |###                  | Elapsed Time: 2:06:34 ETA:  10:25:18"
     ]
    },
    {
     "name": "stdout",
     "output_type": "stream",
     "text": [
      "SPS: 66 Average Reward: -7.237138115432334\n"
     ]
    },
    {
     "name": "stderr",
     "output_type": "stream",
     "text": [
      " 16% (246 of 1464) |###                  | Elapsed Time: 2:07:05 ETA:  10:26:40"
     ]
    },
    {
     "name": "stdout",
     "output_type": "stream",
     "text": [
      "SPS: 66 Average Reward: -9.12897902211503\n"
     ]
    },
    {
     "name": "stderr",
     "output_type": "stream",
     "text": [
      " 16% (247 of 1464) |###                  | Elapsed Time: 2:07:35 ETA:  10:18:55"
     ]
    },
    {
     "name": "stdout",
     "output_type": "stream",
     "text": [
      "SPS: 66 Average Reward: -10.254238412044964\n"
     ]
    },
    {
     "name": "stderr",
     "output_type": "stream",
     "text": [
      " 16% (248 of 1464) |###                  | Elapsed Time: 2:08:06 ETA:  10:16:36"
     ]
    },
    {
     "name": "stdout",
     "output_type": "stream",
     "text": [
      "SPS: 66 Average Reward: -11.92058880342969\n"
     ]
    },
    {
     "name": "stderr",
     "output_type": "stream",
     "text": [
      " 17% (249 of 1464) |###                  | Elapsed Time: 2:08:36 ETA:  10:22:13"
     ]
    },
    {
     "name": "stdout",
     "output_type": "stream",
     "text": [
      "SPS: 66 Average Reward: -9.054048156412003\n"
     ]
    },
    {
     "name": "stderr",
     "output_type": "stream",
     "text": [
      " 17% (250 of 1464) |###                  | Elapsed Time: 2:09:07 ETA:  10:25:30"
     ]
    },
    {
     "name": "stdout",
     "output_type": "stream",
     "text": [
      "SPS: 66 Average Reward: -8.025076224136976\n"
     ]
    },
    {
     "name": "stderr",
     "output_type": "stream",
     "text": [
      " 17% (251 of 1464) |###                  | Elapsed Time: 2:09:38 ETA:  10:24:41"
     ]
    },
    {
     "name": "stdout",
     "output_type": "stream",
     "text": [
      "SPS: 66 Average Reward: -8.201342727927805\n"
     ]
    },
    {
     "name": "stderr",
     "output_type": "stream",
     "text": [
      " 17% (252 of 1464) |###                  | Elapsed Time: 2:10:09 ETA:  10:22:47"
     ]
    },
    {
     "name": "stdout",
     "output_type": "stream",
     "text": [
      "SPS: 66 Average Reward: -6.43831964504866\n"
     ]
    },
    {
     "name": "stderr",
     "output_type": "stream",
     "text": [
      " 17% (253 of 1464) |###                  | Elapsed Time: 2:10:39 ETA:  10:15:42"
     ]
    },
    {
     "name": "stdout",
     "output_type": "stream",
     "text": [
      "SPS: 66 Average Reward: -5.790620934720278\n"
     ]
    },
    {
     "name": "stderr",
     "output_type": "stream",
     "text": [
      " 17% (254 of 1464) |###                  | Elapsed Time: 2:11:10 ETA:  10:24:35"
     ]
    },
    {
     "name": "stdout",
     "output_type": "stream",
     "text": [
      "SPS: 66 Average Reward: -9.180074924721179\n"
     ]
    },
    {
     "name": "stderr",
     "output_type": "stream",
     "text": [
      " 17% (255 of 1464) |###                  | Elapsed Time: 2:11:41 ETA:  10:24:26"
     ]
    },
    {
     "name": "stdout",
     "output_type": "stream",
     "text": [
      "SPS: 66 Average Reward: -11.66526516788875\n"
     ]
    },
    {
     "name": "stderr",
     "output_type": "stream",
     "text": [
      " 17% (256 of 1464) |###                  | Elapsed Time: 2:12:12 ETA:  10:23:11"
     ]
    },
    {
     "name": "stdout",
     "output_type": "stream",
     "text": [
      "SPS: 66 Average Reward: -10.066786430948373\n"
     ]
    },
    {
     "name": "stderr",
     "output_type": "stream",
     "text": [
      " 17% (257 of 1464) |###                  | Elapsed Time: 2:12:43 ETA:  10:21:58"
     ]
    },
    {
     "name": "stdout",
     "output_type": "stream",
     "text": [
      "SPS: 66 Average Reward: -7.793864993353636\n"
     ]
    },
    {
     "name": "stderr",
     "output_type": "stream",
     "text": [
      " 17% (258 of 1464) |###                  | Elapsed Time: 2:13:14 ETA:  10:20:06"
     ]
    },
    {
     "name": "stdout",
     "output_type": "stream",
     "text": [
      "SPS: 66 Average Reward: -7.831639879331767\n"
     ]
    },
    {
     "name": "stderr",
     "output_type": "stream",
     "text": [
      " 17% (259 of 1464) |###                  | Elapsed Time: 2:13:45 ETA:  10:20:55"
     ]
    },
    {
     "name": "stdout",
     "output_type": "stream",
     "text": [
      "SPS: 66 Average Reward: -11.151456768432196\n"
     ]
    },
    {
     "name": "stderr",
     "output_type": "stream",
     "text": [
      " 17% (260 of 1464) |###                  | Elapsed Time: 2:14:16 ETA:  10:17:33"
     ]
    },
    {
     "name": "stdout",
     "output_type": "stream",
     "text": [
      "SPS: 66 Average Reward: -8.37353154352619\n"
     ]
    },
    {
     "name": "stderr",
     "output_type": "stream",
     "text": [
      " 17% (261 of 1464) |###                  | Elapsed Time: 2:14:47 ETA:  10:17:47"
     ]
    },
    {
     "name": "stdout",
     "output_type": "stream",
     "text": [
      "SPS: 66 Average Reward: -9.813836343719254\n"
     ]
    },
    {
     "name": "stderr",
     "output_type": "stream",
     "text": [
      " 17% (262 of 1464) |###                  | Elapsed Time: 2:15:18 ETA:  10:22:26"
     ]
    },
    {
     "name": "stdout",
     "output_type": "stream",
     "text": [
      "SPS: 66 Average Reward: -9.290291395948834\n"
     ]
    },
    {
     "name": "stderr",
     "output_type": "stream",
     "text": [
      " 17% (263 of 1464) |###                  | Elapsed Time: 2:15:49 ETA:  10:19:48"
     ]
    },
    {
     "name": "stdout",
     "output_type": "stream",
     "text": [
      "SPS: 66 Average Reward: -11.9643431600791\n"
     ]
    },
    {
     "name": "stderr",
     "output_type": "stream",
     "text": [
      " 18% (264 of 1464) |###                  | Elapsed Time: 2:16:20 ETA:  10:18:46"
     ]
    },
    {
     "name": "stdout",
     "output_type": "stream",
     "text": [
      "SPS: 66 Average Reward: -8.127991125537374\n"
     ]
    },
    {
     "name": "stderr",
     "output_type": "stream",
     "text": [
      " 18% (265 of 1464) |###                  | Elapsed Time: 2:16:50 ETA:  10:15:25"
     ]
    },
    {
     "name": "stdout",
     "output_type": "stream",
     "text": [
      "SPS: 66 Average Reward: -10.233741039259773\n"
     ]
    },
    {
     "name": "stderr",
     "output_type": "stream",
     "text": [
      " 18% (266 of 1464) |###                  | Elapsed Time: 2:17:21 ETA:  10:17:30"
     ]
    },
    {
     "name": "stdout",
     "output_type": "stream",
     "text": [
      "SPS: 66 Average Reward: -8.014671488587116\n"
     ]
    },
    {
     "name": "stderr",
     "output_type": "stream",
     "text": [
      " 18% (267 of 1464) |###                  | Elapsed Time: 2:17:52 ETA:  10:19:52"
     ]
    },
    {
     "name": "stdout",
     "output_type": "stream",
     "text": [
      "SPS: 66 Average Reward: -6.598361702221446\n"
     ]
    },
    {
     "name": "stderr",
     "output_type": "stream",
     "text": [
      " 18% (268 of 1464) |###                  | Elapsed Time: 2:18:23 ETA:  10:15:57"
     ]
    },
    {
     "name": "stdout",
     "output_type": "stream",
     "text": [
      "SPS: 66 Average Reward: -7.982689912509108\n"
     ]
    },
    {
     "name": "stderr",
     "output_type": "stream",
     "text": [
      " 18% (269 of 1464) |###                  | Elapsed Time: 2:18:54 ETA:  10:16:52"
     ]
    },
    {
     "name": "stdout",
     "output_type": "stream",
     "text": [
      "SPS: 66 Average Reward: -9.527693082247458\n"
     ]
    },
    {
     "name": "stderr",
     "output_type": "stream",
     "text": [
      " 18% (270 of 1464) |###                  | Elapsed Time: 2:19:25 ETA:  10:09:09"
     ]
    },
    {
     "name": "stdout",
     "output_type": "stream",
     "text": [
      "SPS: 66 Average Reward: -9.036689831886894\n"
     ]
    },
    {
     "name": "stderr",
     "output_type": "stream",
     "text": [
      " 18% (271 of 1464) |###                  | Elapsed Time: 2:19:56 ETA:  10:15:37"
     ]
    },
    {
     "name": "stdout",
     "output_type": "stream",
     "text": [
      "SPS: 66 Average Reward: -9.952283969911287\n"
     ]
    },
    {
     "name": "stderr",
     "output_type": "stream",
     "text": [
      " 18% (272 of 1464) |###                  | Elapsed Time: 2:20:27 ETA:  10:14:08"
     ]
    },
    {
     "name": "stdout",
     "output_type": "stream",
     "text": [
      "SPS: 66 Average Reward: -10.346526548767162\n"
     ]
    },
    {
     "name": "stderr",
     "output_type": "stream",
     "text": [
      " 18% (273 of 1464) |###                  | Elapsed Time: 2:20:58 ETA:  10:14:12"
     ]
    },
    {
     "name": "stdout",
     "output_type": "stream",
     "text": [
      "SPS: 66 Average Reward: -9.339584060715364\n"
     ]
    },
    {
     "name": "stderr",
     "output_type": "stream",
     "text": [
      " 18% (274 of 1464) |###                  | Elapsed Time: 2:21:29 ETA:  10:15:14"
     ]
    },
    {
     "name": "stdout",
     "output_type": "stream",
     "text": [
      "SPS: 66 Average Reward: -9.169742777787025\n"
     ]
    },
    {
     "name": "stderr",
     "output_type": "stream",
     "text": [
      " 18% (275 of 1464) |###                  | Elapsed Time: 2:22:00 ETA:  10:13:12"
     ]
    },
    {
     "name": "stdout",
     "output_type": "stream",
     "text": [
      "SPS: 66 Average Reward: -7.532934602398685\n"
     ]
    },
    {
     "name": "stderr",
     "output_type": "stream",
     "text": [
      " 18% (276 of 1464) |###                  | Elapsed Time: 2:22:31 ETA:  10:11:13"
     ]
    },
    {
     "name": "stdout",
     "output_type": "stream",
     "text": [
      "SPS: 66 Average Reward: -7.2036535858954664\n"
     ]
    },
    {
     "name": "stderr",
     "output_type": "stream",
     "text": [
      " 18% (277 of 1464) |###                  | Elapsed Time: 2:23:01 ETA:  10:08:42"
     ]
    },
    {
     "name": "stdout",
     "output_type": "stream",
     "text": [
      "SPS: 66 Average Reward: -5.49232334640574\n"
     ]
    },
    {
     "name": "stderr",
     "output_type": "stream",
     "text": [
      " 18% (278 of 1464) |###                  | Elapsed Time: 2:23:32 ETA:  10:09:54"
     ]
    },
    {
     "name": "stdout",
     "output_type": "stream",
     "text": [
      "SPS: 66 Average Reward: -7.524638939877014\n"
     ]
    },
    {
     "name": "stderr",
     "output_type": "stream",
     "text": [
      " 19% (279 of 1464) |####                 | Elapsed Time: 2:24:03 ETA:  10:13:39"
     ]
    },
    {
     "name": "stdout",
     "output_type": "stream",
     "text": [
      "SPS: 66 Average Reward: -8.742330871929877\n"
     ]
    },
    {
     "name": "stderr",
     "output_type": "stream",
     "text": [
      " 19% (280 of 1464) |####                 | Elapsed Time: 2:24:34 ETA:  10:13:06"
     ]
    },
    {
     "name": "stdout",
     "output_type": "stream",
     "text": [
      "SPS: 66 Average Reward: -7.698242536802168\n"
     ]
    },
    {
     "name": "stderr",
     "output_type": "stream",
     "text": [
      " 19% (281 of 1464) |####                 | Elapsed Time: 2:25:05 ETA:  10:10:46"
     ]
    },
    {
     "name": "stdout",
     "output_type": "stream",
     "text": [
      "SPS: 66 Average Reward: -10.608152481462724\n"
     ]
    },
    {
     "name": "stderr",
     "output_type": "stream",
     "text": [
      " 19% (282 of 1464) |####                 | Elapsed Time: 2:25:36 ETA:  10:10:47"
     ]
    },
    {
     "name": "stdout",
     "output_type": "stream",
     "text": [
      "SPS: 66 Average Reward: -6.034543646690539\n"
     ]
    },
    {
     "name": "stderr",
     "output_type": "stream",
     "text": [
      " 19% (283 of 1464) |####                 | Elapsed Time: 2:26:07 ETA:  10:06:32"
     ]
    },
    {
     "name": "stdout",
     "output_type": "stream",
     "text": [
      "SPS: 66 Average Reward: -8.1066030512067\n"
     ]
    },
    {
     "name": "stderr",
     "output_type": "stream",
     "text": [
      " 19% (284 of 1464) |####                 | Elapsed Time: 2:26:38 ETA:  10:09:31"
     ]
    },
    {
     "name": "stdout",
     "output_type": "stream",
     "text": [
      "SPS: 66 Average Reward: -9.837080654923303\n"
     ]
    },
    {
     "name": "stderr",
     "output_type": "stream",
     "text": [
      " 19% (285 of 1464) |####                 | Elapsed Time: 2:27:09 ETA:  10:09:48"
     ]
    },
    {
     "name": "stdout",
     "output_type": "stream",
     "text": [
      "SPS: 66 Average Reward: -9.782248438431987\n"
     ]
    },
    {
     "name": "stderr",
     "output_type": "stream",
     "text": [
      " 19% (286 of 1464) |####                 | Elapsed Time: 2:27:40 ETA:  10:09:00"
     ]
    },
    {
     "name": "stdout",
     "output_type": "stream",
     "text": [
      "SPS: 66 Average Reward: -8.890399192801972\n"
     ]
    },
    {
     "name": "stderr",
     "output_type": "stream",
     "text": [
      " 19% (287 of 1464) |####                 | Elapsed Time: 2:28:11 ETA:  10:08:31"
     ]
    },
    {
     "name": "stdout",
     "output_type": "stream",
     "text": [
      "SPS: 66 Average Reward: -8.398623650514208\n"
     ]
    },
    {
     "name": "stderr",
     "output_type": "stream",
     "text": [
      " 19% (288 of 1464) |####                 | Elapsed Time: 2:28:42 ETA:  10:06:22"
     ]
    },
    {
     "name": "stdout",
     "output_type": "stream",
     "text": [
      "SPS: 66 Average Reward: -10.174914125125477\n"
     ]
    },
    {
     "name": "stderr",
     "output_type": "stream",
     "text": [
      " 19% (289 of 1464) |####                 | Elapsed Time: 2:29:13 ETA:  10:07:36"
     ]
    },
    {
     "name": "stdout",
     "output_type": "stream",
     "text": [
      "SPS: 66 Average Reward: -7.2174583809112045\n"
     ]
    },
    {
     "name": "stderr",
     "output_type": "stream",
     "text": [
      " 19% (290 of 1464) |####                 | Elapsed Time: 2:29:44 ETA:   9:59:41"
     ]
    },
    {
     "name": "stdout",
     "output_type": "stream",
     "text": [
      "SPS: 66 Average Reward: -5.675240495383399\n"
     ]
    },
    {
     "name": "stderr",
     "output_type": "stream",
     "text": [
      " 19% (291 of 1464) |####                 | Elapsed Time: 2:30:15 ETA:  10:05:57"
     ]
    },
    {
     "name": "stdout",
     "output_type": "stream",
     "text": [
      "SPS: 66 Average Reward: -7.726714984405703\n"
     ]
    },
    {
     "name": "stderr",
     "output_type": "stream",
     "text": [
      " 19% (292 of 1464) |####                 | Elapsed Time: 2:30:46 ETA:  10:05:44"
     ]
    },
    {
     "name": "stdout",
     "output_type": "stream",
     "text": [
      "SPS: 66 Average Reward: -9.766052741935479\n"
     ]
    },
    {
     "name": "stderr",
     "output_type": "stream",
     "text": [
      " 20% (293 of 1464) |####                 | Elapsed Time: 2:31:17 ETA:  10:04:47"
     ]
    },
    {
     "name": "stdout",
     "output_type": "stream",
     "text": [
      "SPS: 66 Average Reward: -5.66432214542258\n"
     ]
    },
    {
     "name": "stderr",
     "output_type": "stream",
     "text": [
      " 20% (294 of 1464) |####                 | Elapsed Time: 2:31:48 ETA:  10:03:40"
     ]
    },
    {
     "name": "stdout",
     "output_type": "stream",
     "text": [
      "SPS: 66 Average Reward: -5.900957157447354\n"
     ]
    },
    {
     "name": "stderr",
     "output_type": "stream",
     "text": [
      " 20% (295 of 1464) |####                 | Elapsed Time: 2:32:18 ETA:   9:54:20"
     ]
    },
    {
     "name": "stdout",
     "output_type": "stream",
     "text": [
      "SPS: 66 Average Reward: -5.255545492916048\n"
     ]
    },
    {
     "name": "stderr",
     "output_type": "stream",
     "text": [
      " 20% (296 of 1464) |####                 | Elapsed Time: 2:32:49 ETA:  10:03:59"
     ]
    },
    {
     "name": "stdout",
     "output_type": "stream",
     "text": [
      "SPS: 66 Average Reward: -8.669761126949806\n"
     ]
    },
    {
     "name": "stderr",
     "output_type": "stream",
     "text": [
      " 20% (297 of 1464) |####                 | Elapsed Time: 2:33:20 ETA:  10:03:23"
     ]
    },
    {
     "name": "stdout",
     "output_type": "stream",
     "text": [
      "SPS: 66 Average Reward: -9.115405777462561\n"
     ]
    },
    {
     "name": "stderr",
     "output_type": "stream",
     "text": [
      " 20% (298 of 1464) |####                 | Elapsed Time: 2:33:51 ETA:  10:00:01"
     ]
    },
    {
     "name": "stdout",
     "output_type": "stream",
     "text": [
      "SPS: 66 Average Reward: -11.105168303201632\n"
     ]
    },
    {
     "name": "stderr",
     "output_type": "stream",
     "text": [
      " 20% (299 of 1464) |####                 | Elapsed Time: 2:34:22 ETA:  10:02:12"
     ]
    },
    {
     "name": "stdout",
     "output_type": "stream",
     "text": [
      "SPS: 66 Average Reward: -7.740983138229049\n"
     ]
    },
    {
     "name": "stderr",
     "output_type": "stream",
     "text": [
      " 20% (300 of 1464) |####                 | Elapsed Time: 2:34:53 ETA:  10:00:57"
     ]
    },
    {
     "name": "stdout",
     "output_type": "stream",
     "text": [
      "SPS: 66 Average Reward: -10.110967082424008\n"
     ]
    },
    {
     "name": "stderr",
     "output_type": "stream",
     "text": [
      " 20% (301 of 1464) |####                 | Elapsed Time: 2:35:24 ETA:   9:59:37"
     ]
    },
    {
     "name": "stdout",
     "output_type": "stream",
     "text": [
      "SPS: 66 Average Reward: -9.402997862734276\n"
     ]
    },
    {
     "name": "stderr",
     "output_type": "stream",
     "text": [
      " 20% (302 of 1464) |####                 | Elapsed Time: 2:35:55 ETA:   9:54:22"
     ]
    },
    {
     "name": "stdout",
     "output_type": "stream",
     "text": [
      "SPS: 66 Average Reward: -9.534424885231232\n"
     ]
    },
    {
     "name": "stderr",
     "output_type": "stream",
     "text": [
      " 20% (303 of 1464) |####                 | Elapsed Time: 2:36:26 ETA:   9:58:38"
     ]
    },
    {
     "name": "stdout",
     "output_type": "stream",
     "text": [
      "SPS: 66 Average Reward: -4.51280490783431\n"
     ]
    },
    {
     "name": "stderr",
     "output_type": "stream",
     "text": [
      " 20% (304 of 1464) |####                 | Elapsed Time: 2:36:56 ETA:   9:52:30"
     ]
    },
    {
     "name": "stdout",
     "output_type": "stream",
     "text": [
      "SPS: 66 Average Reward: -8.365666484627285\n"
     ]
    },
    {
     "name": "stderr",
     "output_type": "stream",
     "text": [
      " 20% (305 of 1464) |####                 | Elapsed Time: 2:37:27 ETA:   9:49:48"
     ]
    },
    {
     "name": "stdout",
     "output_type": "stream",
     "text": [
      "SPS: 66 Average Reward: -7.459307228422358\n"
     ]
    },
    {
     "name": "stderr",
     "output_type": "stream",
     "text": [
      " 20% (306 of 1464) |####                 | Elapsed Time: 2:37:58 ETA:   9:55:30"
     ]
    },
    {
     "name": "stdout",
     "output_type": "stream",
     "text": [
      "SPS: 66 Average Reward: -4.851550299947365\n"
     ]
    },
    {
     "name": "stderr",
     "output_type": "stream",
     "text": [
      " 20% (307 of 1464) |####                 | Elapsed Time: 2:38:29 ETA:   9:55:58"
     ]
    },
    {
     "name": "stdout",
     "output_type": "stream",
     "text": [
      "SPS: 66 Average Reward: -7.69028127732322\n"
     ]
    },
    {
     "name": "stderr",
     "output_type": "stream",
     "text": [
      " 21% (308 of 1464) |####                 | Elapsed Time: 2:39:00 ETA:   9:59:07"
     ]
    },
    {
     "name": "stdout",
     "output_type": "stream",
     "text": [
      "SPS: 66 Average Reward: -6.628479249094563\n"
     ]
    },
    {
     "name": "stderr",
     "output_type": "stream",
     "text": [
      " 21% (309 of 1464) |####                 | Elapsed Time: 2:39:31 ETA:   9:56:33"
     ]
    },
    {
     "name": "stdout",
     "output_type": "stream",
     "text": [
      "SPS: 66 Average Reward: -7.626126522616447\n"
     ]
    },
    {
     "name": "stderr",
     "output_type": "stream",
     "text": [
      " 21% (310 of 1464) |####                 | Elapsed Time: 2:40:02 ETA:   9:54:24"
     ]
    },
    {
     "name": "stdout",
     "output_type": "stream",
     "text": [
      "SPS: 66 Average Reward: -7.3464429348946965\n"
     ]
    },
    {
     "name": "stderr",
     "output_type": "stream",
     "text": [
      " 21% (311 of 1464) |####                 | Elapsed Time: 2:40:33 ETA:   9:55:34"
     ]
    },
    {
     "name": "stdout",
     "output_type": "stream",
     "text": [
      "SPS: 66 Average Reward: -5.543454129961223\n"
     ]
    },
    {
     "name": "stderr",
     "output_type": "stream",
     "text": [
      " 21% (312 of 1464) |####                 | Elapsed Time: 2:41:04 ETA:   9:52:29"
     ]
    },
    {
     "name": "stdout",
     "output_type": "stream",
     "text": [
      "SPS: 66 Average Reward: -9.378640415037026\n"
     ]
    },
    {
     "name": "stderr",
     "output_type": "stream",
     "text": [
      " 21% (313 of 1464) |####                 | Elapsed Time: 2:41:35 ETA:   9:54:20"
     ]
    },
    {
     "name": "stdout",
     "output_type": "stream",
     "text": [
      "SPS: 66 Average Reward: -7.421959992663214\n"
     ]
    },
    {
     "name": "stderr",
     "output_type": "stream",
     "text": [
      " 21% (314 of 1464) |####                 | Elapsed Time: 2:42:05 ETA:   9:53:04"
     ]
    },
    {
     "name": "stdout",
     "output_type": "stream",
     "text": [
      "SPS: 66 Average Reward: -8.868648642728237\n"
     ]
    },
    {
     "name": "stderr",
     "output_type": "stream",
     "text": [
      " 21% (315 of 1464) |####                 | Elapsed Time: 2:42:36 ETA:   9:53:28"
     ]
    },
    {
     "name": "stdout",
     "output_type": "stream",
     "text": [
      "SPS: 66 Average Reward: -6.70898161834306\n"
     ]
    },
    {
     "name": "stderr",
     "output_type": "stream",
     "text": [
      " 21% (316 of 1464) |####                 | Elapsed Time: 2:43:07 ETA:   9:53:24"
     ]
    },
    {
     "name": "stdout",
     "output_type": "stream",
     "text": [
      "SPS: 66 Average Reward: -5.6540367378303875\n"
     ]
    },
    {
     "name": "stderr",
     "output_type": "stream",
     "text": [
      " 21% (317 of 1464) |####                 | Elapsed Time: 2:43:38 ETA:   9:52:17"
     ]
    },
    {
     "name": "stdout",
     "output_type": "stream",
     "text": [
      "SPS: 66 Average Reward: -7.659689045196038\n"
     ]
    },
    {
     "name": "stderr",
     "output_type": "stream",
     "text": [
      " 21% (318 of 1464) |####                 | Elapsed Time: 2:44:09 ETA:   9:50:38"
     ]
    },
    {
     "name": "stdout",
     "output_type": "stream",
     "text": [
      "SPS: 66 Average Reward: -7.338417523412746\n"
     ]
    },
    {
     "name": "stderr",
     "output_type": "stream",
     "text": [
      " 21% (319 of 1464) |####                 | Elapsed Time: 2:44:40 ETA:   9:51:46"
     ]
    },
    {
     "name": "stdout",
     "output_type": "stream",
     "text": [
      "SPS: 66 Average Reward: -6.287395870766922\n"
     ]
    },
    {
     "name": "stderr",
     "output_type": "stream",
     "text": [
      " 21% (320 of 1464) |####                 | Elapsed Time: 2:45:11 ETA:   9:51:37"
     ]
    },
    {
     "name": "stdout",
     "output_type": "stream",
     "text": [
      "SPS: 66 Average Reward: -6.500310448012733\n"
     ]
    },
    {
     "name": "stderr",
     "output_type": "stream",
     "text": [
      " 21% (321 of 1464) |####                 | Elapsed Time: 2:45:42 ETA:   9:49:22"
     ]
    },
    {
     "name": "stdout",
     "output_type": "stream",
     "text": [
      "SPS: 66 Average Reward: -9.277883267200528\n"
     ]
    },
    {
     "name": "stderr",
     "output_type": "stream",
     "text": [
      " 21% (322 of 1464) |####                 | Elapsed Time: 2:46:13 ETA:   9:50:07"
     ]
    },
    {
     "name": "stdout",
     "output_type": "stream",
     "text": [
      "SPS: 66 Average Reward: -7.453586323012146\n"
     ]
    },
    {
     "name": "stderr",
     "output_type": "stream",
     "text": [
      " 22% (323 of 1464) |####                 | Elapsed Time: 2:46:44 ETA:   9:50:09"
     ]
    },
    {
     "name": "stdout",
     "output_type": "stream",
     "text": [
      "SPS: 66 Average Reward: -9.539496615112787\n"
     ]
    },
    {
     "name": "stderr",
     "output_type": "stream",
     "text": [
      " 22% (324 of 1464) |####                 | Elapsed Time: 2:47:15 ETA:   9:49:32"
     ]
    },
    {
     "name": "stdout",
     "output_type": "stream",
     "text": [
      "SPS: 66 Average Reward: -8.029922595355737\n"
     ]
    },
    {
     "name": "stderr",
     "output_type": "stream",
     "text": [
      " 22% (325 of 1464) |####                 | Elapsed Time: 2:47:46 ETA:   9:43:31"
     ]
    },
    {
     "name": "stdout",
     "output_type": "stream",
     "text": [
      "SPS: 66 Average Reward: -7.49325828816903\n"
     ]
    },
    {
     "name": "stderr",
     "output_type": "stream",
     "text": [
      " 22% (326 of 1464) |####                 | Elapsed Time: 2:48:17 ETA:   9:49:14"
     ]
    },
    {
     "name": "stdout",
     "output_type": "stream",
     "text": [
      "SPS: 66 Average Reward: -7.105976190763851\n"
     ]
    },
    {
     "name": "stderr",
     "output_type": "stream",
     "text": [
      " 22% (327 of 1464) |####                 | Elapsed Time: 2:48:48 ETA:   9:39:42"
     ]
    },
    {
     "name": "stdout",
     "output_type": "stream",
     "text": [
      "SPS: 66 Average Reward: -6.980346075754678\n"
     ]
    },
    {
     "name": "stderr",
     "output_type": "stream",
     "text": [
      " 22% (328 of 1464) |####                 | Elapsed Time: 2:49:19 ETA:   9:45:55"
     ]
    },
    {
     "name": "stdout",
     "output_type": "stream",
     "text": [
      "SPS: 66 Average Reward: -8.716848337270235\n"
     ]
    },
    {
     "name": "stderr",
     "output_type": "stream",
     "text": [
      " 22% (329 of 1464) |####                 | Elapsed Time: 2:49:50 ETA:   9:46:08"
     ]
    },
    {
     "name": "stdout",
     "output_type": "stream",
     "text": [
      "SPS: 66 Average Reward: -8.11086015371345\n"
     ]
    },
    {
     "name": "stderr",
     "output_type": "stream",
     "text": [
      " 22% (330 of 1464) |####                 | Elapsed Time: 2:50:21 ETA:   9:44:08"
     ]
    },
    {
     "name": "stdout",
     "output_type": "stream",
     "text": [
      "SPS: 66 Average Reward: -7.898178080732407\n"
     ]
    },
    {
     "name": "stderr",
     "output_type": "stream",
     "text": [
      " 22% (331 of 1464) |####                 | Elapsed Time: 2:50:52 ETA:   9:43:50"
     ]
    },
    {
     "name": "stdout",
     "output_type": "stream",
     "text": [
      "SPS: 66 Average Reward: -7.459215726718442\n"
     ]
    },
    {
     "name": "stderr",
     "output_type": "stream",
     "text": [
      " 22% (332 of 1464) |####                 | Elapsed Time: 2:51:23 ETA:   9:43:28"
     ]
    },
    {
     "name": "stdout",
     "output_type": "stream",
     "text": [
      "SPS: 66 Average Reward: -7.444591991429031\n"
     ]
    },
    {
     "name": "stderr",
     "output_type": "stream",
     "text": [
      " 22% (333 of 1464) |####                 | Elapsed Time: 2:51:53 ETA:   9:44:00"
     ]
    },
    {
     "name": "stdout",
     "output_type": "stream",
     "text": [
      "SPS: 66 Average Reward: -7.744185617587203\n"
     ]
    },
    {
     "name": "stderr",
     "output_type": "stream",
     "text": [
      " 22% (334 of 1464) |####                 | Elapsed Time: 2:52:24 ETA:   9:42:35"
     ]
    },
    {
     "name": "stdout",
     "output_type": "stream",
     "text": [
      "SPS: 66 Average Reward: -7.389493577147682\n"
     ]
    },
    {
     "name": "stderr",
     "output_type": "stream",
     "text": [
      " 22% (335 of 1464) |####                 | Elapsed Time: 2:52:55 ETA:   9:40:57"
     ]
    },
    {
     "name": "stdout",
     "output_type": "stream",
     "text": [
      "SPS: 66 Average Reward: -6.349886250334467\n"
     ]
    },
    {
     "name": "stderr",
     "output_type": "stream",
     "text": [
      " 22% (336 of 1464) |####                 | Elapsed Time: 2:53:26 ETA:   9:43:56"
     ]
    },
    {
     "name": "stdout",
     "output_type": "stream",
     "text": [
      "SPS: 66 Average Reward: -8.142666506885185\n"
     ]
    },
    {
     "name": "stderr",
     "output_type": "stream",
     "text": [
      " 23% (337 of 1464) |####                 | Elapsed Time: 2:53:57 ETA:   9:42:07"
     ]
    },
    {
     "name": "stdout",
     "output_type": "stream",
     "text": [
      "SPS: 66 Average Reward: -7.244424701586652\n"
     ]
    },
    {
     "name": "stderr",
     "output_type": "stream",
     "text": [
      " 23% (338 of 1464) |####                 | Elapsed Time: 2:54:28 ETA:   9:41:29"
     ]
    },
    {
     "name": "stdout",
     "output_type": "stream",
     "text": [
      "SPS: 66 Average Reward: -7.004460167425002\n"
     ]
    },
    {
     "name": "stderr",
     "output_type": "stream",
     "text": [
      " 23% (339 of 1464) |####                 | Elapsed Time: 2:54:59 ETA:   9:40:28"
     ]
    },
    {
     "name": "stdout",
     "output_type": "stream",
     "text": [
      "SPS: 66 Average Reward: -7.555903086654626\n"
     ]
    },
    {
     "name": "stderr",
     "output_type": "stream",
     "text": [
      " 23% (340 of 1464) |####                 | Elapsed Time: 2:55:30 ETA:   9:39:51"
     ]
    },
    {
     "name": "stdout",
     "output_type": "stream",
     "text": [
      "SPS: 66 Average Reward: -8.728144782992674\n"
     ]
    },
    {
     "name": "stderr",
     "output_type": "stream",
     "text": [
      " 23% (341 of 1464) |####                 | Elapsed Time: 2:56:01 ETA:   9:33:02"
     ]
    },
    {
     "name": "stdout",
     "output_type": "stream",
     "text": [
      "SPS: 66 Average Reward: -6.549053092557922\n"
     ]
    },
    {
     "name": "stderr",
     "output_type": "stream",
     "text": [
      " 23% (342 of 1464) |####                 | Elapsed Time: 2:56:32 ETA:   9:34:43"
     ]
    },
    {
     "name": "stdout",
     "output_type": "stream",
     "text": [
      "SPS: 66 Average Reward: -5.706579624035605\n"
     ]
    },
    {
     "name": "stderr",
     "output_type": "stream",
     "text": [
      " 23% (343 of 1464) |####                 | Elapsed Time: 2:57:03 ETA:   9:37:29"
     ]
    },
    {
     "name": "stdout",
     "output_type": "stream",
     "text": [
      "SPS: 66 Average Reward: -5.19338612731668\n"
     ]
    },
    {
     "name": "stderr",
     "output_type": "stream",
     "text": [
      " 23% (344 of 1464) |####                 | Elapsed Time: 2:57:33 ETA:   9:37:02"
     ]
    },
    {
     "name": "stdout",
     "output_type": "stream",
     "text": [
      "SPS: 66 Average Reward: -7.590432923242783\n"
     ]
    },
    {
     "name": "stderr",
     "output_type": "stream",
     "text": [
      " 23% (345 of 1464) |####                 | Elapsed Time: 2:58:04 ETA:   9:38:17"
     ]
    },
    {
     "name": "stdout",
     "output_type": "stream",
     "text": [
      "SPS: 66 Average Reward: -6.733847956330192\n"
     ]
    },
    {
     "name": "stderr",
     "output_type": "stream",
     "text": [
      " 23% (346 of 1464) |####                 | Elapsed Time: 2:58:35 ETA:   9:37:40"
     ]
    },
    {
     "name": "stdout",
     "output_type": "stream",
     "text": [
      "SPS: 66 Average Reward: -6.835497596367037\n"
     ]
    },
    {
     "name": "stderr",
     "output_type": "stream",
     "text": [
      " 23% (347 of 1464) |####                 | Elapsed Time: 2:59:06 ETA:   9:33:51"
     ]
    },
    {
     "name": "stdout",
     "output_type": "stream",
     "text": [
      "SPS: 66 Average Reward: -7.579801907973201\n"
     ]
    },
    {
     "name": "stderr",
     "output_type": "stream",
     "text": [
      " 23% (348 of 1464) |####                 | Elapsed Time: 2:59:37 ETA:   9:34:07"
     ]
    },
    {
     "name": "stdout",
     "output_type": "stream",
     "text": [
      "SPS: 66 Average Reward: -8.995896318368104\n"
     ]
    },
    {
     "name": "stderr",
     "output_type": "stream",
     "text": [
      " 23% (349 of 1464) |#####                | Elapsed Time: 3:00:08 ETA:   9:33:37"
     ]
    },
    {
     "name": "stdout",
     "output_type": "stream",
     "text": [
      "SPS: 66 Average Reward: -8.782333995050566\n"
     ]
    },
    {
     "name": "stderr",
     "output_type": "stream",
     "text": [
      " 23% (350 of 1464) |#####                | Elapsed Time: 3:00:39 ETA:   9:33:13"
     ]
    },
    {
     "name": "stdout",
     "output_type": "stream",
     "text": [
      "SPS: 66 Average Reward: -9.009626634658714\n"
     ]
    },
    {
     "name": "stderr",
     "output_type": "stream",
     "text": [
      " 23% (351 of 1464) |#####                | Elapsed Time: 3:01:10 ETA:   9:33:38"
     ]
    },
    {
     "name": "stdout",
     "output_type": "stream",
     "text": [
      "SPS: 66 Average Reward: -8.05483282241444\n"
     ]
    },
    {
     "name": "stderr",
     "output_type": "stream",
     "text": [
      " 24% (352 of 1464) |#####                | Elapsed Time: 3:01:41 ETA:   9:32:05"
     ]
    },
    {
     "name": "stdout",
     "output_type": "stream",
     "text": [
      "SPS: 66 Average Reward: -7.878968666415356\n"
     ]
    },
    {
     "name": "stderr",
     "output_type": "stream",
     "text": [
      " 24% (353 of 1464) |#####                | Elapsed Time: 3:02:12 ETA:   9:32:15"
     ]
    },
    {
     "name": "stdout",
     "output_type": "stream",
     "text": [
      "SPS: 66 Average Reward: -7.338774171701936\n"
     ]
    },
    {
     "name": "stderr",
     "output_type": "stream",
     "text": [
      " 24% (354 of 1464) |#####                | Elapsed Time: 3:02:43 ETA:   9:32:35"
     ]
    },
    {
     "name": "stdout",
     "output_type": "stream",
     "text": [
      "SPS: 66 Average Reward: -7.388894092352\n"
     ]
    },
    {
     "name": "stderr",
     "output_type": "stream",
     "text": [
      " 24% (355 of 1464) |#####                | Elapsed Time: 3:03:13 ETA:   9:32:06"
     ]
    },
    {
     "name": "stdout",
     "output_type": "stream",
     "text": [
      "SPS: 66 Average Reward: -7.564847714903276\n"
     ]
    },
    {
     "name": "stderr",
     "output_type": "stream",
     "text": [
      " 24% (356 of 1464) |#####                | Elapsed Time: 3:03:45 ETA:   9:34:13"
     ]
    },
    {
     "name": "stdout",
     "output_type": "stream",
     "text": [
      "SPS: 66 Average Reward: -6.129649100115708\n"
     ]
    },
    {
     "name": "stderr",
     "output_type": "stream",
     "text": [
      " 24% (357 of 1464) |#####                | Elapsed Time: 3:04:15 ETA:   9:25:25"
     ]
    },
    {
     "name": "stdout",
     "output_type": "stream",
     "text": [
      "SPS: 66 Average Reward: -8.143652923378607\n"
     ]
    },
    {
     "name": "stderr",
     "output_type": "stream",
     "text": [
      " 24% (358 of 1464) |#####                | Elapsed Time: 3:04:46 ETA:   9:31:42"
     ]
    },
    {
     "name": "stdout",
     "output_type": "stream",
     "text": [
      "SPS: 66 Average Reward: -7.143662808095527\n"
     ]
    },
    {
     "name": "stderr",
     "output_type": "stream",
     "text": [
      " 24% (359 of 1464) |#####                | Elapsed Time: 3:05:17 ETA:   9:21:32"
     ]
    },
    {
     "name": "stdout",
     "output_type": "stream",
     "text": [
      "SPS: 66 Average Reward: -7.719415624390196\n"
     ]
    },
    {
     "name": "stderr",
     "output_type": "stream",
     "text": [
      " 24% (360 of 1464) |#####                | Elapsed Time: 3:05:48 ETA:   9:29:42"
     ]
    },
    {
     "name": "stdout",
     "output_type": "stream",
     "text": [
      "SPS: 66 Average Reward: -6.721452809415409\n"
     ]
    },
    {
     "name": "stderr",
     "output_type": "stream",
     "text": [
      " 24% (361 of 1464) |#####                | Elapsed Time: 3:06:19 ETA:   9:27:43"
     ]
    },
    {
     "name": "stdout",
     "output_type": "stream",
     "text": [
      "SPS: 66 Average Reward: -12.58502070432516\n"
     ]
    },
    {
     "name": "stderr",
     "output_type": "stream",
     "text": [
      " 24% (362 of 1464) |#####                | Elapsed Time: 3:06:50 ETA:   9:28:52"
     ]
    },
    {
     "name": "stdout",
     "output_type": "stream",
     "text": [
      "SPS: 66 Average Reward: -7.755460992879874\n"
     ]
    },
    {
     "name": "stderr",
     "output_type": "stream",
     "text": [
      " 24% (363 of 1464) |#####                | Elapsed Time: 3:07:20 ETA:   9:26:30"
     ]
    },
    {
     "name": "stdout",
     "output_type": "stream",
     "text": [
      "SPS: 66 Average Reward: -6.981538198334391\n"
     ]
    },
    {
     "name": "stderr",
     "output_type": "stream",
     "text": [
      " 24% (364 of 1464) |#####                | Elapsed Time: 3:07:51 ETA:   9:14:40"
     ]
    },
    {
     "name": "stdout",
     "output_type": "stream",
     "text": [
      "SPS: 66 Average Reward: -7.046138997915596\n"
     ]
    },
    {
     "name": "stderr",
     "output_type": "stream",
     "text": [
      " 24% (365 of 1464) |#####                | Elapsed Time: 3:08:21 ETA:   9:18:29"
     ]
    },
    {
     "name": "stdout",
     "output_type": "stream",
     "text": [
      "SPS: 66 Average Reward: -5.593758989938083\n"
     ]
    },
    {
     "name": "stderr",
     "output_type": "stream",
     "text": [
      " 25% (366 of 1464) |#####                | Elapsed Time: 3:08:52 ETA:   9:24:16"
     ]
    },
    {
     "name": "stdout",
     "output_type": "stream",
     "text": [
      "SPS: 66 Average Reward: -7.875698967158801\n"
     ]
    },
    {
     "name": "stderr",
     "output_type": "stream",
     "text": [
      " 25% (367 of 1464) |#####                | Elapsed Time: 3:09:23 ETA:   9:24:12"
     ]
    },
    {
     "name": "stdout",
     "output_type": "stream",
     "text": [
      "SPS: 66 Average Reward: -7.9176598554636115\n"
     ]
    },
    {
     "name": "stderr",
     "output_type": "stream",
     "text": [
      " 25% (368 of 1464) |#####                | Elapsed Time: 3:09:54 ETA:   9:23:39"
     ]
    },
    {
     "name": "stdout",
     "output_type": "stream",
     "text": [
      "SPS: 66 Average Reward: -5.4469165669069675\n"
     ]
    },
    {
     "name": "stderr",
     "output_type": "stream",
     "text": [
      " 25% (369 of 1464) |#####                | Elapsed Time: 3:10:25 ETA:   9:23:56"
     ]
    },
    {
     "name": "stdout",
     "output_type": "stream",
     "text": [
      "SPS: 66 Average Reward: -7.206763998411999\n"
     ]
    },
    {
     "name": "stderr",
     "output_type": "stream",
     "text": [
      " 25% (370 of 1464) |#####                | Elapsed Time: 3:10:56 ETA:   9:23:32"
     ]
    },
    {
     "name": "stdout",
     "output_type": "stream",
     "text": [
      "SPS: 66 Average Reward: -6.612537128187589\n"
     ]
    },
    {
     "name": "stderr",
     "output_type": "stream",
     "text": [
      " 25% (371 of 1464) |#####                | Elapsed Time: 3:11:27 ETA:   9:24:37"
     ]
    },
    {
     "name": "stdout",
     "output_type": "stream",
     "text": [
      "SPS: 66 Average Reward: -5.836960866592863\n"
     ]
    },
    {
     "name": "stderr",
     "output_type": "stream",
     "text": [
      " 25% (372 of 1464) |#####                | Elapsed Time: 3:11:57 ETA:   9:21:18"
     ]
    },
    {
     "name": "stdout",
     "output_type": "stream",
     "text": [
      "SPS: 66 Average Reward: -5.551435237950078\n"
     ]
    },
    {
     "name": "stderr",
     "output_type": "stream",
     "text": [
      " 25% (373 of 1464) |#####                | Elapsed Time: 3:12:28 ETA:   9:21:14"
     ]
    },
    {
     "name": "stdout",
     "output_type": "stream",
     "text": [
      "SPS: 66 Average Reward: -7.330070885510511\n"
     ]
    },
    {
     "name": "stderr",
     "output_type": "stream",
     "text": [
      " 25% (374 of 1464) |#####                | Elapsed Time: 3:12:59 ETA:   9:22:46"
     ]
    },
    {
     "name": "stdout",
     "output_type": "stream",
     "text": [
      "SPS: 66 Average Reward: -8.652808067869604\n"
     ]
    },
    {
     "name": "stderr",
     "output_type": "stream",
     "text": [
      " 25% (375 of 1464) |#####                | Elapsed Time: 3:13:30 ETA:   9:20:09"
     ]
    },
    {
     "name": "stdout",
     "output_type": "stream",
     "text": [
      "SPS: 66 Average Reward: -6.675776067445275\n"
     ]
    },
    {
     "name": "stderr",
     "output_type": "stream",
     "text": [
      " 25% (376 of 1464) |#####                | Elapsed Time: 3:14:01 ETA:   9:21:27"
     ]
    },
    {
     "name": "stdout",
     "output_type": "stream",
     "text": [
      "SPS: 66 Average Reward: -4.159176279303312\n"
     ]
    },
    {
     "name": "stderr",
     "output_type": "stream",
     "text": [
      " 25% (377 of 1464) |#####                | Elapsed Time: 3:14:32 ETA:   9:21:05"
     ]
    },
    {
     "name": "stdout",
     "output_type": "stream",
     "text": [
      "SPS: 66 Average Reward: -6.556032105915818\n"
     ]
    },
    {
     "name": "stderr",
     "output_type": "stream",
     "text": [
      " 25% (378 of 1464) |#####                | Elapsed Time: 3:15:03 ETA:   9:20:07"
     ]
    },
    {
     "name": "stdout",
     "output_type": "stream",
     "text": [
      "SPS: 66 Average Reward: -7.0482130739532725\n"
     ]
    },
    {
     "name": "stderr",
     "output_type": "stream",
     "text": [
      " 25% (379 of 1464) |#####                | Elapsed Time: 3:15:34 ETA:   9:19:02"
     ]
    },
    {
     "name": "stdout",
     "output_type": "stream",
     "text": [
      "SPS: 66 Average Reward: -6.570029023010332\n"
     ]
    },
    {
     "name": "stderr",
     "output_type": "stream",
     "text": [
      " 25% (380 of 1464) |#####                | Elapsed Time: 3:16:05 ETA:   9:17:06"
     ]
    },
    {
     "name": "stdout",
     "output_type": "stream",
     "text": [
      "SPS: 66 Average Reward: -6.2229320898550124\n"
     ]
    },
    {
     "name": "stderr",
     "output_type": "stream",
     "text": [
      " 26% (381 of 1464) |#####                | Elapsed Time: 3:16:36 ETA:   9:17:33"
     ]
    },
    {
     "name": "stdout",
     "output_type": "stream",
     "text": [
      "SPS: 66 Average Reward: -7.897871859872032\n"
     ]
    },
    {
     "name": "stderr",
     "output_type": "stream",
     "text": [
      " 26% (382 of 1464) |#####                | Elapsed Time: 3:17:06 ETA:   9:16:20"
     ]
    },
    {
     "name": "stdout",
     "output_type": "stream",
     "text": [
      "SPS: 66 Average Reward: -7.393724237820037\n"
     ]
    },
    {
     "name": "stderr",
     "output_type": "stream",
     "text": [
      " 26% (383 of 1464) |#####                | Elapsed Time: 3:17:37 ETA:   9:17:01"
     ]
    },
    {
     "name": "stdout",
     "output_type": "stream",
     "text": [
      "SPS: 66 Average Reward: -7.546473325919366\n"
     ]
    },
    {
     "name": "stderr",
     "output_type": "stream",
     "text": [
      " 26% (384 of 1464) |#####                | Elapsed Time: 3:18:08 ETA:   9:07:11"
     ]
    },
    {
     "name": "stdout",
     "output_type": "stream",
     "text": [
      "SPS: 66 Average Reward: -9.67064116382746\n"
     ]
    },
    {
     "name": "stderr",
     "output_type": "stream",
     "text": [
      " 26% (385 of 1464) |#####                | Elapsed Time: 3:18:39 ETA:   9:15:07"
     ]
    },
    {
     "name": "stdout",
     "output_type": "stream",
     "text": [
      "SPS: 66 Average Reward: -6.010770528925185\n"
     ]
    },
    {
     "name": "stderr",
     "output_type": "stream",
     "text": [
      " 26% (386 of 1464) |#####                | Elapsed Time: 3:19:10 ETA:   9:15:19"
     ]
    },
    {
     "name": "stdout",
     "output_type": "stream",
     "text": [
      "SPS: 66 Average Reward: -6.985751861968304\n"
     ]
    },
    {
     "name": "stderr",
     "output_type": "stream",
     "text": [
      " 26% (387 of 1464) |#####                | Elapsed Time: 3:19:40 ETA:   9:09:17"
     ]
    },
    {
     "name": "stdout",
     "output_type": "stream",
     "text": [
      "SPS: 66 Average Reward: -5.762907938544762\n"
     ]
    },
    {
     "name": "stderr",
     "output_type": "stream",
     "text": [
      " 26% (388 of 1464) |#####                | Elapsed Time: 3:20:11 ETA:   9:12:50"
     ]
    },
    {
     "name": "stdout",
     "output_type": "stream",
     "text": [
      "SPS: 66 Average Reward: -5.699864930458628\n"
     ]
    },
    {
     "name": "stderr",
     "output_type": "stream",
     "text": [
      " 26% (389 of 1464) |#####                | Elapsed Time: 3:20:42 ETA:   9:13:05"
     ]
    },
    {
     "name": "stdout",
     "output_type": "stream",
     "text": [
      "SPS: 66 Average Reward: -7.079703512218458\n"
     ]
    },
    {
     "name": "stderr",
     "output_type": "stream",
     "text": [
      " 26% (390 of 1464) |#####                | Elapsed Time: 3:21:13 ETA:   9:12:56"
     ]
    },
    {
     "name": "stdout",
     "output_type": "stream",
     "text": [
      "SPS: 66 Average Reward: -5.902453798321075\n"
     ]
    },
    {
     "name": "stderr",
     "output_type": "stream",
     "text": [
      " 26% (391 of 1464) |#####                | Elapsed Time: 3:21:45 ETA:   9:44:07"
     ]
    },
    {
     "name": "stdout",
     "output_type": "stream",
     "text": [
      "SPS: 66 Average Reward: -5.8499612732502895\n"
     ]
    },
    {
     "name": "stderr",
     "output_type": "stream",
     "text": [
      " 26% (392 of 1464) |#####                | Elapsed Time: 3:22:16 ETA:   8:58:47"
     ]
    },
    {
     "name": "stdout",
     "output_type": "stream",
     "text": [
      "SPS: 66 Average Reward: -6.59384096723548\n"
     ]
    },
    {
     "name": "stderr",
     "output_type": "stream",
     "text": [
      " 26% (393 of 1464) |#####                | Elapsed Time: 3:22:46 ETA:   9:03:43"
     ]
    },
    {
     "name": "stdout",
     "output_type": "stream",
     "text": [
      "SPS: 66 Average Reward: -5.6105008948493555\n"
     ]
    },
    {
     "name": "stderr",
     "output_type": "stream",
     "text": [
      " 26% (394 of 1464) |#####                | Elapsed Time: 3:23:16 ETA:   9:02:25"
     ]
    },
    {
     "name": "stdout",
     "output_type": "stream",
     "text": [
      "SPS: 66 Average Reward: -6.681329723361242\n"
     ]
    },
    {
     "name": "stderr",
     "output_type": "stream",
     "text": [
      " 26% (395 of 1464) |#####                | Elapsed Time: 3:23:47 ETA:   9:02:49"
     ]
    },
    {
     "name": "stdout",
     "output_type": "stream",
     "text": [
      "SPS: 66 Average Reward: -6.447538058003432\n"
     ]
    },
    {
     "name": "stderr",
     "output_type": "stream",
     "text": [
      " 27% (396 of 1464) |#####                | Elapsed Time: 3:24:17 ETA:   9:05:01"
     ]
    },
    {
     "name": "stdout",
     "output_type": "stream",
     "text": [
      "SPS: 66 Average Reward: -7.510210597095841\n"
     ]
    },
    {
     "name": "stderr",
     "output_type": "stream",
     "text": [
      " 27% (397 of 1464) |#####                | Elapsed Time: 3:24:48 ETA:   8:56:54"
     ]
    },
    {
     "name": "stdout",
     "output_type": "stream",
     "text": [
      "SPS: 66 Average Reward: -6.934074421074599\n"
     ]
    },
    {
     "name": "stderr",
     "output_type": "stream",
     "text": [
      " 27% (398 of 1464) |#####                | Elapsed Time: 3:25:18 ETA:   8:58:44"
     ]
    },
    {
     "name": "stdout",
     "output_type": "stream",
     "text": [
      "SPS: 66 Average Reward: -6.974446787802388\n"
     ]
    },
    {
     "name": "stderr",
     "output_type": "stream",
     "text": [
      " 27% (399 of 1464) |#####                | Elapsed Time: 3:25:48 ETA:   8:55:47"
     ]
    },
    {
     "name": "stdout",
     "output_type": "stream",
     "text": [
      "SPS: 66 Average Reward: -5.643996019878098\n"
     ]
    },
    {
     "name": "stderr",
     "output_type": "stream",
     "text": [
      " 27% (400 of 1464) |#####                | Elapsed Time: 3:26:19 ETA:   9:00:20"
     ]
    },
    {
     "name": "stdout",
     "output_type": "stream",
     "text": [
      "SPS: 66 Average Reward: -7.2411073565386515\n"
     ]
    },
    {
     "name": "stderr",
     "output_type": "stream",
     "text": [
      " 27% (401 of 1464) |#####                | Elapsed Time: 3:26:49 ETA:   8:59:10"
     ]
    },
    {
     "name": "stdout",
     "output_type": "stream",
     "text": [
      "SPS: 66 Average Reward: -6.809542921108372\n"
     ]
    },
    {
     "name": "stderr",
     "output_type": "stream",
     "text": [
      " 27% (402 of 1464) |#####                | Elapsed Time: 3:27:20 ETA:   9:06:03"
     ]
    },
    {
     "name": "stdout",
     "output_type": "stream",
     "text": [
      "SPS: 66 Average Reward: -6.7617126878928095\n"
     ]
    },
    {
     "name": "stderr",
     "output_type": "stream",
     "text": [
      " 27% (403 of 1464) |#####                | Elapsed Time: 3:27:51 ETA:   9:06:39"
     ]
    },
    {
     "name": "stdout",
     "output_type": "stream",
     "text": [
      "SPS: 66 Average Reward: -5.394703229511563\n"
     ]
    },
    {
     "name": "stderr",
     "output_type": "stream",
     "text": [
      " 27% (404 of 1464) |#####                | Elapsed Time: 3:28:22 ETA:   9:06:20"
     ]
    },
    {
     "name": "stdout",
     "output_type": "stream",
     "text": [
      "SPS: 66 Average Reward: -6.277174945204185\n"
     ]
    },
    {
     "name": "stderr",
     "output_type": "stream",
     "text": [
      " 27% (405 of 1464) |#####                | Elapsed Time: 3:28:53 ETA:   9:07:31"
     ]
    },
    {
     "name": "stdout",
     "output_type": "stream",
     "text": [
      "SPS: 66 Average Reward: -6.201810428936803\n"
     ]
    },
    {
     "name": "stderr",
     "output_type": "stream",
     "text": [
      " 27% (406 of 1464) |#####                | Elapsed Time: 3:29:24 ETA:   9:04:38"
     ]
    },
    {
     "name": "stdout",
     "output_type": "stream",
     "text": [
      "SPS: 66 Average Reward: -5.712015059290674\n"
     ]
    },
    {
     "name": "stderr",
     "output_type": "stream",
     "text": [
      " 27% (407 of 1464) |#####                | Elapsed Time: 3:29:55 ETA:   9:04:14"
     ]
    },
    {
     "name": "stdout",
     "output_type": "stream",
     "text": [
      "SPS: 66 Average Reward: -7.2849812685952555\n"
     ]
    },
    {
     "name": "stderr",
     "output_type": "stream",
     "text": [
      " 27% (408 of 1464) |#####                | Elapsed Time: 3:30:25 ETA:   8:56:18"
     ]
    },
    {
     "name": "stdout",
     "output_type": "stream",
     "text": [
      "SPS: 66 Average Reward: -8.048955948317039\n"
     ]
    },
    {
     "name": "stderr",
     "output_type": "stream",
     "text": [
      " 27% (409 of 1464) |#####                | Elapsed Time: 3:30:56 ETA:   9:01:44"
     ]
    },
    {
     "name": "stdout",
     "output_type": "stream",
     "text": [
      "SPS: 66 Average Reward: -6.853217021025908\n"
     ]
    },
    {
     "name": "stderr",
     "output_type": "stream",
     "text": [
      " 28% (410 of 1464) |#####                | Elapsed Time: 3:31:27 ETA:   9:02:44"
     ]
    },
    {
     "name": "stdout",
     "output_type": "stream",
     "text": [
      "SPS: 66 Average Reward: -6.463588493214985\n"
     ]
    },
    {
     "name": "stderr",
     "output_type": "stream",
     "text": [
      " 28% (411 of 1464) |#####                | Elapsed Time: 3:31:58 ETA:   9:03:25"
     ]
    },
    {
     "name": "stdout",
     "output_type": "stream",
     "text": [
      "SPS: 66 Average Reward: -6.760226684227234\n"
     ]
    },
    {
     "name": "stderr",
     "output_type": "stream",
     "text": [
      " 28% (412 of 1464) |#####                | Elapsed Time: 3:32:29 ETA:   9:00:58"
     ]
    },
    {
     "name": "stdout",
     "output_type": "stream",
     "text": [
      "SPS: 66 Average Reward: -6.798865047221591\n"
     ]
    },
    {
     "name": "stderr",
     "output_type": "stream",
     "text": [
      " 28% (413 of 1464) |#####                | Elapsed Time: 3:33:00 ETA:   9:01:40"
     ]
    },
    {
     "name": "stdout",
     "output_type": "stream",
     "text": [
      "SPS: 66 Average Reward: -7.361089481854046\n"
     ]
    },
    {
     "name": "stderr",
     "output_type": "stream",
     "text": [
      " 28% (414 of 1464) |#####                | Elapsed Time: 3:33:30 ETA:   8:59:53"
     ]
    },
    {
     "name": "stdout",
     "output_type": "stream",
     "text": [
      "SPS: 66 Average Reward: -6.50940388802285\n"
     ]
    },
    {
     "name": "stderr",
     "output_type": "stream",
     "text": [
      " 28% (415 of 1464) |#####                | Elapsed Time: 3:34:01 ETA:   8:58:51"
     ]
    },
    {
     "name": "stdout",
     "output_type": "stream",
     "text": [
      "SPS: 66 Average Reward: -7.067198429768369\n"
     ]
    },
    {
     "name": "stderr",
     "output_type": "stream",
     "text": [
      " 28% (416 of 1464) |#####                | Elapsed Time: 3:34:32 ETA:   9:00:17"
     ]
    },
    {
     "name": "stdout",
     "output_type": "stream",
     "text": [
      "SPS: 66 Average Reward: -7.57864865961373\n"
     ]
    },
    {
     "name": "stderr",
     "output_type": "stream",
     "text": [
      " 28% (417 of 1464) |#####                | Elapsed Time: 3:35:03 ETA:   8:51:42"
     ]
    },
    {
     "name": "stdout",
     "output_type": "stream",
     "text": [
      "SPS: 66 Average Reward: -7.379937473508524\n"
     ]
    },
    {
     "name": "stderr",
     "output_type": "stream",
     "text": [
      " 28% (418 of 1464) |#####                | Elapsed Time: 3:35:33 ETA:   8:57:43"
     ]
    },
    {
     "name": "stdout",
     "output_type": "stream",
     "text": [
      "SPS: 66 Average Reward: -5.768918264846069\n"
     ]
    },
    {
     "name": "stderr",
     "output_type": "stream",
     "text": [
      " 28% (419 of 1464) |######               | Elapsed Time: 3:36:04 ETA:   8:59:18"
     ]
    },
    {
     "name": "stdout",
     "output_type": "stream",
     "text": [
      "SPS: 66 Average Reward: -7.774318576761552\n"
     ]
    },
    {
     "name": "stderr",
     "output_type": "stream",
     "text": [
      " 28% (420 of 1464) |######               | Elapsed Time: 3:36:35 ETA:   8:56:56"
     ]
    },
    {
     "name": "stdout",
     "output_type": "stream",
     "text": [
      "SPS: 66 Average Reward: -5.48909421740441\n"
     ]
    },
    {
     "name": "stderr",
     "output_type": "stream",
     "text": [
      " 28% (421 of 1464) |######               | Elapsed Time: 3:37:06 ETA:   8:56:45"
     ]
    },
    {
     "name": "stdout",
     "output_type": "stream",
     "text": [
      "SPS: 66 Average Reward: -7.6113549904899855\n"
     ]
    },
    {
     "name": "stderr",
     "output_type": "stream",
     "text": [
      " 28% (422 of 1464) |######               | Elapsed Time: 3:37:37 ETA:   8:57:45"
     ]
    },
    {
     "name": "stdout",
     "output_type": "stream",
     "text": [
      "SPS: 66 Average Reward: -6.584687104999968\n"
     ]
    },
    {
     "name": "stderr",
     "output_type": "stream",
     "text": [
      " 28% (423 of 1464) |######               | Elapsed Time: 3:38:08 ETA:   8:56:35"
     ]
    },
    {
     "name": "stdout",
     "output_type": "stream",
     "text": [
      "SPS: 66 Average Reward: -6.529503870987354\n"
     ]
    },
    {
     "name": "stderr",
     "output_type": "stream",
     "text": [
      " 28% (424 of 1464) |######               | Elapsed Time: 3:38:39 ETA:   8:57:03"
     ]
    },
    {
     "name": "stdout",
     "output_type": "stream",
     "text": [
      "SPS: 66 Average Reward: -6.238218986520427\n"
     ]
    },
    {
     "name": "stderr",
     "output_type": "stream",
     "text": [
      " 29% (425 of 1464) |######               | Elapsed Time: 3:39:10 ETA:   8:54:34"
     ]
    },
    {
     "name": "stdout",
     "output_type": "stream",
     "text": [
      "SPS: 66 Average Reward: -5.227883511190194\n"
     ]
    },
    {
     "name": "stderr",
     "output_type": "stream",
     "text": [
      " 29% (426 of 1464) |######               | Elapsed Time: 3:39:41 ETA:   8:53:02"
     ]
    },
    {
     "name": "stdout",
     "output_type": "stream",
     "text": [
      "SPS: 66 Average Reward: -4.62259586085287\n"
     ]
    },
    {
     "name": "stderr",
     "output_type": "stream",
     "text": [
      " 29% (427 of 1464) |######               | Elapsed Time: 3:40:12 ETA:   8:54:21"
     ]
    },
    {
     "name": "stdout",
     "output_type": "stream",
     "text": [
      "SPS: 66 Average Reward: -6.839608703686621\n"
     ]
    },
    {
     "name": "stderr",
     "output_type": "stream",
     "text": [
      " 29% (428 of 1464) |######               | Elapsed Time: 3:40:42 ETA:   8:46:09"
     ]
    },
    {
     "name": "stdout",
     "output_type": "stream",
     "text": [
      "SPS: 66 Average Reward: -3.67592637830849\n"
     ]
    },
    {
     "name": "stderr",
     "output_type": "stream",
     "text": [
      " 29% (429 of 1464) |######               | Elapsed Time: 3:41:13 ETA:   8:51:31"
     ]
    },
    {
     "name": "stdout",
     "output_type": "stream",
     "text": [
      "SPS: 66 Average Reward: -6.827072633694861\n"
     ]
    },
    {
     "name": "stderr",
     "output_type": "stream",
     "text": [
      " 29% (430 of 1464) |######               | Elapsed Time: 3:41:44 ETA:   8:52:57"
     ]
    },
    {
     "name": "stdout",
     "output_type": "stream",
     "text": [
      "SPS: 66 Average Reward: -6.189719722966825\n"
     ]
    },
    {
     "name": "stderr",
     "output_type": "stream",
     "text": [
      " 29% (431 of 1464) |######               | Elapsed Time: 3:42:15 ETA:   8:52:06"
     ]
    },
    {
     "name": "stdout",
     "output_type": "stream",
     "text": [
      "SPS: 66 Average Reward: -4.660212478097768\n"
     ]
    },
    {
     "name": "stderr",
     "output_type": "stream",
     "text": [
      " 29% (432 of 1464) |######               | Elapsed Time: 3:42:46 ETA:   8:49:37"
     ]
    },
    {
     "name": "stdout",
     "output_type": "stream",
     "text": [
      "SPS: 66 Average Reward: -5.7103616223726865\n"
     ]
    },
    {
     "name": "stderr",
     "output_type": "stream",
     "text": [
      " 29% (433 of 1464) |######               | Elapsed Time: 3:43:16 ETA:   8:43:09"
     ]
    },
    {
     "name": "stdout",
     "output_type": "stream",
     "text": [
      "SPS: 66 Average Reward: -5.5617969029090775\n"
     ]
    },
    {
     "name": "stderr",
     "output_type": "stream",
     "text": [
      " 29% (434 of 1464) |######               | Elapsed Time: 3:43:47 ETA:   8:49:53"
     ]
    },
    {
     "name": "stdout",
     "output_type": "stream",
     "text": [
      "SPS: 66 Average Reward: -6.939466194047163\n"
     ]
    },
    {
     "name": "stderr",
     "output_type": "stream",
     "text": [
      " 29% (435 of 1464) |######               | Elapsed Time: 3:44:17 ETA:   8:45:45"
     ]
    },
    {
     "name": "stdout",
     "output_type": "stream",
     "text": [
      "SPS: 66 Average Reward: -6.84398855117404\n"
     ]
    },
    {
     "name": "stderr",
     "output_type": "stream",
     "text": [
      " 29% (436 of 1464) |######               | Elapsed Time: 3:44:48 ETA:   8:50:21"
     ]
    },
    {
     "name": "stdout",
     "output_type": "stream",
     "text": [
      "SPS: 66 Average Reward: -6.232873276876937\n"
     ]
    },
    {
     "name": "stderr",
     "output_type": "stream",
     "text": [
      " 29% (437 of 1464) |######               | Elapsed Time: 3:45:19 ETA:   8:49:57"
     ]
    },
    {
     "name": "stdout",
     "output_type": "stream",
     "text": [
      "SPS: 66 Average Reward: -6.671827630480944\n"
     ]
    },
    {
     "name": "stderr",
     "output_type": "stream",
     "text": [
      " 29% (438 of 1464) |######               | Elapsed Time: 3:45:50 ETA:   8:49:12"
     ]
    },
    {
     "name": "stdout",
     "output_type": "stream",
     "text": [
      "SPS: 66 Average Reward: -5.559967083367658\n"
     ]
    },
    {
     "name": "stderr",
     "output_type": "stream",
     "text": [
      " 29% (439 of 1464) |######               | Elapsed Time: 3:46:21 ETA:   8:48:08"
     ]
    },
    {
     "name": "stdout",
     "output_type": "stream",
     "text": [
      "SPS: 66 Average Reward: -8.015797052408638\n"
     ]
    },
    {
     "name": "stderr",
     "output_type": "stream",
     "text": [
      " 30% (440 of 1464) |######               | Elapsed Time: 3:46:52 ETA:   8:46:33"
     ]
    },
    {
     "name": "stdout",
     "output_type": "stream",
     "text": [
      "SPS: 66 Average Reward: -6.468544507794355\n"
     ]
    },
    {
     "name": "stderr",
     "output_type": "stream",
     "text": [
      " 30% (441 of 1464) |######               | Elapsed Time: 3:47:23 ETA:   8:46:31"
     ]
    },
    {
     "name": "stdout",
     "output_type": "stream",
     "text": [
      "SPS: 66 Average Reward: -6.6855252927943685\n"
     ]
    },
    {
     "name": "stderr",
     "output_type": "stream",
     "text": [
      " 30% (442 of 1464) |######               | Elapsed Time: 3:47:54 ETA:   8:44:56"
     ]
    },
    {
     "name": "stdout",
     "output_type": "stream",
     "text": [
      "SPS: 66 Average Reward: -6.642732019616367\n"
     ]
    },
    {
     "name": "stderr",
     "output_type": "stream",
     "text": [
      " 30% (443 of 1464) |######               | Elapsed Time: 3:48:25 ETA:   8:45:15"
     ]
    },
    {
     "name": "stdout",
     "output_type": "stream",
     "text": [
      "SPS: 66 Average Reward: -5.722822029052348\n"
     ]
    },
    {
     "name": "stderr",
     "output_type": "stream",
     "text": [
      " 30% (444 of 1464) |######               | Elapsed Time: 3:48:55 ETA:   8:41:38"
     ]
    },
    {
     "name": "stdout",
     "output_type": "stream",
     "text": [
      "SPS: 66 Average Reward: -6.515553623776555\n"
     ]
    },
    {
     "name": "stderr",
     "output_type": "stream",
     "text": [
      " 30% (445 of 1464) |######               | Elapsed Time: 3:49:26 ETA:   8:44:34"
     ]
    },
    {
     "name": "stdout",
     "output_type": "stream",
     "text": [
      "SPS: 66 Average Reward: -4.691986824807164\n"
     ]
    },
    {
     "name": "stderr",
     "output_type": "stream",
     "text": [
      " 30% (446 of 1464) |######               | Elapsed Time: 3:49:57 ETA:   8:43:29"
     ]
    },
    {
     "name": "stdout",
     "output_type": "stream",
     "text": [
      "SPS: 66 Average Reward: -5.69381533756205\n"
     ]
    },
    {
     "name": "stderr",
     "output_type": "stream",
     "text": [
      " 30% (447 of 1464) |######               | Elapsed Time: 3:50:28 ETA:   8:41:14"
     ]
    },
    {
     "name": "stdout",
     "output_type": "stream",
     "text": [
      "SPS: 66 Average Reward: -6.661260831118563\n"
     ]
    },
    {
     "name": "stderr",
     "output_type": "stream",
     "text": [
      " 30% (448 of 1464) |######               | Elapsed Time: 3:50:59 ETA:   8:42:47"
     ]
    },
    {
     "name": "stdout",
     "output_type": "stream",
     "text": [
      "SPS: 66 Average Reward: -6.2172123609272925\n"
     ]
    },
    {
     "name": "stderr",
     "output_type": "stream",
     "text": [
      " 30% (449 of 1464) |######               | Elapsed Time: 3:51:30 ETA:   8:43:22"
     ]
    },
    {
     "name": "stdout",
     "output_type": "stream",
     "text": [
      "SPS: 66 Average Reward: -6.237136600422235\n"
     ]
    },
    {
     "name": "stderr",
     "output_type": "stream",
     "text": [
      " 30% (450 of 1464) |######               | Elapsed Time: 3:52:01 ETA:   8:41:24"
     ]
    },
    {
     "name": "stdout",
     "output_type": "stream",
     "text": [
      "SPS: 66 Average Reward: -5.938641525074259\n"
     ]
    },
    {
     "name": "stderr",
     "output_type": "stream",
     "text": [
      " 30% (451 of 1464) |######               | Elapsed Time: 3:52:31 ETA:   8:41:57"
     ]
    },
    {
     "name": "stdout",
     "output_type": "stream",
     "text": [
      "SPS: 66 Average Reward: -7.194899557129432\n"
     ]
    },
    {
     "name": "stderr",
     "output_type": "stream",
     "text": [
      " 30% (452 of 1464) |######               | Elapsed Time: 3:53:02 ETA:   8:38:53"
     ]
    },
    {
     "name": "stdout",
     "output_type": "stream",
     "text": [
      "SPS: 66 Average Reward: -6.210358204493743\n"
     ]
    },
    {
     "name": "stderr",
     "output_type": "stream",
     "text": [
      " 30% (453 of 1464) |######               | Elapsed Time: 3:53:33 ETA:   8:41:10"
     ]
    },
    {
     "name": "stdout",
     "output_type": "stream",
     "text": [
      "SPS: 66 Average Reward: -6.7712462238785776\n"
     ]
    },
    {
     "name": "stderr",
     "output_type": "stream",
     "text": [
      " 31% (454 of 1464) |######               | Elapsed Time: 3:54:04 ETA:   8:40:15"
     ]
    },
    {
     "name": "stdout",
     "output_type": "stream",
     "text": [
      "SPS: 66 Average Reward: -6.794224690972032\n"
     ]
    },
    {
     "name": "stderr",
     "output_type": "stream",
     "text": [
      " 31% (455 of 1464) |######               | Elapsed Time: 3:54:35 ETA:   8:35:48"
     ]
    },
    {
     "name": "stdout",
     "output_type": "stream",
     "text": [
      "SPS: 66 Average Reward: -5.02144694250714\n"
     ]
    },
    {
     "name": "stderr",
     "output_type": "stream",
     "text": [
      " 31% (456 of 1464) |######               | Elapsed Time: 3:55:05 ETA:   8:36:37"
     ]
    },
    {
     "name": "stdout",
     "output_type": "stream",
     "text": [
      "SPS: 66 Average Reward: -6.1302770118610646\n"
     ]
    },
    {
     "name": "stderr",
     "output_type": "stream",
     "text": [
      " 31% (457 of 1464) |######               | Elapsed Time: 3:55:36 ETA:   8:35:35"
     ]
    },
    {
     "name": "stdout",
     "output_type": "stream",
     "text": [
      "SPS: 66 Average Reward: -5.85639842220547\n"
     ]
    },
    {
     "name": "stderr",
     "output_type": "stream",
     "text": [
      " 31% (458 of 1464) |######               | Elapsed Time: 3:56:07 ETA:   8:38:25"
     ]
    },
    {
     "name": "stdout",
     "output_type": "stream",
     "text": [
      "SPS: 66 Average Reward: -5.961862408947898\n"
     ]
    },
    {
     "name": "stderr",
     "output_type": "stream",
     "text": [
      " 31% (459 of 1464) |######               | Elapsed Time: 3:56:38 ETA:   8:37:47"
     ]
    },
    {
     "name": "stdout",
     "output_type": "stream",
     "text": [
      "SPS: 66 Average Reward: -6.985966121233237\n"
     ]
    },
    {
     "name": "stderr",
     "output_type": "stream",
     "text": [
      " 31% (460 of 1464) |######               | Elapsed Time: 3:57:09 ETA:   8:38:29"
     ]
    },
    {
     "name": "stdout",
     "output_type": "stream",
     "text": [
      "SPS: 66 Average Reward: -6.355829186445323\n"
     ]
    },
    {
     "name": "stderr",
     "output_type": "stream",
     "text": [
      " 31% (461 of 1464) |######               | Elapsed Time: 3:57:40 ETA:   8:35:12"
     ]
    },
    {
     "name": "stdout",
     "output_type": "stream",
     "text": [
      "SPS: 66 Average Reward: -5.997367127356344\n"
     ]
    },
    {
     "name": "stderr",
     "output_type": "stream",
     "text": [
      " 31% (462 of 1464) |######               | Elapsed Time: 3:58:11 ETA:   8:35:21"
     ]
    },
    {
     "name": "stdout",
     "output_type": "stream",
     "text": [
      "SPS: 66 Average Reward: -4.625362222890091\n"
     ]
    },
    {
     "name": "stderr",
     "output_type": "stream",
     "text": [
      " 31% (463 of 1464) |######               | Elapsed Time: 3:58:42 ETA:   8:35:39"
     ]
    },
    {
     "name": "stdout",
     "output_type": "stream",
     "text": [
      "SPS: 66 Average Reward: -8.040851908433432\n"
     ]
    },
    {
     "name": "stderr",
     "output_type": "stream",
     "text": [
      " 31% (464 of 1464) |######               | Elapsed Time: 3:59:12 ETA:   8:28:14"
     ]
    },
    {
     "name": "stdout",
     "output_type": "stream",
     "text": [
      "SPS: 66 Average Reward: -5.293344733811727\n"
     ]
    },
    {
     "name": "stderr",
     "output_type": "stream",
     "text": [
      " 31% (465 of 1464) |######               | Elapsed Time: 3:59:43 ETA:   8:34:38"
     ]
    },
    {
     "name": "stdout",
     "output_type": "stream",
     "text": [
      "SPS: 66 Average Reward: -5.87505931195711\n"
     ]
    },
    {
     "name": "stderr",
     "output_type": "stream",
     "text": [
      " 31% (466 of 1464) |######               | Elapsed Time: 4:00:14 ETA:   8:33:13"
     ]
    },
    {
     "name": "stdout",
     "output_type": "stream",
     "text": [
      "SPS: 66 Average Reward: -6.585068710738924\n"
     ]
    },
    {
     "name": "stderr",
     "output_type": "stream",
     "text": [
      " 31% (467 of 1464) |######               | Elapsed Time: 4:00:45 ETA:   8:33:18"
     ]
    },
    {
     "name": "stdout",
     "output_type": "stream",
     "text": [
      "SPS: 66 Average Reward: -6.319618367072281\n"
     ]
    },
    {
     "name": "stderr",
     "output_type": "stream",
     "text": [
      " 31% (468 of 1464) |######               | Elapsed Time: 4:01:16 ETA:   8:32:48"
     ]
    },
    {
     "name": "stdout",
     "output_type": "stream",
     "text": [
      "SPS: 66 Average Reward: -6.764175751372983\n"
     ]
    },
    {
     "name": "stderr",
     "output_type": "stream",
     "text": [
      " 32% (469 of 1464) |######               | Elapsed Time: 4:01:47 ETA:   8:32:23"
     ]
    },
    {
     "name": "stdout",
     "output_type": "stream",
     "text": [
      "SPS: 66 Average Reward: -5.009805255932473\n"
     ]
    },
    {
     "name": "stderr",
     "output_type": "stream",
     "text": [
      " 32% (470 of 1464) |######               | Elapsed Time: 4:02:17 ETA:   8:31:33"
     ]
    },
    {
     "name": "stdout",
     "output_type": "stream",
     "text": [
      "SPS: 66 Average Reward: -5.80124430106896\n"
     ]
    },
    {
     "name": "stderr",
     "output_type": "stream",
     "text": [
      " 32% (471 of 1464) |######               | Elapsed Time: 4:02:48 ETA:   8:31:39"
     ]
    },
    {
     "name": "stdout",
     "output_type": "stream",
     "text": [
      "SPS: 66 Average Reward: -7.398809576442342\n"
     ]
    },
    {
     "name": "stderr",
     "output_type": "stream",
     "text": [
      " 32% (472 of 1464) |######               | Elapsed Time: 4:03:19 ETA:   8:30:52"
     ]
    },
    {
     "name": "stdout",
     "output_type": "stream",
     "text": [
      "SPS: 66 Average Reward: -5.537299172022007\n"
     ]
    },
    {
     "name": "stderr",
     "output_type": "stream",
     "text": [
      " 32% (473 of 1464) |######               | Elapsed Time: 4:03:50 ETA:   8:30:00"
     ]
    },
    {
     "name": "stdout",
     "output_type": "stream",
     "text": [
      "SPS: 66 Average Reward: -6.12614212028049\n"
     ]
    },
    {
     "name": "stderr",
     "output_type": "stream",
     "text": [
      " 32% (474 of 1464) |######               | Elapsed Time: 4:04:21 ETA:   8:26:42"
     ]
    },
    {
     "name": "stdout",
     "output_type": "stream",
     "text": [
      "SPS: 66 Average Reward: -5.845626689977433\n"
     ]
    },
    {
     "name": "stderr",
     "output_type": "stream",
     "text": [
      " 32% (475 of 1464) |######               | Elapsed Time: 4:04:52 ETA:   8:28:21"
     ]
    },
    {
     "name": "stdout",
     "output_type": "stream",
     "text": [
      "SPS: 66 Average Reward: -6.484341261406043\n"
     ]
    },
    {
     "name": "stderr",
     "output_type": "stream",
     "text": [
      " 32% (476 of 1464) |######               | Elapsed Time: 4:05:23 ETA:   8:28:53"
     ]
    },
    {
     "name": "stdout",
     "output_type": "stream",
     "text": [
      "SPS: 66 Average Reward: -5.863484749804093\n"
     ]
    },
    {
     "name": "stderr",
     "output_type": "stream",
     "text": [
      " 32% (477 of 1464) |######               | Elapsed Time: 4:05:53 ETA:   8:21:33"
     ]
    },
    {
     "name": "stdout",
     "output_type": "stream",
     "text": [
      "SPS: 66 Average Reward: -7.586840208191133\n"
     ]
    },
    {
     "name": "stderr",
     "output_type": "stream",
     "text": [
      " 32% (478 of 1464) |######               | Elapsed Time: 4:06:24 ETA:   8:21:42"
     ]
    },
    {
     "name": "stdout",
     "output_type": "stream",
     "text": [
      "SPS: 66 Average Reward: -5.447874931443952\n"
     ]
    },
    {
     "name": "stderr",
     "output_type": "stream",
     "text": [
      " 32% (479 of 1464) |######               | Elapsed Time: 4:06:54 ETA:   8:27:27"
     ]
    },
    {
     "name": "stdout",
     "output_type": "stream",
     "text": [
      "SPS: 66 Average Reward: -6.144251923120256\n"
     ]
    },
    {
     "name": "stderr",
     "output_type": "stream",
     "text": [
      " 32% (480 of 1464) |######               | Elapsed Time: 4:07:25 ETA:   8:26:57"
     ]
    },
    {
     "name": "stdout",
     "output_type": "stream",
     "text": [
      "SPS: 66 Average Reward: -4.684461246512691\n"
     ]
    },
    {
     "name": "stderr",
     "output_type": "stream",
     "text": [
      " 32% (481 of 1464) |######               | Elapsed Time: 4:07:56 ETA:   8:25:20"
     ]
    },
    {
     "name": "stdout",
     "output_type": "stream",
     "text": [
      "SPS: 66 Average Reward: -5.962545201617563\n"
     ]
    },
    {
     "name": "stderr",
     "output_type": "stream",
     "text": [
      " 32% (482 of 1464) |######               | Elapsed Time: 4:08:27 ETA:   8:25:53"
     ]
    },
    {
     "name": "stdout",
     "output_type": "stream",
     "text": [
      "SPS: 66 Average Reward: -4.522626678108824\n"
     ]
    },
    {
     "name": "stderr",
     "output_type": "stream",
     "text": [
      " 32% (483 of 1464) |######               | Elapsed Time: 4:08:58 ETA:   8:22:27"
     ]
    },
    {
     "name": "stdout",
     "output_type": "stream",
     "text": [
      "SPS: 66 Average Reward: -6.616738508957452\n"
     ]
    },
    {
     "name": "stderr",
     "output_type": "stream",
     "text": [
      " 33% (484 of 1464) |######               | Elapsed Time: 4:09:29 ETA:   8:26:41"
     ]
    },
    {
     "name": "stdout",
     "output_type": "stream",
     "text": [
      "SPS: 66 Average Reward: -6.66345565470171\n"
     ]
    },
    {
     "name": "stderr",
     "output_type": "stream",
     "text": [
      " 33% (485 of 1464) |######               | Elapsed Time: 4:10:00 ETA:   8:23:52"
     ]
    },
    {
     "name": "stdout",
     "output_type": "stream",
     "text": [
      "SPS: 66 Average Reward: -6.927650971241418\n"
     ]
    },
    {
     "name": "stderr",
     "output_type": "stream",
     "text": [
      " 33% (486 of 1464) |######               | Elapsed Time: 4:10:30 ETA:   8:16:34"
     ]
    },
    {
     "name": "stdout",
     "output_type": "stream",
     "text": [
      "SPS: 66 Average Reward: -6.087789742502667\n"
     ]
    },
    {
     "name": "stderr",
     "output_type": "stream",
     "text": [
      " 33% (487 of 1464) |######               | Elapsed Time: 4:11:01 ETA:   8:20:45"
     ]
    },
    {
     "name": "stdout",
     "output_type": "stream",
     "text": [
      "SPS: 66 Average Reward: -4.554360915035205\n"
     ]
    },
    {
     "name": "stderr",
     "output_type": "stream",
     "text": [
      " 33% (488 of 1464) |#######              | Elapsed Time: 4:11:32 ETA:   8:23:40"
     ]
    },
    {
     "name": "stdout",
     "output_type": "stream",
     "text": [
      "SPS: 66 Average Reward: -5.5820496321589275\n"
     ]
    },
    {
     "name": "stderr",
     "output_type": "stream",
     "text": [
      " 33% (489 of 1464) |#######              | Elapsed Time: 4:12:03 ETA:   8:22:42"
     ]
    },
    {
     "name": "stdout",
     "output_type": "stream",
     "text": [
      "SPS: 66 Average Reward: -6.385932851249581\n"
     ]
    },
    {
     "name": "stderr",
     "output_type": "stream",
     "text": [
      " 33% (490 of 1464) |#######              | Elapsed Time: 4:12:34 ETA:   8:21:18"
     ]
    },
    {
     "name": "stdout",
     "output_type": "stream",
     "text": [
      "SPS: 66 Average Reward: -5.6081321560063415\n"
     ]
    },
    {
     "name": "stderr",
     "output_type": "stream",
     "text": [
      " 33% (491 of 1464) |#######              | Elapsed Time: 4:13:05 ETA:   8:20:42"
     ]
    },
    {
     "name": "stdout",
     "output_type": "stream",
     "text": [
      "SPS: 66 Average Reward: -5.0792770649851\n"
     ]
    },
    {
     "name": "stderr",
     "output_type": "stream",
     "text": [
      " 33% (492 of 1464) |#######              | Elapsed Time: 4:13:35 ETA:   8:11:23"
     ]
    },
    {
     "name": "stdout",
     "output_type": "stream",
     "text": [
      "SPS: 66 Average Reward: -6.016221915093983\n"
     ]
    },
    {
     "name": "stderr",
     "output_type": "stream",
     "text": [
      " 33% (493 of 1464) |#######              | Elapsed Time: 4:14:05 ETA:   8:07:44"
     ]
    },
    {
     "name": "stdout",
     "output_type": "stream",
     "text": [
      "SPS: 66 Average Reward: -7.579782353476927\n"
     ]
    },
    {
     "name": "stderr",
     "output_type": "stream",
     "text": [
      " 33% (494 of 1464) |#######              | Elapsed Time: 4:14:36 ETA:   8:17:22"
     ]
    },
    {
     "name": "stdout",
     "output_type": "stream",
     "text": [
      "SPS: 66 Average Reward: -6.800471246498579\n"
     ]
    },
    {
     "name": "stderr",
     "output_type": "stream",
     "text": [
      " 33% (495 of 1464) |#######              | Elapsed Time: 4:15:06 ETA:   8:11:28"
     ]
    },
    {
     "name": "stdout",
     "output_type": "stream",
     "text": [
      "SPS: 66 Average Reward: -5.985405474330785\n"
     ]
    },
    {
     "name": "stderr",
     "output_type": "stream",
     "text": [
      " 33% (496 of 1464) |#######              | Elapsed Time: 4:15:37 ETA:   8:08:21"
     ]
    },
    {
     "name": "stdout",
     "output_type": "stream",
     "text": [
      "SPS: 66 Average Reward: -5.297771100502605\n"
     ]
    },
    {
     "name": "stderr",
     "output_type": "stream",
     "text": [
      " 33% (497 of 1464) |#######              | Elapsed Time: 4:16:07 ETA:   8:07:40"
     ]
    },
    {
     "name": "stdout",
     "output_type": "stream",
     "text": [
      "SPS: 66 Average Reward: -6.04670848261714\n"
     ]
    },
    {
     "name": "stderr",
     "output_type": "stream",
     "text": [
      " 34% (498 of 1464) |#######              | Elapsed Time: 4:16:38 ETA:   8:17:35"
     ]
    },
    {
     "name": "stdout",
     "output_type": "stream",
     "text": [
      "SPS: 66 Average Reward: -4.376796530438442\n"
     ]
    },
    {
     "name": "stderr",
     "output_type": "stream",
     "text": [
      " 34% (499 of 1464) |#######              | Elapsed Time: 4:17:09 ETA:   8:14:57"
     ]
    },
    {
     "name": "stdout",
     "output_type": "stream",
     "text": [
      "SPS: 66 Average Reward: -7.351710546519092\n"
     ]
    },
    {
     "name": "stderr",
     "output_type": "stream",
     "text": [
      " 34% (500 of 1464) |#######              | Elapsed Time: 4:17:39 ETA:   8:16:24"
     ]
    },
    {
     "name": "stdout",
     "output_type": "stream",
     "text": [
      "SPS: 66 Average Reward: -4.341660369675608\n"
     ]
    },
    {
     "name": "stderr",
     "output_type": "stream",
     "text": [
      " 34% (501 of 1464) |#######              | Elapsed Time: 4:18:10 ETA:   8:14:31"
     ]
    },
    {
     "name": "stdout",
     "output_type": "stream",
     "text": [
      "SPS: 66 Average Reward: -5.282244747204342\n"
     ]
    },
    {
     "name": "stderr",
     "output_type": "stream",
     "text": [
      " 34% (502 of 1464) |#######              | Elapsed Time: 4:18:41 ETA:   8:15:29"
     ]
    },
    {
     "name": "stdout",
     "output_type": "stream",
     "text": [
      "SPS: 66 Average Reward: -5.965079658709518\n"
     ]
    },
    {
     "name": "stderr",
     "output_type": "stream",
     "text": [
      " 34% (503 of 1464) |#######              | Elapsed Time: 4:19:12 ETA:   8:11:41"
     ]
    },
    {
     "name": "stdout",
     "output_type": "stream",
     "text": [
      "SPS: 66 Average Reward: -6.608961778615325\n"
     ]
    },
    {
     "name": "stderr",
     "output_type": "stream",
     "text": [
      " 34% (504 of 1464) |#######              | Elapsed Time: 4:19:43 ETA:   8:16:01"
     ]
    },
    {
     "name": "stdout",
     "output_type": "stream",
     "text": [
      "SPS: 66 Average Reward: -5.815095717363662\n"
     ]
    },
    {
     "name": "stderr",
     "output_type": "stream",
     "text": [
      " 34% (505 of 1464) |#######              | Elapsed Time: 4:20:14 ETA:   8:13:06"
     ]
    },
    {
     "name": "stdout",
     "output_type": "stream",
     "text": [
      "SPS: 66 Average Reward: -6.020989198615929\n"
     ]
    },
    {
     "name": "stderr",
     "output_type": "stream",
     "text": [
      " 34% (506 of 1464) |#######              | Elapsed Time: 4:20:45 ETA:   8:12:40"
     ]
    },
    {
     "name": "stdout",
     "output_type": "stream",
     "text": [
      "SPS: 66 Average Reward: -6.108790633154558\n"
     ]
    },
    {
     "name": "stderr",
     "output_type": "stream",
     "text": [
      " 34% (507 of 1464) |#######              | Elapsed Time: 4:21:15 ETA:   8:11:26"
     ]
    },
    {
     "name": "stdout",
     "output_type": "stream",
     "text": [
      "SPS: 66 Average Reward: -6.414264883053921\n"
     ]
    },
    {
     "name": "stderr",
     "output_type": "stream",
     "text": [
      " 34% (508 of 1464) |#######              | Elapsed Time: 4:21:46 ETA:   8:12:27"
     ]
    },
    {
     "name": "stdout",
     "output_type": "stream",
     "text": [
      "SPS: 66 Average Reward: -7.086708299374478\n"
     ]
    },
    {
     "name": "stderr",
     "output_type": "stream",
     "text": [
      " 34% (509 of 1464) |#######              | Elapsed Time: 4:22:17 ETA:   8:11:41"
     ]
    },
    {
     "name": "stdout",
     "output_type": "stream",
     "text": [
      "SPS: 66 Average Reward: -6.372368381989938\n"
     ]
    },
    {
     "name": "stderr",
     "output_type": "stream",
     "text": [
      " 34% (510 of 1464) |#######              | Elapsed Time: 4:22:48 ETA:   8:11:27"
     ]
    },
    {
     "name": "stdout",
     "output_type": "stream",
     "text": [
      "SPS: 66 Average Reward: -5.60436885930875\n"
     ]
    },
    {
     "name": "stderr",
     "output_type": "stream",
     "text": [
      " 34% (511 of 1464) |#######              | Elapsed Time: 4:23:19 ETA:   8:09:33"
     ]
    },
    {
     "name": "stdout",
     "output_type": "stream",
     "text": [
      "SPS: 66 Average Reward: -7.351587516559133\n"
     ]
    },
    {
     "name": "stderr",
     "output_type": "stream",
     "text": [
      " 34% (512 of 1464) |#######              | Elapsed Time: 4:23:50 ETA:   8:10:06"
     ]
    },
    {
     "name": "stdout",
     "output_type": "stream",
     "text": [
      "SPS: 66 Average Reward: -5.144340701243494\n"
     ]
    },
    {
     "name": "stderr",
     "output_type": "stream",
     "text": [
      " 35% (513 of 1464) |#######              | Elapsed Time: 4:24:20 ETA:   8:04:03"
     ]
    },
    {
     "name": "stdout",
     "output_type": "stream",
     "text": [
      "SPS: 66 Average Reward: -6.766686479370961\n"
     ]
    },
    {
     "name": "stderr",
     "output_type": "stream",
     "text": [
      " 35% (514 of 1464) |#######              | Elapsed Time: 4:24:51 ETA:   8:08:44"
     ]
    },
    {
     "name": "stdout",
     "output_type": "stream",
     "text": [
      "SPS: 66 Average Reward: -6.975113630182758\n"
     ]
    },
    {
     "name": "stderr",
     "output_type": "stream",
     "text": [
      " 35% (515 of 1464) |#######              | Elapsed Time: 4:25:22 ETA:   8:02:03"
     ]
    },
    {
     "name": "stdout",
     "output_type": "stream",
     "text": [
      "SPS: 66 Average Reward: -5.466160306152146\n"
     ]
    },
    {
     "name": "stderr",
     "output_type": "stream",
     "text": [
      " 35% (516 of 1464) |#######              | Elapsed Time: 4:25:53 ETA:   8:07:45"
     ]
    },
    {
     "name": "stdout",
     "output_type": "stream",
     "text": [
      "SPS: 66 Average Reward: -5.131352047924852\n"
     ]
    },
    {
     "name": "stderr",
     "output_type": "stream",
     "text": [
      " 35% (517 of 1464) |#######              | Elapsed Time: 4:26:23 ETA:   8:07:43"
     ]
    },
    {
     "name": "stdout",
     "output_type": "stream",
     "text": [
      "SPS: 66 Average Reward: -6.820862111117508\n"
     ]
    },
    {
     "name": "stderr",
     "output_type": "stream",
     "text": [
      " 35% (518 of 1464) |#######              | Elapsed Time: 4:26:54 ETA:   8:07:34"
     ]
    },
    {
     "name": "stdout",
     "output_type": "stream",
     "text": [
      "SPS: 66 Average Reward: -5.699243310065364\n"
     ]
    },
    {
     "name": "stderr",
     "output_type": "stream",
     "text": [
      " 35% (519 of 1464) |#######              | Elapsed Time: 4:27:25 ETA:   8:07:33"
     ]
    },
    {
     "name": "stdout",
     "output_type": "stream",
     "text": [
      "SPS: 66 Average Reward: -5.5143274982288615\n"
     ]
    },
    {
     "name": "stderr",
     "output_type": "stream",
     "text": [
      " 35% (520 of 1464) |#######              | Elapsed Time: 4:27:56 ETA:   8:07:03"
     ]
    },
    {
     "name": "stdout",
     "output_type": "stream",
     "text": [
      "SPS: 66 Average Reward: -8.141315719951988\n"
     ]
    },
    {
     "name": "stderr",
     "output_type": "stream",
     "text": [
      " 35% (521 of 1464) |#######              | Elapsed Time: 4:28:27 ETA:   8:05:59"
     ]
    },
    {
     "name": "stdout",
     "output_type": "stream",
     "text": [
      "SPS: 66 Average Reward: -5.649548014367823\n"
     ]
    },
    {
     "name": "stderr",
     "output_type": "stream",
     "text": [
      " 35% (522 of 1464) |#######              | Elapsed Time: 4:28:58 ETA:   8:03:42"
     ]
    },
    {
     "name": "stdout",
     "output_type": "stream",
     "text": [
      "SPS: 66 Average Reward: -3.015681572847836\n"
     ]
    },
    {
     "name": "stderr",
     "output_type": "stream",
     "text": [
      " 35% (523 of 1464) |#######              | Elapsed Time: 4:29:29 ETA:   8:01:25"
     ]
    },
    {
     "name": "stdout",
     "output_type": "stream",
     "text": [
      "SPS: 66 Average Reward: -7.114678885211492\n"
     ]
    },
    {
     "name": "stderr",
     "output_type": "stream",
     "text": [
      " 35% (524 of 1464) |#######              | Elapsed Time: 4:30:00 ETA:   8:04:19"
     ]
    },
    {
     "name": "stdout",
     "output_type": "stream",
     "text": [
      "SPS: 66 Average Reward: -4.133590610697501\n"
     ]
    },
    {
     "name": "stderr",
     "output_type": "stream",
     "text": [
      " 35% (525 of 1464) |#######              | Elapsed Time: 4:30:31 ETA:   8:04:13"
     ]
    },
    {
     "name": "stdout",
     "output_type": "stream",
     "text": [
      "SPS: 66 Average Reward: -6.494921005617094\n"
     ]
    },
    {
     "name": "stderr",
     "output_type": "stream",
     "text": [
      " 35% (526 of 1464) |#######              | Elapsed Time: 4:31:02 ETA:   8:04:48"
     ]
    },
    {
     "name": "stdout",
     "output_type": "stream",
     "text": [
      "SPS: 66 Average Reward: -7.573646568374364\n"
     ]
    },
    {
     "name": "stderr",
     "output_type": "stream",
     "text": [
      " 35% (527 of 1464) |#######              | Elapsed Time: 4:31:33 ETA:   8:03:09"
     ]
    },
    {
     "name": "stdout",
     "output_type": "stream",
     "text": [
      "SPS: 66 Average Reward: -5.7949251078859785\n"
     ]
    },
    {
     "name": "stderr",
     "output_type": "stream",
     "text": [
      " 36% (528 of 1464) |#######              | Elapsed Time: 4:32:03 ETA:   8:00:45"
     ]
    },
    {
     "name": "stdout",
     "output_type": "stream",
     "text": [
      "SPS: 66 Average Reward: -6.779521644533668\n"
     ]
    },
    {
     "name": "stderr",
     "output_type": "stream",
     "text": [
      " 36% (529 of 1464) |#######              | Elapsed Time: 4:32:34 ETA:   8:00:13"
     ]
    },
    {
     "name": "stdout",
     "output_type": "stream",
     "text": [
      "SPS: 66 Average Reward: -7.222575470446917\n"
     ]
    },
    {
     "name": "stderr",
     "output_type": "stream",
     "text": [
      " 36% (530 of 1464) |#######              | Elapsed Time: 4:33:05 ETA:   8:01:08"
     ]
    },
    {
     "name": "stdout",
     "output_type": "stream",
     "text": [
      "SPS: 66 Average Reward: -5.455128718762897\n"
     ]
    },
    {
     "name": "stderr",
     "output_type": "stream",
     "text": [
      " 36% (531 of 1464) |#######              | Elapsed Time: 4:33:36 ETA:   7:53:43"
     ]
    },
    {
     "name": "stdout",
     "output_type": "stream",
     "text": [
      "SPS: 66 Average Reward: -8.523508075239912\n"
     ]
    },
    {
     "name": "stderr",
     "output_type": "stream",
     "text": [
      " 36% (532 of 1464) |#######              | Elapsed Time: 4:34:07 ETA:   8:01:03"
     ]
    },
    {
     "name": "stdout",
     "output_type": "stream",
     "text": [
      "SPS: 66 Average Reward: -5.279222642277265\n"
     ]
    },
    {
     "name": "stderr",
     "output_type": "stream",
     "text": [
      " 36% (533 of 1464) |#######              | Elapsed Time: 4:34:37 ETA:   8:00:32"
     ]
    },
    {
     "name": "stdout",
     "output_type": "stream",
     "text": [
      "SPS: 66 Average Reward: -7.076831639446618\n"
     ]
    },
    {
     "name": "stderr",
     "output_type": "stream",
     "text": [
      " 36% (534 of 1464) |#######              | Elapsed Time: 4:35:09 ETA:   8:01:05"
     ]
    },
    {
     "name": "stdout",
     "output_type": "stream",
     "text": [
      "SPS: 66 Average Reward: -5.490223379043164\n"
     ]
    },
    {
     "name": "stderr",
     "output_type": "stream",
     "text": [
      " 36% (535 of 1464) |#######              | Elapsed Time: 4:35:40 ETA:   8:01:42"
     ]
    },
    {
     "name": "stdout",
     "output_type": "stream",
     "text": [
      "SPS: 66 Average Reward: -5.950226806712136\n"
     ]
    },
    {
     "name": "stderr",
     "output_type": "stream",
     "text": [
      " 36% (536 of 1464) |#######              | Elapsed Time: 4:36:11 ETA:   8:00:15"
     ]
    },
    {
     "name": "stdout",
     "output_type": "stream",
     "text": [
      "SPS: 66 Average Reward: -5.31147407153006\n"
     ]
    },
    {
     "name": "stderr",
     "output_type": "stream",
     "text": [
      " 36% (537 of 1464) |#######              | Elapsed Time: 4:36:42 ETA:   7:59:14"
     ]
    },
    {
     "name": "stdout",
     "output_type": "stream",
     "text": [
      "SPS: 66 Average Reward: -5.914490114882775\n"
     ]
    },
    {
     "name": "stderr",
     "output_type": "stream",
     "text": [
      " 36% (538 of 1464) |#######              | Elapsed Time: 4:37:13 ETA:   7:57:29"
     ]
    },
    {
     "name": "stdout",
     "output_type": "stream",
     "text": [
      "SPS: 66 Average Reward: -5.394147294905975\n"
     ]
    },
    {
     "name": "stderr",
     "output_type": "stream",
     "text": [
      " 36% (539 of 1464) |#######              | Elapsed Time: 4:37:44 ETA:   7:58:03"
     ]
    },
    {
     "name": "stdout",
     "output_type": "stream",
     "text": [
      "SPS: 66 Average Reward: -5.601058766168546\n"
     ]
    },
    {
     "name": "stderr",
     "output_type": "stream",
     "text": [
      " 36% (540 of 1464) |#######              | Elapsed Time: 4:38:15 ETA:   7:55:25"
     ]
    },
    {
     "name": "stdout",
     "output_type": "stream",
     "text": [
      "SPS: 66 Average Reward: -5.191788282087142\n"
     ]
    },
    {
     "name": "stderr",
     "output_type": "stream",
     "text": [
      " 36% (541 of 1464) |#######              | Elapsed Time: 4:38:46 ETA:   7:57:22"
     ]
    },
    {
     "name": "stdout",
     "output_type": "stream",
     "text": [
      "SPS: 66 Average Reward: -5.485733838984907\n"
     ]
    },
    {
     "name": "stderr",
     "output_type": "stream",
     "text": [
      " 37% (542 of 1464) |#######              | Elapsed Time: 4:39:17 ETA:   7:57:28"
     ]
    },
    {
     "name": "stdout",
     "output_type": "stream",
     "text": [
      "SPS: 66 Average Reward: -4.9935554725371265\n"
     ]
    },
    {
     "name": "stderr",
     "output_type": "stream",
     "text": [
      " 37% (543 of 1464) |#######              | Elapsed Time: 4:39:48 ETA:   7:54:51"
     ]
    },
    {
     "name": "stdout",
     "output_type": "stream",
     "text": [
      "SPS: 66 Average Reward: -5.850655088421518\n"
     ]
    },
    {
     "name": "stderr",
     "output_type": "stream",
     "text": [
      " 37% (544 of 1464) |#######              | Elapsed Time: 4:40:19 ETA:   7:55:43"
     ]
    },
    {
     "name": "stdout",
     "output_type": "stream",
     "text": [
      "SPS: 66 Average Reward: -6.373151172896035\n"
     ]
    },
    {
     "name": "stderr",
     "output_type": "stream",
     "text": [
      " 37% (545 of 1464) |#######              | Elapsed Time: 4:40:50 ETA:   7:55:17"
     ]
    },
    {
     "name": "stdout",
     "output_type": "stream",
     "text": [
      "SPS: 66 Average Reward: -5.521219043742452\n"
     ]
    },
    {
     "name": "stderr",
     "output_type": "stream",
     "text": [
      " 37% (546 of 1464) |#######              | Elapsed Time: 4:41:21 ETA:   7:54:06"
     ]
    },
    {
     "name": "stdout",
     "output_type": "stream",
     "text": [
      "SPS: 66 Average Reward: -5.466655579841129\n"
     ]
    },
    {
     "name": "stderr",
     "output_type": "stream",
     "text": [
      " 37% (547 of 1464) |#######              | Elapsed Time: 4:41:52 ETA:   7:52:41"
     ]
    },
    {
     "name": "stdout",
     "output_type": "stream",
     "text": [
      "SPS: 66 Average Reward: -6.634544098517727\n"
     ]
    },
    {
     "name": "stderr",
     "output_type": "stream",
     "text": [
      " 37% (548 of 1464) |#######              | Elapsed Time: 4:42:23 ETA:   7:52:57"
     ]
    },
    {
     "name": "stdout",
     "output_type": "stream",
     "text": [
      "SPS: 66 Average Reward: -6.440516283608671\n"
     ]
    },
    {
     "name": "stderr",
     "output_type": "stream",
     "text": [
      " 37% (549 of 1464) |#######              | Elapsed Time: 4:42:53 ETA:   7:51:29"
     ]
    },
    {
     "name": "stdout",
     "output_type": "stream",
     "text": [
      "SPS: 66 Average Reward: -5.789414110892354\n"
     ]
    },
    {
     "name": "stderr",
     "output_type": "stream",
     "text": [
      " 37% (550 of 1464) |#######              | Elapsed Time: 4:43:24 ETA:   7:52:19"
     ]
    },
    {
     "name": "stdout",
     "output_type": "stream",
     "text": [
      "SPS: 66 Average Reward: -5.25144000659877\n"
     ]
    },
    {
     "name": "stderr",
     "output_type": "stream",
     "text": [
      " 37% (551 of 1464) |#######              | Elapsed Time: 4:43:55 ETA:   7:50:49"
     ]
    },
    {
     "name": "stdout",
     "output_type": "stream",
     "text": [
      "SPS: 66 Average Reward: -6.583206490970486\n"
     ]
    },
    {
     "name": "stderr",
     "output_type": "stream",
     "text": [
      " 37% (552 of 1464) |#######              | Elapsed Time: 4:44:26 ETA:   7:51:51"
     ]
    },
    {
     "name": "stdout",
     "output_type": "stream",
     "text": [
      "SPS: 66 Average Reward: -3.890367745722277\n"
     ]
    },
    {
     "name": "stderr",
     "output_type": "stream",
     "text": [
      " 37% (553 of 1464) |#######              | Elapsed Time: 4:44:57 ETA:   7:50:07"
     ]
    },
    {
     "name": "stdout",
     "output_type": "stream",
     "text": [
      "SPS: 66 Average Reward: -6.0739906147112555\n"
     ]
    },
    {
     "name": "stderr",
     "output_type": "stream",
     "text": [
      " 37% (554 of 1464) |#######              | Elapsed Time: 4:45:28 ETA:   7:50:41"
     ]
    },
    {
     "name": "stdout",
     "output_type": "stream",
     "text": [
      "SPS: 66 Average Reward: -6.194229670752517\n"
     ]
    },
    {
     "name": "stderr",
     "output_type": "stream",
     "text": [
      " 37% (555 of 1464) |#######              | Elapsed Time: 4:45:59 ETA:   7:49:21"
     ]
    },
    {
     "name": "stdout",
     "output_type": "stream",
     "text": [
      "SPS: 66 Average Reward: -5.735246736646149\n"
     ]
    },
    {
     "name": "stderr",
     "output_type": "stream",
     "text": [
      " 37% (556 of 1464) |#######              | Elapsed Time: 4:46:30 ETA:   7:50:34"
     ]
    },
    {
     "name": "stdout",
     "output_type": "stream",
     "text": [
      "SPS: 66 Average Reward: -5.0104214870951775\n"
     ]
    },
    {
     "name": "stderr",
     "output_type": "stream",
     "text": [
      " 38% (557 of 1464) |#######              | Elapsed Time: 4:47:01 ETA:   7:48:18"
     ]
    },
    {
     "name": "stdout",
     "output_type": "stream",
     "text": [
      "SPS: 66 Average Reward: -7.031336737229786\n"
     ]
    },
    {
     "name": "stderr",
     "output_type": "stream",
     "text": [
      " 38% (558 of 1464) |########             | Elapsed Time: 4:47:32 ETA:   7:48:22"
     ]
    },
    {
     "name": "stdout",
     "output_type": "stream",
     "text": [
      "SPS: 66 Average Reward: -5.3417981514985735\n"
     ]
    },
    {
     "name": "stderr",
     "output_type": "stream",
     "text": [
      " 38% (559 of 1464) |########             | Elapsed Time: 4:48:03 ETA:   7:46:34"
     ]
    },
    {
     "name": "stdout",
     "output_type": "stream",
     "text": [
      "SPS: 66 Average Reward: -6.388723040842239\n"
     ]
    },
    {
     "name": "stderr",
     "output_type": "stream",
     "text": [
      " 38% (560 of 1464) |########             | Elapsed Time: 4:48:34 ETA:   7:46:21"
     ]
    },
    {
     "name": "stdout",
     "output_type": "stream",
     "text": [
      "SPS: 66 Average Reward: -4.997285410005296\n"
     ]
    },
    {
     "name": "stderr",
     "output_type": "stream",
     "text": [
      " 38% (561 of 1464) |########             | Elapsed Time: 4:49:05 ETA:   7:45:11"
     ]
    },
    {
     "name": "stdout",
     "output_type": "stream",
     "text": [
      "SPS: 66 Average Reward: -5.504295758532806\n"
     ]
    },
    {
     "name": "stderr",
     "output_type": "stream",
     "text": [
      " 38% (562 of 1464) |########             | Elapsed Time: 4:49:36 ETA:   7:46:27"
     ]
    },
    {
     "name": "stdout",
     "output_type": "stream",
     "text": [
      "SPS: 66 Average Reward: -6.675478371990043\n"
     ]
    },
    {
     "name": "stderr",
     "output_type": "stream",
     "text": [
      " 38% (563 of 1464) |########             | Elapsed Time: 4:50:07 ETA:   7:48:04"
     ]
    },
    {
     "name": "stdout",
     "output_type": "stream",
     "text": [
      "SPS: 66 Average Reward: -7.360867192047412\n"
     ]
    },
    {
     "name": "stderr",
     "output_type": "stream",
     "text": [
      " 38% (564 of 1464) |########             | Elapsed Time: 4:50:39 ETA:   7:47:28"
     ]
    },
    {
     "name": "stdout",
     "output_type": "stream",
     "text": [
      "SPS: 66 Average Reward: -6.325516783607254\n"
     ]
    },
    {
     "name": "stderr",
     "output_type": "stream",
     "text": [
      " 38% (565 of 1464) |########             | Elapsed Time: 4:51:09 ETA:   7:40:21"
     ]
    },
    {
     "name": "stdout",
     "output_type": "stream",
     "text": [
      "SPS: 66 Average Reward: -5.765488129849546\n"
     ]
    },
    {
     "name": "stderr",
     "output_type": "stream",
     "text": [
      " 38% (566 of 1464) |########             | Elapsed Time: 4:51:40 ETA:   7:43:23"
     ]
    },
    {
     "name": "stdout",
     "output_type": "stream",
     "text": [
      "SPS: 66 Average Reward: -5.525764146114968\n"
     ]
    },
    {
     "name": "stderr",
     "output_type": "stream",
     "text": [
      " 38% (567 of 1464) |########             | Elapsed Time: 4:52:11 ETA:   7:37:04"
     ]
    },
    {
     "name": "stdout",
     "output_type": "stream",
     "text": [
      "SPS: 66 Average Reward: -5.901740816928816\n"
     ]
    },
    {
     "name": "stderr",
     "output_type": "stream",
     "text": [
      " 38% (568 of 1464) |########             | Elapsed Time: 4:52:42 ETA:   7:43:08"
     ]
    },
    {
     "name": "stdout",
     "output_type": "stream",
     "text": [
      "SPS: 66 Average Reward: -5.6581326935846095\n"
     ]
    },
    {
     "name": "stderr",
     "output_type": "stream",
     "text": [
      " 38% (569 of 1464) |########             | Elapsed Time: 4:53:13 ETA:   7:40:38"
     ]
    },
    {
     "name": "stdout",
     "output_type": "stream",
     "text": [
      "SPS: 66 Average Reward: -6.351082923857229\n"
     ]
    },
    {
     "name": "stderr",
     "output_type": "stream",
     "text": [
      " 38% (570 of 1464) |########             | Elapsed Time: 4:53:44 ETA:   7:42:15"
     ]
    },
    {
     "name": "stdout",
     "output_type": "stream",
     "text": [
      "SPS: 66 Average Reward: -4.818017843173812\n"
     ]
    },
    {
     "name": "stderr",
     "output_type": "stream",
     "text": [
      " 39% (571 of 1464) |########             | Elapsed Time: 4:54:15 ETA:   7:36:41"
     ]
    },
    {
     "name": "stdout",
     "output_type": "stream",
     "text": [
      "SPS: 66 Average Reward: -5.6738985793231205\n"
     ]
    },
    {
     "name": "stderr",
     "output_type": "stream",
     "text": [
      " 39% (572 of 1464) |########             | Elapsed Time: 4:54:46 ETA:   7:41:36"
     ]
    },
    {
     "name": "stdout",
     "output_type": "stream",
     "text": [
      "SPS: 66 Average Reward: -5.979656247426731\n"
     ]
    },
    {
     "name": "stderr",
     "output_type": "stream",
     "text": [
      " 39% (573 of 1464) |########             | Elapsed Time: 4:55:17 ETA:   7:39:36"
     ]
    },
    {
     "name": "stdout",
     "output_type": "stream",
     "text": [
      "SPS: 66 Average Reward: -6.950917201254468\n"
     ]
    },
    {
     "name": "stderr",
     "output_type": "stream",
     "text": [
      " 39% (574 of 1464) |########             | Elapsed Time: 4:55:48 ETA:   7:41:32"
     ]
    },
    {
     "name": "stdout",
     "output_type": "stream",
     "text": [
      "SPS: 66 Average Reward: -4.306062380588493\n"
     ]
    },
    {
     "name": "stderr",
     "output_type": "stream",
     "text": [
      " 39% (575 of 1464) |########             | Elapsed Time: 4:56:19 ETA:   7:37:26"
     ]
    },
    {
     "name": "stdout",
     "output_type": "stream",
     "text": [
      "SPS: 66 Average Reward: -5.036038997957726\n"
     ]
    },
    {
     "name": "stderr",
     "output_type": "stream",
     "text": [
      " 39% (576 of 1464) |########             | Elapsed Time: 4:56:50 ETA:   7:39:15"
     ]
    },
    {
     "name": "stdout",
     "output_type": "stream",
     "text": [
      "SPS: 66 Average Reward: -5.477694824640126\n"
     ]
    },
    {
     "name": "stderr",
     "output_type": "stream",
     "text": [
      " 39% (577 of 1464) |########             | Elapsed Time: 4:57:21 ETA:   7:39:47"
     ]
    },
    {
     "name": "stdout",
     "output_type": "stream",
     "text": [
      "SPS: 66 Average Reward: -5.734467891655653\n"
     ]
    },
    {
     "name": "stderr",
     "output_type": "stream",
     "text": [
      " 39% (578 of 1464) |########             | Elapsed Time: 4:57:52 ETA:   7:38:53"
     ]
    },
    {
     "name": "stdout",
     "output_type": "stream",
     "text": [
      "SPS: 66 Average Reward: -5.384771600806038\n"
     ]
    },
    {
     "name": "stderr",
     "output_type": "stream",
     "text": [
      " 39% (579 of 1464) |########             | Elapsed Time: 4:58:23 ETA:   7:37:43"
     ]
    },
    {
     "name": "stdout",
     "output_type": "stream",
     "text": [
      "SPS: 66 Average Reward: -5.75324181316448\n"
     ]
    },
    {
     "name": "stderr",
     "output_type": "stream",
     "text": [
      " 39% (580 of 1464) |########             | Elapsed Time: 4:58:53 ETA:   7:30:59"
     ]
    },
    {
     "name": "stdout",
     "output_type": "stream",
     "text": [
      "SPS: 66 Average Reward: -5.632279612120115\n"
     ]
    },
    {
     "name": "stderr",
     "output_type": "stream",
     "text": [
      " 39% (581 of 1464) |########             | Elapsed Time: 4:59:24 ETA:   7:37:26"
     ]
    },
    {
     "name": "stdout",
     "output_type": "stream",
     "text": [
      "SPS: 66 Average Reward: -6.8526504805559245\n"
     ]
    },
    {
     "name": "stderr",
     "output_type": "stream",
     "text": [
      " 39% (582 of 1464) |########             | Elapsed Time: 4:59:56 ETA:   7:36:59"
     ]
    },
    {
     "name": "stdout",
     "output_type": "stream",
     "text": [
      "SPS: 66 Average Reward: -6.176171349034996\n"
     ]
    },
    {
     "name": "stderr",
     "output_type": "stream",
     "text": [
      " 39% (583 of 1464) |########             | Elapsed Time: 5:00:27 ETA:   7:35:56"
     ]
    },
    {
     "name": "stdout",
     "output_type": "stream",
     "text": [
      "SPS: 66 Average Reward: -5.67403956831438\n"
     ]
    },
    {
     "name": "stderr",
     "output_type": "stream",
     "text": [
      " 39% (584 of 1464) |########             | Elapsed Time: 5:00:58 ETA:   7:34:04"
     ]
    },
    {
     "name": "stdout",
     "output_type": "stream",
     "text": [
      "SPS: 66 Average Reward: -6.124943361648236\n"
     ]
    },
    {
     "name": "stderr",
     "output_type": "stream",
     "text": [
      " 39% (585 of 1464) |########             | Elapsed Time: 5:01:29 ETA:   7:36:00"
     ]
    },
    {
     "name": "stdout",
     "output_type": "stream",
     "text": [
      "SPS: 66 Average Reward: -8.069322746130153\n"
     ]
    },
    {
     "name": "stderr",
     "output_type": "stream",
     "text": [
      " 40% (586 of 1464) |########             | Elapsed Time: 5:02:00 ETA:   7:32:59"
     ]
    },
    {
     "name": "stdout",
     "output_type": "stream",
     "text": [
      "SPS: 66 Average Reward: -6.233282292291368\n"
     ]
    },
    {
     "name": "stderr",
     "output_type": "stream",
     "text": [
      " 40% (587 of 1464) |########             | Elapsed Time: 5:02:30 ETA:   7:26:39"
     ]
    },
    {
     "name": "stdout",
     "output_type": "stream",
     "text": [
      "SPS: 66 Average Reward: -4.94774219229759\n"
     ]
    },
    {
     "name": "stderr",
     "output_type": "stream",
     "text": [
      " 40% (588 of 1464) |########             | Elapsed Time: 5:03:01 ETA:   7:32:54"
     ]
    },
    {
     "name": "stdout",
     "output_type": "stream",
     "text": [
      "SPS: 66 Average Reward: -5.989334182317467\n"
     ]
    },
    {
     "name": "stderr",
     "output_type": "stream",
     "text": [
      " 40% (589 of 1464) |########             | Elapsed Time: 5:03:32 ETA:   7:32:39"
     ]
    },
    {
     "name": "stdout",
     "output_type": "stream",
     "text": [
      "SPS: 66 Average Reward: -5.853592271774512\n"
     ]
    },
    {
     "name": "stderr",
     "output_type": "stream",
     "text": [
      " 40% (590 of 1464) |########             | Elapsed Time: 5:04:03 ETA:   7:31:40"
     ]
    },
    {
     "name": "stdout",
     "output_type": "stream",
     "text": [
      "SPS: 66 Average Reward: -5.69819070117397\n"
     ]
    },
    {
     "name": "stderr",
     "output_type": "stream",
     "text": [
      " 40% (591 of 1464) |########             | Elapsed Time: 5:04:34 ETA:   7:28:03"
     ]
    },
    {
     "name": "stdout",
     "output_type": "stream",
     "text": [
      "SPS: 66 Average Reward: -5.982083864583119\n"
     ]
    },
    {
     "name": "stderr",
     "output_type": "stream",
     "text": [
      " 40% (592 of 1464) |########             | Elapsed Time: 5:05:05 ETA:   7:23:44"
     ]
    },
    {
     "name": "stdout",
     "output_type": "stream",
     "text": [
      "SPS: 66 Average Reward: -5.846182576669965\n"
     ]
    },
    {
     "name": "stderr",
     "output_type": "stream",
     "text": [
      " 40% (593 of 1464) |########             | Elapsed Time: 5:05:35 ETA:   7:27:58"
     ]
    },
    {
     "name": "stdout",
     "output_type": "stream",
     "text": [
      "SPS: 66 Average Reward: -6.824670699915847\n"
     ]
    },
    {
     "name": "stderr",
     "output_type": "stream",
     "text": [
      " 40% (594 of 1464) |########             | Elapsed Time: 5:06:07 ETA:   7:30:49"
     ]
    },
    {
     "name": "stdout",
     "output_type": "stream",
     "text": [
      "SPS: 66 Average Reward: -5.614475930139979\n"
     ]
    },
    {
     "name": "stderr",
     "output_type": "stream",
     "text": [
      " 40% (595 of 1464) |########             | Elapsed Time: 5:06:38 ETA:   7:30:26"
     ]
    },
    {
     "name": "stdout",
     "output_type": "stream",
     "text": [
      "SPS: 66 Average Reward: -5.18692721690372\n"
     ]
    },
    {
     "name": "stderr",
     "output_type": "stream",
     "text": [
      " 40% (596 of 1464) |########             | Elapsed Time: 5:07:09 ETA:   7:29:23"
     ]
    },
    {
     "name": "stdout",
     "output_type": "stream",
     "text": [
      "SPS: 66 Average Reward: -5.550783420306429\n"
     ]
    },
    {
     "name": "stderr",
     "output_type": "stream",
     "text": [
      " 40% (597 of 1464) |########             | Elapsed Time: 5:07:40 ETA:   7:27:53"
     ]
    },
    {
     "name": "stdout",
     "output_type": "stream",
     "text": [
      "SPS: 66 Average Reward: -6.067135616854587\n"
     ]
    },
    {
     "name": "stderr",
     "output_type": "stream",
     "text": [
      " 40% (598 of 1464) |########             | Elapsed Time: 5:08:11 ETA:   7:27:41"
     ]
    },
    {
     "name": "stdout",
     "output_type": "stream",
     "text": [
      "SPS: 66 Average Reward: -6.8147454180486315\n"
     ]
    },
    {
     "name": "stderr",
     "output_type": "stream",
     "text": [
      " 40% (599 of 1464) |########             | Elapsed Time: 5:08:42 ETA:   7:26:34"
     ]
    },
    {
     "name": "stdout",
     "output_type": "stream",
     "text": [
      "SPS: 66 Average Reward: -4.8302052915613585\n"
     ]
    },
    {
     "name": "stderr",
     "output_type": "stream",
     "text": [
      " 40% (600 of 1464) |########             | Elapsed Time: 5:09:13 ETA:   7:26:43"
     ]
    },
    {
     "name": "stdout",
     "output_type": "stream",
     "text": [
      "SPS: 66 Average Reward: -6.179709104458919\n"
     ]
    },
    {
     "name": "stderr",
     "output_type": "stream",
     "text": [
      " 41% (601 of 1464) |########             | Elapsed Time: 5:09:44 ETA:   7:25:02"
     ]
    },
    {
     "name": "stdout",
     "output_type": "stream",
     "text": [
      "SPS: 66 Average Reward: -5.352604059582018\n"
     ]
    },
    {
     "name": "stderr",
     "output_type": "stream",
     "text": [
      " 41% (602 of 1464) |########             | Elapsed Time: 5:10:14 ETA:   7:18:09"
     ]
    },
    {
     "name": "stdout",
     "output_type": "stream",
     "text": [
      "SPS: 66 Average Reward: -5.61357168553387\n"
     ]
    },
    {
     "name": "stderr",
     "output_type": "stream",
     "text": [
      " 41% (603 of 1464) |########             | Elapsed Time: 5:10:45 ETA:   7:24:25"
     ]
    },
    {
     "name": "stdout",
     "output_type": "stream",
     "text": [
      "SPS: 66 Average Reward: -5.205065328946257\n"
     ]
    },
    {
     "name": "stderr",
     "output_type": "stream",
     "text": [
      " 41% (604 of 1464) |########             | Elapsed Time: 5:11:16 ETA:   7:19:01"
     ]
    },
    {
     "name": "stdout",
     "output_type": "stream",
     "text": [
      "SPS: 66 Average Reward: -5.909385700395176\n"
     ]
    },
    {
     "name": "stderr",
     "output_type": "stream",
     "text": [
      " 41% (605 of 1464) |########             | Elapsed Time: 5:11:47 ETA:   7:24:47"
     ]
    },
    {
     "name": "stdout",
     "output_type": "stream",
     "text": [
      "SPS: 66 Average Reward: -5.821992203363641\n"
     ]
    },
    {
     "name": "stderr",
     "output_type": "stream",
     "text": [
      " 41% (606 of 1464) |########             | Elapsed Time: 5:12:18 ETA:   7:23:48"
     ]
    },
    {
     "name": "stdout",
     "output_type": "stream",
     "text": [
      "SPS: 66 Average Reward: -5.589032861898211\n"
     ]
    },
    {
     "name": "stderr",
     "output_type": "stream",
     "text": [
      " 41% (607 of 1464) |########             | Elapsed Time: 5:12:49 ETA:   7:22:37"
     ]
    },
    {
     "name": "stdout",
     "output_type": "stream",
     "text": [
      "SPS: 66 Average Reward: -6.278339807062298\n"
     ]
    },
    {
     "name": "stderr",
     "output_type": "stream",
     "text": [
      " 41% (608 of 1464) |########             | Elapsed Time: 5:13:20 ETA:   7:23:16"
     ]
    },
    {
     "name": "stdout",
     "output_type": "stream",
     "text": [
      "SPS: 66 Average Reward: -5.308622075314547\n"
     ]
    },
    {
     "name": "stderr",
     "output_type": "stream",
     "text": [
      " 41% (609 of 1464) |########             | Elapsed Time: 5:13:51 ETA:   7:21:05"
     ]
    },
    {
     "name": "stdout",
     "output_type": "stream",
     "text": [
      "SPS: 66 Average Reward: -6.5051468169372715\n"
     ]
    },
    {
     "name": "stderr",
     "output_type": "stream",
     "text": [
      " 41% (610 of 1464) |########             | Elapsed Time: 5:14:22 ETA:   7:21:01"
     ]
    },
    {
     "name": "stdout",
     "output_type": "stream",
     "text": [
      "SPS: 66 Average Reward: -5.9775094122596615\n"
     ]
    },
    {
     "name": "stderr",
     "output_type": "stream",
     "text": [
      " 41% (611 of 1464) |########             | Elapsed Time: 5:14:53 ETA:   7:21:13"
     ]
    },
    {
     "name": "stdout",
     "output_type": "stream",
     "text": [
      "SPS: 66 Average Reward: -5.613751409091975\n"
     ]
    },
    {
     "name": "stderr",
     "output_type": "stream",
     "text": [
      " 41% (612 of 1464) |########             | Elapsed Time: 5:15:24 ETA:   7:20:48"
     ]
    },
    {
     "name": "stdout",
     "output_type": "stream",
     "text": [
      "SPS: 66 Average Reward: -5.379118267236587\n"
     ]
    },
    {
     "name": "stderr",
     "output_type": "stream",
     "text": [
      " 41% (613 of 1464) |########             | Elapsed Time: 5:15:55 ETA:   7:20:19"
     ]
    },
    {
     "name": "stdout",
     "output_type": "stream",
     "text": [
      "SPS: 66 Average Reward: -5.479237892896741\n"
     ]
    },
    {
     "name": "stderr",
     "output_type": "stream",
     "text": [
      " 41% (614 of 1464) |########             | Elapsed Time: 5:16:26 ETA:   7:20:17"
     ]
    },
    {
     "name": "stdout",
     "output_type": "stream",
     "text": [
      "SPS: 66 Average Reward: -5.7848004381964335\n"
     ]
    },
    {
     "name": "stderr",
     "output_type": "stream",
     "text": [
      " 42% (615 of 1464) |########             | Elapsed Time: 5:16:57 ETA:   7:20:09"
     ]
    },
    {
     "name": "stdout",
     "output_type": "stream",
     "text": [
      "SPS: 66 Average Reward: -4.987643826491134\n"
     ]
    },
    {
     "name": "stderr",
     "output_type": "stream",
     "text": [
      " 42% (616 of 1464) |########             | Elapsed Time: 5:17:28 ETA:   7:15:24"
     ]
    },
    {
     "name": "stdout",
     "output_type": "stream",
     "text": [
      "SPS: 66 Average Reward: -5.562982622095039\n"
     ]
    },
    {
     "name": "stderr",
     "output_type": "stream",
     "text": [
      " 42% (617 of 1464) |########             | Elapsed Time: 5:17:59 ETA:   7:17:40"
     ]
    },
    {
     "name": "stdout",
     "output_type": "stream",
     "text": [
      "SPS: 66 Average Reward: -6.273862738400011\n"
     ]
    },
    {
     "name": "stderr",
     "output_type": "stream",
     "text": [
      " 42% (618 of 1464) |########             | Elapsed Time: 5:18:30 ETA:   7:18:39"
     ]
    },
    {
     "name": "stdout",
     "output_type": "stream",
     "text": [
      "SPS: 66 Average Reward: -5.511411189181335\n"
     ]
    },
    {
     "name": "stderr",
     "output_type": "stream",
     "text": [
      " 42% (619 of 1464) |########             | Elapsed Time: 5:19:01 ETA:   7:18:02"
     ]
    },
    {
     "name": "stdout",
     "output_type": "stream",
     "text": [
      "SPS: 66 Average Reward: -5.193843082765893\n"
     ]
    },
    {
     "name": "stderr",
     "output_type": "stream",
     "text": [
      " 42% (620 of 1464) |########             | Elapsed Time: 5:19:32 ETA:   7:16:50"
     ]
    },
    {
     "name": "stdout",
     "output_type": "stream",
     "text": [
      "SPS: 66 Average Reward: -5.676971557507815\n"
     ]
    },
    {
     "name": "stderr",
     "output_type": "stream",
     "text": [
      " 42% (621 of 1464) |########             | Elapsed Time: 5:20:03 ETA:   7:15:02"
     ]
    },
    {
     "name": "stdout",
     "output_type": "stream",
     "text": [
      "SPS: 66 Average Reward: -5.5466520531369\n"
     ]
    },
    {
     "name": "stderr",
     "output_type": "stream",
     "text": [
      " 42% (622 of 1464) |########             | Elapsed Time: 5:20:34 ETA:   7:15:55"
     ]
    },
    {
     "name": "stdout",
     "output_type": "stream",
     "text": [
      "SPS: 66 Average Reward: -6.0354334614445\n"
     ]
    },
    {
     "name": "stderr",
     "output_type": "stream",
     "text": [
      " 42% (623 of 1464) |########             | Elapsed Time: 5:21:05 ETA:   7:15:34"
     ]
    },
    {
     "name": "stdout",
     "output_type": "stream",
     "text": [
      "SPS: 66 Average Reward: -5.283642140558209\n"
     ]
    },
    {
     "name": "stderr",
     "output_type": "stream",
     "text": [
      " 42% (624 of 1464) |########             | Elapsed Time: 5:21:36 ETA:   7:14:46"
     ]
    },
    {
     "name": "stdout",
     "output_type": "stream",
     "text": [
      "SPS: 66 Average Reward: -6.362856190471806\n"
     ]
    },
    {
     "name": "stderr",
     "output_type": "stream",
     "text": [
      " 42% (625 of 1464) |########             | Elapsed Time: 5:22:08 ETA:   7:15:38"
     ]
    },
    {
     "name": "stdout",
     "output_type": "stream",
     "text": [
      "SPS: 66 Average Reward: -5.383197112306418\n"
     ]
    },
    {
     "name": "stderr",
     "output_type": "stream",
     "text": [
      " 42% (626 of 1464) |########             | Elapsed Time: 5:22:39 ETA:   7:14:10"
     ]
    },
    {
     "name": "stdout",
     "output_type": "stream",
     "text": [
      "SPS: 66 Average Reward: -5.561817785740908\n"
     ]
    },
    {
     "name": "stderr",
     "output_type": "stream",
     "text": [
      " 42% (627 of 1464) |########             | Elapsed Time: 5:23:10 ETA:   7:14:32"
     ]
    },
    {
     "name": "stdout",
     "output_type": "stream",
     "text": [
      "SPS: 66 Average Reward: -5.909151930890536\n"
     ]
    },
    {
     "name": "stderr",
     "output_type": "stream",
     "text": [
      " 42% (628 of 1464) |#########            | Elapsed Time: 5:23:41 ETA:   7:14:02"
     ]
    },
    {
     "name": "stdout",
     "output_type": "stream",
     "text": [
      "SPS: 66 Average Reward: -5.926798520088538\n"
     ]
    },
    {
     "name": "stderr",
     "output_type": "stream",
     "text": [
      " 42% (629 of 1464) |#########            | Elapsed Time: 5:24:12 ETA:   7:12:41"
     ]
    },
    {
     "name": "stdout",
     "output_type": "stream",
     "text": [
      "SPS: 66 Average Reward: -5.9957247253025\n"
     ]
    },
    {
     "name": "stderr",
     "output_type": "stream",
     "text": [
      " 43% (630 of 1464) |#########            | Elapsed Time: 5:24:43 ETA:   7:10:51"
     ]
    },
    {
     "name": "stdout",
     "output_type": "stream",
     "text": [
      "SPS: 66 Average Reward: -6.144248331167274\n"
     ]
    },
    {
     "name": "stderr",
     "output_type": "stream",
     "text": [
      " 43% (631 of 1464) |#########            | Elapsed Time: 5:25:14 ETA:   7:09:53"
     ]
    },
    {
     "name": "stdout",
     "output_type": "stream",
     "text": [
      "SPS: 66 Average Reward: -5.993821610134928\n"
     ]
    },
    {
     "name": "stderr",
     "output_type": "stream",
     "text": [
      " 43% (632 of 1464) |#########            | Elapsed Time: 5:25:45 ETA:   7:10:28"
     ]
    },
    {
     "name": "stdout",
     "output_type": "stream",
     "text": [
      "SPS: 66 Average Reward: -6.1505904468184385\n"
     ]
    },
    {
     "name": "stderr",
     "output_type": "stream",
     "text": [
      " 43% (633 of 1464) |#########            | Elapsed Time: 5:26:16 ETA:   7:08:42"
     ]
    },
    {
     "name": "stdout",
     "output_type": "stream",
     "text": [
      "SPS: 66 Average Reward: -5.604025280307564\n"
     ]
    },
    {
     "name": "stderr",
     "output_type": "stream",
     "text": [
      " 43% (634 of 1464) |#########            | Elapsed Time: 5:26:47 ETA:   7:09:34"
     ]
    },
    {
     "name": "stdout",
     "output_type": "stream",
     "text": [
      "SPS: 66 Average Reward: -6.444571080294733\n"
     ]
    },
    {
     "name": "stderr",
     "output_type": "stream",
     "text": [
      " 43% (635 of 1464) |#########            | Elapsed Time: 5:27:18 ETA:   7:10:31"
     ]
    },
    {
     "name": "stdout",
     "output_type": "stream",
     "text": [
      "SPS: 66 Average Reward: -5.760788664760218\n"
     ]
    },
    {
     "name": "stderr",
     "output_type": "stream",
     "text": [
      " 43% (636 of 1464) |#########            | Elapsed Time: 5:27:49 ETA:   7:08:40"
     ]
    },
    {
     "name": "stdout",
     "output_type": "stream",
     "text": [
      "SPS: 66 Average Reward: -5.408375748006698\n"
     ]
    },
    {
     "name": "stderr",
     "output_type": "stream",
     "text": [
      " 43% (637 of 1464) |#########            | Elapsed Time: 5:28:20 ETA:   7:08:07"
     ]
    },
    {
     "name": "stdout",
     "output_type": "stream",
     "text": [
      "SPS: 66 Average Reward: -5.148445694017142\n"
     ]
    },
    {
     "name": "stderr",
     "output_type": "stream",
     "text": [
      " 43% (638 of 1464) |#########            | Elapsed Time: 5:28:51 ETA:   7:08:04"
     ]
    },
    {
     "name": "stdout",
     "output_type": "stream",
     "text": [
      "SPS: 66 Average Reward: -5.862623390199339\n"
     ]
    },
    {
     "name": "stderr",
     "output_type": "stream",
     "text": [
      " 43% (639 of 1464) |#########            | Elapsed Time: 5:29:23 ETA:   7:08:23"
     ]
    },
    {
     "name": "stdout",
     "output_type": "stream",
     "text": [
      "SPS: 66 Average Reward: -5.54597508011823\n"
     ]
    },
    {
     "name": "stderr",
     "output_type": "stream",
     "text": [
      " 43% (640 of 1464) |#########            | Elapsed Time: 5:29:54 ETA:   7:07:42"
     ]
    },
    {
     "name": "stdout",
     "output_type": "stream",
     "text": [
      "SPS: 66 Average Reward: -5.535021144439755\n"
     ]
    },
    {
     "name": "stderr",
     "output_type": "stream",
     "text": [
      " 43% (641 of 1464) |#########            | Elapsed Time: 5:30:25 ETA:   7:08:10"
     ]
    },
    {
     "name": "stdout",
     "output_type": "stream",
     "text": [
      "SPS: 66 Average Reward: -5.846562074908773\n"
     ]
    },
    {
     "name": "stderr",
     "output_type": "stream",
     "text": [
      " 43% (642 of 1464) |#########            | Elapsed Time: 5:30:56 ETA:   7:07:11"
     ]
    },
    {
     "name": "stdout",
     "output_type": "stream",
     "text": [
      "SPS: 66 Average Reward: -5.357566296909931\n"
     ]
    },
    {
     "name": "stderr",
     "output_type": "stream",
     "text": [
      " 43% (643 of 1464) |#########            | Elapsed Time: 5:31:27 ETA:   7:05:30"
     ]
    },
    {
     "name": "stdout",
     "output_type": "stream",
     "text": [
      "SPS: 66 Average Reward: -6.008194064366364\n"
     ]
    },
    {
     "name": "stderr",
     "output_type": "stream",
     "text": [
      " 43% (644 of 1464) |#########            | Elapsed Time: 5:31:58 ETA:   7:03:02"
     ]
    },
    {
     "name": "stdout",
     "output_type": "stream",
     "text": [
      "SPS: 66 Average Reward: -5.966443229846671\n"
     ]
    },
    {
     "name": "stderr",
     "output_type": "stream",
     "text": [
      " 44% (645 of 1464) |#########            | Elapsed Time: 5:32:29 ETA:   7:03:41"
     ]
    },
    {
     "name": "stdout",
     "output_type": "stream",
     "text": [
      "SPS: 66 Average Reward: -5.735270457076634\n"
     ]
    },
    {
     "name": "stderr",
     "output_type": "stream",
     "text": [
      " 44% (646 of 1464) |#########            | Elapsed Time: 5:33:00 ETA:   7:04:28"
     ]
    },
    {
     "name": "stdout",
     "output_type": "stream",
     "text": [
      "SPS: 66 Average Reward: -5.471404713720976\n"
     ]
    },
    {
     "name": "stderr",
     "output_type": "stream",
     "text": [
      " 44% (647 of 1464) |#########            | Elapsed Time: 5:33:31 ETA:   7:00:38"
     ]
    },
    {
     "name": "stdout",
     "output_type": "stream",
     "text": [
      "SPS: 66 Average Reward: -5.534740066276213\n"
     ]
    },
    {
     "name": "stderr",
     "output_type": "stream",
     "text": [
      " 44% (648 of 1464) |#########            | Elapsed Time: 5:34:02 ETA:   7:04:01"
     ]
    },
    {
     "name": "stdout",
     "output_type": "stream",
     "text": [
      "SPS: 66 Average Reward: -5.428870003055574\n"
     ]
    },
    {
     "name": "stderr",
     "output_type": "stream",
     "text": [
      " 44% (649 of 1464) |#########            | Elapsed Time: 5:34:33 ETA:   7:02:10"
     ]
    },
    {
     "name": "stdout",
     "output_type": "stream",
     "text": [
      "SPS: 66 Average Reward: -5.937735424347312\n"
     ]
    },
    {
     "name": "stderr",
     "output_type": "stream",
     "text": [
      " 44% (650 of 1464) |#########            | Elapsed Time: 5:35:04 ETA:   7:00:17"
     ]
    },
    {
     "name": "stdout",
     "output_type": "stream",
     "text": [
      "SPS: 66 Average Reward: -5.696499026115353\n"
     ]
    },
    {
     "name": "stderr",
     "output_type": "stream",
     "text": [
      " 44% (651 of 1464) |#########            | Elapsed Time: 5:35:36 ETA:   7:01:10"
     ]
    },
    {
     "name": "stdout",
     "output_type": "stream",
     "text": [
      "SPS: 66 Average Reward: -6.215536246718785\n"
     ]
    },
    {
     "name": "stderr",
     "output_type": "stream",
     "text": [
      " 44% (652 of 1464) |#########            | Elapsed Time: 5:36:07 ETA:   7:00:45"
     ]
    },
    {
     "name": "stdout",
     "output_type": "stream",
     "text": [
      "SPS: 66 Average Reward: -5.4657113299913105\n"
     ]
    },
    {
     "name": "stderr",
     "output_type": "stream",
     "text": [
      " 44% (653 of 1464) |#########            | Elapsed Time: 5:36:38 ETA:   7:00:32"
     ]
    },
    {
     "name": "stdout",
     "output_type": "stream",
     "text": [
      "SPS: 66 Average Reward: -6.518439925464325\n"
     ]
    },
    {
     "name": "stderr",
     "output_type": "stream",
     "text": [
      " 44% (654 of 1464) |#########            | Elapsed Time: 5:37:08 ETA:   6:54:00"
     ]
    },
    {
     "name": "stdout",
     "output_type": "stream",
     "text": [
      "SPS: 66 Average Reward: -6.4885636527697175\n"
     ]
    },
    {
     "name": "stderr",
     "output_type": "stream",
     "text": [
      " 44% (655 of 1464) |#########            | Elapsed Time: 5:37:39 ETA:   6:55:08"
     ]
    },
    {
     "name": "stdout",
     "output_type": "stream",
     "text": [
      "SPS: 66 Average Reward: -6.244935338329523\n"
     ]
    },
    {
     "name": "stderr",
     "output_type": "stream",
     "text": [
      " 44% (656 of 1464) |#########            | Elapsed Time: 5:38:10 ETA:   6:59:18"
     ]
    },
    {
     "name": "stdout",
     "output_type": "stream",
     "text": [
      "SPS: 66 Average Reward: -5.058278011836921\n"
     ]
    },
    {
     "name": "stderr",
     "output_type": "stream",
     "text": [
      " 44% (657 of 1464) |#########            | Elapsed Time: 5:38:41 ETA:   6:57:29"
     ]
    },
    {
     "name": "stdout",
     "output_type": "stream",
     "text": [
      "SPS: 66 Average Reward: -7.320815177587841\n"
     ]
    },
    {
     "name": "stderr",
     "output_type": "stream",
     "text": [
      " 44% (658 of 1464) |#########            | Elapsed Time: 5:39:12 ETA:   6:52:02"
     ]
    },
    {
     "name": "stdout",
     "output_type": "stream",
     "text": [
      "SPS: 66 Average Reward: -7.3273462500279\n"
     ]
    },
    {
     "name": "stderr",
     "output_type": "stream",
     "text": [
      " 45% (659 of 1464) |#########            | Elapsed Time: 5:39:43 ETA:   6:56:50"
     ]
    },
    {
     "name": "stdout",
     "output_type": "stream",
     "text": [
      "SPS: 66 Average Reward: -5.112594841089035\n"
     ]
    },
    {
     "name": "stderr",
     "output_type": "stream",
     "text": [
      " 45% (660 of 1464) |#########            | Elapsed Time: 5:40:14 ETA:   6:55:12"
     ]
    },
    {
     "name": "stdout",
     "output_type": "stream",
     "text": [
      "SPS: 66 Average Reward: -6.449004082055765\n"
     ]
    },
    {
     "name": "stderr",
     "output_type": "stream",
     "text": [
      " 45% (661 of 1464) |#########            | Elapsed Time: 5:40:45 ETA:   6:56:13"
     ]
    },
    {
     "name": "stdout",
     "output_type": "stream",
     "text": [
      "SPS: 66 Average Reward: -6.121738677869789\n"
     ]
    },
    {
     "name": "stderr",
     "output_type": "stream",
     "text": [
      " 45% (662 of 1464) |#########            | Elapsed Time: 5:41:16 ETA:   6:55:27"
     ]
    },
    {
     "name": "stdout",
     "output_type": "stream",
     "text": [
      "SPS: 66 Average Reward: -5.121754358193518\n"
     ]
    },
    {
     "name": "stderr",
     "output_type": "stream",
     "text": [
      " 45% (663 of 1464) |#########            | Elapsed Time: 5:41:47 ETA:   6:49:46"
     ]
    },
    {
     "name": "stdout",
     "output_type": "stream",
     "text": [
      "SPS: 66 Average Reward: -8.713430319616808\n"
     ]
    },
    {
     "name": "stderr",
     "output_type": "stream",
     "text": [
      " 45% (664 of 1464) |#########            | Elapsed Time: 5:42:18 ETA:   6:54:44"
     ]
    },
    {
     "name": "stdout",
     "output_type": "stream",
     "text": [
      "SPS: 66 Average Reward: -6.471593870367914\n"
     ]
    },
    {
     "name": "stderr",
     "output_type": "stream",
     "text": [
      " 45% (665 of 1464) |#########            | Elapsed Time: 5:42:49 ETA:   6:54:21"
     ]
    },
    {
     "name": "stdout",
     "output_type": "stream",
     "text": [
      "SPS: 66 Average Reward: -5.2139991963887935\n"
     ]
    },
    {
     "name": "stderr",
     "output_type": "stream",
     "text": [
      " 45% (666 of 1464) |#########            | Elapsed Time: 5:43:20 ETA:   6:53:26"
     ]
    },
    {
     "name": "stdout",
     "output_type": "stream",
     "text": [
      "SPS: 66 Average Reward: -5.763616513092622\n"
     ]
    },
    {
     "name": "stderr",
     "output_type": "stream",
     "text": [
      " 45% (667 of 1464) |#########            | Elapsed Time: 5:43:51 ETA:   6:53:05"
     ]
    },
    {
     "name": "stdout",
     "output_type": "stream",
     "text": [
      "SPS: 66 Average Reward: -5.490364923422989\n"
     ]
    },
    {
     "name": "stderr",
     "output_type": "stream",
     "text": [
      " 45% (668 of 1464) |#########            | Elapsed Time: 5:44:23 ETA:   6:53:14"
     ]
    },
    {
     "name": "stdout",
     "output_type": "stream",
     "text": [
      "SPS: 66 Average Reward: -5.623426213547393\n"
     ]
    },
    {
     "name": "stderr",
     "output_type": "stream",
     "text": [
      " 45% (669 of 1464) |#########            | Elapsed Time: 5:44:54 ETA:   6:52:21"
     ]
    },
    {
     "name": "stdout",
     "output_type": "stream",
     "text": [
      "SPS: 66 Average Reward: -5.29599380729457\n"
     ]
    },
    {
     "name": "stderr",
     "output_type": "stream",
     "text": [
      " 45% (670 of 1464) |#########            | Elapsed Time: 5:45:24 ETA:   6:45:05"
     ]
    },
    {
     "name": "stdout",
     "output_type": "stream",
     "text": [
      "SPS: 66 Average Reward: -5.56228713781966\n"
     ]
    },
    {
     "name": "stderr",
     "output_type": "stream",
     "text": [
      " 45% (671 of 1464) |#########            | Elapsed Time: 5:45:55 ETA:   6:51:34"
     ]
    },
    {
     "name": "stdout",
     "output_type": "stream",
     "text": [
      "SPS: 66 Average Reward: -5.413395511100531\n"
     ]
    },
    {
     "name": "stderr",
     "output_type": "stream",
     "text": [
      " 45% (672 of 1464) |#########            | Elapsed Time: 5:46:26 ETA:   6:43:40"
     ]
    },
    {
     "name": "stdout",
     "output_type": "stream",
     "text": [
      "SPS: 66 Average Reward: -5.751347598544596\n"
     ]
    },
    {
     "name": "stderr",
     "output_type": "stream",
     "text": [
      " 45% (673 of 1464) |#########            | Elapsed Time: 5:46:57 ETA:   6:47:51"
     ]
    },
    {
     "name": "stdout",
     "output_type": "stream",
     "text": [
      "SPS: 66 Average Reward: -5.812636581465023\n"
     ]
    },
    {
     "name": "stderr",
     "output_type": "stream",
     "text": [
      " 46% (674 of 1464) |#########            | Elapsed Time: 5:47:28 ETA:   6:49:24"
     ]
    },
    {
     "name": "stdout",
     "output_type": "stream",
     "text": [
      "SPS: 66 Average Reward: -5.463610173045792\n"
     ]
    },
    {
     "name": "stderr",
     "output_type": "stream",
     "text": [
      " 46% (675 of 1464) |#########            | Elapsed Time: 5:47:59 ETA:   6:48:53"
     ]
    },
    {
     "name": "stdout",
     "output_type": "stream",
     "text": [
      "SPS: 66 Average Reward: -5.349604693388014\n"
     ]
    },
    {
     "name": "stderr",
     "output_type": "stream",
     "text": [
      " 46% (676 of 1464) |#########            | Elapsed Time: 5:48:30 ETA:   6:48:43"
     ]
    },
    {
     "name": "stdout",
     "output_type": "stream",
     "text": [
      "SPS: 66 Average Reward: -6.035658311566189\n"
     ]
    },
    {
     "name": "stderr",
     "output_type": "stream",
     "text": [
      " 46% (677 of 1464) |#########            | Elapsed Time: 5:49:01 ETA:   6:48:39"
     ]
    },
    {
     "name": "stdout",
     "output_type": "stream",
     "text": [
      "SPS: 66 Average Reward: -5.93230385496222\n"
     ]
    },
    {
     "name": "stderr",
     "output_type": "stream",
     "text": [
      " 46% (678 of 1464) |#########            | Elapsed Time: 5:49:33 ETA:   6:47:21"
     ]
    },
    {
     "name": "stdout",
     "output_type": "stream",
     "text": [
      "SPS: 66 Average Reward: -5.549647142636374\n"
     ]
    },
    {
     "name": "stderr",
     "output_type": "stream",
     "text": [
      " 46% (679 of 1464) |#########            | Elapsed Time: 5:50:03 ETA:   6:43:35"
     ]
    },
    {
     "name": "stdout",
     "output_type": "stream",
     "text": [
      "SPS: 66 Average Reward: -6.099566536551178\n"
     ]
    },
    {
     "name": "stderr",
     "output_type": "stream",
     "text": [
      " 46% (680 of 1464) |#########            | Elapsed Time: 5:50:34 ETA:   6:46:06"
     ]
    },
    {
     "name": "stdout",
     "output_type": "stream",
     "text": [
      "SPS: 66 Average Reward: -5.795340248734584\n"
     ]
    },
    {
     "name": "stderr",
     "output_type": "stream",
     "text": [
      " 46% (681 of 1464) |#########            | Elapsed Time: 5:51:06 ETA:   6:46:10"
     ]
    },
    {
     "name": "stdout",
     "output_type": "stream",
     "text": [
      "SPS: 66 Average Reward: -6.03116604378052\n"
     ]
    },
    {
     "name": "stderr",
     "output_type": "stream",
     "text": [
      " 46% (682 of 1464) |#########            | Elapsed Time: 5:51:36 ETA:   6:43:10"
     ]
    },
    {
     "name": "stdout",
     "output_type": "stream",
     "text": [
      "SPS: 66 Average Reward: -5.848095116486513\n"
     ]
    },
    {
     "name": "stderr",
     "output_type": "stream",
     "text": [
      " 46% (683 of 1464) |#########            | Elapsed Time: 5:52:08 ETA:   6:44:20"
     ]
    },
    {
     "name": "stdout",
     "output_type": "stream",
     "text": [
      "SPS: 66 Average Reward: -6.75124468342737\n"
     ]
    },
    {
     "name": "stderr",
     "output_type": "stream",
     "text": [
      " 46% (684 of 1464) |#########            | Elapsed Time: 5:52:39 ETA:   6:44:18"
     ]
    },
    {
     "name": "stdout",
     "output_type": "stream",
     "text": [
      "SPS: 66 Average Reward: -6.160123741933982\n"
     ]
    },
    {
     "name": "stderr",
     "output_type": "stream",
     "text": [
      " 46% (685 of 1464) |#########            | Elapsed Time: 5:53:10 ETA:   6:42:09"
     ]
    },
    {
     "name": "stdout",
     "output_type": "stream",
     "text": [
      "SPS: 66 Average Reward: -5.760510339468915\n"
     ]
    },
    {
     "name": "stderr",
     "output_type": "stream",
     "text": [
      " 46% (686 of 1464) |#########            | Elapsed Time: 5:53:41 ETA:   6:43:09"
     ]
    },
    {
     "name": "stdout",
     "output_type": "stream",
     "text": [
      "SPS: 66 Average Reward: -4.8699603732431695\n"
     ]
    },
    {
     "name": "stderr",
     "output_type": "stream",
     "text": [
      " 46% (687 of 1464) |#########            | Elapsed Time: 5:54:12 ETA:   6:42:33"
     ]
    },
    {
     "name": "stdout",
     "output_type": "stream",
     "text": [
      "SPS: 66 Average Reward: -6.400041238368745\n"
     ]
    },
    {
     "name": "stderr",
     "output_type": "stream",
     "text": [
      " 46% (688 of 1464) |#########            | Elapsed Time: 5:54:43 ETA:   6:41:42"
     ]
    },
    {
     "name": "stdout",
     "output_type": "stream",
     "text": [
      "SPS: 66 Average Reward: -6.136538307614269\n"
     ]
    },
    {
     "name": "stderr",
     "output_type": "stream",
     "text": [
      " 47% (689 of 1464) |#########            | Elapsed Time: 5:55:14 ETA:   6:41:20"
     ]
    },
    {
     "name": "stdout",
     "output_type": "stream",
     "text": [
      "SPS: 66 Average Reward: -4.798727672647977\n"
     ]
    },
    {
     "name": "stderr",
     "output_type": "stream",
     "text": [
      " 47% (690 of 1464) |#########            | Elapsed Time: 5:55:45 ETA:   6:41:08"
     ]
    },
    {
     "name": "stdout",
     "output_type": "stream",
     "text": [
      "SPS: 66 Average Reward: -5.294799479324384\n"
     ]
    },
    {
     "name": "stderr",
     "output_type": "stream",
     "text": [
      " 47% (691 of 1464) |#########            | Elapsed Time: 5:56:16 ETA:   6:41:50"
     ]
    },
    {
     "name": "stdout",
     "output_type": "stream",
     "text": [
      "SPS: 66 Average Reward: -4.5015672247678955\n"
     ]
    },
    {
     "name": "stderr",
     "output_type": "stream",
     "text": [
      " 47% (692 of 1464) |#########            | Elapsed Time: 5:56:47 ETA:   6:39:06"
     ]
    },
    {
     "name": "stdout",
     "output_type": "stream",
     "text": [
      "SPS: 66 Average Reward: -6.030872696713944\n"
     ]
    },
    {
     "name": "stderr",
     "output_type": "stream",
     "text": [
      " 47% (693 of 1464) |#########            | Elapsed Time: 5:57:18 ETA:   6:39:14"
     ]
    },
    {
     "name": "stdout",
     "output_type": "stream",
     "text": [
      "SPS: 66 Average Reward: -5.897451416722424\n"
     ]
    },
    {
     "name": "stderr",
     "output_type": "stream",
     "text": [
      " 47% (694 of 1464) |#########            | Elapsed Time: 5:57:49 ETA:   6:39:21"
     ]
    },
    {
     "name": "stdout",
     "output_type": "stream",
     "text": [
      "SPS: 66 Average Reward: -4.9052707735199395\n"
     ]
    },
    {
     "name": "stderr",
     "output_type": "stream",
     "text": [
      " 47% (695 of 1464) |#########            | Elapsed Time: 5:58:21 ETA:   6:38:45"
     ]
    },
    {
     "name": "stdout",
     "output_type": "stream",
     "text": [
      "SPS: 66 Average Reward: -6.239821823637294\n"
     ]
    },
    {
     "name": "stderr",
     "output_type": "stream",
     "text": [
      " 47% (696 of 1464) |#########            | Elapsed Time: 5:58:52 ETA:   6:38:39"
     ]
    },
    {
     "name": "stdout",
     "output_type": "stream",
     "text": [
      "SPS: 66 Average Reward: -5.748973657817555\n"
     ]
    },
    {
     "name": "stderr",
     "output_type": "stream",
     "text": [
      " 47% (697 of 1464) |#########            | Elapsed Time: 5:59:23 ETA:   6:38:21"
     ]
    },
    {
     "name": "stdout",
     "output_type": "stream",
     "text": [
      "SPS: 66 Average Reward: -5.1002276030878395\n"
     ]
    },
    {
     "name": "stderr",
     "output_type": "stream",
     "text": [
      " 47% (698 of 1464) |##########           | Elapsed Time: 5:59:54 ETA:   6:33:45"
     ]
    },
    {
     "name": "stdout",
     "output_type": "stream",
     "text": [
      "SPS: 66 Average Reward: -6.336376973918446\n"
     ]
    },
    {
     "name": "stderr",
     "output_type": "stream",
     "text": [
      " 47% (699 of 1464) |##########           | Elapsed Time: 6:00:25 ETA:   6:37:45"
     ]
    },
    {
     "name": "stdout",
     "output_type": "stream",
     "text": [
      "SPS: 66 Average Reward: -5.75774937385487\n"
     ]
    },
    {
     "name": "stderr",
     "output_type": "stream",
     "text": [
      " 47% (700 of 1464) |##########           | Elapsed Time: 6:00:56 ETA:   6:36:33"
     ]
    },
    {
     "name": "stdout",
     "output_type": "stream",
     "text": [
      "SPS: 66 Average Reward: -5.945543166294167\n"
     ]
    },
    {
     "name": "stderr",
     "output_type": "stream",
     "text": [
      " 47% (701 of 1464) |##########           | Elapsed Time: 6:01:27 ETA:   6:32:47"
     ]
    },
    {
     "name": "stdout",
     "output_type": "stream",
     "text": [
      "SPS: 66 Average Reward: -5.350617543645394\n"
     ]
    },
    {
     "name": "stderr",
     "output_type": "stream",
     "text": [
      " 47% (702 of 1464) |##########           | Elapsed Time: 6:01:58 ETA:   6:34:16"
     ]
    },
    {
     "name": "stdout",
     "output_type": "stream",
     "text": [
      "SPS: 66 Average Reward: -6.103381607656711\n"
     ]
    },
    {
     "name": "stderr",
     "output_type": "stream",
     "text": [
      " 48% (703 of 1464) |##########           | Elapsed Time: 6:02:29 ETA:   6:33:29"
     ]
    },
    {
     "name": "stdout",
     "output_type": "stream",
     "text": [
      "SPS: 66 Average Reward: -6.294730193720278\n"
     ]
    },
    {
     "name": "stderr",
     "output_type": "stream",
     "text": [
      " 48% (704 of 1464) |##########           | Elapsed Time: 6:03:00 ETA:   6:32:55"
     ]
    },
    {
     "name": "stdout",
     "output_type": "stream",
     "text": [
      "SPS: 66 Average Reward: -6.220334246464719\n"
     ]
    },
    {
     "name": "stderr",
     "output_type": "stream",
     "text": [
      " 48% (705 of 1464) |##########           | Elapsed Time: 6:03:31 ETA:   6:34:08"
     ]
    },
    {
     "name": "stdout",
     "output_type": "stream",
     "text": [
      "SPS: 66 Average Reward: -5.911689005397491\n"
     ]
    },
    {
     "name": "stderr",
     "output_type": "stream",
     "text": [
      " 48% (706 of 1464) |##########           | Elapsed Time: 6:04:02 ETA:   6:33:09"
     ]
    },
    {
     "name": "stdout",
     "output_type": "stream",
     "text": [
      "SPS: 66 Average Reward: -5.033704035481203\n"
     ]
    },
    {
     "name": "stderr",
     "output_type": "stream",
     "text": [
      " 48% (707 of 1464) |##########           | Elapsed Time: 6:04:33 ETA:   6:33:34"
     ]
    },
    {
     "name": "stdout",
     "output_type": "stream",
     "text": [
      "SPS: 66 Average Reward: -5.690316484981657\n"
     ]
    },
    {
     "name": "stderr",
     "output_type": "stream",
     "text": [
      " 48% (708 of 1464) |##########           | Elapsed Time: 6:05:04 ETA:   6:30:34"
     ]
    },
    {
     "name": "stdout",
     "output_type": "stream",
     "text": [
      "SPS: 66 Average Reward: -5.7690640280074525\n"
     ]
    },
    {
     "name": "stderr",
     "output_type": "stream",
     "text": [
      " 48% (709 of 1464) |##########           | Elapsed Time: 6:05:36 ETA:   6:32:06"
     ]
    },
    {
     "name": "stdout",
     "output_type": "stream",
     "text": [
      "SPS: 66 Average Reward: -4.808130776124678\n"
     ]
    },
    {
     "name": "stderr",
     "output_type": "stream",
     "text": [
      " 48% (710 of 1464) |##########           | Elapsed Time: 6:06:07 ETA:   6:30:45"
     ]
    },
    {
     "name": "stdout",
     "output_type": "stream",
     "text": [
      "SPS: 66 Average Reward: -5.083125551077478\n"
     ]
    },
    {
     "name": "stderr",
     "output_type": "stream",
     "text": [
      " 48% (711 of 1464) |##########           | Elapsed Time: 6:06:38 ETA:   6:30:12"
     ]
    },
    {
     "name": "stdout",
     "output_type": "stream",
     "text": [
      "SPS: 66 Average Reward: -5.759787822930674\n"
     ]
    },
    {
     "name": "stderr",
     "output_type": "stream",
     "text": [
      " 48% (712 of 1464) |##########           | Elapsed Time: 6:07:09 ETA:   6:30:13"
     ]
    },
    {
     "name": "stdout",
     "output_type": "stream",
     "text": [
      "SPS: 66 Average Reward: -6.287736419404217\n"
     ]
    },
    {
     "name": "stderr",
     "output_type": "stream",
     "text": [
      " 48% (713 of 1464) |##########           | Elapsed Time: 6:07:40 ETA:   6:28:30"
     ]
    },
    {
     "name": "stdout",
     "output_type": "stream",
     "text": [
      "SPS: 66 Average Reward: -5.598493272208931\n"
     ]
    },
    {
     "name": "stderr",
     "output_type": "stream",
     "text": [
      " 48% (714 of 1464) |##########           | Elapsed Time: 6:08:11 ETA:   6:28:59"
     ]
    },
    {
     "name": "stdout",
     "output_type": "stream",
     "text": [
      "SPS: 66 Average Reward: -5.907135681386787\n"
     ]
    },
    {
     "name": "stderr",
     "output_type": "stream",
     "text": [
      " 48% (715 of 1464) |##########           | Elapsed Time: 6:08:42 ETA:   6:22:06"
     ]
    },
    {
     "name": "stdout",
     "output_type": "stream",
     "text": [
      "SPS: 66 Average Reward: -4.861586283366874\n"
     ]
    },
    {
     "name": "stderr",
     "output_type": "stream",
     "text": [
      " 48% (716 of 1464) |##########           | Elapsed Time: 6:09:13 ETA:   6:26:50"
     ]
    },
    {
     "name": "stdout",
     "output_type": "stream",
     "text": [
      "SPS: 66 Average Reward: -5.539726862996662\n"
     ]
    },
    {
     "name": "stderr",
     "output_type": "stream",
     "text": [
      " 48% (717 of 1464) |##########           | Elapsed Time: 6:09:43 ETA:   6:19:07"
     ]
    },
    {
     "name": "stdout",
     "output_type": "stream",
     "text": [
      "SPS: 66 Average Reward: -5.65238532184259\n"
     ]
    },
    {
     "name": "stderr",
     "output_type": "stream",
     "text": [
      " 49% (718 of 1464) |##########           | Elapsed Time: 6:10:14 ETA:   6:21:52"
     ]
    },
    {
     "name": "stdout",
     "output_type": "stream",
     "text": [
      "SPS: 66 Average Reward: -5.306962836355968\n"
     ]
    },
    {
     "name": "stderr",
     "output_type": "stream",
     "text": [
      " 49% (719 of 1464) |##########           | Elapsed Time: 6:10:45 ETA:   6:26:27"
     ]
    },
    {
     "name": "stdout",
     "output_type": "stream",
     "text": [
      "SPS: 66 Average Reward: -6.1150912821671835\n"
     ]
    },
    {
     "name": "stderr",
     "output_type": "stream",
     "text": [
      " 49% (720 of 1464) |##########           | Elapsed Time: 6:11:16 ETA:   6:24:03"
     ]
    },
    {
     "name": "stdout",
     "output_type": "stream",
     "text": [
      "SPS: 66 Average Reward: -6.418115399586149\n"
     ]
    },
    {
     "name": "stderr",
     "output_type": "stream",
     "text": [
      " 49% (721 of 1464) |##########           | Elapsed Time: 6:11:47 ETA:   6:26:16"
     ]
    },
    {
     "name": "stdout",
     "output_type": "stream",
     "text": [
      "SPS: 66 Average Reward: -4.693495318221885\n"
     ]
    },
    {
     "name": "stderr",
     "output_type": "stream",
     "text": [
      " 49% (722 of 1464) |##########           | Elapsed Time: 6:12:18 ETA:   6:19:32"
     ]
    },
    {
     "name": "stdout",
     "output_type": "stream",
     "text": [
      "SPS: 66 Average Reward: -4.868985386443387\n"
     ]
    },
    {
     "name": "stderr",
     "output_type": "stream",
     "text": [
      " 49% (723 of 1464) |##########           | Elapsed Time: 6:12:49 ETA:   6:23:42"
     ]
    },
    {
     "name": "stdout",
     "output_type": "stream",
     "text": [
      "SPS: 66 Average Reward: -5.657611628991008\n"
     ]
    },
    {
     "name": "stderr",
     "output_type": "stream",
     "text": [
      " 49% (724 of 1464) |##########           | Elapsed Time: 6:13:20 ETA:   6:19:22"
     ]
    },
    {
     "name": "stdout",
     "output_type": "stream",
     "text": [
      "SPS: 66 Average Reward: -4.975707999757834\n"
     ]
    },
    {
     "name": "stderr",
     "output_type": "stream",
     "text": [
      " 49% (725 of 1464) |##########           | Elapsed Time: 6:13:51 ETA:   6:23:10"
     ]
    },
    {
     "name": "stdout",
     "output_type": "stream",
     "text": [
      "SPS: 66 Average Reward: -5.266477553730633\n"
     ]
    },
    {
     "name": "stderr",
     "output_type": "stream",
     "text": [
      " 49% (726 of 1464) |##########           | Elapsed Time: 6:14:22 ETA:   6:23:20"
     ]
    },
    {
     "name": "stdout",
     "output_type": "stream",
     "text": [
      "SPS: 66 Average Reward: -6.137783090918068\n"
     ]
    },
    {
     "name": "stderr",
     "output_type": "stream",
     "text": [
      " 49% (727 of 1464) |##########           | Elapsed Time: 6:14:53 ETA:   6:22:30"
     ]
    },
    {
     "name": "stdout",
     "output_type": "stream",
     "text": [
      "SPS: 66 Average Reward: -6.291027002541549\n"
     ]
    },
    {
     "name": "stderr",
     "output_type": "stream",
     "text": [
      " 49% (728 of 1464) |##########           | Elapsed Time: 6:15:24 ETA:   6:22:05"
     ]
    },
    {
     "name": "stdout",
     "output_type": "stream",
     "text": [
      "SPS: 66 Average Reward: -5.972678521196153\n"
     ]
    },
    {
     "name": "stderr",
     "output_type": "stream",
     "text": [
      " 49% (729 of 1464) |##########           | Elapsed Time: 6:15:56 ETA:   6:22:24"
     ]
    },
    {
     "name": "stdout",
     "output_type": "stream",
     "text": [
      "SPS: 66 Average Reward: -4.677262915124119\n"
     ]
    },
    {
     "name": "stderr",
     "output_type": "stream",
     "text": [
      " 49% (730 of 1464) |##########           | Elapsed Time: 6:16:27 ETA:   6:20:34"
     ]
    },
    {
     "name": "stdout",
     "output_type": "stream",
     "text": [
      "SPS: 66 Average Reward: -5.392633354433019\n"
     ]
    },
    {
     "name": "stderr",
     "output_type": "stream",
     "text": [
      " 49% (731 of 1464) |##########           | Elapsed Time: 6:16:58 ETA:   6:19:04"
     ]
    },
    {
     "name": "stdout",
     "output_type": "stream",
     "text": [
      "SPS: 66 Average Reward: -5.95522197779182\n"
     ]
    },
    {
     "name": "stderr",
     "output_type": "stream",
     "text": [
      " 50% (732 of 1464) |##########           | Elapsed Time: 6:17:29 ETA:   6:17:53"
     ]
    },
    {
     "name": "stdout",
     "output_type": "stream",
     "text": [
      "SPS: 66 Average Reward: -5.639031626548004\n"
     ]
    },
    {
     "name": "stderr",
     "output_type": "stream",
     "text": [
      " 50% (733 of 1464) |##########           | Elapsed Time: 6:18:00 ETA:   6:19:48"
     ]
    },
    {
     "name": "stdout",
     "output_type": "stream",
     "text": [
      "SPS: 66 Average Reward: -5.44047792029841\n"
     ]
    },
    {
     "name": "stderr",
     "output_type": "stream",
     "text": [
      " 50% (734 of 1464) |##########           | Elapsed Time: 6:18:31 ETA:   6:18:20"
     ]
    },
    {
     "name": "stdout",
     "output_type": "stream",
     "text": [
      "SPS: 66 Average Reward: -6.426832784868537\n"
     ]
    },
    {
     "name": "stderr",
     "output_type": "stream",
     "text": [
      " 50% (735 of 1464) |##########           | Elapsed Time: 6:19:02 ETA:   6:17:24"
     ]
    },
    {
     "name": "stdout",
     "output_type": "stream",
     "text": [
      "SPS: 66 Average Reward: -5.942315492504263\n"
     ]
    },
    {
     "name": "stderr",
     "output_type": "stream",
     "text": [
      " 50% (736 of 1464) |##########           | Elapsed Time: 6:19:33 ETA:   6:11:52"
     ]
    },
    {
     "name": "stdout",
     "output_type": "stream",
     "text": [
      "SPS: 66 Average Reward: -4.904093935089741\n"
     ]
    },
    {
     "name": "stderr",
     "output_type": "stream",
     "text": [
      " 50% (737 of 1464) |##########           | Elapsed Time: 6:20:03 ETA:   6:12:38"
     ]
    },
    {
     "name": "stdout",
     "output_type": "stream",
     "text": [
      "SPS: 66 Average Reward: -5.348477552939797\n"
     ]
    },
    {
     "name": "stderr",
     "output_type": "stream",
     "text": [
      " 50% (738 of 1464) |##########           | Elapsed Time: 6:20:35 ETA:   6:17:23"
     ]
    },
    {
     "name": "stdout",
     "output_type": "stream",
     "text": [
      "SPS: 66 Average Reward: -5.307546666091202\n"
     ]
    },
    {
     "name": "stderr",
     "output_type": "stream",
     "text": [
      " 50% (739 of 1464) |##########           | Elapsed Time: 6:21:06 ETA:   6:15:48"
     ]
    },
    {
     "name": "stdout",
     "output_type": "stream",
     "text": [
      "SPS: 66 Average Reward: -5.906470304984295\n"
     ]
    },
    {
     "name": "stderr",
     "output_type": "stream",
     "text": [
      " 50% (740 of 1464) |##########           | Elapsed Time: 6:21:37 ETA:   6:14:57"
     ]
    },
    {
     "name": "stdout",
     "output_type": "stream",
     "text": [
      "SPS: 66 Average Reward: -5.494978767664068\n"
     ]
    },
    {
     "name": "stderr",
     "output_type": "stream",
     "text": [
      " 50% (741 of 1464) |##########           | Elapsed Time: 6:22:08 ETA:   6:12:35"
     ]
    },
    {
     "name": "stdout",
     "output_type": "stream",
     "text": [
      "SPS: 66 Average Reward: -5.5420285152928495\n"
     ]
    },
    {
     "name": "stderr",
     "output_type": "stream",
     "text": [
      " 50% (742 of 1464) |##########           | Elapsed Time: 6:22:39 ETA:   6:13:23"
     ]
    },
    {
     "name": "stdout",
     "output_type": "stream",
     "text": [
      "SPS: 66 Average Reward: -5.9488015577292295\n"
     ]
    },
    {
     "name": "stderr",
     "output_type": "stream",
     "text": [
      " 50% (743 of 1464) |##########           | Elapsed Time: 6:23:10 ETA:   6:13:19"
     ]
    },
    {
     "name": "stdout",
     "output_type": "stream",
     "text": [
      "SPS: 66 Average Reward: -5.573972623087365\n"
     ]
    },
    {
     "name": "stderr",
     "output_type": "stream",
     "text": [
      " 50% (744 of 1464) |##########           | Elapsed Time: 6:23:41 ETA:   6:13:45"
     ]
    },
    {
     "name": "stdout",
     "output_type": "stream",
     "text": [
      "SPS: 66 Average Reward: -5.7006314147310615\n"
     ]
    },
    {
     "name": "stderr",
     "output_type": "stream",
     "text": [
      " 50% (745 of 1464) |##########           | Elapsed Time: 6:24:12 ETA:   6:12:39"
     ]
    },
    {
     "name": "stdout",
     "output_type": "stream",
     "text": [
      "SPS: 66 Average Reward: -7.553427211055981\n"
     ]
    },
    {
     "name": "stderr",
     "output_type": "stream",
     "text": [
      " 50% (746 of 1464) |##########           | Elapsed Time: 6:24:43 ETA:   6:13:26"
     ]
    },
    {
     "name": "stdout",
     "output_type": "stream",
     "text": [
      "SPS: 66 Average Reward: -5.397630390902072\n"
     ]
    },
    {
     "name": "stderr",
     "output_type": "stream",
     "text": [
      " 51% (747 of 1464) |##########           | Elapsed Time: 6:25:14 ETA:   6:12:49"
     ]
    },
    {
     "name": "stdout",
     "output_type": "stream",
     "text": [
      "SPS: 66 Average Reward: -5.743742359410755\n"
     ]
    },
    {
     "name": "stderr",
     "output_type": "stream",
     "text": [
      " 51% (748 of 1464) |##########           | Elapsed Time: 6:25:45 ETA:   6:06:55"
     ]
    },
    {
     "name": "stdout",
     "output_type": "stream",
     "text": [
      "SPS: 66 Average Reward: -5.3015875649168445\n"
     ]
    },
    {
     "name": "stderr",
     "output_type": "stream",
     "text": [
      " 51% (749 of 1464) |##########           | Elapsed Time: 6:26:16 ETA:   6:11:14"
     ]
    },
    {
     "name": "stdout",
     "output_type": "stream",
     "text": [
      "SPS: 66 Average Reward: -6.3475192440597885\n"
     ]
    },
    {
     "name": "stderr",
     "output_type": "stream",
     "text": [
      " 51% (750 of 1464) |##########           | Elapsed Time: 6:26:47 ETA:   6:10:57"
     ]
    },
    {
     "name": "stdout",
     "output_type": "stream",
     "text": [
      "SPS: 66 Average Reward: -7.715695661077431\n"
     ]
    },
    {
     "name": "stderr",
     "output_type": "stream",
     "text": [
      " 51% (751 of 1464) |##########           | Elapsed Time: 6:27:19 ETA:   6:11:07"
     ]
    },
    {
     "name": "stdout",
     "output_type": "stream",
     "text": [
      "SPS: 66 Average Reward: -6.192337616070464\n"
     ]
    },
    {
     "name": "stderr",
     "output_type": "stream",
     "text": [
      " 51% (752 of 1464) |##########           | Elapsed Time: 6:27:50 ETA:   6:09:18"
     ]
    },
    {
     "name": "stdout",
     "output_type": "stream",
     "text": [
      "SPS: 66 Average Reward: -5.306196028155488\n"
     ]
    },
    {
     "name": "stderr",
     "output_type": "stream",
     "text": [
      " 51% (753 of 1464) |##########           | Elapsed Time: 6:28:21 ETA:   6:09:12"
     ]
    },
    {
     "name": "stdout",
     "output_type": "stream",
     "text": [
      "SPS: 66 Average Reward: -5.026623959399279\n"
     ]
    },
    {
     "name": "stderr",
     "output_type": "stream",
     "text": [
      " 51% (754 of 1464) |##########           | Elapsed Time: 6:28:52 ETA:   6:07:31"
     ]
    },
    {
     "name": "stdout",
     "output_type": "stream",
     "text": [
      "SPS: 66 Average Reward: -5.2382231945038935\n"
     ]
    },
    {
     "name": "stderr",
     "output_type": "stream",
     "text": [
      " 51% (755 of 1464) |##########           | Elapsed Time: 6:29:23 ETA:   6:06:51"
     ]
    },
    {
     "name": "stdout",
     "output_type": "stream",
     "text": [
      "SPS: 66 Average Reward: -5.323381594409502\n"
     ]
    },
    {
     "name": "stderr",
     "output_type": "stream",
     "text": [
      " 51% (756 of 1464) |##########           | Elapsed Time: 6:29:54 ETA:   6:07:11"
     ]
    },
    {
     "name": "stdout",
     "output_type": "stream",
     "text": [
      "SPS: 66 Average Reward: -5.18835130838242\n"
     ]
    },
    {
     "name": "stderr",
     "output_type": "stream",
     "text": [
      " 51% (757 of 1464) |##########           | Elapsed Time: 6:30:25 ETA:   6:06:40"
     ]
    },
    {
     "name": "stdout",
     "output_type": "stream",
     "text": [
      "SPS: 66 Average Reward: -5.830524588217022\n"
     ]
    },
    {
     "name": "stderr",
     "output_type": "stream",
     "text": [
      " 51% (758 of 1464) |##########           | Elapsed Time: 6:30:56 ETA:   6:06:31"
     ]
    },
    {
     "name": "stdout",
     "output_type": "stream",
     "text": [
      "SPS: 66 Average Reward: -5.2805970873918895\n"
     ]
    },
    {
     "name": "stderr",
     "output_type": "stream",
     "text": [
      " 51% (759 of 1464) |##########           | Elapsed Time: 6:31:28 ETA:   6:06:46"
     ]
    },
    {
     "name": "stdout",
     "output_type": "stream",
     "text": [
      "SPS: 66 Average Reward: -4.873129230347628\n"
     ]
    },
    {
     "name": "stderr",
     "output_type": "stream",
     "text": [
      " 51% (760 of 1464) |##########           | Elapsed Time: 6:31:59 ETA:   6:02:29"
     ]
    },
    {
     "name": "stdout",
     "output_type": "stream",
     "text": [
      "SPS: 66 Average Reward: -5.862211504027504\n"
     ]
    },
    {
     "name": "stderr",
     "output_type": "stream",
     "text": [
      " 51% (761 of 1464) |##########           | Elapsed Time: 6:32:30 ETA:   6:04:24"
     ]
    },
    {
     "name": "stdout",
     "output_type": "stream",
     "text": [
      "SPS: 66 Average Reward: -5.460844490641015\n"
     ]
    },
    {
     "name": "stderr",
     "output_type": "stream",
     "text": [
      " 52% (762 of 1464) |##########           | Elapsed Time: 6:33:01 ETA:   6:04:34"
     ]
    },
    {
     "name": "stdout",
     "output_type": "stream",
     "text": [
      "SPS: 66 Average Reward: -6.133795489721547\n"
     ]
    },
    {
     "name": "stderr",
     "output_type": "stream",
     "text": [
      " 52% (763 of 1464) |##########           | Elapsed Time: 6:33:32 ETA:   6:03:30"
     ]
    },
    {
     "name": "stdout",
     "output_type": "stream",
     "text": [
      "SPS: 66 Average Reward: -4.801971937863069\n"
     ]
    },
    {
     "name": "stderr",
     "output_type": "stream",
     "text": [
      " 52% (764 of 1464) |##########           | Elapsed Time: 6:34:03 ETA:   6:00:13"
     ]
    },
    {
     "name": "stdout",
     "output_type": "stream",
     "text": [
      "SPS: 66 Average Reward: -5.071234748429598\n"
     ]
    },
    {
     "name": "stderr",
     "output_type": "stream",
     "text": [
      " 52% (765 of 1464) |##########           | Elapsed Time: 6:34:34 ETA:   6:02:41"
     ]
    },
    {
     "name": "stdout",
     "output_type": "stream",
     "text": [
      "SPS: 66 Average Reward: -5.029963395345706\n"
     ]
    },
    {
     "name": "stderr",
     "output_type": "stream",
     "text": [
      " 52% (766 of 1464) |##########           | Elapsed Time: 6:35:05 ETA:   5:59:24"
     ]
    },
    {
     "name": "stdout",
     "output_type": "stream",
     "text": [
      "SPS: 66 Average Reward: -5.2683953692272505\n"
     ]
    },
    {
     "name": "stderr",
     "output_type": "stream",
     "text": [
      " 52% (767 of 1464) |###########          | Elapsed Time: 6:35:36 ETA:   6:01:44"
     ]
    },
    {
     "name": "stdout",
     "output_type": "stream",
     "text": [
      "SPS: 66 Average Reward: -4.807782554203389\n"
     ]
    },
    {
     "name": "stderr",
     "output_type": "stream",
     "text": [
      " 52% (768 of 1464) |###########          | Elapsed Time: 6:36:07 ETA:   6:01:01"
     ]
    },
    {
     "name": "stdout",
     "output_type": "stream",
     "text": [
      "SPS: 66 Average Reward: -5.483565218621492\n"
     ]
    },
    {
     "name": "stderr",
     "output_type": "stream",
     "text": [
      " 52% (769 of 1464) |###########          | Elapsed Time: 6:36:38 ETA:   5:57:46"
     ]
    },
    {
     "name": "stdout",
     "output_type": "stream",
     "text": [
      "SPS: 66 Average Reward: -4.844522724629104\n"
     ]
    },
    {
     "name": "stderr",
     "output_type": "stream",
     "text": [
      " 52% (770 of 1464) |###########          | Elapsed Time: 6:37:09 ETA:   5:54:48"
     ]
    },
    {
     "name": "stdout",
     "output_type": "stream",
     "text": [
      "SPS: 66 Average Reward: -5.650075983289425\n"
     ]
    },
    {
     "name": "stderr",
     "output_type": "stream",
     "text": [
      " 52% (771 of 1464) |###########          | Elapsed Time: 6:37:40 ETA:   6:00:09"
     ]
    },
    {
     "name": "stdout",
     "output_type": "stream",
     "text": [
      "SPS: 66 Average Reward: -5.267834935294472\n"
     ]
    },
    {
     "name": "stderr",
     "output_type": "stream",
     "text": [
      " 52% (772 of 1464) |###########          | Elapsed Time: 6:38:11 ETA:   5:58:25"
     ]
    },
    {
     "name": "stdout",
     "output_type": "stream",
     "text": [
      "SPS: 66 Average Reward: -5.399234544887897\n"
     ]
    },
    {
     "name": "stderr",
     "output_type": "stream",
     "text": [
      " 52% (773 of 1464) |###########          | Elapsed Time: 6:38:42 ETA:   5:59:48"
     ]
    },
    {
     "name": "stdout",
     "output_type": "stream",
     "text": [
      "SPS: 66 Average Reward: -5.4306830066075555\n"
     ]
    },
    {
     "name": "stderr",
     "output_type": "stream",
     "text": [
      " 52% (774 of 1464) |###########          | Elapsed Time: 6:39:13 ETA:   5:57:34"
     ]
    },
    {
     "name": "stdout",
     "output_type": "stream",
     "text": [
      "SPS: 66 Average Reward: -5.343203914023054\n"
     ]
    },
    {
     "name": "stderr",
     "output_type": "stream",
     "text": [
      " 52% (775 of 1464) |###########          | Elapsed Time: 6:39:44 ETA:   5:58:09"
     ]
    },
    {
     "name": "stdout",
     "output_type": "stream",
     "text": [
      "SPS: 66 Average Reward: -5.616059411381877\n"
     ]
    },
    {
     "name": "stderr",
     "output_type": "stream",
     "text": [
      " 53% (776 of 1464) |###########          | Elapsed Time: 6:40:15 ETA:   5:55:18"
     ]
    },
    {
     "name": "stdout",
     "output_type": "stream",
     "text": [
      "SPS: 66 Average Reward: -5.139081832385776\n"
     ]
    },
    {
     "name": "stderr",
     "output_type": "stream",
     "text": [
      " 53% (777 of 1464) |###########          | Elapsed Time: 6:40:47 ETA:   5:56:53"
     ]
    },
    {
     "name": "stdout",
     "output_type": "stream",
     "text": [
      "SPS: 66 Average Reward: -5.850111764103872\n"
     ]
    },
    {
     "name": "stderr",
     "output_type": "stream",
     "text": [
      " 53% (778 of 1464) |###########          | Elapsed Time: 6:41:18 ETA:   5:57:10"
     ]
    },
    {
     "name": "stdout",
     "output_type": "stream",
     "text": [
      "SPS: 66 Average Reward: -5.30817870645784\n"
     ]
    },
    {
     "name": "stderr",
     "output_type": "stream",
     "text": [
      " 53% (779 of 1464) |###########          | Elapsed Time: 6:41:49 ETA:   5:55:32"
     ]
    },
    {
     "name": "stdout",
     "output_type": "stream",
     "text": [
      "SPS: 66 Average Reward: -7.089581176052804\n"
     ]
    },
    {
     "name": "stderr",
     "output_type": "stream",
     "text": [
      " 53% (780 of 1464) |###########          | Elapsed Time: 6:42:20 ETA:   5:55:19"
     ]
    },
    {
     "name": "stdout",
     "output_type": "stream",
     "text": [
      "SPS: 66 Average Reward: -6.905662671279824\n"
     ]
    },
    {
     "name": "stderr",
     "output_type": "stream",
     "text": [
      " 53% (781 of 1464) |###########          | Elapsed Time: 6:42:51 ETA:   5:53:30"
     ]
    },
    {
     "name": "stdout",
     "output_type": "stream",
     "text": [
      "SPS: 66 Average Reward: -4.714755935595508\n"
     ]
    },
    {
     "name": "stderr",
     "output_type": "stream",
     "text": [
      " 53% (782 of 1464) |###########          | Elapsed Time: 6:43:22 ETA:   5:54:17"
     ]
    },
    {
     "name": "stdout",
     "output_type": "stream",
     "text": [
      "SPS: 66 Average Reward: -5.828202771554584\n"
     ]
    },
    {
     "name": "stderr",
     "output_type": "stream",
     "text": [
      " 53% (783 of 1464) |###########          | Elapsed Time: 6:43:54 ETA:   5:53:56"
     ]
    },
    {
     "name": "stdout",
     "output_type": "stream",
     "text": [
      "SPS: 66 Average Reward: -5.042203799508409\n"
     ]
    },
    {
     "name": "stderr",
     "output_type": "stream",
     "text": [
      " 53% (784 of 1464) |###########          | Elapsed Time: 6:44:25 ETA:   5:53:15"
     ]
    },
    {
     "name": "stdout",
     "output_type": "stream",
     "text": [
      "SPS: 66 Average Reward: -8.911288804814951\n"
     ]
    },
    {
     "name": "stderr",
     "output_type": "stream",
     "text": [
      " 53% (785 of 1464) |###########          | Elapsed Time: 6:44:56 ETA:   5:51:07"
     ]
    },
    {
     "name": "stdout",
     "output_type": "stream",
     "text": [
      "SPS: 66 Average Reward: -6.043313271085776\n"
     ]
    },
    {
     "name": "stderr",
     "output_type": "stream",
     "text": [
      " 53% (786 of 1464) |###########          | Elapsed Time: 6:45:27 ETA:   5:52:44"
     ]
    },
    {
     "name": "stdout",
     "output_type": "stream",
     "text": [
      "SPS: 66 Average Reward: -5.978148015436255\n"
     ]
    },
    {
     "name": "stderr",
     "output_type": "stream",
     "text": [
      " 53% (787 of 1464) |###########          | Elapsed Time: 6:45:58 ETA:   5:52:15"
     ]
    },
    {
     "name": "stdout",
     "output_type": "stream",
     "text": [
      "SPS: 66 Average Reward: -4.733006849027174\n"
     ]
    },
    {
     "name": "stderr",
     "output_type": "stream",
     "text": [
      " 53% (788 of 1464) |###########          | Elapsed Time: 6:46:29 ETA:   5:50:55"
     ]
    },
    {
     "name": "stdout",
     "output_type": "stream",
     "text": [
      "SPS: 66 Average Reward: -5.842958841975375\n"
     ]
    },
    {
     "name": "stderr",
     "output_type": "stream",
     "text": [
      " 53% (789 of 1464) |###########          | Elapsed Time: 6:47:00 ETA:   5:49:58"
     ]
    },
    {
     "name": "stdout",
     "output_type": "stream",
     "text": [
      "SPS: 66 Average Reward: -6.121589560626517\n"
     ]
    },
    {
     "name": "stderr",
     "output_type": "stream",
     "text": [
      " 53% (790 of 1464) |###########          | Elapsed Time: 6:47:32 ETA:   5:50:43"
     ]
    },
    {
     "name": "stdout",
     "output_type": "stream",
     "text": [
      "SPS: 66 Average Reward: -5.9448035268017945\n"
     ]
    },
    {
     "name": "stderr",
     "output_type": "stream",
     "text": [
      " 54% (791 of 1464) |###########          | Elapsed Time: 6:48:03 ETA:   5:48:34"
     ]
    },
    {
     "name": "stdout",
     "output_type": "stream",
     "text": [
      "SPS: 66 Average Reward: -4.984307400202702\n"
     ]
    },
    {
     "name": "stderr",
     "output_type": "stream",
     "text": [
      " 54% (792 of 1464) |###########          | Elapsed Time: 6:48:34 ETA:   5:47:34"
     ]
    },
    {
     "name": "stdout",
     "output_type": "stream",
     "text": [
      "SPS: 66 Average Reward: -5.24742395428749\n"
     ]
    },
    {
     "name": "stderr",
     "output_type": "stream",
     "text": [
      " 54% (793 of 1464) |###########          | Elapsed Time: 6:49:05 ETA:   5:47:32"
     ]
    },
    {
     "name": "stdout",
     "output_type": "stream",
     "text": [
      "SPS: 66 Average Reward: -5.207279641037103\n"
     ]
    },
    {
     "name": "stderr",
     "output_type": "stream",
     "text": [
      " 54% (794 of 1464) |###########          | Elapsed Time: 6:49:36 ETA:   5:47:17"
     ]
    },
    {
     "name": "stdout",
     "output_type": "stream",
     "text": [
      "SPS: 66 Average Reward: -5.593925513582794\n"
     ]
    },
    {
     "name": "stderr",
     "output_type": "stream",
     "text": [
      " 54% (795 of 1464) |###########          | Elapsed Time: 6:50:07 ETA:   5:43:42"
     ]
    },
    {
     "name": "stdout",
     "output_type": "stream",
     "text": [
      "SPS: 66 Average Reward: -5.8540312370583685\n"
     ]
    },
    {
     "name": "stderr",
     "output_type": "stream",
     "text": [
      " 54% (796 of 1464) |###########          | Elapsed Time: 6:50:38 ETA:   5:45:35"
     ]
    },
    {
     "name": "stdout",
     "output_type": "stream",
     "text": [
      "SPS: 66 Average Reward: -5.145361147164329\n"
     ]
    },
    {
     "name": "stderr",
     "output_type": "stream",
     "text": [
      " 54% (797 of 1464) |###########          | Elapsed Time: 6:51:09 ETA:   5:44:51"
     ]
    },
    {
     "name": "stdout",
     "output_type": "stream",
     "text": [
      "SPS: 66 Average Reward: -5.234736084561454\n"
     ]
    },
    {
     "name": "stderr",
     "output_type": "stream",
     "text": [
      " 54% (798 of 1464) |###########          | Elapsed Time: 6:51:40 ETA:   5:43:12"
     ]
    },
    {
     "name": "stdout",
     "output_type": "stream",
     "text": [
      "SPS: 66 Average Reward: -5.947285092494504\n"
     ]
    },
    {
     "name": "stderr",
     "output_type": "stream",
     "text": [
      " 54% (799 of 1464) |###########          | Elapsed Time: 6:52:11 ETA:   5:46:10"
     ]
    },
    {
     "name": "stdout",
     "output_type": "stream",
     "text": [
      "SPS: 66 Average Reward: -5.876010587672329\n"
     ]
    },
    {
     "name": "stderr",
     "output_type": "stream",
     "text": [
      " 54% (800 of 1464) |###########          | Elapsed Time: 6:52:42 ETA:   5:45:13"
     ]
    },
    {
     "name": "stdout",
     "output_type": "stream",
     "text": [
      "SPS: 66 Average Reward: -5.434505795640153\n"
     ]
    },
    {
     "name": "stderr",
     "output_type": "stream",
     "text": [
      " 54% (801 of 1464) |###########          | Elapsed Time: 6:53:13 ETA:   5:43:01"
     ]
    },
    {
     "name": "stdout",
     "output_type": "stream",
     "text": [
      "SPS: 66 Average Reward: -5.691670369193004\n"
     ]
    },
    {
     "name": "stderr",
     "output_type": "stream",
     "text": [
      " 54% (802 of 1464) |###########          | Elapsed Time: 6:53:44 ETA:   5:43:01"
     ]
    },
    {
     "name": "stdout",
     "output_type": "stream",
     "text": [
      "SPS: 66 Average Reward: -4.819530343052785\n"
     ]
    },
    {
     "name": "stderr",
     "output_type": "stream",
     "text": [
      " 54% (803 of 1464) |###########          | Elapsed Time: 6:54:15 ETA:   5:42:04"
     ]
    },
    {
     "name": "stdout",
     "output_type": "stream",
     "text": [
      "SPS: 66 Average Reward: -5.386654297526061\n"
     ]
    },
    {
     "name": "stderr",
     "output_type": "stream",
     "text": [
      " 54% (804 of 1464) |###########          | Elapsed Time: 6:54:47 ETA:   5:43:20"
     ]
    },
    {
     "name": "stdout",
     "output_type": "stream",
     "text": [
      "SPS: 66 Average Reward: -5.690368083288688\n"
     ]
    },
    {
     "name": "stderr",
     "output_type": "stream",
     "text": [
      " 54% (805 of 1464) |###########          | Elapsed Time: 6:55:17 ETA:   5:39:12"
     ]
    },
    {
     "name": "stdout",
     "output_type": "stream",
     "text": [
      "SPS: 66 Average Reward: -5.245743019855358\n"
     ]
    },
    {
     "name": "stderr",
     "output_type": "stream",
     "text": [
      " 55% (806 of 1464) |###########          | Elapsed Time: 6:55:49 ETA:   5:41:02"
     ]
    },
    {
     "name": "stdout",
     "output_type": "stream",
     "text": [
      "SPS: 66 Average Reward: -5.293272039320387\n"
     ]
    },
    {
     "name": "stderr",
     "output_type": "stream",
     "text": [
      " 55% (807 of 1464) |###########          | Elapsed Time: 6:56:20 ETA:   5:41:16"
     ]
    },
    {
     "name": "stdout",
     "output_type": "stream",
     "text": [
      "SPS: 66 Average Reward: -5.651056058184764\n"
     ]
    },
    {
     "name": "stderr",
     "output_type": "stream",
     "text": [
      " 55% (808 of 1464) |###########          | Elapsed Time: 6:56:51 ETA:   5:40:57"
     ]
    },
    {
     "name": "stdout",
     "output_type": "stream",
     "text": [
      "SPS: 66 Average Reward: -5.13652760155724\n"
     ]
    },
    {
     "name": "stderr",
     "output_type": "stream",
     "text": [
      " 55% (809 of 1464) |###########          | Elapsed Time: 6:57:22 ETA:   5:39:55"
     ]
    },
    {
     "name": "stdout",
     "output_type": "stream",
     "text": [
      "SPS: 66 Average Reward: -5.411473712719938\n"
     ]
    },
    {
     "name": "stderr",
     "output_type": "stream",
     "text": [
      " 55% (810 of 1464) |###########          | Elapsed Time: 6:57:53 ETA:   5:34:58"
     ]
    },
    {
     "name": "stdout",
     "output_type": "stream",
     "text": [
      "SPS: 66 Average Reward: -5.405917749656822\n"
     ]
    },
    {
     "name": "stderr",
     "output_type": "stream",
     "text": [
      " 55% (811 of 1464) |###########          | Elapsed Time: 6:58:24 ETA:   5:37:01"
     ]
    },
    {
     "name": "stdout",
     "output_type": "stream",
     "text": [
      "SPS: 66 Average Reward: -5.344401534479824\n"
     ]
    },
    {
     "name": "stderr",
     "output_type": "stream",
     "text": [
      " 55% (812 of 1464) |###########          | Elapsed Time: 6:58:54 ETA:   5:33:41"
     ]
    },
    {
     "name": "stdout",
     "output_type": "stream",
     "text": [
      "SPS: 66 Average Reward: -4.984934476775504\n"
     ]
    },
    {
     "name": "stderr",
     "output_type": "stream",
     "text": [
      " 55% (813 of 1464) |###########          | Elapsed Time: 6:59:26 ETA:   5:37:49"
     ]
    },
    {
     "name": "stdout",
     "output_type": "stream",
     "text": [
      "SPS: 66 Average Reward: -6.177840994241819\n"
     ]
    },
    {
     "name": "stderr",
     "output_type": "stream",
     "text": [
      " 55% (814 of 1464) |###########          | Elapsed Time: 6:59:57 ETA:   5:37:44"
     ]
    },
    {
     "name": "stdout",
     "output_type": "stream",
     "text": [
      "SPS: 66 Average Reward: -5.532939128828852\n"
     ]
    },
    {
     "name": "stderr",
     "output_type": "stream",
     "text": [
      " 55% (815 of 1464) |###########          | Elapsed Time: 7:00:28 ETA:   5:35:51"
     ]
    },
    {
     "name": "stdout",
     "output_type": "stream",
     "text": [
      "SPS: 66 Average Reward: -5.451775052045442\n"
     ]
    },
    {
     "name": "stderr",
     "output_type": "stream",
     "text": [
      " 55% (816 of 1464) |###########          | Elapsed Time: 7:00:59 ETA:   5:35:33"
     ]
    },
    {
     "name": "stdout",
     "output_type": "stream",
     "text": [
      "SPS: 66 Average Reward: -5.518585674563718\n"
     ]
    },
    {
     "name": "stderr",
     "output_type": "stream",
     "text": [
      " 55% (817 of 1464) |###########          | Elapsed Time: 7:01:30 ETA:   5:29:41"
     ]
    },
    {
     "name": "stdout",
     "output_type": "stream",
     "text": [
      "SPS: 66 Average Reward: -5.217712185156822\n"
     ]
    },
    {
     "name": "stderr",
     "output_type": "stream",
     "text": [
      " 55% (818 of 1464) |###########          | Elapsed Time: 7:02:00 ETA:   5:33:09"
     ]
    },
    {
     "name": "stdout",
     "output_type": "stream",
     "text": [
      "SPS: 66 Average Reward: -5.672758132499842\n"
     ]
    },
    {
     "name": "stderr",
     "output_type": "stream",
     "text": [
      " 55% (819 of 1464) |###########          | Elapsed Time: 7:02:32 ETA:   5:35:20"
     ]
    },
    {
     "name": "stdout",
     "output_type": "stream",
     "text": [
      "SPS: 66 Average Reward: -4.765770544752509\n"
     ]
    },
    {
     "name": "stderr",
     "output_type": "stream",
     "text": [
      " 56% (820 of 1464) |###########          | Elapsed Time: 7:03:03 ETA:   5:34:01"
     ]
    },
    {
     "name": "stdout",
     "output_type": "stream",
     "text": [
      "SPS: 66 Average Reward: -6.028239851950981\n"
     ]
    },
    {
     "name": "stderr",
     "output_type": "stream",
     "text": [
      " 56% (821 of 1464) |###########          | Elapsed Time: 7:03:33 ETA:   5:28:31"
     ]
    },
    {
     "name": "stdout",
     "output_type": "stream",
     "text": [
      "SPS: 66 Average Reward: -5.005987453670892\n"
     ]
    },
    {
     "name": "stderr",
     "output_type": "stream",
     "text": [
      " 56% (822 of 1464) |###########          | Elapsed Time: 7:04:05 ETA:   5:33:19"
     ]
    },
    {
     "name": "stdout",
     "output_type": "stream",
     "text": [
      "SPS: 66 Average Reward: -5.059026835687521\n"
     ]
    },
    {
     "name": "stderr",
     "output_type": "stream",
     "text": [
      " 56% (823 of 1464) |###########          | Elapsed Time: 7:04:36 ETA:   5:33:17"
     ]
    },
    {
     "name": "stdout",
     "output_type": "stream",
     "text": [
      "SPS: 66 Average Reward: -5.078690833107611\n"
     ]
    },
    {
     "name": "stderr",
     "output_type": "stream",
     "text": [
      " 56% (824 of 1464) |###########          | Elapsed Time: 7:05:07 ETA:   5:32:09"
     ]
    },
    {
     "name": "stdout",
     "output_type": "stream",
     "text": [
      "SPS: 66 Average Reward: -4.95132752606646\n"
     ]
    },
    {
     "name": "stderr",
     "output_type": "stream",
     "text": [
      " 56% (825 of 1464) |###########          | Elapsed Time: 7:05:38 ETA:   5:32:14"
     ]
    },
    {
     "name": "stdout",
     "output_type": "stream",
     "text": [
      "SPS: 66 Average Reward: -5.480068233559584\n"
     ]
    },
    {
     "name": "stderr",
     "output_type": "stream",
     "text": [
      " 56% (826 of 1464) |###########          | Elapsed Time: 7:06:09 ETA:   5:31:23"
     ]
    },
    {
     "name": "stdout",
     "output_type": "stream",
     "text": [
      "SPS: 66 Average Reward: -5.11344724147671\n"
     ]
    },
    {
     "name": "stderr",
     "output_type": "stream",
     "text": [
      " 56% (827 of 1464) |###########          | Elapsed Time: 7:06:40 ETA:   5:30:39"
     ]
    },
    {
     "name": "stdout",
     "output_type": "stream",
     "text": [
      "SPS: 66 Average Reward: -5.535549926468789\n"
     ]
    },
    {
     "name": "stderr",
     "output_type": "stream",
     "text": [
      " 56% (828 of 1464) |###########          | Elapsed Time: 7:07:12 ETA:   5:30:22"
     ]
    },
    {
     "name": "stdout",
     "output_type": "stream",
     "text": [
      "SPS: 66 Average Reward: -4.928520746988356\n"
     ]
    },
    {
     "name": "stderr",
     "output_type": "stream",
     "text": [
      " 56% (829 of 1464) |###########          | Elapsed Time: 7:07:43 ETA:   5:28:54"
     ]
    },
    {
     "name": "stdout",
     "output_type": "stream",
     "text": [
      "SPS: 66 Average Reward: -5.065768099535845\n"
     ]
    },
    {
     "name": "stderr",
     "output_type": "stream",
     "text": [
      " 56% (830 of 1464) |###########          | Elapsed Time: 7:08:14 ETA:   5:26:55"
     ]
    },
    {
     "name": "stdout",
     "output_type": "stream",
     "text": [
      "SPS: 66 Average Reward: -4.730341316017147\n"
     ]
    },
    {
     "name": "stderr",
     "output_type": "stream",
     "text": [
      " 56% (831 of 1464) |###########          | Elapsed Time: 7:08:45 ETA:   5:27:45"
     ]
    },
    {
     "name": "stdout",
     "output_type": "stream",
     "text": [
      "SPS: 66 Average Reward: -4.992445417662255\n"
     ]
    },
    {
     "name": "stderr",
     "output_type": "stream",
     "text": [
      " 56% (832 of 1464) |###########          | Elapsed Time: 7:09:16 ETA:   5:26:44"
     ]
    },
    {
     "name": "stdout",
     "output_type": "stream",
     "text": [
      "SPS: 66 Average Reward: -4.440922500100326\n"
     ]
    },
    {
     "name": "stderr",
     "output_type": "stream",
     "text": [
      " 56% (833 of 1464) |###########          | Elapsed Time: 7:09:47 ETA:   5:26:58"
     ]
    },
    {
     "name": "stdout",
     "output_type": "stream",
     "text": [
      "SPS: 66 Average Reward: -5.178116170077945\n"
     ]
    },
    {
     "name": "stderr",
     "output_type": "stream",
     "text": [
      " 56% (834 of 1464) |###########          | Elapsed Time: 7:10:18 ETA:   5:26:45"
     ]
    },
    {
     "name": "stdout",
     "output_type": "stream",
     "text": [
      "SPS: 66 Average Reward: -4.876213985611461\n"
     ]
    },
    {
     "name": "stderr",
     "output_type": "stream",
     "text": [
      " 57% (835 of 1464) |###########          | Elapsed Time: 7:10:49 ETA:   5:26:12"
     ]
    },
    {
     "name": "stdout",
     "output_type": "stream",
     "text": [
      "SPS: 66 Average Reward: -5.768899496826729\n"
     ]
    },
    {
     "name": "stderr",
     "output_type": "stream",
     "text": [
      " 57% (836 of 1464) |###########          | Elapsed Time: 7:11:20 ETA:   5:25:21"
     ]
    },
    {
     "name": "stdout",
     "output_type": "stream",
     "text": [
      "SPS: 66 Average Reward: -4.666790042188831\n"
     ]
    },
    {
     "name": "stderr",
     "output_type": "stream",
     "text": [
      " 57% (837 of 1464) |############         | Elapsed Time: 7:11:51 ETA:   5:24:58"
     ]
    },
    {
     "name": "stdout",
     "output_type": "stream",
     "text": [
      "SPS: 66 Average Reward: -5.750262261208193\n"
     ]
    },
    {
     "name": "stderr",
     "output_type": "stream",
     "text": [
      " 57% (838 of 1464) |############         | Elapsed Time: 7:12:22 ETA:   5:24:58"
     ]
    },
    {
     "name": "stdout",
     "output_type": "stream",
     "text": [
      "SPS: 66 Average Reward: -6.787515610788124\n"
     ]
    },
    {
     "name": "stderr",
     "output_type": "stream",
     "text": [
      " 57% (839 of 1464) |############         | Elapsed Time: 7:12:53 ETA:   5:22:48"
     ]
    },
    {
     "name": "stdout",
     "output_type": "stream",
     "text": [
      "SPS: 66 Average Reward: -4.752398392703521\n"
     ]
    },
    {
     "name": "stderr",
     "output_type": "stream",
     "text": [
      " 57% (840 of 1464) |############         | Elapsed Time: 7:13:24 ETA:   5:22:37"
     ]
    },
    {
     "name": "stdout",
     "output_type": "stream",
     "text": [
      "SPS: 66 Average Reward: -4.753079920851076\n"
     ]
    },
    {
     "name": "stderr",
     "output_type": "stream",
     "text": [
      " 57% (841 of 1464) |############         | Elapsed Time: 7:13:55 ETA:   5:22:17"
     ]
    },
    {
     "name": "stdout",
     "output_type": "stream",
     "text": [
      "SPS: 66 Average Reward: -5.24215790095536\n"
     ]
    },
    {
     "name": "stderr",
     "output_type": "stream",
     "text": [
      " 57% (842 of 1464) |############         | Elapsed Time: 7:14:26 ETA:   5:21:49"
     ]
    },
    {
     "name": "stdout",
     "output_type": "stream",
     "text": [
      "SPS: 66 Average Reward: -4.26609903970495\n"
     ]
    },
    {
     "name": "stderr",
     "output_type": "stream",
     "text": [
      " 57% (843 of 1464) |############         | Elapsed Time: 7:14:57 ETA:   5:21:32"
     ]
    },
    {
     "name": "stdout",
     "output_type": "stream",
     "text": [
      "SPS: 66 Average Reward: -5.156400395755093\n"
     ]
    },
    {
     "name": "stderr",
     "output_type": "stream",
     "text": [
      " 57% (844 of 1464) |############         | Elapsed Time: 7:15:28 ETA:   5:17:33"
     ]
    },
    {
     "name": "stdout",
     "output_type": "stream",
     "text": [
      "SPS: 66 Average Reward: -6.424372571671452\n"
     ]
    },
    {
     "name": "stderr",
     "output_type": "stream",
     "text": [
      " 57% (845 of 1464) |############         | Elapsed Time: 7:15:59 ETA:   5:19:59"
     ]
    },
    {
     "name": "stdout",
     "output_type": "stream",
     "text": [
      "SPS: 66 Average Reward: -5.450679670373549\n"
     ]
    },
    {
     "name": "stderr",
     "output_type": "stream",
     "text": [
      " 57% (846 of 1464) |############         | Elapsed Time: 7:16:30 ETA:   5:16:47"
     ]
    },
    {
     "name": "stdout",
     "output_type": "stream",
     "text": [
      "SPS: 66 Average Reward: -4.894612572954409\n"
     ]
    },
    {
     "name": "stderr",
     "output_type": "stream",
     "text": [
      " 57% (847 of 1464) |############         | Elapsed Time: 7:17:01 ETA:   5:16:00"
     ]
    },
    {
     "name": "stdout",
     "output_type": "stream",
     "text": [
      "SPS: 66 Average Reward: -4.878324663007231\n"
     ]
    },
    {
     "name": "stderr",
     "output_type": "stream",
     "text": [
      " 57% (848 of 1464) |############         | Elapsed Time: 7:17:31 ETA:   5:14:51"
     ]
    },
    {
     "name": "stdout",
     "output_type": "stream",
     "text": [
      "SPS: 66 Average Reward: -5.4245281477764316\n"
     ]
    },
    {
     "name": "stderr",
     "output_type": "stream",
     "text": [
      " 57% (849 of 1464) |############         | Elapsed Time: 7:18:03 ETA:   5:19:50"
     ]
    },
    {
     "name": "stdout",
     "output_type": "stream",
     "text": [
      "SPS: 66 Average Reward: -5.713854758233384\n"
     ]
    },
    {
     "name": "stderr",
     "output_type": "stream",
     "text": [
      " 58% (850 of 1464) |############         | Elapsed Time: 7:18:34 ETA:   5:19:02"
     ]
    },
    {
     "name": "stdout",
     "output_type": "stream",
     "text": [
      "SPS: 66 Average Reward: -5.722880138835084\n"
     ]
    },
    {
     "name": "stderr",
     "output_type": "stream",
     "text": [
      " 58% (851 of 1464) |############         | Elapsed Time: 7:19:05 ETA:   5:15:32"
     ]
    },
    {
     "name": "stdout",
     "output_type": "stream",
     "text": [
      "SPS: 66 Average Reward: -5.284709967788523\n"
     ]
    },
    {
     "name": "stderr",
     "output_type": "stream",
     "text": [
      " 58% (852 of 1464) |############         | Elapsed Time: 7:19:36 ETA:   5:18:05"
     ]
    },
    {
     "name": "stdout",
     "output_type": "stream",
     "text": [
      "SPS: 66 Average Reward: -4.877780423586281\n"
     ]
    },
    {
     "name": "stderr",
     "output_type": "stream",
     "text": [
      " 58% (853 of 1464) |############         | Elapsed Time: 7:20:07 ETA:   5:17:07"
     ]
    },
    {
     "name": "stdout",
     "output_type": "stream",
     "text": [
      "SPS: 66 Average Reward: -5.258490085722196\n"
     ]
    },
    {
     "name": "stderr",
     "output_type": "stream",
     "text": [
      " 58% (854 of 1464) |############         | Elapsed Time: 7:20:38 ETA:   5:16:43"
     ]
    },
    {
     "name": "stdout",
     "output_type": "stream",
     "text": [
      "SPS: 66 Average Reward: -4.9091559380201515\n"
     ]
    },
    {
     "name": "stderr",
     "output_type": "stream",
     "text": [
      " 58% (855 of 1464) |############         | Elapsed Time: 7:21:09 ETA:   5:11:40"
     ]
    },
    {
     "name": "stdout",
     "output_type": "stream",
     "text": [
      "SPS: 66 Average Reward: -5.201383852768681\n"
     ]
    },
    {
     "name": "stderr",
     "output_type": "stream",
     "text": [
      " 58% (856 of 1464) |############         | Elapsed Time: 7:21:40 ETA:   5:16:09"
     ]
    },
    {
     "name": "stdout",
     "output_type": "stream",
     "text": [
      "SPS: 66 Average Reward: -6.18228462216885\n"
     ]
    },
    {
     "name": "stderr",
     "output_type": "stream",
     "text": [
      " 58% (857 of 1464) |############         | Elapsed Time: 7:22:11 ETA:   5:13:12"
     ]
    },
    {
     "name": "stdout",
     "output_type": "stream",
     "text": [
      "SPS: 66 Average Reward: -6.2358903408421815\n"
     ]
    },
    {
     "name": "stderr",
     "output_type": "stream",
     "text": [
      " 58% (858 of 1464) |############         | Elapsed Time: 7:22:42 ETA:   5:12:46"
     ]
    },
    {
     "name": "stdout",
     "output_type": "stream",
     "text": [
      "SPS: 66 Average Reward: -4.930692413452026\n"
     ]
    },
    {
     "name": "stderr",
     "output_type": "stream",
     "text": [
      " 58% (859 of 1464) |############         | Elapsed Time: 7:23:13 ETA:   5:14:47"
     ]
    },
    {
     "name": "stdout",
     "output_type": "stream",
     "text": [
      "SPS: 66 Average Reward: -5.58987854746186\n"
     ]
    },
    {
     "name": "stderr",
     "output_type": "stream",
     "text": [
      " 58% (860 of 1464) |############         | Elapsed Time: 7:23:44 ETA:   5:14:00"
     ]
    },
    {
     "name": "stdout",
     "output_type": "stream",
     "text": [
      "SPS: 66 Average Reward: -4.883543250304638\n"
     ]
    },
    {
     "name": "stderr",
     "output_type": "stream",
     "text": [
      " 58% (861 of 1464) |############         | Elapsed Time: 7:24:16 ETA:   5:12:43"
     ]
    },
    {
     "name": "stdout",
     "output_type": "stream",
     "text": [
      "SPS: 66 Average Reward: -5.546209543728955\n"
     ]
    },
    {
     "name": "stderr",
     "output_type": "stream",
     "text": [
      " 58% (862 of 1464) |############         | Elapsed Time: 7:24:47 ETA:   5:13:46"
     ]
    },
    {
     "name": "stdout",
     "output_type": "stream",
     "text": [
      "SPS: 66 Average Reward: -5.653664119184284\n"
     ]
    },
    {
     "name": "stderr",
     "output_type": "stream",
     "text": [
      " 58% (863 of 1464) |############         | Elapsed Time: 7:25:18 ETA:   5:11:25"
     ]
    },
    {
     "name": "stdout",
     "output_type": "stream",
     "text": [
      "SPS: 66 Average Reward: -5.440910250293129\n"
     ]
    },
    {
     "name": "stderr",
     "output_type": "stream",
     "text": [
      " 59% (864 of 1464) |############         | Elapsed Time: 7:25:49 ETA:   5:10:11"
     ]
    },
    {
     "name": "stdout",
     "output_type": "stream",
     "text": [
      "SPS: 66 Average Reward: -5.018104819682365\n"
     ]
    },
    {
     "name": "stderr",
     "output_type": "stream",
     "text": [
      " 59% (865 of 1464) |############         | Elapsed Time: 7:26:20 ETA:   5:11:08"
     ]
    },
    {
     "name": "stdout",
     "output_type": "stream",
     "text": [
      "SPS: 66 Average Reward: -6.455603651090557\n"
     ]
    },
    {
     "name": "stderr",
     "output_type": "stream",
     "text": [
      " 59% (866 of 1464) |############         | Elapsed Time: 7:26:51 ETA:   5:06:03"
     ]
    },
    {
     "name": "stdout",
     "output_type": "stream",
     "text": [
      "SPS: 66 Average Reward: -5.015448176694248\n"
     ]
    },
    {
     "name": "stderr",
     "output_type": "stream",
     "text": [
      " 59% (867 of 1464) |############         | Elapsed Time: 7:27:22 ETA:   5:08:23"
     ]
    },
    {
     "name": "stdout",
     "output_type": "stream",
     "text": [
      "SPS: 66 Average Reward: -6.528987849311415\n"
     ]
    },
    {
     "name": "stderr",
     "output_type": "stream",
     "text": [
      " 59% (868 of 1464) |############         | Elapsed Time: 7:27:53 ETA:   5:07:19"
     ]
    },
    {
     "name": "stdout",
     "output_type": "stream",
     "text": [
      "SPS: 66 Average Reward: -4.932641000173403\n"
     ]
    },
    {
     "name": "stderr",
     "output_type": "stream",
     "text": [
      " 59% (869 of 1464) |############         | Elapsed Time: 7:28:24 ETA:   5:08:13"
     ]
    },
    {
     "name": "stdout",
     "output_type": "stream",
     "text": [
      "SPS: 66 Average Reward: -5.390782683477273\n"
     ]
    },
    {
     "name": "stderr",
     "output_type": "stream",
     "text": [
      " 59% (870 of 1464) |############         | Elapsed Time: 7:28:55 ETA:   5:07:37"
     ]
    },
    {
     "name": "stdout",
     "output_type": "stream",
     "text": [
      "SPS: 66 Average Reward: -5.297112948616009\n"
     ]
    },
    {
     "name": "stderr",
     "output_type": "stream",
     "text": [
      " 59% (871 of 1464) |############         | Elapsed Time: 7:29:26 ETA:   5:04:26"
     ]
    },
    {
     "name": "stdout",
     "output_type": "stream",
     "text": [
      "SPS: 66 Average Reward: -5.061266833162491\n"
     ]
    },
    {
     "name": "stderr",
     "output_type": "stream",
     "text": [
      " 59% (872 of 1464) |############         | Elapsed Time: 7:29:57 ETA:   5:06:31"
     ]
    },
    {
     "name": "stdout",
     "output_type": "stream",
     "text": [
      "SPS: 66 Average Reward: -4.828265055990492\n"
     ]
    },
    {
     "name": "stderr",
     "output_type": "stream",
     "text": [
      " 59% (873 of 1464) |############         | Elapsed Time: 7:30:28 ETA:   5:06:55"
     ]
    },
    {
     "name": "stdout",
     "output_type": "stream",
     "text": [
      "SPS: 66 Average Reward: -6.0957744391307696\n"
     ]
    },
    {
     "name": "stderr",
     "output_type": "stream",
     "text": [
      " 59% (874 of 1464) |############         | Elapsed Time: 7:30:59 ETA:   5:06:58"
     ]
    },
    {
     "name": "stdout",
     "output_type": "stream",
     "text": [
      "SPS: 66 Average Reward: -5.042615505953053\n"
     ]
    },
    {
     "name": "stderr",
     "output_type": "stream",
     "text": [
      " 59% (875 of 1464) |############         | Elapsed Time: 7:31:30 ETA:   5:06:02"
     ]
    },
    {
     "name": "stdout",
     "output_type": "stream",
     "text": [
      "SPS: 66 Average Reward: -6.425236209782116\n"
     ]
    },
    {
     "name": "stderr",
     "output_type": "stream",
     "text": [
      " 59% (876 of 1464) |############         | Elapsed Time: 7:32:01 ETA:   5:04:05"
     ]
    },
    {
     "name": "stdout",
     "output_type": "stream",
     "text": [
      "SPS: 66 Average Reward: -4.836926181380049\n"
     ]
    },
    {
     "name": "stderr",
     "output_type": "stream",
     "text": [
      " 59% (877 of 1464) |############         | Elapsed Time: 7:32:33 ETA:   5:05:39"
     ]
    },
    {
     "name": "stdout",
     "output_type": "stream",
     "text": [
      "SPS: 66 Average Reward: -4.962348502831464\n"
     ]
    },
    {
     "name": "stderr",
     "output_type": "stream",
     "text": [
      " 59% (878 of 1464) |############         | Elapsed Time: 7:33:04 ETA:   5:05:21"
     ]
    },
    {
     "name": "stdout",
     "output_type": "stream",
     "text": [
      "SPS: 66 Average Reward: -5.873465589466902\n"
     ]
    },
    {
     "name": "stderr",
     "output_type": "stream",
     "text": [
      " 60% (879 of 1464) |############         | Elapsed Time: 7:33:35 ETA:   5:00:36"
     ]
    },
    {
     "name": "stdout",
     "output_type": "stream",
     "text": [
      "SPS: 66 Average Reward: -5.740254826937715\n"
     ]
    },
    {
     "name": "stderr",
     "output_type": "stream",
     "text": [
      " 60% (880 of 1464) |############         | Elapsed Time: 7:34:06 ETA:   5:03:24"
     ]
    },
    {
     "name": "stdout",
     "output_type": "stream",
     "text": [
      "SPS: 66 Average Reward: -4.7000021174603885\n"
     ]
    },
    {
     "name": "stderr",
     "output_type": "stream",
     "text": [
      " 60% (881 of 1464) |############         | Elapsed Time: 7:34:37 ETA:   5:02:55"
     ]
    },
    {
     "name": "stdout",
     "output_type": "stream",
     "text": [
      "SPS: 66 Average Reward: -4.783711248080859\n"
     ]
    },
    {
     "name": "stderr",
     "output_type": "stream",
     "text": [
      " 60% (882 of 1464) |############         | Elapsed Time: 7:35:08 ETA:   5:02:10"
     ]
    },
    {
     "name": "stdout",
     "output_type": "stream",
     "text": [
      "SPS: 66 Average Reward: -5.544590478540947\n"
     ]
    },
    {
     "name": "stderr",
     "output_type": "stream",
     "text": [
      " 60% (883 of 1464) |############         | Elapsed Time: 7:35:39 ETA:   5:02:17"
     ]
    },
    {
     "name": "stdout",
     "output_type": "stream",
     "text": [
      "SPS: 66 Average Reward: -6.233339802169244\n"
     ]
    },
    {
     "name": "stderr",
     "output_type": "stream",
     "text": [
      " 60% (884 of 1464) |############         | Elapsed Time: 7:36:11 ETA:   5:01:14"
     ]
    },
    {
     "name": "stdout",
     "output_type": "stream",
     "text": [
      "SPS: 66 Average Reward: -5.910475391442488\n"
     ]
    },
    {
     "name": "stderr",
     "output_type": "stream",
     "text": [
      " 60% (885 of 1464) |############         | Elapsed Time: 7:36:42 ETA:   5:01:06"
     ]
    },
    {
     "name": "stdout",
     "output_type": "stream",
     "text": [
      "SPS: 66 Average Reward: -5.0937880794423664\n"
     ]
    },
    {
     "name": "stderr",
     "output_type": "stream",
     "text": [
      " 60% (886 of 1464) |############         | Elapsed Time: 7:37:13 ETA:   4:59:48"
     ]
    },
    {
     "name": "stdout",
     "output_type": "stream",
     "text": [
      "SPS: 66 Average Reward: -5.000872462793237\n"
     ]
    },
    {
     "name": "stderr",
     "output_type": "stream",
     "text": [
      " 60% (887 of 1464) |############         | Elapsed Time: 7:37:44 ETA:   5:00:08"
     ]
    },
    {
     "name": "stdout",
     "output_type": "stream",
     "text": [
      "SPS: 66 Average Reward: -4.422437980860995\n"
     ]
    },
    {
     "name": "stderr",
     "output_type": "stream",
     "text": [
      " 60% (888 of 1464) |############         | Elapsed Time: 7:38:15 ETA:   4:56:49"
     ]
    },
    {
     "name": "stdout",
     "output_type": "stream",
     "text": [
      "SPS: 66 Average Reward: -5.200700944931876\n"
     ]
    },
    {
     "name": "stderr",
     "output_type": "stream",
     "text": [
      " 60% (889 of 1464) |############         | Elapsed Time: 7:38:46 ETA:   4:59:02"
     ]
    },
    {
     "name": "stdout",
     "output_type": "stream",
     "text": [
      "SPS: 66 Average Reward: -5.607993734811285\n"
     ]
    },
    {
     "name": "stderr",
     "output_type": "stream",
     "text": [
      " 60% (890 of 1464) |############         | Elapsed Time: 7:39:17 ETA:   4:57:44"
     ]
    },
    {
     "name": "stdout",
     "output_type": "stream",
     "text": [
      "SPS: 66 Average Reward: -5.679493414890451\n"
     ]
    },
    {
     "name": "stderr",
     "output_type": "stream",
     "text": [
      " 60% (891 of 1464) |############         | Elapsed Time: 7:39:48 ETA:   4:52:57"
     ]
    },
    {
     "name": "stdout",
     "output_type": "stream",
     "text": [
      "SPS: 66 Average Reward: -5.416134224764794\n"
     ]
    },
    {
     "name": "stderr",
     "output_type": "stream",
     "text": [
      " 60% (892 of 1464) |############         | Elapsed Time: 7:40:19 ETA:   4:54:05"
     ]
    },
    {
     "name": "stdout",
     "output_type": "stream",
     "text": [
      "SPS: 66 Average Reward: -4.710289053368047\n"
     ]
    },
    {
     "name": "stderr",
     "output_type": "stream",
     "text": [
      " 60% (893 of 1464) |############         | Elapsed Time: 7:40:50 ETA:   4:54:51"
     ]
    },
    {
     "name": "stdout",
     "output_type": "stream",
     "text": [
      "SPS: 66 Average Reward: -4.941314359126081\n"
     ]
    },
    {
     "name": "stderr",
     "output_type": "stream",
     "text": [
      " 61% (894 of 1464) |############         | Elapsed Time: 7:41:21 ETA:   4:55:26"
     ]
    },
    {
     "name": "stdout",
     "output_type": "stream",
     "text": [
      "SPS: 66 Average Reward: -5.328883026111197\n"
     ]
    },
    {
     "name": "stderr",
     "output_type": "stream",
     "text": [
      " 61% (895 of 1464) |############         | Elapsed Time: 7:41:52 ETA:   4:54:55"
     ]
    },
    {
     "name": "stdout",
     "output_type": "stream",
     "text": [
      "SPS: 66 Average Reward: -4.9119461272715395\n"
     ]
    },
    {
     "name": "stderr",
     "output_type": "stream",
     "text": [
      " 61% (896 of 1464) |############         | Elapsed Time: 7:42:23 ETA:   4:55:16"
     ]
    },
    {
     "name": "stdout",
     "output_type": "stream",
     "text": [
      "SPS: 66 Average Reward: -3.6005627977204155\n"
     ]
    },
    {
     "name": "stderr",
     "output_type": "stream",
     "text": [
      " 61% (897 of 1464) |############         | Elapsed Time: 7:42:54 ETA:   4:53:57"
     ]
    },
    {
     "name": "stdout",
     "output_type": "stream",
     "text": [
      "SPS: 66 Average Reward: -5.012127248108341\n"
     ]
    },
    {
     "name": "stderr",
     "output_type": "stream",
     "text": [
      " 61% (898 of 1464) |############         | Elapsed Time: 7:43:25 ETA:   4:48:16"
     ]
    },
    {
     "name": "stdout",
     "output_type": "stream",
     "text": [
      "SPS: 66 Average Reward: -4.949745692535988\n"
     ]
    },
    {
     "name": "stderr",
     "output_type": "stream",
     "text": [
      " 61% (899 of 1464) |############         | Elapsed Time: 7:43:56 ETA:   4:51:33"
     ]
    },
    {
     "name": "stdout",
     "output_type": "stream",
     "text": [
      "SPS: 66 Average Reward: -5.58850269270682\n"
     ]
    },
    {
     "name": "stderr",
     "output_type": "stream",
     "text": [
      " 61% (900 of 1464) |############         | Elapsed Time: 7:44:27 ETA:   4:49:16"
     ]
    },
    {
     "name": "stdout",
     "output_type": "stream",
     "text": [
      "SPS: 66 Average Reward: -5.119625730478807\n"
     ]
    },
    {
     "name": "stderr",
     "output_type": "stream",
     "text": [
      " 61% (901 of 1464) |############         | Elapsed Time: 7:44:58 ETA:   4:52:33"
     ]
    },
    {
     "name": "stdout",
     "output_type": "stream",
     "text": [
      "SPS: 66 Average Reward: -5.027402807665595\n"
     ]
    },
    {
     "name": "stderr",
     "output_type": "stream",
     "text": [
      " 61% (902 of 1464) |############         | Elapsed Time: 7:45:29 ETA:   4:52:11"
     ]
    },
    {
     "name": "stdout",
     "output_type": "stream",
     "text": [
      "SPS: 66 Average Reward: -5.009214111719847\n"
     ]
    },
    {
     "name": "stderr",
     "output_type": "stream",
     "text": [
      " 61% (903 of 1464) |############         | Elapsed Time: 7:46:00 ETA:   4:51:42"
     ]
    },
    {
     "name": "stdout",
     "output_type": "stream",
     "text": [
      "SPS: 66 Average Reward: -4.726728146891573\n"
     ]
    },
    {
     "name": "stderr",
     "output_type": "stream",
     "text": [
      " 61% (904 of 1464) |############         | Elapsed Time: 7:46:31 ETA:   4:50:28"
     ]
    },
    {
     "name": "stdout",
     "output_type": "stream",
     "text": [
      "SPS: 66 Average Reward: -5.64996050362077\n"
     ]
    },
    {
     "name": "stderr",
     "output_type": "stream",
     "text": [
      " 61% (905 of 1464) |############         | Elapsed Time: 7:47:02 ETA:   4:49:39"
     ]
    },
    {
     "name": "stdout",
     "output_type": "stream",
     "text": [
      "SPS: 66 Average Reward: -4.831056631322114\n"
     ]
    },
    {
     "name": "stderr",
     "output_type": "stream",
     "text": [
      " 61% (906 of 1464) |############         | Elapsed Time: 7:47:34 ETA:   4:49:43"
     ]
    },
    {
     "name": "stdout",
     "output_type": "stream",
     "text": [
      "SPS: 66 Average Reward: -6.087521154886678\n"
     ]
    },
    {
     "name": "stderr",
     "output_type": "stream",
     "text": [
      " 61% (907 of 1464) |#############        | Elapsed Time: 7:48:05 ETA:   4:48:31"
     ]
    },
    {
     "name": "stdout",
     "output_type": "stream",
     "text": [
      "SPS: 66 Average Reward: -5.758729824910774\n"
     ]
    },
    {
     "name": "stderr",
     "output_type": "stream",
     "text": [
      " 62% (908 of 1464) |#############        | Elapsed Time: 7:48:36 ETA:   4:48:21"
     ]
    },
    {
     "name": "stdout",
     "output_type": "stream",
     "text": [
      "SPS: 66 Average Reward: -4.714757287609492\n"
     ]
    },
    {
     "name": "stderr",
     "output_type": "stream",
     "text": [
      " 62% (909 of 1464) |#############        | Elapsed Time: 7:49:07 ETA:   4:48:37"
     ]
    },
    {
     "name": "stdout",
     "output_type": "stream",
     "text": [
      "SPS: 66 Average Reward: -5.37948616625404\n"
     ]
    },
    {
     "name": "stderr",
     "output_type": "stream",
     "text": [
      " 62% (910 of 1464) |#############        | Elapsed Time: 7:49:38 ETA:   4:47:24"
     ]
    },
    {
     "name": "stdout",
     "output_type": "stream",
     "text": [
      "SPS: 66 Average Reward: -4.279946355751204\n"
     ]
    },
    {
     "name": "stderr",
     "output_type": "stream",
     "text": [
      " 62% (911 of 1464) |#############        | Elapsed Time: 7:50:09 ETA:   4:46:03"
     ]
    },
    {
     "name": "stdout",
     "output_type": "stream",
     "text": [
      "SPS: 66 Average Reward: -5.943052973727629\n"
     ]
    },
    {
     "name": "stderr",
     "output_type": "stream",
     "text": [
      " 62% (912 of 1464) |#############        | Elapsed Time: 7:50:40 ETA:   4:43:57"
     ]
    },
    {
     "name": "stdout",
     "output_type": "stream",
     "text": [
      "SPS: 66 Average Reward: -4.591208044446347\n"
     ]
    },
    {
     "name": "stderr",
     "output_type": "stream",
     "text": [
      " 62% (913 of 1464) |#############        | Elapsed Time: 7:51:11 ETA:   4:45:35"
     ]
    },
    {
     "name": "stdout",
     "output_type": "stream",
     "text": [
      "SPS: 66 Average Reward: -6.7424717138907075\n"
     ]
    },
    {
     "name": "stderr",
     "output_type": "stream",
     "text": [
      " 62% (914 of 1464) |#############        | Elapsed Time: 7:51:42 ETA:   4:45:12"
     ]
    },
    {
     "name": "stdout",
     "output_type": "stream",
     "text": [
      "SPS: 66 Average Reward: -5.313463013754518\n"
     ]
    },
    {
     "name": "stderr",
     "output_type": "stream",
     "text": [
      " 62% (915 of 1464) |#############        | Elapsed Time: 7:52:13 ETA:   4:40:00"
     ]
    },
    {
     "name": "stdout",
     "output_type": "stream",
     "text": [
      "SPS: 66 Average Reward: -5.181239176896802\n"
     ]
    },
    {
     "name": "stderr",
     "output_type": "stream",
     "text": [
      " 62% (916 of 1464) |#############        | Elapsed Time: 7:52:44 ETA:   4:41:09"
     ]
    },
    {
     "name": "stdout",
     "output_type": "stream",
     "text": [
      "SPS: 66 Average Reward: -5.29200373735551\n"
     ]
    },
    {
     "name": "stderr",
     "output_type": "stream",
     "text": [
      " 62% (917 of 1464) |#############        | Elapsed Time: 7:53:15 ETA:   4:42:54"
     ]
    },
    {
     "name": "stdout",
     "output_type": "stream",
     "text": [
      "SPS: 66 Average Reward: -5.287546871292959\n"
     ]
    },
    {
     "name": "stderr",
     "output_type": "stream",
     "text": [
      " 62% (918 of 1464) |#############        | Elapsed Time: 7:53:45 ETA:   4:39:32"
     ]
    },
    {
     "name": "stdout",
     "output_type": "stream",
     "text": [
      "SPS: 66 Average Reward: -7.4708672158466705\n"
     ]
    },
    {
     "name": "stderr",
     "output_type": "stream",
     "text": [
      " 62% (919 of 1464) |#############        | Elapsed Time: 7:54:16 ETA:   4:42:47"
     ]
    },
    {
     "name": "stdout",
     "output_type": "stream",
     "text": [
      "SPS: 66 Average Reward: -5.30893887726833\n"
     ]
    },
    {
     "name": "stderr",
     "output_type": "stream",
     "text": [
      " 62% (920 of 1464) |#############        | Elapsed Time: 7:54:48 ETA:   4:41:50"
     ]
    },
    {
     "name": "stdout",
     "output_type": "stream",
     "text": [
      "SPS: 66 Average Reward: -5.3741174306510295\n"
     ]
    },
    {
     "name": "stderr",
     "output_type": "stream",
     "text": [
      " 62% (921 of 1464) |#############        | Elapsed Time: 7:55:19 ETA:   4:41:53"
     ]
    },
    {
     "name": "stdout",
     "output_type": "stream",
     "text": [
      "SPS: 66 Average Reward: -4.3279106618171275\n"
     ]
    },
    {
     "name": "stderr",
     "output_type": "stream",
     "text": [
      " 62% (922 of 1464) |#############        | Elapsed Time: 7:55:50 ETA:   4:39:13"
     ]
    },
    {
     "name": "stdout",
     "output_type": "stream",
     "text": [
      "SPS: 66 Average Reward: -5.137545444214836\n"
     ]
    },
    {
     "name": "stderr",
     "output_type": "stream",
     "text": [
      " 63% (923 of 1464) |#############        | Elapsed Time: 7:56:21 ETA:   4:40:21"
     ]
    },
    {
     "name": "stdout",
     "output_type": "stream",
     "text": [
      "SPS: 66 Average Reward: -5.909674103384801\n"
     ]
    },
    {
     "name": "stderr",
     "output_type": "stream",
     "text": [
      " 63% (924 of 1464) |#############        | Elapsed Time: 7:56:52 ETA:   4:41:08"
     ]
    },
    {
     "name": "stdout",
     "output_type": "stream",
     "text": [
      "SPS: 66 Average Reward: -5.506222711320084\n"
     ]
    },
    {
     "name": "stderr",
     "output_type": "stream",
     "text": [
      " 63% (925 of 1464) |#############        | Elapsed Time: 7:57:23 ETA:   4:40:31"
     ]
    },
    {
     "name": "stdout",
     "output_type": "stream",
     "text": [
      "SPS: 66 Average Reward: -5.395056683212661\n"
     ]
    },
    {
     "name": "stderr",
     "output_type": "stream",
     "text": [
      " 63% (926 of 1464) |#############        | Elapsed Time: 7:57:54 ETA:   4:39:13"
     ]
    },
    {
     "name": "stdout",
     "output_type": "stream",
     "text": [
      "SPS: 66 Average Reward: -4.806281352321828\n"
     ]
    },
    {
     "name": "stderr",
     "output_type": "stream",
     "text": [
      " 63% (927 of 1464) |#############        | Elapsed Time: 7:58:25 ETA:   4:35:33"
     ]
    },
    {
     "name": "stdout",
     "output_type": "stream",
     "text": [
      "SPS: 66 Average Reward: -4.570178338513037\n"
     ]
    },
    {
     "name": "stderr",
     "output_type": "stream",
     "text": [
      " 63% (928 of 1464) |#############        | Elapsed Time: 7:58:56 ETA:   4:38:27"
     ]
    },
    {
     "name": "stdout",
     "output_type": "stream",
     "text": [
      "SPS: 66 Average Reward: -5.984084023085285\n"
     ]
    },
    {
     "name": "stderr",
     "output_type": "stream",
     "text": [
      " 63% (929 of 1464) |#############        | Elapsed Time: 7:59:27 ETA:   4:38:12"
     ]
    },
    {
     "name": "stdout",
     "output_type": "stream",
     "text": [
      "SPS: 66 Average Reward: -5.03154357967616\n"
     ]
    },
    {
     "name": "stderr",
     "output_type": "stream",
     "text": [
      " 63% (930 of 1464) |#############        | Elapsed Time: 7:59:59 ETA:   4:36:33"
     ]
    },
    {
     "name": "stdout",
     "output_type": "stream",
     "text": [
      "SPS: 66 Average Reward: -4.676499178664463\n"
     ]
    },
    {
     "name": "stderr",
     "output_type": "stream",
     "text": [
      " 63% (931 of 1464) |#############        | Elapsed Time: 8:00:30 ETA:   4:36:45"
     ]
    },
    {
     "name": "stdout",
     "output_type": "stream",
     "text": [
      "SPS: 66 Average Reward: -4.821639595091221\n"
     ]
    },
    {
     "name": "stderr",
     "output_type": "stream",
     "text": [
      " 63% (932 of 1464) |#############        | Elapsed Time: 8:01:01 ETA:   4:35:09"
     ]
    },
    {
     "name": "stdout",
     "output_type": "stream",
     "text": [
      "SPS: 66 Average Reward: -4.574279503141759\n"
     ]
    },
    {
     "name": "stderr",
     "output_type": "stream",
     "text": [
      " 63% (933 of 1464) |#############        | Elapsed Time: 8:01:32 ETA:   4:35:56"
     ]
    },
    {
     "name": "stdout",
     "output_type": "stream",
     "text": [
      "SPS: 66 Average Reward: -4.87250965152622\n"
     ]
    },
    {
     "name": "stderr",
     "output_type": "stream",
     "text": [
      " 63% (934 of 1464) |#############        | Elapsed Time: 8:02:03 ETA:   4:35:33"
     ]
    },
    {
     "name": "stdout",
     "output_type": "stream",
     "text": [
      "SPS: 66 Average Reward: -5.229806321447421\n"
     ]
    },
    {
     "name": "stderr",
     "output_type": "stream",
     "text": [
      " 63% (935 of 1464) |#############        | Elapsed Time: 8:02:34 ETA:   4:34:29"
     ]
    },
    {
     "name": "stdout",
     "output_type": "stream",
     "text": [
      "SPS: 66 Average Reward: -5.5440461343155905\n"
     ]
    },
    {
     "name": "stderr",
     "output_type": "stream",
     "text": [
      " 63% (936 of 1464) |#############        | Elapsed Time: 8:03:05 ETA:   4:35:06"
     ]
    },
    {
     "name": "stdout",
     "output_type": "stream",
     "text": [
      "SPS: 66 Average Reward: -5.587685333482953\n"
     ]
    },
    {
     "name": "stderr",
     "output_type": "stream",
     "text": [
      " 64% (937 of 1464) |#############        | Elapsed Time: 8:03:37 ETA:   4:33:34"
     ]
    },
    {
     "name": "stdout",
     "output_type": "stream",
     "text": [
      "SPS: 66 Average Reward: -5.173993652072917\n"
     ]
    },
    {
     "name": "stderr",
     "output_type": "stream",
     "text": [
      " 64% (938 of 1464) |#############        | Elapsed Time: 8:04:08 ETA:   4:32:57"
     ]
    },
    {
     "name": "stdout",
     "output_type": "stream",
     "text": [
      "SPS: 66 Average Reward: -5.592388408267637\n"
     ]
    },
    {
     "name": "stderr",
     "output_type": "stream",
     "text": [
      " 64% (939 of 1464) |#############        | Elapsed Time: 8:04:39 ETA:   4:33:18"
     ]
    },
    {
     "name": "stdout",
     "output_type": "stream",
     "text": [
      "SPS: 66 Average Reward: -3.6113725401589196\n"
     ]
    },
    {
     "name": "stderr",
     "output_type": "stream",
     "text": [
      " 64% (940 of 1464) |#############        | Elapsed Time: 8:05:10 ETA:   4:31:22"
     ]
    },
    {
     "name": "stdout",
     "output_type": "stream",
     "text": [
      "SPS: 66 Average Reward: -5.51312493304748\n"
     ]
    },
    {
     "name": "stderr",
     "output_type": "stream",
     "text": [
      " 64% (941 of 1464) |#############        | Elapsed Time: 8:05:41 ETA:   4:32:01"
     ]
    },
    {
     "name": "stdout",
     "output_type": "stream",
     "text": [
      "SPS: 66 Average Reward: -4.800719344282369\n"
     ]
    },
    {
     "name": "stderr",
     "output_type": "stream",
     "text": [
      " 64% (942 of 1464) |#############        | Elapsed Time: 8:06:12 ETA:   4:31:21"
     ]
    },
    {
     "name": "stdout",
     "output_type": "stream",
     "text": [
      "SPS: 66 Average Reward: -5.3644299924869605\n"
     ]
    },
    {
     "name": "stderr",
     "output_type": "stream",
     "text": [
      " 64% (943 of 1464) |#############        | Elapsed Time: 8:06:44 ETA:   4:31:14"
     ]
    },
    {
     "name": "stdout",
     "output_type": "stream",
     "text": [
      "SPS: 66 Average Reward: -4.900024605346143\n"
     ]
    },
    {
     "name": "stderr",
     "output_type": "stream",
     "text": [
      " 64% (944 of 1464) |#############        | Elapsed Time: 8:07:15 ETA:   4:30:32"
     ]
    },
    {
     "name": "stdout",
     "output_type": "stream",
     "text": [
      "SPS: 66 Average Reward: -5.230262031524229\n"
     ]
    },
    {
     "name": "stderr",
     "output_type": "stream",
     "text": [
      " 64% (945 of 1464) |#############        | Elapsed Time: 8:07:46 ETA:   4:27:03"
     ]
    },
    {
     "name": "stdout",
     "output_type": "stream",
     "text": [
      "SPS: 66 Average Reward: -5.648646569319554\n"
     ]
    },
    {
     "name": "stderr",
     "output_type": "stream",
     "text": [
      " 64% (946 of 1464) |#############        | Elapsed Time: 8:08:17 ETA:   4:29:07"
     ]
    },
    {
     "name": "stdout",
     "output_type": "stream",
     "text": [
      "SPS: 66 Average Reward: -4.444756748684097\n"
     ]
    },
    {
     "name": "stderr",
     "output_type": "stream",
     "text": [
      " 64% (947 of 1464) |#############        | Elapsed Time: 8:08:48 ETA:   4:26:56"
     ]
    },
    {
     "name": "stdout",
     "output_type": "stream",
     "text": [
      "SPS: 66 Average Reward: -4.762210316671461\n"
     ]
    },
    {
     "name": "stderr",
     "output_type": "stream",
     "text": [
      " 64% (948 of 1464) |#############        | Elapsed Time: 8:09:19 ETA:   4:27:24"
     ]
    },
    {
     "name": "stdout",
     "output_type": "stream",
     "text": [
      "SPS: 66 Average Reward: -5.533178578537403\n"
     ]
    },
    {
     "name": "stderr",
     "output_type": "stream",
     "text": [
      " 64% (949 of 1464) |#############        | Elapsed Time: 8:09:50 ETA:   4:27:44"
     ]
    },
    {
     "name": "stdout",
     "output_type": "stream",
     "text": [
      "SPS: 66 Average Reward: -4.778605972623266\n"
     ]
    },
    {
     "name": "stderr",
     "output_type": "stream",
     "text": [
      " 64% (950 of 1464) |#############        | Elapsed Time: 8:10:21 ETA:   4:20:02"
     ]
    },
    {
     "name": "stdout",
     "output_type": "stream",
     "text": [
      "SPS: 66 Average Reward: -4.783367787778109\n"
     ]
    },
    {
     "name": "stderr",
     "output_type": "stream",
     "text": [
      " 64% (951 of 1464) |#############        | Elapsed Time: 8:10:51 ETA:   4:21:50"
     ]
    },
    {
     "name": "stdout",
     "output_type": "stream",
     "text": [
      "SPS: 66 Average Reward: -4.526467831886102\n"
     ]
    },
    {
     "name": "stderr",
     "output_type": "stream",
     "text": [
      " 65% (952 of 1464) |#############        | Elapsed Time: 8:11:22 ETA:   4:25:02"
     ]
    },
    {
     "name": "stdout",
     "output_type": "stream",
     "text": [
      "SPS: 66 Average Reward: -5.1570223313314125\n"
     ]
    },
    {
     "name": "stderr",
     "output_type": "stream",
     "text": [
      " 65% (953 of 1464) |#############        | Elapsed Time: 8:11:53 ETA:   4:23:38"
     ]
    },
    {
     "name": "stdout",
     "output_type": "stream",
     "text": [
      "SPS: 66 Average Reward: -5.353306354159637\n"
     ]
    },
    {
     "name": "stderr",
     "output_type": "stream",
     "text": [
      " 65% (954 of 1464) |#############        | Elapsed Time: 8:12:24 ETA:   4:23:33"
     ]
    },
    {
     "name": "stdout",
     "output_type": "stream",
     "text": [
      "SPS: 66 Average Reward: -6.537822423225596\n"
     ]
    },
    {
     "name": "stderr",
     "output_type": "stream",
     "text": [
      " 65% (955 of 1464) |#############        | Elapsed Time: 8:12:55 ETA:   4:19:48"
     ]
    },
    {
     "name": "stdout",
     "output_type": "stream",
     "text": [
      "SPS: 66 Average Reward: -5.447835974182961\n"
     ]
    },
    {
     "name": "stderr",
     "output_type": "stream",
     "text": [
      " 65% (956 of 1464) |#############        | Elapsed Time: 8:13:26 ETA:   4:23:22"
     ]
    },
    {
     "name": "stdout",
     "output_type": "stream",
     "text": [
      "SPS: 66 Average Reward: -6.006959612947787\n"
     ]
    },
    {
     "name": "stderr",
     "output_type": "stream",
     "text": [
      " 65% (957 of 1464) |#############        | Elapsed Time: 8:13:57 ETA:   4:24:17"
     ]
    },
    {
     "name": "stdout",
     "output_type": "stream",
     "text": [
      "SPS: 66 Average Reward: -4.644981467249696\n"
     ]
    },
    {
     "name": "stderr",
     "output_type": "stream",
     "text": [
      " 65% (958 of 1464) |#############        | Elapsed Time: 8:14:29 ETA:   4:23:33"
     ]
    },
    {
     "name": "stdout",
     "output_type": "stream",
     "text": [
      "SPS: 66 Average Reward: -5.934356858047938\n"
     ]
    },
    {
     "name": "stderr",
     "output_type": "stream",
     "text": [
      " 65% (959 of 1464) |#############        | Elapsed Time: 8:15:00 ETA:   4:23:08"
     ]
    },
    {
     "name": "stdout",
     "output_type": "stream",
     "text": [
      "SPS: 66 Average Reward: -4.978172597954553\n"
     ]
    },
    {
     "name": "stderr",
     "output_type": "stream",
     "text": [
      " 65% (960 of 1464) |#############        | Elapsed Time: 8:15:31 ETA:   4:22:37"
     ]
    },
    {
     "name": "stdout",
     "output_type": "stream",
     "text": [
      "SPS: 66 Average Reward: -5.598757696098829\n"
     ]
    },
    {
     "name": "stderr",
     "output_type": "stream",
     "text": [
      " 65% (961 of 1464) |#############        | Elapsed Time: 8:16:02 ETA:   4:22:31"
     ]
    },
    {
     "name": "stdout",
     "output_type": "stream",
     "text": [
      "SPS: 66 Average Reward: -4.380671867253029\n"
     ]
    },
    {
     "name": "stderr",
     "output_type": "stream",
     "text": [
      " 65% (962 of 1464) |#############        | Elapsed Time: 8:16:34 ETA:   4:21:24"
     ]
    },
    {
     "name": "stdout",
     "output_type": "stream",
     "text": [
      "SPS: 66 Average Reward: -5.744722052032339\n"
     ]
    },
    {
     "name": "stderr",
     "output_type": "stream",
     "text": [
      " 65% (963 of 1464) |#############        | Elapsed Time: 8:17:05 ETA:   4:18:58"
     ]
    },
    {
     "name": "stdout",
     "output_type": "stream",
     "text": [
      "SPS: 66 Average Reward: -5.067457879803458\n"
     ]
    },
    {
     "name": "stderr",
     "output_type": "stream",
     "text": [
      " 65% (964 of 1464) |#############        | Elapsed Time: 8:17:36 ETA:   4:19:52"
     ]
    },
    {
     "name": "stdout",
     "output_type": "stream",
     "text": [
      "SPS: 66 Average Reward: -4.733950642181251\n"
     ]
    },
    {
     "name": "stderr",
     "output_type": "stream",
     "text": [
      " 65% (965 of 1464) |#############        | Elapsed Time: 8:18:07 ETA:   4:19:40"
     ]
    },
    {
     "name": "stdout",
     "output_type": "stream",
     "text": [
      "SPS: 66 Average Reward: -6.847651780303742\n"
     ]
    },
    {
     "name": "stderr",
     "output_type": "stream",
     "text": [
      " 65% (966 of 1464) |#############        | Elapsed Time: 8:18:38 ETA:   4:18:40"
     ]
    },
    {
     "name": "stdout",
     "output_type": "stream",
     "text": [
      "SPS: 66 Average Reward: -5.952646300794707\n"
     ]
    },
    {
     "name": "stderr",
     "output_type": "stream",
     "text": [
      " 66% (967 of 1464) |#############        | Elapsed Time: 8:19:09 ETA:   4:18:11"
     ]
    },
    {
     "name": "stdout",
     "output_type": "stream",
     "text": [
      "SPS: 66 Average Reward: -4.916023729845201\n"
     ]
    },
    {
     "name": "stderr",
     "output_type": "stream",
     "text": [
      " 66% (968 of 1464) |#############        | Elapsed Time: 8:19:40 ETA:   4:17:22"
     ]
    },
    {
     "name": "stdout",
     "output_type": "stream",
     "text": [
      "SPS: 66 Average Reward: -5.114397077919355\n"
     ]
    },
    {
     "name": "stderr",
     "output_type": "stream",
     "text": [
      " 66% (969 of 1464) |#############        | Elapsed Time: 8:20:12 ETA:   4:16:54"
     ]
    },
    {
     "name": "stdout",
     "output_type": "stream",
     "text": [
      "SPS: 66 Average Reward: -5.137008759925565\n"
     ]
    },
    {
     "name": "stderr",
     "output_type": "stream",
     "text": [
      " 66% (970 of 1464) |#############        | Elapsed Time: 8:20:43 ETA:   4:16:23"
     ]
    },
    {
     "name": "stdout",
     "output_type": "stream",
     "text": [
      "SPS: 66 Average Reward: -5.427317960343786\n"
     ]
    },
    {
     "name": "stderr",
     "output_type": "stream",
     "text": [
      " 66% (971 of 1464) |#############        | Elapsed Time: 8:21:14 ETA:   4:13:17"
     ]
    },
    {
     "name": "stdout",
     "output_type": "stream",
     "text": [
      "SPS: 66 Average Reward: -4.649019563087506\n"
     ]
    },
    {
     "name": "stderr",
     "output_type": "stream",
     "text": [
      " 66% (972 of 1464) |#############        | Elapsed Time: 8:21:45 ETA:   4:16:14"
     ]
    },
    {
     "name": "stdout",
     "output_type": "stream",
     "text": [
      "SPS: 66 Average Reward: -4.583015176257283\n"
     ]
    },
    {
     "name": "stderr",
     "output_type": "stream",
     "text": [
      " 66% (973 of 1464) |#############        | Elapsed Time: 8:22:16 ETA:   4:15:44"
     ]
    },
    {
     "name": "stdout",
     "output_type": "stream",
     "text": [
      "SPS: 66 Average Reward: -4.926457143704206\n"
     ]
    },
    {
     "name": "stderr",
     "output_type": "stream",
     "text": [
      " 66% (974 of 1464) |#############        | Elapsed Time: 8:22:47 ETA:   4:13:29"
     ]
    },
    {
     "name": "stdout",
     "output_type": "stream",
     "text": [
      "SPS: 66 Average Reward: -5.323331932020382\n"
     ]
    },
    {
     "name": "stderr",
     "output_type": "stream",
     "text": [
      " 66% (975 of 1464) |#############        | Elapsed Time: 8:23:18 ETA:   4:14:24"
     ]
    },
    {
     "name": "stdout",
     "output_type": "stream",
     "text": [
      "SPS: 66 Average Reward: -4.997449627894783\n"
     ]
    },
    {
     "name": "stderr",
     "output_type": "stream",
     "text": [
      " 66% (976 of 1464) |##############       | Elapsed Time: 8:23:50 ETA:   4:13:45"
     ]
    },
    {
     "name": "stdout",
     "output_type": "stream",
     "text": [
      "SPS: 66 Average Reward: -5.106105830889432\n"
     ]
    },
    {
     "name": "stderr",
     "output_type": "stream",
     "text": [
      " 66% (977 of 1464) |##############       | Elapsed Time: 8:24:21 ETA:   4:13:29"
     ]
    },
    {
     "name": "stdout",
     "output_type": "stream",
     "text": [
      "SPS: 66 Average Reward: -4.5237679152946155\n"
     ]
    },
    {
     "name": "stderr",
     "output_type": "stream",
     "text": [
      " 66% (978 of 1464) |##############       | Elapsed Time: 8:24:52 ETA:   4:12:29"
     ]
    },
    {
     "name": "stdout",
     "output_type": "stream",
     "text": [
      "SPS: 66 Average Reward: -4.83046773728366\n"
     ]
    },
    {
     "name": "stderr",
     "output_type": "stream",
     "text": [
      " 66% (979 of 1464) |##############       | Elapsed Time: 8:25:23 ETA:   4:12:33"
     ]
    },
    {
     "name": "stdout",
     "output_type": "stream",
     "text": [
      "SPS: 66 Average Reward: -5.356094740564163\n"
     ]
    },
    {
     "name": "stderr",
     "output_type": "stream",
     "text": [
      " 66% (980 of 1464) |##############       | Elapsed Time: 8:25:54 ETA:   4:12:11"
     ]
    },
    {
     "name": "stdout",
     "output_type": "stream",
     "text": [
      "SPS: 66 Average Reward: -5.045651967742471\n"
     ]
    },
    {
     "name": "stderr",
     "output_type": "stream",
     "text": [
      " 67% (981 of 1464) |##############       | Elapsed Time: 8:26:26 ETA:   4:11:11"
     ]
    },
    {
     "name": "stdout",
     "output_type": "stream",
     "text": [
      "SPS: 66 Average Reward: -4.868923846028736\n"
     ]
    },
    {
     "name": "stderr",
     "output_type": "stream",
     "text": [
      " 67% (982 of 1464) |##############       | Elapsed Time: 8:26:57 ETA:   4:11:28"
     ]
    },
    {
     "name": "stdout",
     "output_type": "stream",
     "text": [
      "SPS: 66 Average Reward: -5.170550668047695\n"
     ]
    },
    {
     "name": "stderr",
     "output_type": "stream",
     "text": [
      " 67% (983 of 1464) |##############       | Elapsed Time: 8:27:28 ETA:   4:10:27"
     ]
    },
    {
     "name": "stdout",
     "output_type": "stream",
     "text": [
      "SPS: 66 Average Reward: -5.01380145634681\n"
     ]
    },
    {
     "name": "stderr",
     "output_type": "stream",
     "text": [
      " 67% (984 of 1464) |##############       | Elapsed Time: 8:27:59 ETA:   4:09:22"
     ]
    },
    {
     "name": "stdout",
     "output_type": "stream",
     "text": [
      "SPS: 66 Average Reward: -5.14860268791524\n"
     ]
    },
    {
     "name": "stderr",
     "output_type": "stream",
     "text": [
      " 67% (985 of 1464) |##############       | Elapsed Time: 8:28:31 ETA:   4:09:58"
     ]
    },
    {
     "name": "stdout",
     "output_type": "stream",
     "text": [
      "SPS: 66 Average Reward: -5.042139326686195\n"
     ]
    },
    {
     "name": "stderr",
     "output_type": "stream",
     "text": [
      " 67% (986 of 1464) |##############       | Elapsed Time: 8:29:02 ETA:   4:08:29"
     ]
    },
    {
     "name": "stdout",
     "output_type": "stream",
     "text": [
      "SPS: 66 Average Reward: -4.514306435300784\n"
     ]
    },
    {
     "name": "stderr",
     "output_type": "stream",
     "text": [
      " 67% (987 of 1464) |##############       | Elapsed Time: 8:29:33 ETA:   4:08:51"
     ]
    },
    {
     "name": "stdout",
     "output_type": "stream",
     "text": [
      "SPS: 66 Average Reward: -4.8839935496382445\n"
     ]
    },
    {
     "name": "stderr",
     "output_type": "stream",
     "text": [
      " 67% (988 of 1464) |##############       | Elapsed Time: 8:30:04 ETA:   4:07:04"
     ]
    },
    {
     "name": "stdout",
     "output_type": "stream",
     "text": [
      "SPS: 66 Average Reward: -5.354351776215393\n"
     ]
    },
    {
     "name": "stderr",
     "output_type": "stream",
     "text": [
      " 67% (989 of 1464) |##############       | Elapsed Time: 8:30:35 ETA:   4:06:23"
     ]
    },
    {
     "name": "stdout",
     "output_type": "stream",
     "text": [
      "SPS: 66 Average Reward: -5.569340751731878\n"
     ]
    },
    {
     "name": "stderr",
     "output_type": "stream",
     "text": [
      " 67% (990 of 1464) |##############       | Elapsed Time: 8:31:07 ETA:   4:05:54"
     ]
    },
    {
     "name": "stdout",
     "output_type": "stream",
     "text": [
      "SPS: 66 Average Reward: -5.479858705751467\n"
     ]
    },
    {
     "name": "stderr",
     "output_type": "stream",
     "text": [
      " 67% (991 of 1464) |##############       | Elapsed Time: 8:31:38 ETA:   4:07:13"
     ]
    },
    {
     "name": "stdout",
     "output_type": "stream",
     "text": [
      "SPS: 66 Average Reward: -4.927827868521134\n"
     ]
    },
    {
     "name": "stderr",
     "output_type": "stream",
     "text": [
      " 67% (992 of 1464) |##############       | Elapsed Time: 8:32:09 ETA:   4:06:03"
     ]
    },
    {
     "name": "stdout",
     "output_type": "stream",
     "text": [
      "SPS: 66 Average Reward: -5.395726077638921\n"
     ]
    },
    {
     "name": "stderr",
     "output_type": "stream",
     "text": [
      " 67% (993 of 1464) |##############       | Elapsed Time: 8:32:41 ETA:   4:05:33"
     ]
    },
    {
     "name": "stdout",
     "output_type": "stream",
     "text": [
      "SPS: 66 Average Reward: -3.683544283883841\n"
     ]
    },
    {
     "name": "stderr",
     "output_type": "stream",
     "text": [
      " 67% (994 of 1464) |##############       | Elapsed Time: 8:33:12 ETA:   4:04:09"
     ]
    },
    {
     "name": "stdout",
     "output_type": "stream",
     "text": [
      "SPS: 66 Average Reward: -5.271141899569996\n"
     ]
    },
    {
     "name": "stderr",
     "output_type": "stream",
     "text": [
      " 67% (995 of 1464) |##############       | Elapsed Time: 8:33:43 ETA:   4:04:17"
     ]
    },
    {
     "name": "stdout",
     "output_type": "stream",
     "text": [
      "SPS: 66 Average Reward: -5.151116724501834\n"
     ]
    },
    {
     "name": "stderr",
     "output_type": "stream",
     "text": [
      " 68% (996 of 1464) |##############       | Elapsed Time: 8:34:14 ETA:   4:04:00"
     ]
    },
    {
     "name": "stdout",
     "output_type": "stream",
     "text": [
      "SPS: 66 Average Reward: -6.02090011612973\n"
     ]
    },
    {
     "name": "stderr",
     "output_type": "stream",
     "text": [
      " 68% (997 of 1464) |##############       | Elapsed Time: 8:34:45 ETA:   4:02:50"
     ]
    },
    {
     "name": "stdout",
     "output_type": "stream",
     "text": [
      "SPS: 66 Average Reward: -5.307383544045705\n"
     ]
    },
    {
     "name": "stderr",
     "output_type": "stream",
     "text": [
      " 68% (998 of 1464) |##############       | Elapsed Time: 8:35:17 ETA:   4:01:48"
     ]
    },
    {
     "name": "stdout",
     "output_type": "stream",
     "text": [
      "SPS: 66 Average Reward: -4.804580935631176\n"
     ]
    },
    {
     "name": "stderr",
     "output_type": "stream",
     "text": [
      " 68% (999 of 1464) |##############       | Elapsed Time: 8:35:48 ETA:   4:02:01"
     ]
    },
    {
     "name": "stdout",
     "output_type": "stream",
     "text": [
      "SPS: 66 Average Reward: -5.728146498674817\n"
     ]
    },
    {
     "name": "stderr",
     "output_type": "stream",
     "text": [
      " 68% (1000 of 1464) |#############       | Elapsed Time: 8:36:19 ETA:   3:58:23"
     ]
    },
    {
     "name": "stdout",
     "output_type": "stream",
     "text": [
      "SPS: 66 Average Reward: -5.180229550495522\n"
     ]
    },
    {
     "name": "stderr",
     "output_type": "stream",
     "text": [
      " 68% (1001 of 1464) |#############       | Elapsed Time: 8:36:50 ETA:   4:01:04"
     ]
    },
    {
     "name": "stdout",
     "output_type": "stream",
     "text": [
      "SPS: 66 Average Reward: -5.716650937062524\n"
     ]
    },
    {
     "name": "stderr",
     "output_type": "stream",
     "text": [
      " 68% (1002 of 1464) |#############       | Elapsed Time: 8:37:21 ETA:   3:58:59"
     ]
    },
    {
     "name": "stdout",
     "output_type": "stream",
     "text": [
      "SPS: 66 Average Reward: -5.733368367140749\n"
     ]
    },
    {
     "name": "stderr",
     "output_type": "stream",
     "text": [
      " 68% (1003 of 1464) |#############       | Elapsed Time: 8:37:52 ETA:   3:59:54"
     ]
    },
    {
     "name": "stdout",
     "output_type": "stream",
     "text": [
      "SPS: 66 Average Reward: -5.388836743563954\n"
     ]
    },
    {
     "name": "stderr",
     "output_type": "stream",
     "text": [
      " 68% (1004 of 1464) |#############       | Elapsed Time: 8:38:23 ETA:   3:58:42"
     ]
    },
    {
     "name": "stdout",
     "output_type": "stream",
     "text": [
      "SPS: 66 Average Reward: -6.283950721941133\n"
     ]
    },
    {
     "name": "stderr",
     "output_type": "stream",
     "text": [
      " 68% (1005 of 1464) |#############       | Elapsed Time: 8:38:54 ETA:   3:58:49"
     ]
    },
    {
     "name": "stdout",
     "output_type": "stream",
     "text": [
      "SPS: 66 Average Reward: -6.078791843545312\n"
     ]
    },
    {
     "name": "stderr",
     "output_type": "stream",
     "text": [
      " 68% (1006 of 1464) |#############       | Elapsed Time: 8:39:26 ETA:   3:59:21"
     ]
    },
    {
     "name": "stdout",
     "output_type": "stream",
     "text": [
      "SPS: 66 Average Reward: -6.139310762261931\n"
     ]
    },
    {
     "name": "stderr",
     "output_type": "stream",
     "text": [
      " 68% (1007 of 1464) |#############       | Elapsed Time: 8:39:57 ETA:   3:54:42"
     ]
    },
    {
     "name": "stdout",
     "output_type": "stream",
     "text": [
      "SPS: 66 Average Reward: -5.008547645951887\n"
     ]
    },
    {
     "name": "stderr",
     "output_type": "stream",
     "text": [
      " 68% (1008 of 1464) |#############       | Elapsed Time: 8:40:28 ETA:   3:58:24"
     ]
    },
    {
     "name": "stdout",
     "output_type": "stream",
     "text": [
      "SPS: 66 Average Reward: -5.812335651275048\n"
     ]
    },
    {
     "name": "stderr",
     "output_type": "stream",
     "text": [
      " 68% (1009 of 1464) |#############       | Elapsed Time: 8:40:59 ETA:   3:55:29"
     ]
    },
    {
     "name": "stdout",
     "output_type": "stream",
     "text": [
      "SPS: 66 Average Reward: -5.405465716607245\n"
     ]
    },
    {
     "name": "stderr",
     "output_type": "stream",
     "text": [
      " 68% (1010 of 1464) |#############       | Elapsed Time: 8:41:30 ETA:   3:55:34"
     ]
    },
    {
     "name": "stdout",
     "output_type": "stream",
     "text": [
      "SPS: 66 Average Reward: -6.264170260005164\n"
     ]
    },
    {
     "name": "stderr",
     "output_type": "stream",
     "text": [
      " 69% (1011 of 1464) |#############       | Elapsed Time: 8:42:01 ETA:   3:52:32"
     ]
    },
    {
     "name": "stdout",
     "output_type": "stream",
     "text": [
      "SPS: 66 Average Reward: -5.190978613234731\n"
     ]
    },
    {
     "name": "stderr",
     "output_type": "stream",
     "text": [
      " 69% (1012 of 1464) |#############       | Elapsed Time: 8:42:32 ETA:   3:56:20"
     ]
    },
    {
     "name": "stdout",
     "output_type": "stream",
     "text": [
      "SPS: 66 Average Reward: -5.4639642697897655\n"
     ]
    },
    {
     "name": "stderr",
     "output_type": "stream",
     "text": [
      " 69% (1013 of 1464) |#############       | Elapsed Time: 8:43:04 ETA:   3:55:57"
     ]
    },
    {
     "name": "stdout",
     "output_type": "stream",
     "text": [
      "SPS: 66 Average Reward: -5.305305565754544\n"
     ]
    },
    {
     "name": "stderr",
     "output_type": "stream",
     "text": [
      " 69% (1014 of 1464) |#############       | Elapsed Time: 8:43:35 ETA:   3:54:57"
     ]
    },
    {
     "name": "stdout",
     "output_type": "stream",
     "text": [
      "SPS: 66 Average Reward: -4.478016950048476\n"
     ]
    },
    {
     "name": "stderr",
     "output_type": "stream",
     "text": [
      " 69% (1015 of 1464) |#############       | Elapsed Time: 8:44:06 ETA:   3:51:18"
     ]
    },
    {
     "name": "stdout",
     "output_type": "stream",
     "text": [
      "SPS: 66 Average Reward: -5.042621879626137\n"
     ]
    },
    {
     "name": "stderr",
     "output_type": "stream",
     "text": [
      " 69% (1016 of 1464) |#############       | Elapsed Time: 8:44:37 ETA:   3:54:24"
     ]
    },
    {
     "name": "stdout",
     "output_type": "stream",
     "text": [
      "SPS: 66 Average Reward: -4.74728424598197\n"
     ]
    },
    {
     "name": "stderr",
     "output_type": "stream",
     "text": [
      " 69% (1017 of 1464) |#############       | Elapsed Time: 8:45:08 ETA:   3:50:37"
     ]
    },
    {
     "name": "stdout",
     "output_type": "stream",
     "text": [
      "SPS: 66 Average Reward: -6.037285176168983\n"
     ]
    },
    {
     "name": "stderr",
     "output_type": "stream",
     "text": [
      " 69% (1018 of 1464) |#############       | Elapsed Time: 8:45:40 ETA:   3:53:19"
     ]
    },
    {
     "name": "stdout",
     "output_type": "stream",
     "text": [
      "SPS: 66 Average Reward: -4.912732876319204\n"
     ]
    },
    {
     "name": "stderr",
     "output_type": "stream",
     "text": [
      " 69% (1019 of 1464) |#############       | Elapsed Time: 8:46:11 ETA:   3:52:43"
     ]
    },
    {
     "name": "stdout",
     "output_type": "stream",
     "text": [
      "SPS: 66 Average Reward: -5.063391292087425\n"
     ]
    },
    {
     "name": "stderr",
     "output_type": "stream",
     "text": [
      " 69% (1020 of 1464) |#############       | Elapsed Time: 8:46:42 ETA:   3:51:55"
     ]
    },
    {
     "name": "stdout",
     "output_type": "stream",
     "text": [
      "SPS: 66 Average Reward: -4.985839769584409\n"
     ]
    },
    {
     "name": "stderr",
     "output_type": "stream",
     "text": [
      " 69% (1021 of 1464) |#############       | Elapsed Time: 8:47:14 ETA:   3:51:30"
     ]
    },
    {
     "name": "stdout",
     "output_type": "stream",
     "text": [
      "SPS: 66 Average Reward: -5.585976971944938\n"
     ]
    },
    {
     "name": "stderr",
     "output_type": "stream",
     "text": [
      " 69% (1022 of 1464) |#############       | Elapsed Time: 8:47:45 ETA:   3:50:41"
     ]
    },
    {
     "name": "stdout",
     "output_type": "stream",
     "text": [
      "SPS: 66 Average Reward: -4.892388860060654\n"
     ]
    },
    {
     "name": "stderr",
     "output_type": "stream",
     "text": [
      " 69% (1023 of 1464) |#############       | Elapsed Time: 8:48:16 ETA:   3:46:46"
     ]
    },
    {
     "name": "stdout",
     "output_type": "stream",
     "text": [
      "SPS: 66 Average Reward: -4.650898617085518\n"
     ]
    },
    {
     "name": "stderr",
     "output_type": "stream",
     "text": [
      " 69% (1024 of 1464) |#############       | Elapsed Time: 8:48:47 ETA:   3:49:22"
     ]
    },
    {
     "name": "stdout",
     "output_type": "stream",
     "text": [
      "SPS: 66 Average Reward: -5.122440023872028\n"
     ]
    },
    {
     "name": "stderr",
     "output_type": "stream",
     "text": [
      " 70% (1025 of 1464) |##############      | Elapsed Time: 8:49:19 ETA:   3:49:03"
     ]
    },
    {
     "name": "stdout",
     "output_type": "stream",
     "text": [
      "SPS: 66 Average Reward: -5.391933211351293\n"
     ]
    },
    {
     "name": "stderr",
     "output_type": "stream",
     "text": [
      " 70% (1026 of 1464) |##############      | Elapsed Time: 8:49:50 ETA:   3:48:16"
     ]
    },
    {
     "name": "stdout",
     "output_type": "stream",
     "text": [
      "SPS: 66 Average Reward: -4.8913490025070345\n"
     ]
    },
    {
     "name": "stderr",
     "output_type": "stream",
     "text": [
      " 70% (1027 of 1464) |##############      | Elapsed Time: 8:50:21 ETA:   3:47:18"
     ]
    },
    {
     "name": "stdout",
     "output_type": "stream",
     "text": [
      "SPS: 66 Average Reward: -5.212847672724081\n"
     ]
    },
    {
     "name": "stderr",
     "output_type": "stream",
     "text": [
      " 70% (1028 of 1464) |##############      | Elapsed Time: 8:50:52 ETA:   3:47:01"
     ]
    },
    {
     "name": "stdout",
     "output_type": "stream",
     "text": [
      "SPS: 66 Average Reward: -5.32159313755145\n"
     ]
    },
    {
     "name": "stderr",
     "output_type": "stream",
     "text": [
      " 70% (1029 of 1464) |##############      | Elapsed Time: 8:51:24 ETA:   3:46:47"
     ]
    },
    {
     "name": "stdout",
     "output_type": "stream",
     "text": [
      "SPS: 66 Average Reward: -5.07603377130362\n"
     ]
    },
    {
     "name": "stderr",
     "output_type": "stream",
     "text": [
      " 70% (1030 of 1464) |##############      | Elapsed Time: 8:51:55 ETA:   3:46:49"
     ]
    },
    {
     "name": "stdout",
     "output_type": "stream",
     "text": [
      "SPS: 66 Average Reward: -4.980847149581006\n"
     ]
    },
    {
     "name": "stderr",
     "output_type": "stream",
     "text": [
      " 70% (1031 of 1464) |##############      | Elapsed Time: 8:52:26 ETA:   3:45:58"
     ]
    },
    {
     "name": "stdout",
     "output_type": "stream",
     "text": [
      "SPS: 66 Average Reward: -5.010704602591715\n"
     ]
    },
    {
     "name": "stderr",
     "output_type": "stream",
     "text": [
      " 70% (1032 of 1464) |##############      | Elapsed Time: 8:52:58 ETA:   3:45:33"
     ]
    },
    {
     "name": "stdout",
     "output_type": "stream",
     "text": [
      "SPS: 66 Average Reward: -5.529582538054859\n"
     ]
    },
    {
     "name": "stderr",
     "output_type": "stream",
     "text": [
      " 70% (1033 of 1464) |##############      | Elapsed Time: 8:53:29 ETA:   3:44:55"
     ]
    },
    {
     "name": "stdout",
     "output_type": "stream",
     "text": [
      "SPS: 66 Average Reward: -4.831529578174408\n"
     ]
    },
    {
     "name": "stderr",
     "output_type": "stream",
     "text": [
      " 70% (1034 of 1464) |##############      | Elapsed Time: 8:54:00 ETA:   3:44:54"
     ]
    },
    {
     "name": "stdout",
     "output_type": "stream",
     "text": [
      "SPS: 66 Average Reward: -4.858253545892714\n"
     ]
    },
    {
     "name": "stderr",
     "output_type": "stream",
     "text": [
      " 70% (1035 of 1464) |##############      | Elapsed Time: 8:54:32 ETA:   3:45:20"
     ]
    },
    {
     "name": "stdout",
     "output_type": "stream",
     "text": [
      "SPS: 66 Average Reward: -5.267300344916195\n"
     ]
    },
    {
     "name": "stderr",
     "output_type": "stream",
     "text": [
      " 70% (1036 of 1464) |##############      | Elapsed Time: 8:55:03 ETA:   3:44:02"
     ]
    },
    {
     "name": "stdout",
     "output_type": "stream",
     "text": [
      "SPS: 66 Average Reward: -4.770512786402747\n"
     ]
    },
    {
     "name": "stderr",
     "output_type": "stream",
     "text": [
      " 70% (1037 of 1464) |##############      | Elapsed Time: 8:55:35 ETA:   3:43:01"
     ]
    },
    {
     "name": "stdout",
     "output_type": "stream",
     "text": [
      "SPS: 66 Average Reward: -4.811760035087895\n"
     ]
    },
    {
     "name": "stderr",
     "output_type": "stream",
     "text": [
      " 70% (1038 of 1464) |##############      | Elapsed Time: 8:56:06 ETA:   3:42:09"
     ]
    },
    {
     "name": "stdout",
     "output_type": "stream",
     "text": [
      "SPS: 66 Average Reward: -6.070264877577539\n"
     ]
    },
    {
     "name": "stderr",
     "output_type": "stream",
     "text": [
      " 70% (1039 of 1464) |##############      | Elapsed Time: 8:56:37 ETA:   3:42:30"
     ]
    },
    {
     "name": "stdout",
     "output_type": "stream",
     "text": [
      "SPS: 66 Average Reward: -4.9528079674313545\n"
     ]
    },
    {
     "name": "stderr",
     "output_type": "stream",
     "text": [
      " 71% (1040 of 1464) |##############      | Elapsed Time: 8:57:09 ETA:   3:41:35"
     ]
    },
    {
     "name": "stdout",
     "output_type": "stream",
     "text": [
      "SPS: 66 Average Reward: -5.757975980937735\n"
     ]
    },
    {
     "name": "stderr",
     "output_type": "stream",
     "text": [
      " 71% (1041 of 1464) |##############      | Elapsed Time: 8:57:40 ETA:   3:38:45"
     ]
    },
    {
     "name": "stdout",
     "output_type": "stream",
     "text": [
      "SPS: 66 Average Reward: -4.755755908068816\n"
     ]
    },
    {
     "name": "stderr",
     "output_type": "stream",
     "text": [
      " 71% (1042 of 1464) |##############      | Elapsed Time: 8:58:11 ETA:   3:40:36"
     ]
    },
    {
     "name": "stdout",
     "output_type": "stream",
     "text": [
      "SPS: 66 Average Reward: -4.762088714105427\n"
     ]
    },
    {
     "name": "stderr",
     "output_type": "stream",
     "text": [
      " 71% (1043 of 1464) |##############      | Elapsed Time: 8:58:42 ETA:   3:40:40"
     ]
    },
    {
     "name": "stdout",
     "output_type": "stream",
     "text": [
      "SPS: 66 Average Reward: -5.052424945594821\n"
     ]
    },
    {
     "name": "stderr",
     "output_type": "stream",
     "text": [
      " 71% (1044 of 1464) |##############      | Elapsed Time: 8:59:14 ETA:   3:39:32"
     ]
    },
    {
     "name": "stdout",
     "output_type": "stream",
     "text": [
      "SPS: 66 Average Reward: -5.4750969544357915\n"
     ]
    },
    {
     "name": "stderr",
     "output_type": "stream",
     "text": [
      " 71% (1045 of 1464) |##############      | Elapsed Time: 8:59:45 ETA:   3:37:15"
     ]
    },
    {
     "name": "stdout",
     "output_type": "stream",
     "text": [
      "SPS: 66 Average Reward: -5.168242365070354\n"
     ]
    },
    {
     "name": "stderr",
     "output_type": "stream",
     "text": [
      " 71% (1046 of 1464) |##############      | Elapsed Time: 9:00:16 ETA:   3:38:01"
     ]
    },
    {
     "name": "stdout",
     "output_type": "stream",
     "text": [
      "SPS: 66 Average Reward: -4.493291726458594\n"
     ]
    },
    {
     "name": "stderr",
     "output_type": "stream",
     "text": [
      " 71% (1047 of 1464) |##############      | Elapsed Time: 9:00:47 ETA:   3:36:20"
     ]
    },
    {
     "name": "stdout",
     "output_type": "stream",
     "text": [
      "SPS: 66 Average Reward: -5.049289760378194\n"
     ]
    },
    {
     "name": "stderr",
     "output_type": "stream",
     "text": [
      " 71% (1048 of 1464) |##############      | Elapsed Time: 9:01:19 ETA:   3:36:55"
     ]
    },
    {
     "name": "stdout",
     "output_type": "stream",
     "text": [
      "SPS: 66 Average Reward: -4.953378395460781\n"
     ]
    },
    {
     "name": "stderr",
     "output_type": "stream",
     "text": [
      " 71% (1049 of 1464) |##############      | Elapsed Time: 9:01:50 ETA:   3:36:15"
     ]
    },
    {
     "name": "stdout",
     "output_type": "stream",
     "text": [
      "SPS: 66 Average Reward: -4.712832183620001\n"
     ]
    },
    {
     "name": "stderr",
     "output_type": "stream",
     "text": [
      " 71% (1050 of 1464) |##############      | Elapsed Time: 9:02:21 ETA:   3:36:06"
     ]
    },
    {
     "name": "stdout",
     "output_type": "stream",
     "text": [
      "SPS: 66 Average Reward: -4.85843414281606\n"
     ]
    },
    {
     "name": "stderr",
     "output_type": "stream",
     "text": [
      " 71% (1051 of 1464) |##############      | Elapsed Time: 9:02:53 ETA:   3:35:31"
     ]
    },
    {
     "name": "stdout",
     "output_type": "stream",
     "text": [
      "SPS: 66 Average Reward: -5.059903866820507\n"
     ]
    },
    {
     "name": "stderr",
     "output_type": "stream",
     "text": [
      " 71% (1052 of 1464) |##############      | Elapsed Time: 9:03:24 ETA:   3:35:05"
     ]
    },
    {
     "name": "stdout",
     "output_type": "stream",
     "text": [
      "SPS: 66 Average Reward: -5.578690592547454\n"
     ]
    },
    {
     "name": "stderr",
     "output_type": "stream",
     "text": [
      " 71% (1053 of 1464) |##############      | Elapsed Time: 9:03:55 ETA:   3:34:25"
     ]
    },
    {
     "name": "stdout",
     "output_type": "stream",
     "text": [
      "SPS: 66 Average Reward: -5.161303219869538\n"
     ]
    },
    {
     "name": "stderr",
     "output_type": "stream",
     "text": [
      " 71% (1054 of 1464) |##############      | Elapsed Time: 9:04:26 ETA:   3:31:26"
     ]
    },
    {
     "name": "stdout",
     "output_type": "stream",
     "text": [
      "SPS: 66 Average Reward: -5.061113653492001\n"
     ]
    },
    {
     "name": "stderr",
     "output_type": "stream",
     "text": [
      " 72% (1055 of 1464) |##############      | Elapsed Time: 9:04:57 ETA:   3:33:19"
     ]
    },
    {
     "name": "stdout",
     "output_type": "stream",
     "text": [
      "SPS: 66 Average Reward: -5.045453072243142\n"
     ]
    },
    {
     "name": "stderr",
     "output_type": "stream",
     "text": [
      " 72% (1056 of 1464) |##############      | Elapsed Time: 9:05:29 ETA:   3:32:34"
     ]
    },
    {
     "name": "stdout",
     "output_type": "stream",
     "text": [
      "SPS: 66 Average Reward: -5.350931886695342\n"
     ]
    },
    {
     "name": "stderr",
     "output_type": "stream",
     "text": [
      " 72% (1057 of 1464) |##############      | Elapsed Time: 9:06:00 ETA:   3:32:15"
     ]
    },
    {
     "name": "stdout",
     "output_type": "stream",
     "text": [
      "SPS: 66 Average Reward: -4.879190416853253\n"
     ]
    },
    {
     "name": "stderr",
     "output_type": "stream",
     "text": [
      " 72% (1058 of 1464) |##############      | Elapsed Time: 9:06:31 ETA:   3:32:03"
     ]
    },
    {
     "name": "stdout",
     "output_type": "stream",
     "text": [
      "SPS: 66 Average Reward: -5.665562505018214\n"
     ]
    },
    {
     "name": "stderr",
     "output_type": "stream",
     "text": [
      " 72% (1059 of 1464) |##############      | Elapsed Time: 9:07:03 ETA:   3:31:12"
     ]
    },
    {
     "name": "stdout",
     "output_type": "stream",
     "text": [
      "SPS: 66 Average Reward: -5.624061532080158\n"
     ]
    },
    {
     "name": "stderr",
     "output_type": "stream",
     "text": [
      " 72% (1060 of 1464) |##############      | Elapsed Time: 9:07:33 ETA:   3:27:45"
     ]
    },
    {
     "name": "stdout",
     "output_type": "stream",
     "text": [
      "SPS: 66 Average Reward: -5.316741547771477\n"
     ]
    },
    {
     "name": "stderr",
     "output_type": "stream",
     "text": [
      " 72% (1061 of 1464) |##############      | Elapsed Time: 9:08:04 ETA:   3:27:37"
     ]
    },
    {
     "name": "stdout",
     "output_type": "stream",
     "text": [
      "SPS: 66 Average Reward: -5.227594575926794\n"
     ]
    },
    {
     "name": "stderr",
     "output_type": "stream",
     "text": [
      " 72% (1062 of 1464) |##############      | Elapsed Time: 9:08:36 ETA:   3:29:37"
     ]
    },
    {
     "name": "stdout",
     "output_type": "stream",
     "text": [
      "SPS: 66 Average Reward: -5.2666370781189285\n"
     ]
    },
    {
     "name": "stderr",
     "output_type": "stream",
     "text": [
      " 72% (1063 of 1464) |##############      | Elapsed Time: 9:09:07 ETA:   3:29:10"
     ]
    },
    {
     "name": "stdout",
     "output_type": "stream",
     "text": [
      "SPS: 66 Average Reward: -4.823870135569001\n"
     ]
    },
    {
     "name": "stderr",
     "output_type": "stream",
     "text": [
      " 72% (1064 of 1464) |##############      | Elapsed Time: 9:09:38 ETA:   3:28:12"
     ]
    },
    {
     "name": "stdout",
     "output_type": "stream",
     "text": [
      "SPS: 66 Average Reward: -4.9414010494072675\n"
     ]
    },
    {
     "name": "stderr",
     "output_type": "stream",
     "text": [
      " 72% (1065 of 1464) |##############      | Elapsed Time: 9:10:09 ETA:   3:28:13"
     ]
    },
    {
     "name": "stdout",
     "output_type": "stream",
     "text": [
      "SPS: 66 Average Reward: -5.198855538966287\n"
     ]
    },
    {
     "name": "stderr",
     "output_type": "stream",
     "text": [
      " 72% (1066 of 1464) |##############      | Elapsed Time: 9:10:40 ETA:   3:25:05"
     ]
    },
    {
     "name": "stdout",
     "output_type": "stream",
     "text": [
      "SPS: 66 Average Reward: -4.827167326127018\n"
     ]
    },
    {
     "name": "stderr",
     "output_type": "stream",
     "text": [
      " 72% (1067 of 1464) |##############      | Elapsed Time: 9:11:12 ETA:   3:27:21"
     ]
    },
    {
     "name": "stdout",
     "output_type": "stream",
     "text": [
      "SPS: 66 Average Reward: -4.928234425510283\n"
     ]
    },
    {
     "name": "stderr",
     "output_type": "stream",
     "text": [
      " 72% (1068 of 1464) |##############      | Elapsed Time: 9:11:43 ETA:   3:26:40"
     ]
    },
    {
     "name": "stdout",
     "output_type": "stream",
     "text": [
      "SPS: 66 Average Reward: -5.375907051696461\n"
     ]
    },
    {
     "name": "stderr",
     "output_type": "stream",
     "text": [
      " 73% (1069 of 1464) |##############      | Elapsed Time: 9:12:14 ETA:   3:26:32"
     ]
    },
    {
     "name": "stdout",
     "output_type": "stream",
     "text": [
      "SPS: 66 Average Reward: -4.700235797901376\n"
     ]
    },
    {
     "name": "stderr",
     "output_type": "stream",
     "text": [
      " 73% (1070 of 1464) |##############      | Elapsed Time: 9:12:46 ETA:   3:25:19"
     ]
    },
    {
     "name": "stdout",
     "output_type": "stream",
     "text": [
      "SPS: 66 Average Reward: -5.061536165955095\n"
     ]
    },
    {
     "name": "stderr",
     "output_type": "stream",
     "text": [
      " 73% (1071 of 1464) |##############      | Elapsed Time: 9:13:17 ETA:   3:24:59"
     ]
    },
    {
     "name": "stdout",
     "output_type": "stream",
     "text": [
      "SPS: 66 Average Reward: -4.679688661032585\n"
     ]
    },
    {
     "name": "stderr",
     "output_type": "stream",
     "text": [
      " 73% (1072 of 1464) |##############      | Elapsed Time: 9:13:48 ETA:   3:24:19"
     ]
    },
    {
     "name": "stdout",
     "output_type": "stream",
     "text": [
      "SPS: 66 Average Reward: -5.3778628927831065\n"
     ]
    },
    {
     "name": "stderr",
     "output_type": "stream",
     "text": [
      " 73% (1073 of 1464) |##############      | Elapsed Time: 9:14:20 ETA:   3:23:55"
     ]
    },
    {
     "name": "stdout",
     "output_type": "stream",
     "text": [
      "SPS: 66 Average Reward: -5.1057653231037365\n"
     ]
    },
    {
     "name": "stderr",
     "output_type": "stream",
     "text": [
      " 73% (1074 of 1464) |##############      | Elapsed Time: 9:14:51 ETA:   3:23:44"
     ]
    },
    {
     "name": "stdout",
     "output_type": "stream",
     "text": [
      "SPS: 66 Average Reward: -4.686809738237958\n"
     ]
    },
    {
     "name": "stderr",
     "output_type": "stream",
     "text": [
      " 73% (1075 of 1464) |##############      | Elapsed Time: 9:15:22 ETA:   3:22:51"
     ]
    },
    {
     "name": "stdout",
     "output_type": "stream",
     "text": [
      "SPS: 66 Average Reward: -5.474608814879683\n"
     ]
    },
    {
     "name": "stderr",
     "output_type": "stream",
     "text": [
      " 73% (1076 of 1464) |##############      | Elapsed Time: 9:15:53 ETA:   3:22:01"
     ]
    },
    {
     "name": "stdout",
     "output_type": "stream",
     "text": [
      "SPS: 66 Average Reward: -5.009244197389536\n"
     ]
    },
    {
     "name": "stderr",
     "output_type": "stream",
     "text": [
      " 73% (1077 of 1464) |##############      | Elapsed Time: 9:16:24 ETA:   3:19:29"
     ]
    },
    {
     "name": "stdout",
     "output_type": "stream",
     "text": [
      "SPS: 66 Average Reward: -4.915966940319141\n"
     ]
    },
    {
     "name": "stderr",
     "output_type": "stream",
     "text": [
      " 73% (1078 of 1464) |##############      | Elapsed Time: 9:16:56 ETA:   3:21:09"
     ]
    },
    {
     "name": "stdout",
     "output_type": "stream",
     "text": [
      "SPS: 66 Average Reward: -5.033113778941747\n"
     ]
    },
    {
     "name": "stderr",
     "output_type": "stream",
     "text": [
      " 73% (1079 of 1464) |##############      | Elapsed Time: 9:17:27 ETA:   3:20:56"
     ]
    },
    {
     "name": "stdout",
     "output_type": "stream",
     "text": [
      "SPS: 66 Average Reward: -4.87743786085895\n"
     ]
    },
    {
     "name": "stderr",
     "output_type": "stream",
     "text": [
      " 73% (1080 of 1464) |##############      | Elapsed Time: 9:17:58 ETA:   3:20:21"
     ]
    },
    {
     "name": "stdout",
     "output_type": "stream",
     "text": [
      "SPS: 66 Average Reward: -5.764197208887028\n"
     ]
    },
    {
     "name": "stderr",
     "output_type": "stream",
     "text": [
      " 73% (1081 of 1464) |##############      | Elapsed Time: 9:18:29 ETA:   3:18:23"
     ]
    },
    {
     "name": "stdout",
     "output_type": "stream",
     "text": [
      "SPS: 66 Average Reward: -5.3770036700199215\n"
     ]
    },
    {
     "name": "stderr",
     "output_type": "stream",
     "text": [
      " 73% (1082 of 1464) |##############      | Elapsed Time: 9:19:01 ETA:   3:19:15"
     ]
    },
    {
     "name": "stdout",
     "output_type": "stream",
     "text": [
      "SPS: 66 Average Reward: -4.985356439182504\n"
     ]
    },
    {
     "name": "stderr",
     "output_type": "stream",
     "text": [
      " 73% (1083 of 1464) |##############      | Elapsed Time: 9:19:32 ETA:   3:16:37"
     ]
    },
    {
     "name": "stdout",
     "output_type": "stream",
     "text": [
      "SPS: 66 Average Reward: -5.790002081956077\n"
     ]
    },
    {
     "name": "stderr",
     "output_type": "stream",
     "text": [
      " 74% (1084 of 1464) |##############      | Elapsed Time: 9:20:03 ETA:   3:16:14"
     ]
    },
    {
     "name": "stdout",
     "output_type": "stream",
     "text": [
      "SPS: 66 Average Reward: -5.17395851486079\n"
     ]
    },
    {
     "name": "stderr",
     "output_type": "stream",
     "text": [
      " 74% (1085 of 1464) |##############      | Elapsed Time: 9:20:34 ETA:   3:17:53"
     ]
    },
    {
     "name": "stdout",
     "output_type": "stream",
     "text": [
      "SPS: 66 Average Reward: -5.835161084325607\n"
     ]
    },
    {
     "name": "stderr",
     "output_type": "stream",
     "text": [
      " 74% (1086 of 1464) |##############      | Elapsed Time: 9:21:05 ETA:   3:15:02"
     ]
    },
    {
     "name": "stdout",
     "output_type": "stream",
     "text": [
      "SPS: 66 Average Reward: -5.224946315351116\n"
     ]
    },
    {
     "name": "stderr",
     "output_type": "stream",
     "text": [
      " 74% (1087 of 1464) |##############      | Elapsed Time: 9:21:36 ETA:   3:16:23"
     ]
    },
    {
     "name": "stdout",
     "output_type": "stream",
     "text": [
      "SPS: 66 Average Reward: -6.251960920599857\n"
     ]
    },
    {
     "name": "stderr",
     "output_type": "stream",
     "text": [
      " 74% (1088 of 1464) |##############      | Elapsed Time: 9:22:07 ETA:   3:15:53"
     ]
    },
    {
     "name": "stdout",
     "output_type": "stream",
     "text": [
      "SPS: 66 Average Reward: -5.718401813550398\n"
     ]
    },
    {
     "name": "stderr",
     "output_type": "stream",
     "text": [
      " 74% (1089 of 1464) |##############      | Elapsed Time: 9:22:39 ETA:   3:15:38"
     ]
    },
    {
     "name": "stdout",
     "output_type": "stream",
     "text": [
      "SPS: 66 Average Reward: -4.9476533242487\n"
     ]
    },
    {
     "name": "stderr",
     "output_type": "stream",
     "text": [
      " 74% (1090 of 1464) |##############      | Elapsed Time: 9:23:10 ETA:   3:14:57"
     ]
    },
    {
     "name": "stdout",
     "output_type": "stream",
     "text": [
      "SPS: 66 Average Reward: -5.028418458214893\n"
     ]
    },
    {
     "name": "stderr",
     "output_type": "stream",
     "text": [
      " 74% (1091 of 1464) |##############      | Elapsed Time: 9:23:41 ETA:   3:14:23"
     ]
    },
    {
     "name": "stdout",
     "output_type": "stream",
     "text": [
      "SPS: 66 Average Reward: -5.4038176993882825\n"
     ]
    },
    {
     "name": "stderr",
     "output_type": "stream",
     "text": [
      " 74% (1092 of 1464) |##############      | Elapsed Time: 9:24:12 ETA:   3:13:54"
     ]
    },
    {
     "name": "stdout",
     "output_type": "stream",
     "text": [
      "SPS: 66 Average Reward: -5.646217859149895\n"
     ]
    },
    {
     "name": "stderr",
     "output_type": "stream",
     "text": [
      " 74% (1093 of 1464) |##############      | Elapsed Time: 9:24:43 ETA:   3:11:00"
     ]
    },
    {
     "name": "stdout",
     "output_type": "stream",
     "text": [
      "SPS: 66 Average Reward: -5.348924819796279\n"
     ]
    },
    {
     "name": "stderr",
     "output_type": "stream",
     "text": [
      " 74% (1094 of 1464) |##############      | Elapsed Time: 9:25:15 ETA:   3:13:13"
     ]
    },
    {
     "name": "stdout",
     "output_type": "stream",
     "text": [
      "SPS: 66 Average Reward: -4.932091988724132\n"
     ]
    },
    {
     "name": "stderr",
     "output_type": "stream",
     "text": [
      " 74% (1095 of 1464) |##############      | Elapsed Time: 9:25:46 ETA:   3:13:16"
     ]
    },
    {
     "name": "stdout",
     "output_type": "stream",
     "text": [
      "SPS: 66 Average Reward: -4.7108892658839325\n"
     ]
    },
    {
     "name": "stderr",
     "output_type": "stream",
     "text": [
      " 74% (1096 of 1464) |##############      | Elapsed Time: 9:26:17 ETA:   3:11:28"
     ]
    },
    {
     "name": "stdout",
     "output_type": "stream",
     "text": [
      "SPS: 66 Average Reward: -4.8291979549705255\n"
     ]
    },
    {
     "name": "stderr",
     "output_type": "stream",
     "text": [
      " 74% (1097 of 1464) |##############      | Elapsed Time: 9:26:49 ETA:   3:11:18"
     ]
    },
    {
     "name": "stdout",
     "output_type": "stream",
     "text": [
      "SPS: 66 Average Reward: -5.126155021123986\n"
     ]
    },
    {
     "name": "stderr",
     "output_type": "stream",
     "text": [
      " 75% (1098 of 1464) |###############     | Elapsed Time: 9:27:20 ETA:   3:10:43"
     ]
    },
    {
     "name": "stdout",
     "output_type": "stream",
     "text": [
      "SPS: 66 Average Reward: -4.692573522834489\n"
     ]
    },
    {
     "name": "stderr",
     "output_type": "stream",
     "text": [
      " 75% (1099 of 1464) |###############     | Elapsed Time: 9:27:51 ETA:   3:11:01"
     ]
    },
    {
     "name": "stdout",
     "output_type": "stream",
     "text": [
      "SPS: 66 Average Reward: -4.8139726778620915\n"
     ]
    },
    {
     "name": "stderr",
     "output_type": "stream",
     "text": [
      " 75% (1100 of 1464) |###############     | Elapsed Time: 9:28:23 ETA:   3:09:39"
     ]
    },
    {
     "name": "stdout",
     "output_type": "stream",
     "text": [
      "SPS: 66 Average Reward: -4.911854582708964\n"
     ]
    },
    {
     "name": "stderr",
     "output_type": "stream",
     "text": [
      " 75% (1101 of 1464) |###############     | Elapsed Time: 9:28:54 ETA:   3:09:26"
     ]
    },
    {
     "name": "stdout",
     "output_type": "stream",
     "text": [
      "SPS: 66 Average Reward: -5.112394311120746\n"
     ]
    },
    {
     "name": "stderr",
     "output_type": "stream",
     "text": [
      " 75% (1102 of 1464) |###############     | Elapsed Time: 9:29:25 ETA:   3:08:43"
     ]
    },
    {
     "name": "stdout",
     "output_type": "stream",
     "text": [
      "SPS: 66 Average Reward: -5.026960249070878\n"
     ]
    },
    {
     "name": "stderr",
     "output_type": "stream",
     "text": [
      " 75% (1103 of 1464) |###############     | Elapsed Time: 9:29:56 ETA:   3:07:46"
     ]
    },
    {
     "name": "stdout",
     "output_type": "stream",
     "text": [
      "SPS: 66 Average Reward: -5.145324863926863\n"
     ]
    },
    {
     "name": "stderr",
     "output_type": "stream",
     "text": [
      " 75% (1104 of 1464) |###############     | Elapsed Time: 9:30:28 ETA:   3:07:56"
     ]
    },
    {
     "name": "stdout",
     "output_type": "stream",
     "text": [
      "SPS: 66 Average Reward: -4.7825435960912435\n"
     ]
    },
    {
     "name": "stderr",
     "output_type": "stream",
     "text": [
      " 75% (1105 of 1464) |###############     | Elapsed Time: 9:30:59 ETA:   3:07:08"
     ]
    },
    {
     "name": "stdout",
     "output_type": "stream",
     "text": [
      "SPS: 66 Average Reward: -5.276799388061423\n"
     ]
    },
    {
     "name": "stderr",
     "output_type": "stream",
     "text": [
      " 75% (1106 of 1464) |###############     | Elapsed Time: 9:31:30 ETA:   3:06:03"
     ]
    },
    {
     "name": "stdout",
     "output_type": "stream",
     "text": [
      "SPS: 66 Average Reward: -4.896580878830727\n"
     ]
    },
    {
     "name": "stderr",
     "output_type": "stream",
     "text": [
      " 75% (1107 of 1464) |###############     | Elapsed Time: 9:32:01 ETA:   3:06:00"
     ]
    },
    {
     "name": "stdout",
     "output_type": "stream",
     "text": [
      "SPS: 66 Average Reward: -4.57012671163709\n"
     ]
    },
    {
     "name": "stderr",
     "output_type": "stream",
     "text": [
      " 75% (1108 of 1464) |###############     | Elapsed Time: 9:32:33 ETA:   3:05:36"
     ]
    },
    {
     "name": "stdout",
     "output_type": "stream",
     "text": [
      "SPS: 66 Average Reward: -4.850809757229631\n"
     ]
    },
    {
     "name": "stderr",
     "output_type": "stream",
     "text": [
      " 75% (1109 of 1464) |###############     | Elapsed Time: 9:33:04 ETA:   3:05:16"
     ]
    },
    {
     "name": "stdout",
     "output_type": "stream",
     "text": [
      "SPS: 66 Average Reward: -4.947311568660659\n"
     ]
    },
    {
     "name": "stderr",
     "output_type": "stream",
     "text": [
      " 75% (1110 of 1464) |###############     | Elapsed Time: 9:33:35 ETA:   3:04:33"
     ]
    },
    {
     "name": "stdout",
     "output_type": "stream",
     "text": [
      "SPS: 66 Average Reward: -4.586534779045467\n"
     ]
    },
    {
     "name": "stderr",
     "output_type": "stream",
     "text": [
      " 75% (1111 of 1464) |###############     | Elapsed Time: 9:34:07 ETA:   3:04:18"
     ]
    },
    {
     "name": "stdout",
     "output_type": "stream",
     "text": [
      "SPS: 66 Average Reward: -5.0245773506566\n"
     ]
    },
    {
     "name": "stderr",
     "output_type": "stream",
     "text": [
      " 75% (1112 of 1464) |###############     | Elapsed Time: 9:34:38 ETA:   3:03:44"
     ]
    },
    {
     "name": "stdout",
     "output_type": "stream",
     "text": [
      "SPS: 66 Average Reward: -4.651711936161706\n"
     ]
    },
    {
     "name": "stderr",
     "output_type": "stream",
     "text": [
      " 76% (1113 of 1464) |###############     | Elapsed Time: 9:35:09 ETA:   3:03:50"
     ]
    },
    {
     "name": "stdout",
     "output_type": "stream",
     "text": [
      "SPS: 66 Average Reward: -4.6452797295821435\n"
     ]
    },
    {
     "name": "stderr",
     "output_type": "stream",
     "text": [
      " 76% (1114 of 1464) |###############     | Elapsed Time: 9:35:40 ETA:   3:00:01"
     ]
    },
    {
     "name": "stdout",
     "output_type": "stream",
     "text": [
      "SPS: 66 Average Reward: -5.58595137839775\n"
     ]
    },
    {
     "name": "stderr",
     "output_type": "stream",
     "text": [
      " 76% (1115 of 1464) |###############     | Elapsed Time: 9:36:11 ETA:   3:01:56"
     ]
    },
    {
     "name": "stdout",
     "output_type": "stream",
     "text": [
      "SPS: 66 Average Reward: -5.643808808458542\n"
     ]
    },
    {
     "name": "stderr",
     "output_type": "stream",
     "text": [
      " 76% (1116 of 1464) |###############     | Elapsed Time: 9:36:43 ETA:   3:01:36"
     ]
    },
    {
     "name": "stdout",
     "output_type": "stream",
     "text": [
      "SPS: 66 Average Reward: -4.853565317352849\n"
     ]
    },
    {
     "name": "stderr",
     "output_type": "stream",
     "text": [
      " 76% (1117 of 1464) |###############     | Elapsed Time: 9:37:14 ETA:   3:01:02"
     ]
    },
    {
     "name": "stdout",
     "output_type": "stream",
     "text": [
      "SPS: 66 Average Reward: -4.832168486947203\n"
     ]
    },
    {
     "name": "stderr",
     "output_type": "stream",
     "text": [
      " 76% (1118 of 1464) |###############     | Elapsed Time: 9:37:45 ETA:   2:59:17"
     ]
    },
    {
     "name": "stdout",
     "output_type": "stream",
     "text": [
      "SPS: 66 Average Reward: -4.905499934915928\n"
     ]
    },
    {
     "name": "stderr",
     "output_type": "stream",
     "text": [
      " 76% (1119 of 1464) |###############     | Elapsed Time: 9:38:16 ETA:   2:59:22"
     ]
    },
    {
     "name": "stdout",
     "output_type": "stream",
     "text": [
      "SPS: 66 Average Reward: -4.486142863662816\n"
     ]
    },
    {
     "name": "stderr",
     "output_type": "stream",
     "text": [
      " 76% (1120 of 1464) |###############     | Elapsed Time: 9:38:48 ETA:   2:59:17"
     ]
    },
    {
     "name": "stdout",
     "output_type": "stream",
     "text": [
      "SPS: 66 Average Reward: -4.680516860988716\n"
     ]
    },
    {
     "name": "stderr",
     "output_type": "stream",
     "text": [
      " 76% (1121 of 1464) |###############     | Elapsed Time: 9:39:19 ETA:   2:58:58"
     ]
    },
    {
     "name": "stdout",
     "output_type": "stream",
     "text": [
      "SPS: 66 Average Reward: -4.6515886028612075\n"
     ]
    },
    {
     "name": "stderr",
     "output_type": "stream",
     "text": [
      " 76% (1122 of 1464) |###############     | Elapsed Time: 9:39:50 ETA:   2:58:36"
     ]
    },
    {
     "name": "stdout",
     "output_type": "stream",
     "text": [
      "SPS: 66 Average Reward: -4.588628371968356\n"
     ]
    },
    {
     "name": "stderr",
     "output_type": "stream",
     "text": [
      " 76% (1123 of 1464) |###############     | Elapsed Time: 9:40:22 ETA:   2:58:01"
     ]
    },
    {
     "name": "stdout",
     "output_type": "stream",
     "text": [
      "SPS: 66 Average Reward: -5.2644043120474535\n"
     ]
    },
    {
     "name": "stderr",
     "output_type": "stream",
     "text": [
      " 76% (1124 of 1464) |###############     | Elapsed Time: 9:40:53 ETA:   2:57:30"
     ]
    },
    {
     "name": "stdout",
     "output_type": "stream",
     "text": [
      "SPS: 66 Average Reward: -5.155097722770951\n"
     ]
    },
    {
     "name": "stderr",
     "output_type": "stream",
     "text": [
      " 76% (1125 of 1464) |###############     | Elapsed Time: 9:41:24 ETA:   2:56:56"
     ]
    },
    {
     "name": "stdout",
     "output_type": "stream",
     "text": [
      "SPS: 66 Average Reward: -4.955161581830084\n"
     ]
    },
    {
     "name": "stderr",
     "output_type": "stream",
     "text": [
      " 76% (1126 of 1464) |###############     | Elapsed Time: 9:41:56 ETA:   2:56:25"
     ]
    },
    {
     "name": "stdout",
     "output_type": "stream",
     "text": [
      "SPS: 66 Average Reward: -4.476107047441452\n"
     ]
    },
    {
     "name": "stderr",
     "output_type": "stream",
     "text": [
      " 76% (1127 of 1464) |###############     | Elapsed Time: 9:42:27 ETA:   2:55:47"
     ]
    },
    {
     "name": "stdout",
     "output_type": "stream",
     "text": [
      "SPS: 66 Average Reward: -5.162779845370199\n"
     ]
    },
    {
     "name": "stderr",
     "output_type": "stream",
     "text": [
      " 77% (1128 of 1464) |###############     | Elapsed Time: 9:42:58 ETA:   2:55:46"
     ]
    },
    {
     "name": "stdout",
     "output_type": "stream",
     "text": [
      "SPS: 66 Average Reward: -5.216273824881979\n"
     ]
    },
    {
     "name": "stderr",
     "output_type": "stream",
     "text": [
      " 77% (1129 of 1464) |###############     | Elapsed Time: 9:43:30 ETA:   2:55:14"
     ]
    },
    {
     "name": "stdout",
     "output_type": "stream",
     "text": [
      "SPS: 66 Average Reward: -5.444361035354045\n"
     ]
    },
    {
     "name": "stderr",
     "output_type": "stream",
     "text": [
      " 77% (1130 of 1464) |###############     | Elapsed Time: 9:44:01 ETA:   2:53:03"
     ]
    },
    {
     "name": "stdout",
     "output_type": "stream",
     "text": [
      "SPS: 66 Average Reward: -4.884935931924688\n"
     ]
    },
    {
     "name": "stderr",
     "output_type": "stream",
     "text": [
      " 77% (1131 of 1464) |###############     | Elapsed Time: 9:44:32 ETA:   2:53:40"
     ]
    },
    {
     "name": "stdout",
     "output_type": "stream",
     "text": [
      "SPS: 66 Average Reward: -4.427260755219919\n"
     ]
    },
    {
     "name": "stderr",
     "output_type": "stream",
     "text": [
      " 77% (1132 of 1464) |###############     | Elapsed Time: 9:45:03 ETA:   2:53:24"
     ]
    },
    {
     "name": "stdout",
     "output_type": "stream",
     "text": [
      "SPS: 66 Average Reward: -5.047350689571706\n"
     ]
    },
    {
     "name": "stderr",
     "output_type": "stream",
     "text": [
      " 77% (1133 of 1464) |###############     | Elapsed Time: 9:45:34 ETA:   2:50:30"
     ]
    },
    {
     "name": "stdout",
     "output_type": "stream",
     "text": [
      "SPS: 66 Average Reward: -4.966001327701317\n"
     ]
    },
    {
     "name": "stderr",
     "output_type": "stream",
     "text": [
      " 77% (1134 of 1464) |###############     | Elapsed Time: 9:46:06 ETA:   2:52:18"
     ]
    },
    {
     "name": "stdout",
     "output_type": "stream",
     "text": [
      "SPS: 66 Average Reward: -5.029206963423128\n"
     ]
    },
    {
     "name": "stderr",
     "output_type": "stream",
     "text": [
      " 77% (1135 of 1464) |###############     | Elapsed Time: 9:46:37 ETA:   2:49:25"
     ]
    },
    {
     "name": "stdout",
     "output_type": "stream",
     "text": [
      "SPS: 66 Average Reward: -5.023258881054599\n"
     ]
    },
    {
     "name": "stderr",
     "output_type": "stream",
     "text": [
      " 77% (1136 of 1464) |###############     | Elapsed Time: 9:47:08 ETA:   2:51:13"
     ]
    },
    {
     "name": "stdout",
     "output_type": "stream",
     "text": [
      "SPS: 66 Average Reward: -5.16375332920528\n"
     ]
    },
    {
     "name": "stderr",
     "output_type": "stream",
     "text": [
      " 77% (1137 of 1464) |###############     | Elapsed Time: 9:47:39 ETA:   2:50:33"
     ]
    },
    {
     "name": "stdout",
     "output_type": "stream",
     "text": [
      "SPS: 66 Average Reward: -4.803500693444088\n"
     ]
    },
    {
     "name": "stderr",
     "output_type": "stream",
     "text": [
      " 77% (1138 of 1464) |###############     | Elapsed Time: 9:48:10 ETA:   2:49:41"
     ]
    },
    {
     "name": "stdout",
     "output_type": "stream",
     "text": [
      "SPS: 66 Average Reward: -5.293461552367888\n"
     ]
    },
    {
     "name": "stderr",
     "output_type": "stream",
     "text": [
      " 77% (1139 of 1464) |###############     | Elapsed Time: 9:48:42 ETA:   2:49:25"
     ]
    },
    {
     "name": "stdout",
     "output_type": "stream",
     "text": [
      "SPS: 66 Average Reward: -5.089748429824989\n"
     ]
    },
    {
     "name": "stderr",
     "output_type": "stream",
     "text": [
      " 77% (1140 of 1464) |###############     | Elapsed Time: 9:49:13 ETA:   2:48:59"
     ]
    },
    {
     "name": "stdout",
     "output_type": "stream",
     "text": [
      "SPS: 66 Average Reward: -4.822595300793037\n"
     ]
    },
    {
     "name": "stderr",
     "output_type": "stream",
     "text": [
      " 77% (1141 of 1464) |###############     | Elapsed Time: 9:49:44 ETA:   2:47:19"
     ]
    },
    {
     "name": "stdout",
     "output_type": "stream",
     "text": [
      "SPS: 66 Average Reward: -4.845281393482349\n"
     ]
    },
    {
     "name": "stderr",
     "output_type": "stream",
     "text": [
      " 78% (1142 of 1464) |###############     | Elapsed Time: 9:50:15 ETA:   2:47:34"
     ]
    },
    {
     "name": "stdout",
     "output_type": "stream",
     "text": [
      "SPS: 66 Average Reward: -5.35917179595333\n"
     ]
    },
    {
     "name": "stderr",
     "output_type": "stream",
     "text": [
      " 78% (1143 of 1464) |###############     | Elapsed Time: 9:50:47 ETA:   2:47:30"
     ]
    },
    {
     "name": "stdout",
     "output_type": "stream",
     "text": [
      "SPS: 66 Average Reward: -4.910900328495695\n"
     ]
    },
    {
     "name": "stderr",
     "output_type": "stream",
     "text": [
      " 78% (1144 of 1464) |###############     | Elapsed Time: 9:51:18 ETA:   2:46:58"
     ]
    },
    {
     "name": "stdout",
     "output_type": "stream",
     "text": [
      "SPS: 66 Average Reward: -4.465334877388004\n"
     ]
    },
    {
     "name": "stderr",
     "output_type": "stream",
     "text": [
      " 78% (1145 of 1464) |###############     | Elapsed Time: 9:51:49 ETA:   2:45:57"
     ]
    },
    {
     "name": "stdout",
     "output_type": "stream",
     "text": [
      "SPS: 66 Average Reward: -4.45622110652486\n"
     ]
    },
    {
     "name": "stderr",
     "output_type": "stream",
     "text": [
      " 78% (1146 of 1464) |###############     | Elapsed Time: 9:52:21 ETA:   2:46:56"
     ]
    },
    {
     "name": "stdout",
     "output_type": "stream",
     "text": [
      "SPS: 66 Average Reward: -4.7498555838191425\n"
     ]
    },
    {
     "name": "stderr",
     "output_type": "stream",
     "text": [
      " 78% (1147 of 1464) |###############     | Elapsed Time: 9:52:55 ETA:   3:01:46"
     ]
    },
    {
     "name": "stdout",
     "output_type": "stream",
     "text": [
      "SPS: 66 Average Reward: -4.971843451160187\n"
     ]
    },
    {
     "name": "stderr",
     "output_type": "stream",
     "text": [
      " 78% (1148 of 1464) |###############     | Elapsed Time: 9:53:27 ETA:   2:49:36"
     ]
    },
    {
     "name": "stdout",
     "output_type": "stream",
     "text": [
      "SPS: 66 Average Reward: -5.002454994042283\n"
     ]
    },
    {
     "name": "stderr",
     "output_type": "stream",
     "text": [
      " 78% (1149 of 1464) |###############     | Elapsed Time: 9:53:59 ETA:   2:48:10"
     ]
    },
    {
     "name": "stdout",
     "output_type": "stream",
     "text": [
      "SPS: 66 Average Reward: -4.753996538956708\n"
     ]
    },
    {
     "name": "stderr",
     "output_type": "stream",
     "text": [
      " 78% (1150 of 1464) |###############     | Elapsed Time: 9:54:31 ETA:   2:47:57"
     ]
    },
    {
     "name": "stdout",
     "output_type": "stream",
     "text": [
      "SPS: 66 Average Reward: -4.852133841311744\n"
     ]
    },
    {
     "name": "stderr",
     "output_type": "stream",
     "text": [
      " 78% (1151 of 1464) |###############     | Elapsed Time: 9:55:03 ETA:   2:47:35"
     ]
    },
    {
     "name": "stdout",
     "output_type": "stream",
     "text": [
      "SPS: 66 Average Reward: -4.963549671228821\n"
     ]
    },
    {
     "name": "stderr",
     "output_type": "stream",
     "text": [
      " 78% (1152 of 1464) |###############     | Elapsed Time: 9:55:35 ETA:   2:46:35"
     ]
    },
    {
     "name": "stdout",
     "output_type": "stream",
     "text": [
      "SPS: 66 Average Reward: -4.217752816867287\n"
     ]
    },
    {
     "name": "stderr",
     "output_type": "stream",
     "text": [
      " 78% (1153 of 1464) |###############     | Elapsed Time: 9:56:09 ETA:   2:52:26"
     ]
    },
    {
     "name": "stdout",
     "output_type": "stream",
     "text": [
      "SPS: 66 Average Reward: -4.580564745873983\n"
     ]
    },
    {
     "name": "stderr",
     "output_type": "stream",
     "text": [
      " 78% (1154 of 1464) |###############     | Elapsed Time: 9:56:41 ETA:   2:45:18"
     ]
    },
    {
     "name": "stdout",
     "output_type": "stream",
     "text": [
      "SPS: 66 Average Reward: -4.58946265363852\n"
     ]
    },
    {
     "name": "stderr",
     "output_type": "stream",
     "text": [
      " 78% (1155 of 1464) |###############     | Elapsed Time: 9:57:12 ETA:   2:41:57"
     ]
    },
    {
     "name": "stdout",
     "output_type": "stream",
     "text": [
      "SPS: 66 Average Reward: -4.801259394361821\n"
     ]
    },
    {
     "name": "stderr",
     "output_type": "stream",
     "text": [
      " 78% (1156 of 1464) |###############     | Elapsed Time: 9:57:44 ETA:   2:41:09"
     ]
    },
    {
     "name": "stdout",
     "output_type": "stream",
     "text": [
      "SPS: 66 Average Reward: -4.841754559437656\n"
     ]
    },
    {
     "name": "stderr",
     "output_type": "stream",
     "text": [
      " 79% (1157 of 1464) |###############     | Elapsed Time: 9:58:15 ETA:   2:39:56"
     ]
    },
    {
     "name": "stdout",
     "output_type": "stream",
     "text": [
      "SPS: 66 Average Reward: -4.9060291749973\n"
     ]
    },
    {
     "name": "stderr",
     "output_type": "stream",
     "text": [
      " 79% (1158 of 1464) |###############     | Elapsed Time: 9:58:46 ETA:   2:38:36"
     ]
    },
    {
     "name": "stdout",
     "output_type": "stream",
     "text": [
      "SPS: 66 Average Reward: -5.570644846537907\n"
     ]
    },
    {
     "name": "stderr",
     "output_type": "stream",
     "text": [
      " 79% (1159 of 1464) |###############     | Elapsed Time: 9:59:17 ETA:   2:37:11"
     ]
    },
    {
     "name": "stdout",
     "output_type": "stream",
     "text": [
      "SPS: 66 Average Reward: -4.802332329797688\n"
     ]
    },
    {
     "name": "stderr",
     "output_type": "stream",
     "text": [
      " 79% (1160 of 1464) |###############     | Elapsed Time: 9:59:48 ETA:   2:36:27"
     ]
    },
    {
     "name": "stdout",
     "output_type": "stream",
     "text": [
      "SPS: 66 Average Reward: -4.727741821066326\n"
     ]
    },
    {
     "name": "stderr",
     "output_type": "stream",
     "text": [
      " 79% (1161 of 1464) |###############    | Elapsed Time: 10:00:19 ETA:   2:36:11"
     ]
    },
    {
     "name": "stdout",
     "output_type": "stream",
     "text": [
      "SPS: 66 Average Reward: -4.478425230267418\n"
     ]
    },
    {
     "name": "stderr",
     "output_type": "stream",
     "text": [
      " 79% (1162 of 1464) |###############    | Elapsed Time: 10:00:52 ETA:   2:46:11"
     ]
    },
    {
     "name": "stdout",
     "output_type": "stream",
     "text": [
      "SPS: 65 Average Reward: -5.249890894470805\n"
     ]
    },
    {
     "name": "stderr",
     "output_type": "stream",
     "text": [
      " 79% (1163 of 1464) |###############    | Elapsed Time: 10:01:30 ETA:   3:10:01"
     ]
    },
    {
     "name": "stdout",
     "output_type": "stream",
     "text": [
      "SPS: 65 Average Reward: -4.700671398796261\n"
     ]
    },
    {
     "name": "stderr",
     "output_type": "stream",
     "text": [
      " 79% (1164 of 1464) |###############    | Elapsed Time: 10:02:02 ETA:   2:44:14"
     ]
    },
    {
     "name": "stdout",
     "output_type": "stream",
     "text": [
      "SPS: 65 Average Reward: -5.156921678451113\n"
     ]
    },
    {
     "name": "stderr",
     "output_type": "stream",
     "text": [
      " 79% (1165 of 1464) |###############    | Elapsed Time: 10:02:36 ETA:   2:46:17"
     ]
    },
    {
     "name": "stdout",
     "output_type": "stream",
     "text": [
      "SPS: 65 Average Reward: -4.942761164694911\n"
     ]
    },
    {
     "name": "stderr",
     "output_type": "stream",
     "text": [
      " 79% (1166 of 1464) |###############    | Elapsed Time: 10:03:07 ETA:   2:37:06"
     ]
    },
    {
     "name": "stdout",
     "output_type": "stream",
     "text": [
      "SPS: 65 Average Reward: -4.171230974899187\n"
     ]
    },
    {
     "name": "stderr",
     "output_type": "stream",
     "text": [
      " 79% (1167 of 1464) |###############    | Elapsed Time: 10:03:39 ETA:   2:35:15"
     ]
    },
    {
     "name": "stdout",
     "output_type": "stream",
     "text": [
      "SPS: 65 Average Reward: -6.770073410590867\n"
     ]
    },
    {
     "name": "stderr",
     "output_type": "stream",
     "text": [
      " 79% (1168 of 1464) |###############    | Elapsed Time: 10:04:11 ETA:   2:38:07"
     ]
    },
    {
     "name": "stdout",
     "output_type": "stream",
     "text": [
      "SPS: 65 Average Reward: -5.29535775756289\n"
     ]
    },
    {
     "name": "stderr",
     "output_type": "stream",
     "text": [
      " 79% (1169 of 1464) |###############    | Elapsed Time: 10:04:42 ETA:   2:35:34"
     ]
    },
    {
     "name": "stdout",
     "output_type": "stream",
     "text": [
      "SPS: 65 Average Reward: -4.449068021506576\n"
     ]
    },
    {
     "name": "stderr",
     "output_type": "stream",
     "text": [
      " 79% (1170 of 1464) |###############    | Elapsed Time: 10:05:15 ETA:   2:37:14"
     ]
    },
    {
     "name": "stdout",
     "output_type": "stream",
     "text": [
      "SPS: 65 Average Reward: -4.847581351832148\n"
     ]
    },
    {
     "name": "stderr",
     "output_type": "stream",
     "text": [
      " 79% (1171 of 1464) |###############    | Elapsed Time: 10:05:47 ETA:   2:36:57"
     ]
    },
    {
     "name": "stdout",
     "output_type": "stream",
     "text": [
      "SPS: 65 Average Reward: -4.783729530426862\n"
     ]
    },
    {
     "name": "stderr",
     "output_type": "stream",
     "text": [
      " 80% (1172 of 1464) |###############    | Elapsed Time: 10:06:19 ETA:   2:36:15"
     ]
    },
    {
     "name": "stdout",
     "output_type": "stream",
     "text": [
      "SPS: 65 Average Reward: -4.980076592799364\n"
     ]
    },
    {
     "name": "stderr",
     "output_type": "stream",
     "text": [
      " 80% (1173 of 1464) |###############    | Elapsed Time: 10:06:51 ETA:   2:35:34"
     ]
    },
    {
     "name": "stdout",
     "output_type": "stream",
     "text": [
      "SPS: 65 Average Reward: -4.9165684909083485\n"
     ]
    },
    {
     "name": "stderr",
     "output_type": "stream",
     "text": [
      " 80% (1174 of 1464) |###############    | Elapsed Time: 10:07:23 ETA:   2:35:47"
     ]
    },
    {
     "name": "stdout",
     "output_type": "stream",
     "text": [
      "SPS: 65 Average Reward: -4.513909478384415\n"
     ]
    },
    {
     "name": "stderr",
     "output_type": "stream",
     "text": [
      " 80% (1175 of 1464) |###############    | Elapsed Time: 10:07:55 ETA:   2:34:40"
     ]
    },
    {
     "name": "stdout",
     "output_type": "stream",
     "text": [
      "SPS: 65 Average Reward: -5.060388467642333\n"
     ]
    },
    {
     "name": "stderr",
     "output_type": "stream",
     "text": [
      " 80% (1176 of 1464) |###############    | Elapsed Time: 10:08:28 ETA:   2:39:35"
     ]
    },
    {
     "name": "stdout",
     "output_type": "stream",
     "text": [
      "SPS: 65 Average Reward: -4.672133304357817\n"
     ]
    },
    {
     "name": "stderr",
     "output_type": "stream",
     "text": [
      " 80% (1177 of 1464) |###############    | Elapsed Time: 10:09:01 ETA:   2:34:14"
     ]
    },
    {
     "name": "stdout",
     "output_type": "stream",
     "text": [
      "SPS: 65 Average Reward: -4.716593269538605\n"
     ]
    },
    {
     "name": "stderr",
     "output_type": "stream",
     "text": [
      " 80% (1178 of 1464) |###############    | Elapsed Time: 10:09:32 ETA:   2:29:55"
     ]
    },
    {
     "name": "stdout",
     "output_type": "stream",
     "text": [
      "SPS: 65 Average Reward: -5.021060030502444\n"
     ]
    },
    {
     "name": "stderr",
     "output_type": "stream",
     "text": [
      " 80% (1179 of 1464) |###############    | Elapsed Time: 10:10:04 ETA:   2:28:45"
     ]
    },
    {
     "name": "stdout",
     "output_type": "stream",
     "text": [
      "SPS: 65 Average Reward: -4.513601605688737\n"
     ]
    },
    {
     "name": "stderr",
     "output_type": "stream",
     "text": [
      " 80% (1180 of 1464) |###############    | Elapsed Time: 10:10:35 ETA:   2:27:13"
     ]
    },
    {
     "name": "stdout",
     "output_type": "stream",
     "text": [
      "SPS: 65 Average Reward: -4.918965399017537\n"
     ]
    },
    {
     "name": "stderr",
     "output_type": "stream",
     "text": [
      " 80% (1181 of 1464) |###############    | Elapsed Time: 10:11:05 ETA:   2:22:20"
     ]
    },
    {
     "name": "stdout",
     "output_type": "stream",
     "text": [
      "SPS: 65 Average Reward: -6.7658920854192175\n"
     ]
    },
    {
     "name": "stderr",
     "output_type": "stream",
     "text": [
      " 80% (1182 of 1464) |###############    | Elapsed Time: 10:11:35 ETA:   2:21:33"
     ]
    },
    {
     "name": "stdout",
     "output_type": "stream",
     "text": [
      "SPS: 65 Average Reward: -5.392252338976527\n"
     ]
    },
    {
     "name": "stderr",
     "output_type": "stream",
     "text": [
      " 80% (1183 of 1464) |###############    | Elapsed Time: 10:12:05 ETA:   2:22:35"
     ]
    },
    {
     "name": "stdout",
     "output_type": "stream",
     "text": [
      "SPS: 65 Average Reward: -4.786084984644397\n"
     ]
    },
    {
     "name": "stderr",
     "output_type": "stream",
     "text": [
      " 80% (1184 of 1464) |###############    | Elapsed Time: 10:12:36 ETA:   2:23:53"
     ]
    },
    {
     "name": "stdout",
     "output_type": "stream",
     "text": [
      "SPS: 65 Average Reward: -4.576127782363541\n"
     ]
    },
    {
     "name": "stderr",
     "output_type": "stream",
     "text": [
      " 80% (1185 of 1464) |###############    | Elapsed Time: 10:13:07 ETA:   2:23:53"
     ]
    },
    {
     "name": "stdout",
     "output_type": "stream",
     "text": [
      "SPS: 65 Average Reward: -4.850120550252565\n"
     ]
    },
    {
     "name": "stderr",
     "output_type": "stream",
     "text": [
      " 81% (1186 of 1464) |###############    | Elapsed Time: 10:13:38 ETA:   2:22:57"
     ]
    },
    {
     "name": "stdout",
     "output_type": "stream",
     "text": [
      "SPS: 65 Average Reward: -4.501791922941234\n"
     ]
    },
    {
     "name": "stderr",
     "output_type": "stream",
     "text": [
      " 81% (1187 of 1464) |###############    | Elapsed Time: 10:14:09 ETA:   2:22:36"
     ]
    },
    {
     "name": "stdout",
     "output_type": "stream",
     "text": [
      "SPS: 65 Average Reward: -4.35836512950846\n"
     ]
    },
    {
     "name": "stderr",
     "output_type": "stream",
     "text": [
      " 81% (1188 of 1464) |###############    | Elapsed Time: 10:14:40 ETA:   2:22:13"
     ]
    },
    {
     "name": "stdout",
     "output_type": "stream",
     "text": [
      "SPS: 65 Average Reward: -4.707257732626172\n"
     ]
    },
    {
     "name": "stderr",
     "output_type": "stream",
     "text": [
      " 81% (1189 of 1464) |###############    | Elapsed Time: 10:15:10 ETA:   2:19:39"
     ]
    },
    {
     "name": "stdout",
     "output_type": "stream",
     "text": [
      "SPS: 65 Average Reward: -4.658447132062595\n"
     ]
    },
    {
     "name": "stderr",
     "output_type": "stream",
     "text": [
      " 81% (1190 of 1464) |###############    | Elapsed Time: 10:15:41 ETA:   2:21:32"
     ]
    },
    {
     "name": "stdout",
     "output_type": "stream",
     "text": [
      "SPS: 65 Average Reward: -4.894831226595948\n"
     ]
    },
    {
     "name": "stderr",
     "output_type": "stream",
     "text": [
      " 81% (1191 of 1464) |###############    | Elapsed Time: 10:16:12 ETA:   2:20:55"
     ]
    },
    {
     "name": "stdout",
     "output_type": "stream",
     "text": [
      "SPS: 65 Average Reward: -4.7114625393434215\n"
     ]
    },
    {
     "name": "stderr",
     "output_type": "stream",
     "text": [
      " 81% (1192 of 1464) |###############    | Elapsed Time: 10:16:43 ETA:   2:20:50"
     ]
    },
    {
     "name": "stdout",
     "output_type": "stream",
     "text": [
      "SPS: 65 Average Reward: -4.667244795195252\n"
     ]
    },
    {
     "name": "stderr",
     "output_type": "stream",
     "text": [
      " 81% (1193 of 1464) |###############    | Elapsed Time: 10:17:14 ETA:   2:19:52"
     ]
    },
    {
     "name": "stdout",
     "output_type": "stream",
     "text": [
      "SPS: 65 Average Reward: -5.058710645288208\n"
     ]
    },
    {
     "name": "stderr",
     "output_type": "stream",
     "text": [
      " 81% (1194 of 1464) |###############    | Elapsed Time: 10:17:45 ETA:   2:19:45"
     ]
    },
    {
     "name": "stdout",
     "output_type": "stream",
     "text": [
      "SPS: 65 Average Reward: -4.782019932892496\n"
     ]
    },
    {
     "name": "stderr",
     "output_type": "stream",
     "text": [
      " 81% (1195 of 1464) |###############    | Elapsed Time: 10:18:16 ETA:   2:19:06"
     ]
    },
    {
     "name": "stdout",
     "output_type": "stream",
     "text": [
      "SPS: 65 Average Reward: -5.148399651597398\n"
     ]
    },
    {
     "name": "stderr",
     "output_type": "stream",
     "text": [
      " 81% (1196 of 1464) |###############    | Elapsed Time: 10:18:47 ETA:   2:18:18"
     ]
    },
    {
     "name": "stdout",
     "output_type": "stream",
     "text": [
      "SPS: 65 Average Reward: -4.752997997376453\n"
     ]
    },
    {
     "name": "stderr",
     "output_type": "stream",
     "text": [
      " 81% (1197 of 1464) |###############    | Elapsed Time: 10:19:18 ETA:   2:18:04"
     ]
    },
    {
     "name": "stdout",
     "output_type": "stream",
     "text": [
      "SPS: 65 Average Reward: -5.150326135759062\n"
     ]
    },
    {
     "name": "stderr",
     "output_type": "stream",
     "text": [
      " 81% (1198 of 1464) |###############    | Elapsed Time: 10:19:49 ETA:   2:17:32"
     ]
    },
    {
     "name": "stdout",
     "output_type": "stream",
     "text": [
      "SPS: 65 Average Reward: -4.597369702992657\n"
     ]
    },
    {
     "name": "stderr",
     "output_type": "stream",
     "text": [
      " 81% (1199 of 1464) |###############    | Elapsed Time: 10:20:20 ETA:   2:17:11"
     ]
    },
    {
     "name": "stdout",
     "output_type": "stream",
     "text": [
      "SPS: 65 Average Reward: -4.521614735615475\n"
     ]
    },
    {
     "name": "stderr",
     "output_type": "stream",
     "text": [
      " 81% (1200 of 1464) |###############    | Elapsed Time: 10:20:51 ETA:   2:15:06"
     ]
    },
    {
     "name": "stdout",
     "output_type": "stream",
     "text": [
      "SPS: 65 Average Reward: -5.114610568338688\n"
     ]
    },
    {
     "name": "stderr",
     "output_type": "stream",
     "text": [
      " 82% (1201 of 1464) |###############    | Elapsed Time: 10:21:22 ETA:   2:15:59"
     ]
    },
    {
     "name": "stdout",
     "output_type": "stream",
     "text": [
      "SPS: 65 Average Reward: -5.317944288064977\n"
     ]
    },
    {
     "name": "stderr",
     "output_type": "stream",
     "text": [
      " 82% (1202 of 1464) |###############    | Elapsed Time: 10:21:53 ETA:   2:15:45"
     ]
    },
    {
     "name": "stdout",
     "output_type": "stream",
     "text": [
      "SPS: 65 Average Reward: -4.734099475847614\n"
     ]
    },
    {
     "name": "stderr",
     "output_type": "stream",
     "text": [
      " 82% (1203 of 1464) |###############    | Elapsed Time: 10:22:24 ETA:   2:15:09"
     ]
    },
    {
     "name": "stdout",
     "output_type": "stream",
     "text": [
      "SPS: 65 Average Reward: -5.003227118854128\n"
     ]
    },
    {
     "name": "stderr",
     "output_type": "stream",
     "text": [
      " 82% (1204 of 1464) |###############    | Elapsed Time: 10:22:55 ETA:   2:14:36"
     ]
    },
    {
     "name": "stdout",
     "output_type": "stream",
     "text": [
      "SPS: 65 Average Reward: -4.898638560490827\n"
     ]
    },
    {
     "name": "stderr",
     "output_type": "stream",
     "text": [
      " 82% (1205 of 1464) |###############    | Elapsed Time: 10:23:26 ETA:   2:13:54"
     ]
    },
    {
     "name": "stdout",
     "output_type": "stream",
     "text": [
      "SPS: 65 Average Reward: -4.520713456280725\n"
     ]
    },
    {
     "name": "stderr",
     "output_type": "stream",
     "text": [
      " 82% (1206 of 1464) |###############    | Elapsed Time: 10:23:57 ETA:   2:13:39"
     ]
    },
    {
     "name": "stdout",
     "output_type": "stream",
     "text": [
      "SPS: 65 Average Reward: -4.990925097732899\n"
     ]
    },
    {
     "name": "stderr",
     "output_type": "stream",
     "text": [
      " 82% (1207 of 1464) |###############    | Elapsed Time: 10:24:29 ETA:   2:12:49"
     ]
    },
    {
     "name": "stdout",
     "output_type": "stream",
     "text": [
      "SPS: 65 Average Reward: -4.861788864830682\n"
     ]
    },
    {
     "name": "stderr",
     "output_type": "stream",
     "text": [
      " 82% (1208 of 1464) |###############    | Elapsed Time: 10:25:00 ETA:   2:12:26"
     ]
    },
    {
     "name": "stdout",
     "output_type": "stream",
     "text": [
      "SPS: 65 Average Reward: -4.891767417276257\n"
     ]
    },
    {
     "name": "stderr",
     "output_type": "stream",
     "text": [
      " 82% (1209 of 1464) |###############    | Elapsed Time: 10:25:31 ETA:   2:11:50"
     ]
    },
    {
     "name": "stdout",
     "output_type": "stream",
     "text": [
      "SPS: 65 Average Reward: -4.740068040811739\n"
     ]
    },
    {
     "name": "stderr",
     "output_type": "stream",
     "text": [
      " 82% (1210 of 1464) |###############    | Elapsed Time: 10:26:01 ETA:   2:10:52"
     ]
    },
    {
     "name": "stdout",
     "output_type": "stream",
     "text": [
      "SPS: 65 Average Reward: -4.910036120765803\n"
     ]
    },
    {
     "name": "stderr",
     "output_type": "stream",
     "text": [
      " 82% (1211 of 1464) |###############    | Elapsed Time: 10:26:33 ETA:   2:10:51"
     ]
    },
    {
     "name": "stdout",
     "output_type": "stream",
     "text": [
      "SPS: 65 Average Reward: -4.502564088795671\n"
     ]
    },
    {
     "name": "stderr",
     "output_type": "stream",
     "text": [
      " 82% (1212 of 1464) |###############    | Elapsed Time: 10:27:04 ETA:   2:10:22"
     ]
    },
    {
     "name": "stdout",
     "output_type": "stream",
     "text": [
      "SPS: 65 Average Reward: -5.023119634864048\n"
     ]
    },
    {
     "name": "stderr",
     "output_type": "stream",
     "text": [
      " 82% (1213 of 1464) |###############    | Elapsed Time: 10:27:35 ETA:   2:09:54"
     ]
    },
    {
     "name": "stdout",
     "output_type": "stream",
     "text": [
      "SPS: 65 Average Reward: -4.65200437250327\n"
     ]
    },
    {
     "name": "stderr",
     "output_type": "stream",
     "text": [
      " 82% (1214 of 1464) |###############    | Elapsed Time: 10:28:06 ETA:   2:09:14"
     ]
    },
    {
     "name": "stdout",
     "output_type": "stream",
     "text": [
      "SPS: 65 Average Reward: -5.045044460371454\n"
     ]
    },
    {
     "name": "stderr",
     "output_type": "stream",
     "text": [
      " 82% (1215 of 1464) |###############    | Elapsed Time: 10:28:37 ETA:   2:08:49"
     ]
    },
    {
     "name": "stdout",
     "output_type": "stream",
     "text": [
      "SPS: 65 Average Reward: -4.633624871318058\n"
     ]
    },
    {
     "name": "stderr",
     "output_type": "stream",
     "text": [
      " 83% (1216 of 1464) |###############    | Elapsed Time: 10:29:08 ETA:   2:08:04"
     ]
    },
    {
     "name": "stdout",
     "output_type": "stream",
     "text": [
      "SPS: 65 Average Reward: -5.527948721358427\n"
     ]
    },
    {
     "name": "stderr",
     "output_type": "stream",
     "text": [
      " 83% (1217 of 1464) |###############    | Elapsed Time: 10:29:38 ETA:   2:06:56"
     ]
    },
    {
     "name": "stdout",
     "output_type": "stream",
     "text": [
      "SPS: 65 Average Reward: -5.234216732020077\n"
     ]
    },
    {
     "name": "stderr",
     "output_type": "stream",
     "text": [
      " 83% (1218 of 1464) |###############    | Elapsed Time: 10:30:09 ETA:   2:07:06"
     ]
    },
    {
     "name": "stdout",
     "output_type": "stream",
     "text": [
      "SPS: 65 Average Reward: -5.082589789693435\n"
     ]
    },
    {
     "name": "stderr",
     "output_type": "stream",
     "text": [
      " 83% (1219 of 1464) |###############    | Elapsed Time: 10:30:41 ETA:   2:06:40"
     ]
    },
    {
     "name": "stdout",
     "output_type": "stream",
     "text": [
      "SPS: 65 Average Reward: -4.994872454237985\n"
     ]
    },
    {
     "name": "stderr",
     "output_type": "stream",
     "text": [
      " 83% (1220 of 1464) |###############    | Elapsed Time: 10:31:12 ETA:   2:06:31"
     ]
    },
    {
     "name": "stdout",
     "output_type": "stream",
     "text": [
      "SPS: 65 Average Reward: -4.746572537187772\n"
     ]
    },
    {
     "name": "stderr",
     "output_type": "stream",
     "text": [
      " 83% (1221 of 1464) |###############    | Elapsed Time: 10:31:43 ETA:   2:05:51"
     ]
    },
    {
     "name": "stdout",
     "output_type": "stream",
     "text": [
      "SPS: 65 Average Reward: -4.216933978790299\n"
     ]
    },
    {
     "name": "stderr",
     "output_type": "stream",
     "text": [
      " 83% (1222 of 1464) |###############    | Elapsed Time: 10:32:14 ETA:   2:04:40"
     ]
    },
    {
     "name": "stdout",
     "output_type": "stream",
     "text": [
      "SPS: 65 Average Reward: -4.822459468313784\n"
     ]
    },
    {
     "name": "stderr",
     "output_type": "stream",
     "text": [
      " 83% (1223 of 1464) |###############    | Elapsed Time: 10:32:45 ETA:   2:04:31"
     ]
    },
    {
     "name": "stdout",
     "output_type": "stream",
     "text": [
      "SPS: 65 Average Reward: -4.556333529082997\n"
     ]
    },
    {
     "name": "stderr",
     "output_type": "stream",
     "text": [
      " 83% (1224 of 1464) |###############    | Elapsed Time: 10:33:16 ETA:   2:03:49"
     ]
    },
    {
     "name": "stdout",
     "output_type": "stream",
     "text": [
      "SPS: 65 Average Reward: -4.713394394708423\n"
     ]
    },
    {
     "name": "stderr",
     "output_type": "stream",
     "text": [
      " 83% (1225 of 1464) |###############    | Elapsed Time: 10:33:47 ETA:   2:03:40"
     ]
    },
    {
     "name": "stdout",
     "output_type": "stream",
     "text": [
      "SPS: 65 Average Reward: -4.682610294904563\n"
     ]
    },
    {
     "name": "stderr",
     "output_type": "stream",
     "text": [
      " 83% (1226 of 1464) |###############    | Elapsed Time: 10:34:18 ETA:   2:03:06"
     ]
    },
    {
     "name": "stdout",
     "output_type": "stream",
     "text": [
      "SPS: 65 Average Reward: -4.447266725652644\n"
     ]
    },
    {
     "name": "stderr",
     "output_type": "stream",
     "text": [
      " 83% (1227 of 1464) |###############    | Elapsed Time: 10:34:49 ETA:   2:02:47"
     ]
    },
    {
     "name": "stdout",
     "output_type": "stream",
     "text": [
      "SPS: 65 Average Reward: -5.1472091934304665\n"
     ]
    },
    {
     "name": "stderr",
     "output_type": "stream",
     "text": [
      " 83% (1228 of 1464) |###############    | Elapsed Time: 10:35:20 ETA:   2:01:55"
     ]
    },
    {
     "name": "stdout",
     "output_type": "stream",
     "text": [
      "SPS: 65 Average Reward: -4.7124280419673\n"
     ]
    },
    {
     "name": "stderr",
     "output_type": "stream",
     "text": [
      " 83% (1229 of 1464) |###############    | Elapsed Time: 10:35:51 ETA:   2:01:22"
     ]
    },
    {
     "name": "stdout",
     "output_type": "stream",
     "text": [
      "SPS: 65 Average Reward: -4.755615221958536\n"
     ]
    },
    {
     "name": "stderr",
     "output_type": "stream",
     "text": [
      " 84% (1230 of 1464) |###############    | Elapsed Time: 10:36:22 ETA:   2:00:18"
     ]
    },
    {
     "name": "stdout",
     "output_type": "stream",
     "text": [
      "SPS: 65 Average Reward: -4.771290330220872\n"
     ]
    },
    {
     "name": "stderr",
     "output_type": "stream",
     "text": [
      " 84% (1231 of 1464) |###############    | Elapsed Time: 10:36:52 ETA:   1:59:43"
     ]
    },
    {
     "name": "stdout",
     "output_type": "stream",
     "text": [
      "SPS: 65 Average Reward: -4.753512366178394\n"
     ]
    },
    {
     "name": "stderr",
     "output_type": "stream",
     "text": [
      " 84% (1232 of 1464) |###############    | Elapsed Time: 10:37:23 ETA:   1:59:52"
     ]
    },
    {
     "name": "stdout",
     "output_type": "stream",
     "text": [
      "SPS: 65 Average Reward: -4.706119485381262\n"
     ]
    },
    {
     "name": "stderr",
     "output_type": "stream",
     "text": [
      " 84% (1233 of 1464) |################   | Elapsed Time: 10:37:54 ETA:   1:58:06"
     ]
    },
    {
     "name": "stdout",
     "output_type": "stream",
     "text": [
      "SPS: 65 Average Reward: -4.723031608707244\n"
     ]
    },
    {
     "name": "stderr",
     "output_type": "stream",
     "text": [
      " 84% (1234 of 1464) |################   | Elapsed Time: 10:38:25 ETA:   1:58:43"
     ]
    },
    {
     "name": "stdout",
     "output_type": "stream",
     "text": [
      "SPS: 65 Average Reward: -4.718368137314508\n"
     ]
    },
    {
     "name": "stderr",
     "output_type": "stream",
     "text": [
      " 84% (1235 of 1464) |################   | Elapsed Time: 10:38:56 ETA:   1:58:08"
     ]
    },
    {
     "name": "stdout",
     "output_type": "stream",
     "text": [
      "SPS: 65 Average Reward: -5.148990156289311\n"
     ]
    },
    {
     "name": "stderr",
     "output_type": "stream",
     "text": [
      " 84% (1236 of 1464) |################   | Elapsed Time: 10:39:27 ETA:   1:57:35"
     ]
    },
    {
     "name": "stdout",
     "output_type": "stream",
     "text": [
      "SPS: 65 Average Reward: -5.190125313508951\n"
     ]
    },
    {
     "name": "stderr",
     "output_type": "stream",
     "text": [
      " 84% (1237 of 1464) |################   | Elapsed Time: 10:39:58 ETA:   1:57:22"
     ]
    },
    {
     "name": "stdout",
     "output_type": "stream",
     "text": [
      "SPS: 65 Average Reward: -4.982021355708714\n"
     ]
    },
    {
     "name": "stderr",
     "output_type": "stream",
     "text": [
      " 84% (1238 of 1464) |################   | Elapsed Time: 10:40:29 ETA:   1:56:26"
     ]
    },
    {
     "name": "stdout",
     "output_type": "stream",
     "text": [
      "SPS: 65 Average Reward: -4.869775335139689\n"
     ]
    },
    {
     "name": "stderr",
     "output_type": "stream",
     "text": [
      " 84% (1239 of 1464) |################   | Elapsed Time: 10:41:00 ETA:   1:55:21"
     ]
    },
    {
     "name": "stdout",
     "output_type": "stream",
     "text": [
      "SPS: 65 Average Reward: -4.686365502605586\n"
     ]
    },
    {
     "name": "stderr",
     "output_type": "stream",
     "text": [
      " 84% (1240 of 1464) |################   | Elapsed Time: 10:41:31 ETA:   1:55:42"
     ]
    },
    {
     "name": "stdout",
     "output_type": "stream",
     "text": [
      "SPS: 65 Average Reward: -4.692090472270627\n"
     ]
    },
    {
     "name": "stderr",
     "output_type": "stream",
     "text": [
      " 84% (1241 of 1464) |################   | Elapsed Time: 10:42:02 ETA:   1:55:05"
     ]
    },
    {
     "name": "stdout",
     "output_type": "stream",
     "text": [
      "SPS: 65 Average Reward: -4.89048173224572\n"
     ]
    },
    {
     "name": "stderr",
     "output_type": "stream",
     "text": [
      " 84% (1242 of 1464) |################   | Elapsed Time: 10:42:33 ETA:   1:54:53"
     ]
    },
    {
     "name": "stdout",
     "output_type": "stream",
     "text": [
      "SPS: 65 Average Reward: -4.615268133937373\n"
     ]
    },
    {
     "name": "stderr",
     "output_type": "stream",
     "text": [
      " 84% (1243 of 1464) |################   | Elapsed Time: 10:43:04 ETA:   1:54:10"
     ]
    },
    {
     "name": "stdout",
     "output_type": "stream",
     "text": [
      "SPS: 65 Average Reward: -5.017776668313021\n"
     ]
    },
    {
     "name": "stderr",
     "output_type": "stream",
     "text": [
      " 84% (1244 of 1464) |################   | Elapsed Time: 10:43:35 ETA:   1:53:41"
     ]
    },
    {
     "name": "stdout",
     "output_type": "stream",
     "text": [
      "SPS: 65 Average Reward: -4.544907859705872\n"
     ]
    },
    {
     "name": "stderr",
     "output_type": "stream",
     "text": [
      " 85% (1245 of 1464) |################   | Elapsed Time: 10:44:06 ETA:   1:53:10"
     ]
    },
    {
     "name": "stdout",
     "output_type": "stream",
     "text": [
      "SPS: 65 Average Reward: -4.4956070840506746\n"
     ]
    },
    {
     "name": "stderr",
     "output_type": "stream",
     "text": [
      " 85% (1246 of 1464) |################   | Elapsed Time: 10:44:37 ETA:   1:53:00"
     ]
    },
    {
     "name": "stdout",
     "output_type": "stream",
     "text": [
      "SPS: 65 Average Reward: -4.765234776980166\n"
     ]
    },
    {
     "name": "stderr",
     "output_type": "stream",
     "text": [
      " 85% (1247 of 1464) |################   | Elapsed Time: 10:45:08 ETA:   1:52:00"
     ]
    },
    {
     "name": "stdout",
     "output_type": "stream",
     "text": [
      "SPS: 65 Average Reward: -4.5461660650154005\n"
     ]
    },
    {
     "name": "stderr",
     "output_type": "stream",
     "text": [
      " 85% (1248 of 1464) |################   | Elapsed Time: 10:45:42 ETA:   2:02:49"
     ]
    },
    {
     "name": "stdout",
     "output_type": "stream",
     "text": [
      "SPS: 65 Average Reward: -4.7791156681286155\n"
     ]
    },
    {
     "name": "stderr",
     "output_type": "stream",
     "text": [
      " 85% (1249 of 1464) |################   | Elapsed Time: 10:46:14 ETA:   1:54:05"
     ]
    },
    {
     "name": "stdout",
     "output_type": "stream",
     "text": [
      "SPS: 65 Average Reward: -4.688048905500883\n"
     ]
    },
    {
     "name": "stderr",
     "output_type": "stream",
     "text": [
      " 85% (1250 of 1464) |################   | Elapsed Time: 10:46:45 ETA:   1:50:06"
     ]
    },
    {
     "name": "stdout",
     "output_type": "stream",
     "text": [
      "SPS: 65 Average Reward: -4.6384178709977455\n"
     ]
    },
    {
     "name": "stderr",
     "output_type": "stream",
     "text": [
      " 85% (1251 of 1464) |################   | Elapsed Time: 10:47:15 ETA:   1:48:46"
     ]
    },
    {
     "name": "stdout",
     "output_type": "stream",
     "text": [
      "SPS: 65 Average Reward: -4.715170117565539\n"
     ]
    },
    {
     "name": "stderr",
     "output_type": "stream",
     "text": [
      " 85% (1252 of 1464) |################   | Elapsed Time: 10:47:46 ETA:   1:48:59"
     ]
    },
    {
     "name": "stdout",
     "output_type": "stream",
     "text": [
      "SPS: 65 Average Reward: -4.53418398670412\n"
     ]
    },
    {
     "name": "stderr",
     "output_type": "stream",
     "text": [
      " 85% (1253 of 1464) |################   | Elapsed Time: 10:48:17 ETA:   1:48:14"
     ]
    },
    {
     "name": "stdout",
     "output_type": "stream",
     "text": [
      "SPS: 65 Average Reward: -4.6719351358647\n"
     ]
    },
    {
     "name": "stderr",
     "output_type": "stream",
     "text": [
      " 85% (1254 of 1464) |################   | Elapsed Time: 10:48:48 ETA:   1:50:11"
     ]
    },
    {
     "name": "stdout",
     "output_type": "stream",
     "text": [
      "SPS: 65 Average Reward: -4.878714893208989\n"
     ]
    },
    {
     "name": "stderr",
     "output_type": "stream",
     "text": [
      " 85% (1255 of 1464) |################   | Elapsed Time: 10:49:20 ETA:   1:48:50"
     ]
    },
    {
     "name": "stdout",
     "output_type": "stream",
     "text": [
      "SPS: 65 Average Reward: -4.4120217631038665\n"
     ]
    },
    {
     "name": "stderr",
     "output_type": "stream",
     "text": [
      " 85% (1256 of 1464) |################   | Elapsed Time: 10:49:51 ETA:   1:48:24"
     ]
    },
    {
     "name": "stdout",
     "output_type": "stream",
     "text": [
      "SPS: 65 Average Reward: -4.87116972962383\n"
     ]
    },
    {
     "name": "stderr",
     "output_type": "stream",
     "text": [
      " 85% (1257 of 1464) |################   | Elapsed Time: 10:50:22 ETA:   1:48:08"
     ]
    },
    {
     "name": "stdout",
     "output_type": "stream",
     "text": [
      "SPS: 65 Average Reward: -4.584189168339989\n"
     ]
    },
    {
     "name": "stderr",
     "output_type": "stream",
     "text": [
      " 85% (1258 of 1464) |################   | Elapsed Time: 10:50:54 ETA:   1:47:46"
     ]
    },
    {
     "name": "stdout",
     "output_type": "stream",
     "text": [
      "SPS: 65 Average Reward: -4.288811547471148\n"
     ]
    },
    {
     "name": "stderr",
     "output_type": "stream",
     "text": [
      " 85% (1259 of 1464) |################   | Elapsed Time: 10:51:25 ETA:   1:45:46"
     ]
    },
    {
     "name": "stdout",
     "output_type": "stream",
     "text": [
      "SPS: 65 Average Reward: -4.735776491642333\n"
     ]
    },
    {
     "name": "stderr",
     "output_type": "stream",
     "text": [
      " 86% (1260 of 1464) |################   | Elapsed Time: 10:51:56 ETA:   1:45:17"
     ]
    },
    {
     "name": "stdout",
     "output_type": "stream",
     "text": [
      "SPS: 65 Average Reward: -4.774226484440219\n"
     ]
    },
    {
     "name": "stderr",
     "output_type": "stream",
     "text": [
      " 86% (1261 of 1464) |################   | Elapsed Time: 10:52:26 ETA:   1:44:32"
     ]
    },
    {
     "name": "stdout",
     "output_type": "stream",
     "text": [
      "SPS: 65 Average Reward: -5.138873974028409\n"
     ]
    },
    {
     "name": "stderr",
     "output_type": "stream",
     "text": [
      " 86% (1262 of 1464) |################   | Elapsed Time: 10:52:57 ETA:   1:43:46"
     ]
    },
    {
     "name": "stdout",
     "output_type": "stream",
     "text": [
      "SPS: 65 Average Reward: -5.065056761644659\n"
     ]
    },
    {
     "name": "stderr",
     "output_type": "stream",
     "text": [
      " 86% (1263 of 1464) |################   | Elapsed Time: 10:53:28 ETA:   1:43:32"
     ]
    },
    {
     "name": "stdout",
     "output_type": "stream",
     "text": [
      "SPS: 65 Average Reward: -4.496356332344477\n"
     ]
    },
    {
     "name": "stderr",
     "output_type": "stream",
     "text": [
      " 86% (1264 of 1464) |################   | Elapsed Time: 10:53:59 ETA:   1:43:17"
     ]
    },
    {
     "name": "stdout",
     "output_type": "stream",
     "text": [
      "SPS: 65 Average Reward: -4.673403790561179\n"
     ]
    },
    {
     "name": "stderr",
     "output_type": "stream",
     "text": [
      " 86% (1265 of 1464) |################   | Elapsed Time: 10:54:30 ETA:   1:43:11"
     ]
    },
    {
     "name": "stdout",
     "output_type": "stream",
     "text": [
      "SPS: 65 Average Reward: -4.805931575998016\n"
     ]
    },
    {
     "name": "stderr",
     "output_type": "stream",
     "text": [
      " 86% (1266 of 1464) |################   | Elapsed Time: 10:55:01 ETA:   1:42:19"
     ]
    },
    {
     "name": "stdout",
     "output_type": "stream",
     "text": [
      "SPS: 65 Average Reward: -5.1879175424798545\n"
     ]
    },
    {
     "name": "stderr",
     "output_type": "stream",
     "text": [
      " 86% (1267 of 1464) |################   | Elapsed Time: 10:55:32 ETA:   1:41:54"
     ]
    },
    {
     "name": "stdout",
     "output_type": "stream",
     "text": [
      "SPS: 65 Average Reward: -4.792649157683655\n"
     ]
    },
    {
     "name": "stderr",
     "output_type": "stream",
     "text": [
      " 86% (1268 of 1464) |################   | Elapsed Time: 10:56:03 ETA:   1:41:06"
     ]
    },
    {
     "name": "stdout",
     "output_type": "stream",
     "text": [
      "SPS: 65 Average Reward: -4.789111754980752\n"
     ]
    },
    {
     "name": "stderr",
     "output_type": "stream",
     "text": [
      " 86% (1269 of 1464) |################   | Elapsed Time: 10:56:34 ETA:   1:39:57"
     ]
    },
    {
     "name": "stdout",
     "output_type": "stream",
     "text": [
      "SPS: 65 Average Reward: -5.391008161358611\n"
     ]
    },
    {
     "name": "stderr",
     "output_type": "stream",
     "text": [
      " 86% (1270 of 1464) |################   | Elapsed Time: 10:57:05 ETA:   1:40:13"
     ]
    },
    {
     "name": "stdout",
     "output_type": "stream",
     "text": [
      "SPS: 65 Average Reward: -4.7362893344099275\n"
     ]
    },
    {
     "name": "stderr",
     "output_type": "stream",
     "text": [
      " 86% (1271 of 1464) |################   | Elapsed Time: 10:57:36 ETA:   1:40:15"
     ]
    },
    {
     "name": "stdout",
     "output_type": "stream",
     "text": [
      "SPS: 65 Average Reward: -5.044224285084797\n"
     ]
    },
    {
     "name": "stderr",
     "output_type": "stream",
     "text": [
      " 86% (1272 of 1464) |################   | Elapsed Time: 10:58:07 ETA:   1:37:58"
     ]
    },
    {
     "name": "stdout",
     "output_type": "stream",
     "text": [
      "SPS: 65 Average Reward: -5.398927064188448\n"
     ]
    },
    {
     "name": "stderr",
     "output_type": "stream",
     "text": [
      " 86% (1273 of 1464) |################   | Elapsed Time: 10:58:38 ETA:   1:38:58"
     ]
    },
    {
     "name": "stdout",
     "output_type": "stream",
     "text": [
      "SPS: 65 Average Reward: -4.696617260922919\n"
     ]
    },
    {
     "name": "stderr",
     "output_type": "stream",
     "text": [
      " 87% (1274 of 1464) |################   | Elapsed Time: 10:59:09 ETA:   1:37:00"
     ]
    },
    {
     "name": "stdout",
     "output_type": "stream",
     "text": [
      "SPS: 65 Average Reward: -4.7914213583250245\n"
     ]
    },
    {
     "name": "stderr",
     "output_type": "stream",
     "text": [
      " 87% (1275 of 1464) |################   | Elapsed Time: 10:59:39 ETA:   1:37:35"
     ]
    },
    {
     "name": "stdout",
     "output_type": "stream",
     "text": [
      "SPS: 65 Average Reward: -4.64785991327876\n"
     ]
    },
    {
     "name": "stderr",
     "output_type": "stream",
     "text": [
      " 87% (1276 of 1464) |################   | Elapsed Time: 11:00:10 ETA:   1:36:26"
     ]
    },
    {
     "name": "stdout",
     "output_type": "stream",
     "text": [
      "SPS: 65 Average Reward: -5.174330953478301\n"
     ]
    },
    {
     "name": "stderr",
     "output_type": "stream",
     "text": [
      " 87% (1277 of 1464) |################   | Elapsed Time: 11:00:41 ETA:   1:36:43"
     ]
    },
    {
     "name": "stdout",
     "output_type": "stream",
     "text": [
      "SPS: 65 Average Reward: -4.351995195753179\n"
     ]
    },
    {
     "name": "stderr",
     "output_type": "stream",
     "text": [
      " 87% (1278 of 1464) |################   | Elapsed Time: 11:01:12 ETA:   1:36:34"
     ]
    },
    {
     "name": "stdout",
     "output_type": "stream",
     "text": [
      "SPS: 65 Average Reward: -4.989634587675273\n"
     ]
    },
    {
     "name": "stderr",
     "output_type": "stream",
     "text": [
      " 87% (1279 of 1464) |################   | Elapsed Time: 11:01:44 ETA:   1:35:56"
     ]
    },
    {
     "name": "stdout",
     "output_type": "stream",
     "text": [
      "SPS: 65 Average Reward: -5.338467784115591\n"
     ]
    },
    {
     "name": "stderr",
     "output_type": "stream",
     "text": [
      " 87% (1280 of 1464) |################   | Elapsed Time: 11:02:14 ETA:   1:33:58"
     ]
    },
    {
     "name": "stdout",
     "output_type": "stream",
     "text": [
      "SPS: 65 Average Reward: -5.174548916667656\n"
     ]
    },
    {
     "name": "stderr",
     "output_type": "stream",
     "text": [
      " 87% (1281 of 1464) |################   | Elapsed Time: 11:02:45 ETA:   1:34:48"
     ]
    },
    {
     "name": "stdout",
     "output_type": "stream",
     "text": [
      "SPS: 65 Average Reward: -4.76486134282417\n"
     ]
    },
    {
     "name": "stderr",
     "output_type": "stream",
     "text": [
      " 87% (1282 of 1464) |################   | Elapsed Time: 11:03:16 ETA:   1:34:12"
     ]
    },
    {
     "name": "stdout",
     "output_type": "stream",
     "text": [
      "SPS: 65 Average Reward: -4.905767293624161\n"
     ]
    },
    {
     "name": "stderr",
     "output_type": "stream",
     "text": [
      " 87% (1283 of 1464) |################   | Elapsed Time: 11:03:47 ETA:   1:33:44"
     ]
    },
    {
     "name": "stdout",
     "output_type": "stream",
     "text": [
      "SPS: 65 Average Reward: -4.791883900386181\n"
     ]
    },
    {
     "name": "stderr",
     "output_type": "stream",
     "text": [
      " 87% (1284 of 1464) |################   | Elapsed Time: 11:04:19 ETA:   1:33:21"
     ]
    },
    {
     "name": "stdout",
     "output_type": "stream",
     "text": [
      "SPS: 65 Average Reward: -4.819990002685174\n"
     ]
    },
    {
     "name": "stderr",
     "output_type": "stream",
     "text": [
      " 87% (1285 of 1464) |################   | Elapsed Time: 11:04:50 ETA:   1:32:44"
     ]
    },
    {
     "name": "stdout",
     "output_type": "stream",
     "text": [
      "SPS: 65 Average Reward: -4.644450355233773\n"
     ]
    },
    {
     "name": "stderr",
     "output_type": "stream",
     "text": [
      " 87% (1286 of 1464) |################   | Elapsed Time: 11:05:21 ETA:   1:32:02"
     ]
    },
    {
     "name": "stdout",
     "output_type": "stream",
     "text": [
      "SPS: 65 Average Reward: -4.363234252578288\n"
     ]
    },
    {
     "name": "stderr",
     "output_type": "stream",
     "text": [
      " 87% (1287 of 1464) |################   | Elapsed Time: 11:05:52 ETA:   1:31:34"
     ]
    },
    {
     "name": "stdout",
     "output_type": "stream",
     "text": [
      "SPS: 65 Average Reward: -4.912191607389201\n"
     ]
    },
    {
     "name": "stderr",
     "output_type": "stream",
     "text": [
      " 87% (1288 of 1464) |################   | Elapsed Time: 11:06:23 ETA:   1:31:09"
     ]
    },
    {
     "name": "stdout",
     "output_type": "stream",
     "text": [
      "SPS: 65 Average Reward: -5.596337345677534\n"
     ]
    },
    {
     "name": "stderr",
     "output_type": "stream",
     "text": [
      " 88% (1289 of 1464) |################   | Elapsed Time: 11:06:54 ETA:   1:30:33"
     ]
    },
    {
     "name": "stdout",
     "output_type": "stream",
     "text": [
      "SPS: 65 Average Reward: -5.231809909102535\n"
     ]
    },
    {
     "name": "stderr",
     "output_type": "stream",
     "text": [
      " 88% (1290 of 1464) |################   | Elapsed Time: 11:07:25 ETA:   1:30:00"
     ]
    },
    {
     "name": "stdout",
     "output_type": "stream",
     "text": [
      "SPS: 65 Average Reward: -4.996724355367435\n"
     ]
    },
    {
     "name": "stderr",
     "output_type": "stream",
     "text": [
      " 88% (1291 of 1464) |################   | Elapsed Time: 11:07:56 ETA:   1:29:29"
     ]
    },
    {
     "name": "stdout",
     "output_type": "stream",
     "text": [
      "SPS: 65 Average Reward: -4.988313010552899\n"
     ]
    },
    {
     "name": "stderr",
     "output_type": "stream",
     "text": [
      " 88% (1292 of 1464) |################   | Elapsed Time: 11:08:27 ETA:   1:28:03"
     ]
    },
    {
     "name": "stdout",
     "output_type": "stream",
     "text": [
      "SPS: 65 Average Reward: -5.034992995689232\n"
     ]
    },
    {
     "name": "stderr",
     "output_type": "stream",
     "text": [
      " 88% (1293 of 1464) |################   | Elapsed Time: 11:08:58 ETA:   1:28:29"
     ]
    },
    {
     "name": "stdout",
     "output_type": "stream",
     "text": [
      "SPS: 65 Average Reward: -4.715125513915788\n"
     ]
    },
    {
     "name": "stderr",
     "output_type": "stream",
     "text": [
      " 88% (1294 of 1464) |################   | Elapsed Time: 11:09:29 ETA:   1:28:00"
     ]
    },
    {
     "name": "stdout",
     "output_type": "stream",
     "text": [
      "SPS: 65 Average Reward: -4.578923288940075\n"
     ]
    },
    {
     "name": "stderr",
     "output_type": "stream",
     "text": [
      " 88% (1295 of 1464) |################   | Elapsed Time: 11:10:00 ETA:   1:27:31"
     ]
    },
    {
     "name": "stdout",
     "output_type": "stream",
     "text": [
      "SPS: 65 Average Reward: -4.24609576185055\n"
     ]
    },
    {
     "name": "stderr",
     "output_type": "stream",
     "text": [
      " 88% (1296 of 1464) |################   | Elapsed Time: 11:10:31 ETA:   1:27:02"
     ]
    },
    {
     "name": "stdout",
     "output_type": "stream",
     "text": [
      "SPS: 65 Average Reward: -4.876154631548544\n"
     ]
    },
    {
     "name": "stderr",
     "output_type": "stream",
     "text": [
      " 88% (1297 of 1464) |################   | Elapsed Time: 11:11:02 ETA:   1:26:34"
     ]
    },
    {
     "name": "stdout",
     "output_type": "stream",
     "text": [
      "SPS: 65 Average Reward: -4.553877646536999\n"
     ]
    },
    {
     "name": "stderr",
     "output_type": "stream",
     "text": [
      " 88% (1298 of 1464) |################   | Elapsed Time: 11:11:33 ETA:   1:26:26"
     ]
    },
    {
     "name": "stdout",
     "output_type": "stream",
     "text": [
      "SPS: 65 Average Reward: -4.885389377269822\n"
     ]
    },
    {
     "name": "stderr",
     "output_type": "stream",
     "text": [
      " 88% (1299 of 1464) |################   | Elapsed Time: 11:12:09 ETA:   1:37:31"
     ]
    },
    {
     "name": "stdout",
     "output_type": "stream",
     "text": [
      "SPS: 65 Average Reward: -4.437336979150585\n"
     ]
    },
    {
     "name": "stderr",
     "output_type": "stream",
     "text": [
      " 88% (1300 of 1464) |################   | Elapsed Time: 11:12:41 ETA:   1:28:50"
     ]
    },
    {
     "name": "stdout",
     "output_type": "stream",
     "text": [
      "SPS: 65 Average Reward: -4.7800351531134355\n"
     ]
    },
    {
     "name": "stderr",
     "output_type": "stream",
     "text": [
      " 88% (1301 of 1464) |################   | Elapsed Time: 11:13:12 ETA:   1:24:24"
     ]
    },
    {
     "name": "stdout",
     "output_type": "stream",
     "text": [
      "SPS: 65 Average Reward: -4.646082249558796\n"
     ]
    },
    {
     "name": "stderr",
     "output_type": "stream",
     "text": [
      " 88% (1302 of 1464) |################   | Elapsed Time: 11:13:43 ETA:   1:23:20"
     ]
    },
    {
     "name": "stdout",
     "output_type": "stream",
     "text": [
      "SPS: 65 Average Reward: -4.968860442074728\n"
     ]
    },
    {
     "name": "stderr",
     "output_type": "stream",
     "text": [
      " 89% (1303 of 1464) |################   | Elapsed Time: 11:14:15 ETA:   1:24:07"
     ]
    },
    {
     "name": "stdout",
     "output_type": "stream",
     "text": [
      "SPS: 65 Average Reward: -4.397528069619229\n"
     ]
    },
    {
     "name": "stderr",
     "output_type": "stream",
     "text": [
      " 89% (1304 of 1464) |################   | Elapsed Time: 11:14:46 ETA:   1:23:36"
     ]
    },
    {
     "name": "stdout",
     "output_type": "stream",
     "text": [
      "SPS: 65 Average Reward: -4.276138845121615\n"
     ]
    },
    {
     "name": "stderr",
     "output_type": "stream",
     "text": [
      " 89% (1305 of 1464) |################   | Elapsed Time: 11:15:17 ETA:   1:21:34"
     ]
    },
    {
     "name": "stdout",
     "output_type": "stream",
     "text": [
      "SPS: 65 Average Reward: -4.525893525369036\n"
     ]
    },
    {
     "name": "stderr",
     "output_type": "stream",
     "text": [
      " 89% (1306 of 1464) |################   | Elapsed Time: 11:15:47 ETA:   1:21:08"
     ]
    },
    {
     "name": "stdout",
     "output_type": "stream",
     "text": [
      "SPS: 65 Average Reward: -4.653322219740753\n"
     ]
    },
    {
     "name": "stderr",
     "output_type": "stream",
     "text": [
      " 89% (1307 of 1464) |################   | Elapsed Time: 11:16:18 ETA:   1:20:44"
     ]
    },
    {
     "name": "stdout",
     "output_type": "stream",
     "text": [
      "SPS: 65 Average Reward: -5.081369874553473\n"
     ]
    },
    {
     "name": "stderr",
     "output_type": "stream",
     "text": [
      " 89% (1308 of 1464) |################   | Elapsed Time: 11:16:49 ETA:   1:20:13"
     ]
    },
    {
     "name": "stdout",
     "output_type": "stream",
     "text": [
      "SPS: 65 Average Reward: -4.313008053551009\n"
     ]
    },
    {
     "name": "stderr",
     "output_type": "stream",
     "text": [
      " 89% (1309 of 1464) |################   | Elapsed Time: 11:17:20 ETA:   1:20:27"
     ]
    },
    {
     "name": "stdout",
     "output_type": "stream",
     "text": [
      "SPS: 65 Average Reward: -4.192548580671459\n"
     ]
    },
    {
     "name": "stderr",
     "output_type": "stream",
     "text": [
      " 89% (1310 of 1464) |#################  | Elapsed Time: 11:17:52 ETA:   1:20:39"
     ]
    },
    {
     "name": "stdout",
     "output_type": "stream",
     "text": [
      "SPS: 65 Average Reward: -4.923027443938712\n"
     ]
    },
    {
     "name": "stderr",
     "output_type": "stream",
     "text": [
      " 89% (1311 of 1464) |#################  | Elapsed Time: 11:18:23 ETA:   1:19:47"
     ]
    },
    {
     "name": "stdout",
     "output_type": "stream",
     "text": [
      "SPS: 65 Average Reward: -4.865053148337651\n"
     ]
    },
    {
     "name": "stderr",
     "output_type": "stream",
     "text": [
      " 89% (1312 of 1464) |#################  | Elapsed Time: 11:18:54 ETA:   1:19:27"
     ]
    },
    {
     "name": "stdout",
     "output_type": "stream",
     "text": [
      "SPS: 65 Average Reward: -4.87251973654037\n"
     ]
    },
    {
     "name": "stderr",
     "output_type": "stream",
     "text": [
      " 89% (1313 of 1464) |#################  | Elapsed Time: 11:19:26 ETA:   1:18:56"
     ]
    },
    {
     "name": "stdout",
     "output_type": "stream",
     "text": [
      "SPS: 65 Average Reward: -5.101236612032434\n"
     ]
    },
    {
     "name": "stderr",
     "output_type": "stream",
     "text": [
      " 89% (1314 of 1464) |#################  | Elapsed Time: 11:19:57 ETA:   1:17:32"
     ]
    },
    {
     "name": "stdout",
     "output_type": "stream",
     "text": [
      "SPS: 65 Average Reward: -4.528748429713701\n"
     ]
    },
    {
     "name": "stderr",
     "output_type": "stream",
     "text": [
      " 89% (1315 of 1464) |#################  | Elapsed Time: 11:20:28 ETA:   1:18:14"
     ]
    },
    {
     "name": "stdout",
     "output_type": "stream",
     "text": [
      "SPS: 65 Average Reward: -4.39441577486249\n"
     ]
    },
    {
     "name": "stderr",
     "output_type": "stream",
     "text": [
      " 89% (1316 of 1464) |#################  | Elapsed Time: 11:21:02 ETA:   1:22:35"
     ]
    },
    {
     "name": "stdout",
     "output_type": "stream",
     "text": [
      "SPS: 65 Average Reward: -4.907568904770193\n"
     ]
    },
    {
     "name": "stderr",
     "output_type": "stream",
     "text": [
      " 89% (1317 of 1464) |#################  | Elapsed Time: 11:21:34 ETA:   1:18:22"
     ]
    },
    {
     "name": "stdout",
     "output_type": "stream",
     "text": [
      "SPS: 65 Average Reward: -4.602876164960489\n"
     ]
    },
    {
     "name": "stderr",
     "output_type": "stream",
     "text": [
      " 90% (1318 of 1464) |#################  | Elapsed Time: 11:22:05 ETA:   1:15:16"
     ]
    },
    {
     "name": "stdout",
     "output_type": "stream",
     "text": [
      "SPS: 65 Average Reward: -4.643021745557559\n"
     ]
    },
    {
     "name": "stderr",
     "output_type": "stream",
     "text": [
      " 90% (1319 of 1464) |#################  | Elapsed Time: 11:22:36 ETA:   1:14:50"
     ]
    },
    {
     "name": "stdout",
     "output_type": "stream",
     "text": [
      "SPS: 65 Average Reward: -4.900137130503806\n"
     ]
    },
    {
     "name": "stderr",
     "output_type": "stream",
     "text": [
      " 90% (1320 of 1464) |#################  | Elapsed Time: 11:23:07 ETA:   1:14:20"
     ]
    },
    {
     "name": "stdout",
     "output_type": "stream",
     "text": [
      "SPS: 65 Average Reward: -4.454871796924302\n"
     ]
    },
    {
     "name": "stderr",
     "output_type": "stream",
     "text": [
      " 90% (1321 of 1464) |#################  | Elapsed Time: 11:23:38 ETA:   1:13:51"
     ]
    },
    {
     "name": "stdout",
     "output_type": "stream",
     "text": [
      "SPS: 65 Average Reward: -4.699037448137123\n"
     ]
    },
    {
     "name": "stderr",
     "output_type": "stream",
     "text": [
      " 90% (1322 of 1464) |#################  | Elapsed Time: 11:24:09 ETA:   1:13:11"
     ]
    },
    {
     "name": "stdout",
     "output_type": "stream",
     "text": [
      "SPS: 65 Average Reward: -4.739306145446053\n"
     ]
    },
    {
     "name": "stderr",
     "output_type": "stream",
     "text": [
      " 90% (1323 of 1464) |#################  | Elapsed Time: 11:24:40 ETA:   1:14:27"
     ]
    },
    {
     "name": "stdout",
     "output_type": "stream",
     "text": [
      "SPS: 65 Average Reward: -4.569667940001544\n"
     ]
    },
    {
     "name": "stderr",
     "output_type": "stream",
     "text": [
      " 90% (1324 of 1464) |#################  | Elapsed Time: 11:25:12 ETA:   1:13:15"
     ]
    },
    {
     "name": "stdout",
     "output_type": "stream",
     "text": [
      "SPS: 65 Average Reward: -4.473480983072279\n"
     ]
    },
    {
     "name": "stderr",
     "output_type": "stream",
     "text": [
      " 90% (1325 of 1464) |#################  | Elapsed Time: 11:25:43 ETA:   1:12:53"
     ]
    },
    {
     "name": "stdout",
     "output_type": "stream",
     "text": [
      "SPS: 65 Average Reward: -4.802504952752457\n"
     ]
    },
    {
     "name": "stderr",
     "output_type": "stream",
     "text": [
      " 90% (1326 of 1464) |#################  | Elapsed Time: 11:26:14 ETA:   1:11:51"
     ]
    },
    {
     "name": "stdout",
     "output_type": "stream",
     "text": [
      "SPS: 65 Average Reward: -4.420931187405165\n"
     ]
    },
    {
     "name": "stderr",
     "output_type": "stream",
     "text": [
      " 90% (1327 of 1464) |#################  | Elapsed Time: 11:26:46 ETA:   1:11:45"
     ]
    },
    {
     "name": "stdout",
     "output_type": "stream",
     "text": [
      "SPS: 65 Average Reward: -4.252792336503957\n"
     ]
    },
    {
     "name": "stderr",
     "output_type": "stream",
     "text": [
      " 90% (1328 of 1464) |#################  | Elapsed Time: 11:27:17 ETA:   1:10:24"
     ]
    },
    {
     "name": "stdout",
     "output_type": "stream",
     "text": [
      "SPS: 65 Average Reward: -4.618410369087329\n"
     ]
    },
    {
     "name": "stderr",
     "output_type": "stream",
     "text": [
      " 90% (1329 of 1464) |#################  | Elapsed Time: 11:27:48 ETA:   1:09:59"
     ]
    },
    {
     "name": "stdout",
     "output_type": "stream",
     "text": [
      "SPS: 65 Average Reward: -4.806342067694376\n"
     ]
    },
    {
     "name": "stderr",
     "output_type": "stream",
     "text": [
      " 90% (1330 of 1464) |#################  | Elapsed Time: 11:28:19 ETA:   1:09:27"
     ]
    },
    {
     "name": "stdout",
     "output_type": "stream",
     "text": [
      "SPS: 65 Average Reward: -4.352166481950076\n"
     ]
    },
    {
     "name": "stderr",
     "output_type": "stream",
     "text": [
      " 90% (1331 of 1464) |#################  | Elapsed Time: 11:28:50 ETA:   1:09:01"
     ]
    },
    {
     "name": "stdout",
     "output_type": "stream",
     "text": [
      "SPS: 65 Average Reward: -4.729208982033263\n"
     ]
    },
    {
     "name": "stderr",
     "output_type": "stream",
     "text": [
      " 90% (1332 of 1464) |#################  | Elapsed Time: 11:29:21 ETA:   1:08:21"
     ]
    },
    {
     "name": "stdout",
     "output_type": "stream",
     "text": [
      "SPS: 65 Average Reward: -4.486955993732518\n"
     ]
    },
    {
     "name": "stderr",
     "output_type": "stream",
     "text": [
      " 91% (1333 of 1464) |#################  | Elapsed Time: 11:29:52 ETA:   1:07:48"
     ]
    },
    {
     "name": "stdout",
     "output_type": "stream",
     "text": [
      "SPS: 65 Average Reward: -4.616160715635138\n"
     ]
    },
    {
     "name": "stderr",
     "output_type": "stream",
     "text": [
      " 91% (1334 of 1464) |#################  | Elapsed Time: 11:30:23 ETA:   1:07:21"
     ]
    },
    {
     "name": "stdout",
     "output_type": "stream",
     "text": [
      "SPS: 65 Average Reward: -4.915362558941448\n"
     ]
    },
    {
     "name": "stderr",
     "output_type": "stream",
     "text": [
      " 91% (1335 of 1464) |#################  | Elapsed Time: 11:30:54 ETA:   1:05:41"
     ]
    },
    {
     "name": "stdout",
     "output_type": "stream",
     "text": [
      "SPS: 65 Average Reward: -4.671139324873049\n"
     ]
    },
    {
     "name": "stderr",
     "output_type": "stream",
     "text": [
      " 91% (1336 of 1464) |#################  | Elapsed Time: 11:31:25 ETA:   1:06:11"
     ]
    },
    {
     "name": "stdout",
     "output_type": "stream",
     "text": [
      "SPS: 65 Average Reward: -4.774181821211051\n"
     ]
    },
    {
     "name": "stderr",
     "output_type": "stream",
     "text": [
      " 91% (1337 of 1464) |#################  | Elapsed Time: 11:31:56 ETA:   1:05:50"
     ]
    },
    {
     "name": "stdout",
     "output_type": "stream",
     "text": [
      "SPS: 65 Average Reward: -5.012796507127021\n"
     ]
    },
    {
     "name": "stderr",
     "output_type": "stream",
     "text": [
      " 91% (1338 of 1464) |#################  | Elapsed Time: 11:32:27 ETA:   1:05:11"
     ]
    },
    {
     "name": "stdout",
     "output_type": "stream",
     "text": [
      "SPS: 65 Average Reward: -5.085553104707627\n"
     ]
    },
    {
     "name": "stderr",
     "output_type": "stream",
     "text": [
      " 91% (1339 of 1464) |#################  | Elapsed Time: 11:32:58 ETA:   1:04:45"
     ]
    },
    {
     "name": "stdout",
     "output_type": "stream",
     "text": [
      "SPS: 65 Average Reward: -4.258075338878933\n"
     ]
    },
    {
     "name": "stderr",
     "output_type": "stream",
     "text": [
      " 91% (1340 of 1464) |#################  | Elapsed Time: 11:33:29 ETA:   1:04:07"
     ]
    },
    {
     "name": "stdout",
     "output_type": "stream",
     "text": [
      "SPS: 65 Average Reward: -4.6513877809482365\n"
     ]
    },
    {
     "name": "stderr",
     "output_type": "stream",
     "text": [
      " 91% (1341 of 1464) |#################  | Elapsed Time: 11:34:00 ETA:   1:03:40"
     ]
    },
    {
     "name": "stdout",
     "output_type": "stream",
     "text": [
      "SPS: 65 Average Reward: -5.112377721217301\n"
     ]
    },
    {
     "name": "stderr",
     "output_type": "stream",
     "text": [
      " 91% (1342 of 1464) |#################  | Elapsed Time: 11:34:31 ETA:   1:02:40"
     ]
    },
    {
     "name": "stdout",
     "output_type": "stream",
     "text": [
      "SPS: 65 Average Reward: -4.397751769036606\n"
     ]
    },
    {
     "name": "stderr",
     "output_type": "stream",
     "text": [
      " 91% (1343 of 1464) |#################  | Elapsed Time: 11:35:02 ETA:   1:01:58"
     ]
    },
    {
     "name": "stdout",
     "output_type": "stream",
     "text": [
      "SPS: 65 Average Reward: -4.394968177141672\n"
     ]
    },
    {
     "name": "stderr",
     "output_type": "stream",
     "text": [
      " 91% (1344 of 1464) |#################  | Elapsed Time: 11:35:33 ETA:   1:02:04"
     ]
    },
    {
     "name": "stdout",
     "output_type": "stream",
     "text": [
      "SPS: 65 Average Reward: -4.464253182858266\n"
     ]
    },
    {
     "name": "stderr",
     "output_type": "stream",
     "text": [
      " 91% (1345 of 1464) |#################  | Elapsed Time: 11:36:04 ETA:   1:01:36"
     ]
    },
    {
     "name": "stdout",
     "output_type": "stream",
     "text": [
      "SPS: 65 Average Reward: -4.663974130728203\n"
     ]
    },
    {
     "name": "stderr",
     "output_type": "stream",
     "text": [
      " 91% (1346 of 1464) |#################  | Elapsed Time: 11:36:35 ETA:   1:00:59"
     ]
    },
    {
     "name": "stdout",
     "output_type": "stream",
     "text": [
      "SPS: 65 Average Reward: -4.272912308398783\n"
     ]
    },
    {
     "name": "stderr",
     "output_type": "stream",
     "text": [
      " 92% (1347 of 1464) |#################  | Elapsed Time: 11:37:06 ETA:   1:00:53"
     ]
    },
    {
     "name": "stdout",
     "output_type": "stream",
     "text": [
      "SPS: 65 Average Reward: -4.602276499558273\n"
     ]
    },
    {
     "name": "stderr",
     "output_type": "stream",
     "text": [
      " 92% (1348 of 1464) |#################  | Elapsed Time: 11:37:38 ETA:   1:01:51"
     ]
    },
    {
     "name": "stdout",
     "output_type": "stream",
     "text": [
      "SPS: 65 Average Reward: -4.912588839389955\n"
     ]
    },
    {
     "name": "stderr",
     "output_type": "stream",
     "text": [
      " 92% (1349 of 1464) |#################  | Elapsed Time: 11:38:09 ETA:   0:59:50"
     ]
    },
    {
     "name": "stdout",
     "output_type": "stream",
     "text": [
      "SPS: 65 Average Reward: -4.800436524676666\n"
     ]
    },
    {
     "name": "stderr",
     "output_type": "stream",
     "text": [
      " 92% (1350 of 1464) |#################  | Elapsed Time: 11:38:41 ETA:   1:00:35"
     ]
    },
    {
     "name": "stdout",
     "output_type": "stream",
     "text": [
      "SPS: 65 Average Reward: -4.853059323796137\n"
     ]
    },
    {
     "name": "stderr",
     "output_type": "stream",
     "text": [
      " 92% (1351 of 1464) |#################  | Elapsed Time: 11:39:12 ETA:   0:58:23"
     ]
    },
    {
     "name": "stdout",
     "output_type": "stream",
     "text": [
      "SPS: 65 Average Reward: -4.421358792164734\n"
     ]
    },
    {
     "name": "stderr",
     "output_type": "stream",
     "text": [
      " 92% (1352 of 1464) |#################  | Elapsed Time: 11:39:43 ETA:   0:57:46"
     ]
    },
    {
     "name": "stdout",
     "output_type": "stream",
     "text": [
      "SPS: 65 Average Reward: -4.660154404322927\n"
     ]
    },
    {
     "name": "stderr",
     "output_type": "stream",
     "text": [
      " 92% (1353 of 1464) |#################  | Elapsed Time: 11:40:14 ETA:   0:57:08"
     ]
    },
    {
     "name": "stdout",
     "output_type": "stream",
     "text": [
      "SPS: 65 Average Reward: -4.648337659864571\n"
     ]
    },
    {
     "name": "stderr",
     "output_type": "stream",
     "text": [
      " 92% (1354 of 1464) |#################  | Elapsed Time: 11:40:45 ETA:   0:56:38"
     ]
    },
    {
     "name": "stdout",
     "output_type": "stream",
     "text": [
      "SPS: 65 Average Reward: -5.007350274295611\n"
     ]
    },
    {
     "name": "stderr",
     "output_type": "stream",
     "text": [
      " 92% (1355 of 1464) |#################  | Elapsed Time: 11:41:16 ETA:   0:56:11"
     ]
    },
    {
     "name": "stdout",
     "output_type": "stream",
     "text": [
      "SPS: 65 Average Reward: -4.759854577366574\n"
     ]
    },
    {
     "name": "stderr",
     "output_type": "stream",
     "text": [
      " 92% (1356 of 1464) |#################  | Elapsed Time: 11:41:47 ETA:   0:56:41"
     ]
    },
    {
     "name": "stdout",
     "output_type": "stream",
     "text": [
      "SPS: 65 Average Reward: -4.639431159301085\n"
     ]
    },
    {
     "name": "stderr",
     "output_type": "stream",
     "text": [
      " 92% (1357 of 1464) |#################  | Elapsed Time: 11:42:19 ETA:   0:55:47"
     ]
    },
    {
     "name": "stdout",
     "output_type": "stream",
     "text": [
      "SPS: 65 Average Reward: -4.360245289344681\n"
     ]
    },
    {
     "name": "stderr",
     "output_type": "stream",
     "text": [
      " 92% (1358 of 1464) |#################  | Elapsed Time: 11:42:50 ETA:   0:55:12"
     ]
    },
    {
     "name": "stdout",
     "output_type": "stream",
     "text": [
      "SPS: 65 Average Reward: -4.921992875715131\n"
     ]
    },
    {
     "name": "stderr",
     "output_type": "stream",
     "text": [
      " 92% (1359 of 1464) |#################  | Elapsed Time: 11:43:21 ETA:   0:54:49"
     ]
    },
    {
     "name": "stdout",
     "output_type": "stream",
     "text": [
      "SPS: 65 Average Reward: -4.761401142454029\n"
     ]
    },
    {
     "name": "stderr",
     "output_type": "stream",
     "text": [
      " 92% (1360 of 1464) |#################  | Elapsed Time: 11:43:53 ETA:   0:54:27"
     ]
    },
    {
     "name": "stdout",
     "output_type": "stream",
     "text": [
      "SPS: 65 Average Reward: -4.613792899786063\n"
     ]
    },
    {
     "name": "stderr",
     "output_type": "stream",
     "text": [
      " 92% (1361 of 1464) |#################  | Elapsed Time: 11:44:24 ETA:   0:53:07"
     ]
    },
    {
     "name": "stdout",
     "output_type": "stream",
     "text": [
      "SPS: 65 Average Reward: -4.153855619804912\n"
     ]
    },
    {
     "name": "stderr",
     "output_type": "stream",
     "text": [
      " 93% (1362 of 1464) |#################  | Elapsed Time: 11:44:55 ETA:   0:52:34"
     ]
    },
    {
     "name": "stdout",
     "output_type": "stream",
     "text": [
      "SPS: 65 Average Reward: -4.689936245734945\n"
     ]
    },
    {
     "name": "stderr",
     "output_type": "stream",
     "text": [
      " 93% (1363 of 1464) |#################  | Elapsed Time: 11:45:26 ETA:   0:52:05"
     ]
    },
    {
     "name": "stdout",
     "output_type": "stream",
     "text": [
      "SPS: 65 Average Reward: -4.473500002105632\n"
     ]
    },
    {
     "name": "stderr",
     "output_type": "stream",
     "text": [
      " 93% (1364 of 1464) |#################  | Elapsed Time: 11:45:57 ETA:   0:51:35"
     ]
    },
    {
     "name": "stdout",
     "output_type": "stream",
     "text": [
      "SPS: 65 Average Reward: -5.000702054175746\n"
     ]
    },
    {
     "name": "stderr",
     "output_type": "stream",
     "text": [
      " 93% (1365 of 1464) |#################  | Elapsed Time: 11:46:28 ETA:   0:51:16"
     ]
    },
    {
     "name": "stdout",
     "output_type": "stream",
     "text": [
      "SPS: 65 Average Reward: -4.79609586739871\n"
     ]
    },
    {
     "name": "stderr",
     "output_type": "stream",
     "text": [
      " 93% (1366 of 1464) |#################  | Elapsed Time: 11:46:59 ETA:   0:50:41"
     ]
    },
    {
     "name": "stdout",
     "output_type": "stream",
     "text": [
      "SPS: 65 Average Reward: -4.823228380227353\n"
     ]
    },
    {
     "name": "stderr",
     "output_type": "stream",
     "text": [
      " 93% (1367 of 1464) |#################  | Elapsed Time: 11:47:30 ETA:   0:50:05"
     ]
    },
    {
     "name": "stdout",
     "output_type": "stream",
     "text": [
      "SPS: 65 Average Reward: -4.994553999081193\n"
     ]
    },
    {
     "name": "stderr",
     "output_type": "stream",
     "text": [
      " 93% (1368 of 1464) |#################  | Elapsed Time: 11:48:00 ETA:   0:49:03"
     ]
    },
    {
     "name": "stdout",
     "output_type": "stream",
     "text": [
      "SPS: 65 Average Reward: -4.982566759691982\n"
     ]
    },
    {
     "name": "stderr",
     "output_type": "stream",
     "text": [
      " 93% (1369 of 1464) |#################  | Elapsed Time: 11:48:31 ETA:   0:48:23"
     ]
    },
    {
     "name": "stdout",
     "output_type": "stream",
     "text": [
      "SPS: 65 Average Reward: -4.951755205303196\n"
     ]
    },
    {
     "name": "stderr",
     "output_type": "stream",
     "text": [
      " 93% (1370 of 1464) |#################  | Elapsed Time: 11:49:02 ETA:   0:48:30"
     ]
    },
    {
     "name": "stdout",
     "output_type": "stream",
     "text": [
      "SPS: 65 Average Reward: -4.584659055559804\n"
     ]
    },
    {
     "name": "stderr",
     "output_type": "stream",
     "text": [
      " 93% (1371 of 1464) |#################  | Elapsed Time: 11:49:33 ETA:   0:48:04"
     ]
    },
    {
     "name": "stdout",
     "output_type": "stream",
     "text": [
      "SPS: 65 Average Reward: -4.799083939437424\n"
     ]
    },
    {
     "name": "stderr",
     "output_type": "stream",
     "text": [
      " 93% (1372 of 1464) |#################  | Elapsed Time: 11:50:04 ETA:   0:47:14"
     ]
    },
    {
     "name": "stdout",
     "output_type": "stream",
     "text": [
      "SPS: 65 Average Reward: -4.759083777846874\n"
     ]
    },
    {
     "name": "stderr",
     "output_type": "stream",
     "text": [
      " 93% (1373 of 1464) |#################  | Elapsed Time: 11:50:35 ETA:   0:47:06"
     ]
    },
    {
     "name": "stdout",
     "output_type": "stream",
     "text": [
      "SPS: 65 Average Reward: -4.730936087598197\n"
     ]
    },
    {
     "name": "stderr",
     "output_type": "stream",
     "text": [
      " 93% (1374 of 1464) |#################  | Elapsed Time: 11:51:06 ETA:   0:46:40"
     ]
    },
    {
     "name": "stdout",
     "output_type": "stream",
     "text": [
      "SPS: 65 Average Reward: -4.99916920136377\n"
     ]
    },
    {
     "name": "stderr",
     "output_type": "stream",
     "text": [
      " 93% (1375 of 1464) |#################  | Elapsed Time: 11:51:37 ETA:   0:46:08"
     ]
    },
    {
     "name": "stdout",
     "output_type": "stream",
     "text": [
      "SPS: 65 Average Reward: -4.627274046006837\n"
     ]
    },
    {
     "name": "stderr",
     "output_type": "stream",
     "text": [
      " 93% (1376 of 1464) |#################  | Elapsed Time: 11:52:08 ETA:   0:45:33"
     ]
    },
    {
     "name": "stdout",
     "output_type": "stream",
     "text": [
      "SPS: 65 Average Reward: -4.316916351362045\n"
     ]
    },
    {
     "name": "stderr",
     "output_type": "stream",
     "text": [
      " 94% (1377 of 1464) |#################  | Elapsed Time: 11:52:39 ETA:   0:45:03"
     ]
    },
    {
     "name": "stdout",
     "output_type": "stream",
     "text": [
      "SPS: 65 Average Reward: -4.016926360938601\n"
     ]
    },
    {
     "name": "stderr",
     "output_type": "stream",
     "text": [
      " 94% (1378 of 1464) |#################  | Elapsed Time: 11:53:10 ETA:   0:43:43"
     ]
    },
    {
     "name": "stdout",
     "output_type": "stream",
     "text": [
      "SPS: 65 Average Reward: -4.401989603428155\n"
     ]
    },
    {
     "name": "stderr",
     "output_type": "stream",
     "text": [
      " 94% (1379 of 1464) |#################  | Elapsed Time: 11:53:41 ETA:   0:43:58"
     ]
    },
    {
     "name": "stdout",
     "output_type": "stream",
     "text": [
      "SPS: 65 Average Reward: -5.196451168939349\n"
     ]
    },
    {
     "name": "stderr",
     "output_type": "stream",
     "text": [
      " 94% (1380 of 1464) |#################  | Elapsed Time: 11:54:12 ETA:   0:43:27"
     ]
    },
    {
     "name": "stdout",
     "output_type": "stream",
     "text": [
      "SPS: 65 Average Reward: -4.668499949694778\n"
     ]
    },
    {
     "name": "stderr",
     "output_type": "stream",
     "text": [
      " 94% (1381 of 1464) |#################  | Elapsed Time: 11:54:42 ETA:   0:42:18"
     ]
    },
    {
     "name": "stdout",
     "output_type": "stream",
     "text": [
      "SPS: 65 Average Reward: -4.797415905529533\n"
     ]
    },
    {
     "name": "stderr",
     "output_type": "stream",
     "text": [
      " 94% (1382 of 1464) |#################  | Elapsed Time: 11:55:13 ETA:   0:42:26"
     ]
    },
    {
     "name": "stdout",
     "output_type": "stream",
     "text": [
      "SPS: 65 Average Reward: -4.652641425825261\n"
     ]
    },
    {
     "name": "stderr",
     "output_type": "stream",
     "text": [
      " 94% (1383 of 1464) |#################  | Elapsed Time: 11:55:44 ETA:   0:41:53"
     ]
    },
    {
     "name": "stdout",
     "output_type": "stream",
     "text": [
      "SPS: 65 Average Reward: -4.681469153187884\n"
     ]
    },
    {
     "name": "stderr",
     "output_type": "stream",
     "text": [
      " 94% (1384 of 1464) |#################  | Elapsed Time: 11:56:15 ETA:   0:41:26"
     ]
    },
    {
     "name": "stdout",
     "output_type": "stream",
     "text": [
      "SPS: 65 Average Reward: -5.233333503954241\n"
     ]
    },
    {
     "name": "stderr",
     "output_type": "stream",
     "text": [
      " 94% (1385 of 1464) |#################  | Elapsed Time: 11:56:46 ETA:   0:40:54"
     ]
    },
    {
     "name": "stdout",
     "output_type": "stream",
     "text": [
      "SPS: 65 Average Reward: -5.307185380512975\n"
     ]
    },
    {
     "name": "stderr",
     "output_type": "stream",
     "text": [
      " 94% (1386 of 1464) |#################  | Elapsed Time: 11:57:17 ETA:   0:40:11"
     ]
    },
    {
     "name": "stdout",
     "output_type": "stream",
     "text": [
      "SPS: 65 Average Reward: -4.881767646542659\n"
     ]
    },
    {
     "name": "stderr",
     "output_type": "stream",
     "text": [
      " 94% (1387 of 1464) |################## | Elapsed Time: 11:57:48 ETA:   0:39:54"
     ]
    },
    {
     "name": "stdout",
     "output_type": "stream",
     "text": [
      "SPS: 65 Average Reward: -4.5059244018567135\n"
     ]
    },
    {
     "name": "stderr",
     "output_type": "stream",
     "text": [
      " 94% (1388 of 1464) |################## | Elapsed Time: 11:58:20 ETA:   0:39:21"
     ]
    },
    {
     "name": "stdout",
     "output_type": "stream",
     "text": [
      "SPS: 65 Average Reward: -4.777164032137875\n"
     ]
    },
    {
     "name": "stderr",
     "output_type": "stream",
     "text": [
      " 94% (1389 of 1464) |################## | Elapsed Time: 11:58:51 ETA:   0:38:55"
     ]
    },
    {
     "name": "stdout",
     "output_type": "stream",
     "text": [
      "SPS: 65 Average Reward: -4.616752829367682\n"
     ]
    },
    {
     "name": "stderr",
     "output_type": "stream",
     "text": [
      " 94% (1390 of 1464) |################## | Elapsed Time: 11:59:22 ETA:   0:38:15"
     ]
    },
    {
     "name": "stdout",
     "output_type": "stream",
     "text": [
      "SPS: 65 Average Reward: -4.566460945169782\n"
     ]
    },
    {
     "name": "stderr",
     "output_type": "stream",
     "text": [
      " 95% (1391 of 1464) |################## | Elapsed Time: 11:59:53 ETA:   0:37:49"
     ]
    },
    {
     "name": "stdout",
     "output_type": "stream",
     "text": [
      "SPS: 65 Average Reward: -4.3066460688792665\n"
     ]
    },
    {
     "name": "stderr",
     "output_type": "stream",
     "text": [
      " 95% (1392 of 1464) |################## | Elapsed Time: 12:00:24 ETA:   0:37:15"
     ]
    },
    {
     "name": "stdout",
     "output_type": "stream",
     "text": [
      "SPS: 65 Average Reward: -5.267300319670868\n"
     ]
    },
    {
     "name": "stderr",
     "output_type": "stream",
     "text": [
      " 95% (1393 of 1464) |################## | Elapsed Time: 12:00:54 ETA:   0:36:14"
     ]
    },
    {
     "name": "stdout",
     "output_type": "stream",
     "text": [
      "SPS: 65 Average Reward: -4.532127876355972\n"
     ]
    },
    {
     "name": "stderr",
     "output_type": "stream",
     "text": [
      " 95% (1394 of 1464) |################## | Elapsed Time: 12:01:26 ETA:   0:36:22"
     ]
    },
    {
     "name": "stdout",
     "output_type": "stream",
     "text": [
      "SPS: 65 Average Reward: -5.035808933944722\n"
     ]
    },
    {
     "name": "stderr",
     "output_type": "stream",
     "text": [
      " 95% (1395 of 1464) |################## | Elapsed Time: 12:01:57 ETA:   0:35:44"
     ]
    },
    {
     "name": "stdout",
     "output_type": "stream",
     "text": [
      "SPS: 65 Average Reward: -4.216220920591829\n"
     ]
    },
    {
     "name": "stderr",
     "output_type": "stream",
     "text": [
      " 95% (1396 of 1464) |################## | Elapsed Time: 12:02:28 ETA:   0:35:10"
     ]
    },
    {
     "name": "stdout",
     "output_type": "stream",
     "text": [
      "SPS: 65 Average Reward: -4.552292412866687\n"
     ]
    },
    {
     "name": "stderr",
     "output_type": "stream",
     "text": [
      " 95% (1397 of 1464) |################## | Elapsed Time: 12:02:59 ETA:   0:34:42"
     ]
    },
    {
     "name": "stdout",
     "output_type": "stream",
     "text": [
      "SPS: 65 Average Reward: -4.866619169140352\n"
     ]
    },
    {
     "name": "stderr",
     "output_type": "stream",
     "text": [
      " 95% (1398 of 1464) |################## | Elapsed Time: 12:03:30 ETA:   0:34:12"
     ]
    },
    {
     "name": "stdout",
     "output_type": "stream",
     "text": [
      "SPS: 65 Average Reward: -4.330167786622349\n"
     ]
    },
    {
     "name": "stderr",
     "output_type": "stream",
     "text": [
      " 95% (1399 of 1464) |################## | Elapsed Time: 12:04:01 ETA:   0:33:37"
     ]
    },
    {
     "name": "stdout",
     "output_type": "stream",
     "text": [
      "SPS: 65 Average Reward: -4.806484887617783\n"
     ]
    },
    {
     "name": "stderr",
     "output_type": "stream",
     "text": [
      " 95% (1400 of 1464) |################## | Elapsed Time: 12:04:32 ETA:   0:33:08"
     ]
    },
    {
     "name": "stdout",
     "output_type": "stream",
     "text": [
      "SPS: 65 Average Reward: -4.8872501874381635\n"
     ]
    },
    {
     "name": "stderr",
     "output_type": "stream",
     "text": [
      " 95% (1401 of 1464) |################## | Elapsed Time: 12:05:03 ETA:   0:32:30"
     ]
    },
    {
     "name": "stdout",
     "output_type": "stream",
     "text": [
      "SPS: 65 Average Reward: -4.934983414862894\n"
     ]
    },
    {
     "name": "stderr",
     "output_type": "stream",
     "text": [
      " 95% (1402 of 1464) |################## | Elapsed Time: 12:05:34 ETA:   0:32:10"
     ]
    },
    {
     "name": "stdout",
     "output_type": "stream",
     "text": [
      "SPS: 65 Average Reward: -5.327908023027643\n"
     ]
    },
    {
     "name": "stderr",
     "output_type": "stream",
     "text": [
      " 95% (1403 of 1464) |################## | Elapsed Time: 12:06:05 ETA:   0:31:27"
     ]
    },
    {
     "name": "stdout",
     "output_type": "stream",
     "text": [
      "SPS: 65 Average Reward: -4.851547460636469\n"
     ]
    },
    {
     "name": "stderr",
     "output_type": "stream",
     "text": [
      " 95% (1404 of 1464) |################## | Elapsed Time: 12:06:36 ETA:   0:30:44"
     ]
    },
    {
     "name": "stdout",
     "output_type": "stream",
     "text": [
      "SPS: 65 Average Reward: -5.088866567569614\n"
     ]
    },
    {
     "name": "stderr",
     "output_type": "stream",
     "text": [
      " 95% (1405 of 1464) |################## | Elapsed Time: 12:07:07 ETA:   0:30:31"
     ]
    },
    {
     "name": "stdout",
     "output_type": "stream",
     "text": [
      "SPS: 65 Average Reward: -4.587246473431692\n"
     ]
    },
    {
     "name": "stderr",
     "output_type": "stream",
     "text": [
      " 96% (1406 of 1464) |################## | Elapsed Time: 12:07:38 ETA:   0:30:02"
     ]
    },
    {
     "name": "stdout",
     "output_type": "stream",
     "text": [
      "SPS: 65 Average Reward: -4.78232232366625\n"
     ]
    },
    {
     "name": "stderr",
     "output_type": "stream",
     "text": [
      " 96% (1407 of 1464) |################## | Elapsed Time: 12:08:09 ETA:   0:29:25"
     ]
    },
    {
     "name": "stdout",
     "output_type": "stream",
     "text": [
      "SPS: 65 Average Reward: -4.858269665351995\n"
     ]
    },
    {
     "name": "stderr",
     "output_type": "stream",
     "text": [
      " 96% (1408 of 1464) |################## | Elapsed Time: 12:08:40 ETA:   0:28:55"
     ]
    },
    {
     "name": "stdout",
     "output_type": "stream",
     "text": [
      "SPS: 65 Average Reward: -4.5124712950653185\n"
     ]
    },
    {
     "name": "stderr",
     "output_type": "stream",
     "text": [
      " 96% (1409 of 1464) |################## | Elapsed Time: 12:09:11 ETA:   0:28:27"
     ]
    },
    {
     "name": "stdout",
     "output_type": "stream",
     "text": [
      "SPS: 65 Average Reward: -4.656829428308258\n"
     ]
    },
    {
     "name": "stderr",
     "output_type": "stream",
     "text": [
      " 96% (1410 of 1464) |################## | Elapsed Time: 12:09:42 ETA:   0:27:46"
     ]
    },
    {
     "name": "stdout",
     "output_type": "stream",
     "text": [
      "SPS: 65 Average Reward: -4.48222423631116\n"
     ]
    },
    {
     "name": "stderr",
     "output_type": "stream",
     "text": [
      " 96% (1411 of 1464) |################## | Elapsed Time: 12:10:12 ETA:   0:26:47"
     ]
    },
    {
     "name": "stdout",
     "output_type": "stream",
     "text": [
      "SPS: 65 Average Reward: -5.064393716084803\n"
     ]
    },
    {
     "name": "stderr",
     "output_type": "stream",
     "text": [
      " 96% (1412 of 1464) |################## | Elapsed Time: 12:10:43 ETA:   0:26:30"
     ]
    },
    {
     "name": "stdout",
     "output_type": "stream",
     "text": [
      "SPS: 65 Average Reward: -4.667759107842957\n"
     ]
    },
    {
     "name": "stderr",
     "output_type": "stream",
     "text": [
      " 96% (1413 of 1464) |################## | Elapsed Time: 12:11:14 ETA:   0:26:10"
     ]
    },
    {
     "name": "stdout",
     "output_type": "stream",
     "text": [
      "SPS: 65 Average Reward: -4.4977032030824295\n"
     ]
    },
    {
     "name": "stderr",
     "output_type": "stream",
     "text": [
      " 96% (1414 of 1464) |################## | Elapsed Time: 12:11:44 ETA:   0:25:27"
     ]
    },
    {
     "name": "stdout",
     "output_type": "stream",
     "text": [
      "SPS: 65 Average Reward: -4.685212736433345\n"
     ]
    },
    {
     "name": "stderr",
     "output_type": "stream",
     "text": [
      " 96% (1415 of 1464) |################## | Elapsed Time: 12:12:15 ETA:   0:24:53"
     ]
    },
    {
     "name": "stdout",
     "output_type": "stream",
     "text": [
      "SPS: 65 Average Reward: -4.263306033790903\n"
     ]
    },
    {
     "name": "stderr",
     "output_type": "stream",
     "text": [
      " 96% (1416 of 1464) |################## | Elapsed Time: 12:12:45 ETA:   0:24:31"
     ]
    },
    {
     "name": "stdout",
     "output_type": "stream",
     "text": [
      "SPS: 65 Average Reward: -4.77057446825855\n"
     ]
    },
    {
     "name": "stderr",
     "output_type": "stream",
     "text": [
      " 96% (1417 of 1464) |################## | Elapsed Time: 12:13:16 ETA:   0:24:19"
     ]
    },
    {
     "name": "stdout",
     "output_type": "stream",
     "text": [
      "SPS: 65 Average Reward: -4.9476477284344895\n"
     ]
    },
    {
     "name": "stderr",
     "output_type": "stream",
     "text": [
      " 96% (1418 of 1464) |################## | Elapsed Time: 12:13:47 ETA:   0:23:50"
     ]
    },
    {
     "name": "stdout",
     "output_type": "stream",
     "text": [
      "SPS: 65 Average Reward: -4.837944333647491\n"
     ]
    },
    {
     "name": "stderr",
     "output_type": "stream",
     "text": [
      " 96% (1419 of 1464) |################## | Elapsed Time: 12:14:19 ETA:   0:23:18"
     ]
    },
    {
     "name": "stdout",
     "output_type": "stream",
     "text": [
      "SPS: 65 Average Reward: -5.152196523292137\n"
     ]
    },
    {
     "name": "stderr",
     "output_type": "stream",
     "text": [
      " 96% (1420 of 1464) |################## | Elapsed Time: 12:14:49 ETA:   0:22:40"
     ]
    },
    {
     "name": "stdout",
     "output_type": "stream",
     "text": [
      "SPS: 65 Average Reward: -4.612496973210168\n"
     ]
    },
    {
     "name": "stderr",
     "output_type": "stream",
     "text": [
      " 97% (1421 of 1464) |################## | Elapsed Time: 12:15:20 ETA:   0:22:15"
     ]
    },
    {
     "name": "stdout",
     "output_type": "stream",
     "text": [
      "SPS: 65 Average Reward: -5.030830789143198\n"
     ]
    },
    {
     "name": "stderr",
     "output_type": "stream",
     "text": [
      " 97% (1422 of 1464) |################## | Elapsed Time: 12:15:51 ETA:   0:21:35"
     ]
    },
    {
     "name": "stdout",
     "output_type": "stream",
     "text": [
      "SPS: 65 Average Reward: -6.697983942398264\n"
     ]
    },
    {
     "name": "stderr",
     "output_type": "stream",
     "text": [
      " 97% (1423 of 1464) |################## | Elapsed Time: 12:16:22 ETA:   0:20:58"
     ]
    },
    {
     "name": "stdout",
     "output_type": "stream",
     "text": [
      "SPS: 65 Average Reward: -5.193663193390417\n"
     ]
    },
    {
     "name": "stderr",
     "output_type": "stream",
     "text": [
      " 97% (1424 of 1464) |################## | Elapsed Time: 12:16:53 ETA:   0:20:36"
     ]
    },
    {
     "name": "stdout",
     "output_type": "stream",
     "text": [
      "SPS: 65 Average Reward: -4.9975420153647425\n"
     ]
    },
    {
     "name": "stderr",
     "output_type": "stream",
     "text": [
      " 97% (1425 of 1464) |################## | Elapsed Time: 12:17:24 ETA:   0:20:16"
     ]
    },
    {
     "name": "stdout",
     "output_type": "stream",
     "text": [
      "SPS: 65 Average Reward: -4.681021228277689\n"
     ]
    },
    {
     "name": "stderr",
     "output_type": "stream",
     "text": [
      " 97% (1426 of 1464) |################## | Elapsed Time: 12:17:55 ETA:   0:19:40"
     ]
    },
    {
     "name": "stdout",
     "output_type": "stream",
     "text": [
      "SPS: 65 Average Reward: -4.885586058302317\n"
     ]
    },
    {
     "name": "stderr",
     "output_type": "stream",
     "text": [
      " 97% (1427 of 1464) |################## | Elapsed Time: 12:18:26 ETA:   0:19:07"
     ]
    },
    {
     "name": "stdout",
     "output_type": "stream",
     "text": [
      "SPS: 65 Average Reward: -4.530937422408217\n"
     ]
    },
    {
     "name": "stderr",
     "output_type": "stream",
     "text": [
      " 97% (1428 of 1464) |################## | Elapsed Time: 12:18:57 ETA:   0:18:38"
     ]
    },
    {
     "name": "stdout",
     "output_type": "stream",
     "text": [
      "SPS: 65 Average Reward: -4.405375904289772\n"
     ]
    },
    {
     "name": "stderr",
     "output_type": "stream",
     "text": [
      " 97% (1429 of 1464) |################## | Elapsed Time: 12:19:28 ETA:   0:18:07"
     ]
    },
    {
     "name": "stdout",
     "output_type": "stream",
     "text": [
      "SPS: 65 Average Reward: -4.518870149155148\n"
     ]
    },
    {
     "name": "stderr",
     "output_type": "stream",
     "text": [
      " 97% (1430 of 1464) |################## | Elapsed Time: 12:19:59 ETA:   0:17:36"
     ]
    },
    {
     "name": "stdout",
     "output_type": "stream",
     "text": [
      "SPS: 65 Average Reward: -5.107421811719096\n"
     ]
    },
    {
     "name": "stderr",
     "output_type": "stream",
     "text": [
      " 97% (1431 of 1464) |################## | Elapsed Time: 12:20:31 ETA:   0:17:06"
     ]
    },
    {
     "name": "stdout",
     "output_type": "stream",
     "text": [
      "SPS: 65 Average Reward: -5.193651367054303\n"
     ]
    },
    {
     "name": "stderr",
     "output_type": "stream",
     "text": [
      " 97% (1432 of 1464) |################## | Elapsed Time: 12:21:02 ETA:   0:16:32"
     ]
    },
    {
     "name": "stdout",
     "output_type": "stream",
     "text": [
      "SPS: 65 Average Reward: -4.707626065487931\n"
     ]
    },
    {
     "name": "stderr",
     "output_type": "stream",
     "text": [
      " 97% (1433 of 1464) |################## | Elapsed Time: 12:21:33 ETA:   0:16:03"
     ]
    },
    {
     "name": "stdout",
     "output_type": "stream",
     "text": [
      "SPS: 65 Average Reward: -5.250533426090814\n"
     ]
    },
    {
     "name": "stderr",
     "output_type": "stream",
     "text": [
      " 97% (1434 of 1464) |################## | Elapsed Time: 12:22:04 ETA:   0:15:30"
     ]
    },
    {
     "name": "stdout",
     "output_type": "stream",
     "text": [
      "SPS: 65 Average Reward: -4.63624247285991\n"
     ]
    },
    {
     "name": "stderr",
     "output_type": "stream",
     "text": [
      " 98% (1435 of 1464) |################## | Elapsed Time: 12:22:35 ETA:   0:15:00"
     ]
    },
    {
     "name": "stdout",
     "output_type": "stream",
     "text": [
      "SPS: 65 Average Reward: -4.6995247772681354\n"
     ]
    },
    {
     "name": "stderr",
     "output_type": "stream",
     "text": [
      " 98% (1436 of 1464) |################## | Elapsed Time: 12:23:05 ETA:   0:14:16"
     ]
    },
    {
     "name": "stdout",
     "output_type": "stream",
     "text": [
      "SPS: 65 Average Reward: -4.6186945659254075\n"
     ]
    },
    {
     "name": "stderr",
     "output_type": "stream",
     "text": [
      " 98% (1437 of 1464) |################## | Elapsed Time: 12:23:36 ETA:   0:14:01"
     ]
    },
    {
     "name": "stdout",
     "output_type": "stream",
     "text": [
      "SPS: 65 Average Reward: -4.849910259819881\n"
     ]
    },
    {
     "name": "stderr",
     "output_type": "stream",
     "text": [
      " 98% (1438 of 1464) |################## | Elapsed Time: 12:24:08 ETA:   0:13:28"
     ]
    },
    {
     "name": "stdout",
     "output_type": "stream",
     "text": [
      "SPS: 65 Average Reward: -4.703296551476817\n"
     ]
    },
    {
     "name": "stderr",
     "output_type": "stream",
     "text": [
      " 98% (1439 of 1464) |################## | Elapsed Time: 12:24:39 ETA:   0:12:56"
     ]
    },
    {
     "name": "stdout",
     "output_type": "stream",
     "text": [
      "SPS: 65 Average Reward: -4.45189492731077\n"
     ]
    },
    {
     "name": "stderr",
     "output_type": "stream",
     "text": [
      " 98% (1440 of 1464) |################## | Elapsed Time: 12:25:10 ETA:   0:12:24"
     ]
    },
    {
     "name": "stdout",
     "output_type": "stream",
     "text": [
      "SPS: 65 Average Reward: -4.6191458896285695\n"
     ]
    },
    {
     "name": "stderr",
     "output_type": "stream",
     "text": [
      " 98% (1441 of 1464) |################## | Elapsed Time: 12:25:41 ETA:   0:11:54"
     ]
    },
    {
     "name": "stdout",
     "output_type": "stream",
     "text": [
      "SPS: 65 Average Reward: -4.7159221133792375\n"
     ]
    },
    {
     "name": "stderr",
     "output_type": "stream",
     "text": [
      " 98% (1442 of 1464) |################## | Elapsed Time: 12:26:12 ETA:   0:11:23"
     ]
    },
    {
     "name": "stdout",
     "output_type": "stream",
     "text": [
      "SPS: 65 Average Reward: -4.272027735740057\n"
     ]
    },
    {
     "name": "stderr",
     "output_type": "stream",
     "text": [
      " 98% (1443 of 1464) |################## | Elapsed Time: 12:26:43 ETA:   0:10:53"
     ]
    },
    {
     "name": "stdout",
     "output_type": "stream",
     "text": [
      "SPS: 65 Average Reward: -5.191050798704308\n"
     ]
    },
    {
     "name": "stderr",
     "output_type": "stream",
     "text": [
      " 98% (1444 of 1464) |################## | Elapsed Time: 12:27:14 ETA:   0:10:22"
     ]
    },
    {
     "name": "stdout",
     "output_type": "stream",
     "text": [
      "SPS: 65 Average Reward: -4.930970624099027\n"
     ]
    },
    {
     "name": "stderr",
     "output_type": "stream",
     "text": [
      " 98% (1445 of 1464) |################## | Elapsed Time: 12:27:45 ETA:   0:09:51"
     ]
    },
    {
     "name": "stdout",
     "output_type": "stream",
     "text": [
      "SPS: 65 Average Reward: -4.797505044862888\n"
     ]
    },
    {
     "name": "stderr",
     "output_type": "stream",
     "text": [
      " 98% (1446 of 1464) |################## | Elapsed Time: 12:28:16 ETA:   0:09:19"
     ]
    },
    {
     "name": "stdout",
     "output_type": "stream",
     "text": [
      "SPS: 65 Average Reward: -5.140593355458567\n"
     ]
    },
    {
     "name": "stderr",
     "output_type": "stream",
     "text": [
      " 98% (1447 of 1464) |################## | Elapsed Time: 12:28:47 ETA:   0:08:47"
     ]
    },
    {
     "name": "stdout",
     "output_type": "stream",
     "text": [
      "SPS: 65 Average Reward: -4.692369388342632\n"
     ]
    },
    {
     "name": "stderr",
     "output_type": "stream",
     "text": [
      " 98% (1448 of 1464) |################## | Elapsed Time: 12:29:18 ETA:   0:08:16"
     ]
    },
    {
     "name": "stdout",
     "output_type": "stream",
     "text": [
      "SPS: 65 Average Reward: -4.568370407398125\n"
     ]
    },
    {
     "name": "stderr",
     "output_type": "stream",
     "text": [
      " 98% (1449 of 1464) |################## | Elapsed Time: 12:29:49 ETA:   0:07:46"
     ]
    },
    {
     "name": "stdout",
     "output_type": "stream",
     "text": [
      "SPS: 65 Average Reward: -5.008025350585669\n"
     ]
    },
    {
     "name": "stderr",
     "output_type": "stream",
     "text": [
      " 99% (1450 of 1464) |################## | Elapsed Time: 12:30:20 ETA:   0:07:15"
     ]
    },
    {
     "name": "stdout",
     "output_type": "stream",
     "text": [
      "SPS: 65 Average Reward: -4.3803143227492045\n"
     ]
    },
    {
     "name": "stderr",
     "output_type": "stream",
     "text": [
      " 99% (1451 of 1464) |################## | Elapsed Time: 12:30:52 ETA:   0:06:43"
     ]
    },
    {
     "name": "stdout",
     "output_type": "stream",
     "text": [
      "SPS: 65 Average Reward: -4.81639073840354\n"
     ]
    },
    {
     "name": "stderr",
     "output_type": "stream",
     "text": [
      " 99% (1452 of 1464) |################## | Elapsed Time: 12:31:23 ETA:   0:06:13"
     ]
    },
    {
     "name": "stdout",
     "output_type": "stream",
     "text": [
      "SPS: 65 Average Reward: -4.5588115814694445\n"
     ]
    },
    {
     "name": "stderr",
     "output_type": "stream",
     "text": [
      " 99% (1453 of 1464) |################## | Elapsed Time: 12:31:54 ETA:   0:05:40"
     ]
    },
    {
     "name": "stdout",
     "output_type": "stream",
     "text": [
      "SPS: 65 Average Reward: -4.617138653792245\n"
     ]
    },
    {
     "name": "stderr",
     "output_type": "stream",
     "text": [
      " 99% (1454 of 1464) |################## | Elapsed Time: 12:32:25 ETA:   0:05:10"
     ]
    },
    {
     "name": "stdout",
     "output_type": "stream",
     "text": [
      "SPS: 65 Average Reward: -4.6586589803243434\n"
     ]
    },
    {
     "name": "stderr",
     "output_type": "stream",
     "text": [
      " 99% (1455 of 1464) |################## | Elapsed Time: 12:32:56 ETA:   0:04:40"
     ]
    },
    {
     "name": "stdout",
     "output_type": "stream",
     "text": [
      "SPS: 65 Average Reward: -4.947880343245279\n"
     ]
    },
    {
     "name": "stderr",
     "output_type": "stream",
     "text": [
      " 99% (1456 of 1464) |################## | Elapsed Time: 12:33:27 ETA:   0:04:08"
     ]
    },
    {
     "name": "stdout",
     "output_type": "stream",
     "text": [
      "SPS: 65 Average Reward: -4.802169862117041\n"
     ]
    },
    {
     "name": "stderr",
     "output_type": "stream",
     "text": [
      " 99% (1457 of 1464) |################## | Elapsed Time: 12:33:58 ETA:   0:03:37"
     ]
    },
    {
     "name": "stdout",
     "output_type": "stream",
     "text": [
      "SPS: 65 Average Reward: -4.594396503495644\n"
     ]
    },
    {
     "name": "stderr",
     "output_type": "stream",
     "text": [
      " 99% (1458 of 1464) |################## | Elapsed Time: 12:34:29 ETA:   0:03:06"
     ]
    },
    {
     "name": "stdout",
     "output_type": "stream",
     "text": [
      "SPS: 65 Average Reward: -4.859214198582973\n"
     ]
    },
    {
     "name": "stderr",
     "output_type": "stream",
     "text": [
      " 99% (1459 of 1464) |################## | Elapsed Time: 12:35:00 ETA:   0:02:33"
     ]
    },
    {
     "name": "stdout",
     "output_type": "stream",
     "text": [
      "SPS: 65 Average Reward: -4.883376666820599\n"
     ]
    },
    {
     "name": "stderr",
     "output_type": "stream",
     "text": [
      " 99% (1460 of 1464) |################## | Elapsed Time: 12:35:31 ETA:   0:02:02"
     ]
    },
    {
     "name": "stdout",
     "output_type": "stream",
     "text": [
      "SPS: 65 Average Reward: -4.590519827881838\n"
     ]
    },
    {
     "name": "stderr",
     "output_type": "stream",
     "text": [
      " 99% (1461 of 1464) |################## | Elapsed Time: 12:36:01 ETA:   0:01:32"
     ]
    },
    {
     "name": "stdout",
     "output_type": "stream",
     "text": [
      "SPS: 65 Average Reward: -4.525490474532041\n"
     ]
    },
    {
     "name": "stderr",
     "output_type": "stream",
     "text": [
      " 99% (1462 of 1464) |################## | Elapsed Time: 12:36:32 ETA:   0:01:01"
     ]
    },
    {
     "name": "stdout",
     "output_type": "stream",
     "text": [
      "SPS: 65 Average Reward: -4.964068058396707\n"
     ]
    },
    {
     "name": "stderr",
     "output_type": "stream",
     "text": [
      " 99% (1463 of 1464) |################## | Elapsed Time: 12:37:03 ETA:   0:00:31"
     ]
    },
    {
     "name": "stdout",
     "output_type": "stream",
     "text": [
      "SPS: 65 Average Reward: -4.473762393103606\n"
     ]
    },
    {
     "name": "stderr",
     "output_type": "stream",
     "text": [
      "100% (1464 of 1464) |###################| Elapsed Time: 12:37:34 Time: 12:37:34\n"
     ]
    }
   ],
   "source": [
    "torch.set_default_dtype(torch.float32)\n",
    "\n",
    "run_name = f\"{exp_name}__{seed}__{int(time.time())}\"\n",
    "\n",
    "writer = SummaryWriter(f\"runs/{run_name}\")\n",
    "\n",
    "writer.add_text(\"environment/level_number\", str(len(xml_files)), 0)\n",
    "writer.add_text(\"environment/agents\", ', '.join(agents), 0)\n",
    "writer.add_text(\"hyperparameters/learning_rate\", str(learning_rate), 0)\n",
    "writer.add_text(\"hyperparameters/network_size\", ', '.join(str(e) for e in [512, 256]), 0)\n",
    "writer.add_text(\"hyperparameters/batch\", str(minibatch_size), 0)\n",
    "\n",
    "# TRY NOT TO MODIFY: seeding\n",
    "random.seed(seed)\n",
    "np.random.seed(seed)\n",
    "torch.manual_seed(seed)\n",
    "torch.backends.cudnn.deterministic = torch_deterministic\n",
    "\n",
    "device = torch.device(\"cuda\" if torch.cuda.is_available() and cuda else \"cpu\")\n",
    "\n",
    "obs, infos = env.reset()\n",
    "\n",
    "sender, sender_optimizer = initialize_agent(env, device, learning_rate)\n",
    "receiver, receiver_optimizer = initialize_agent(env, device, learning_rate)\n",
    "\n",
    "buffer_sender = Buffer(num_steps, env, num_envs, device)\n",
    "buffer_receiver = Buffer(num_steps, env, num_envs, device)\n",
    "\n",
    "global_step = 0\n",
    "start_time = time.time()\n",
    "next_obs, infos = reset_environment(env, device)\n",
    "\n",
    "next_done = {\"sender\": torch.zeros(num_envs).to(device), \"receiver\": torch.zeros(num_envs).to(device)}\n",
    "\n",
    "num_updates = total_timesteps // batch_size\n",
    "train_start = time.time()\n",
    "\n",
    "epoch_lengths = []\n",
    "current_length = 0\n",
    "\n",
    "for update in progressbar(range(1, num_updates + 1), redirect_stdout=True):\n",
    "    # Annealing the rate if instructed to do so.\n",
    "    if anneal_lr:\n",
    "        frac = 1.0 - (update - 1.0) / num_updates\n",
    "        lrnow = frac * learning_rate\n",
    "        sender_optimizer.param_groups[0][\"lr\"] = lrnow\n",
    "        receiver_optimizer.param_groups[0][\"lr\"] = lrnow\n",
    "    \n",
    "    epoch_rewards = {\"sender\":0, \"receiver\":0}\n",
    "    current_rewards = {\"sender\":[], \"receiver\":[]}\n",
    "    variances = {\"sender\":[], \"receiver\":[]}\n",
    "    epoch_runs = 0\n",
    "    episode_accuracies = 0\n",
    "    episode_sendAccuracies = 0\n",
    "    for step in range(0, num_steps):\n",
    "        global_step += 1 * num_envs\n",
    "        current_length += 1\n",
    "        buffer_sender.obs[step] = next_obs[\"sender\"]\n",
    "        buffer_receiver.obs[step] = next_obs[\"receiver\"]\n",
    "\n",
    "\n",
    "        sender_action = get_action_and_update_buffer(sender, next_obs[\"sender\"], buffer_sender, step)\n",
    "        receiver_action = get_action_and_update_buffer(receiver, next_obs[\"receiver\"], buffer_receiver, step)\n",
    "\n",
    "        next_obs, reward, terminations, truncations, info = env.step({\"sender\": sender_action.cpu().numpy()[0], \"receiver\": receiver_action.cpu().numpy()[0]})\n",
    "        current_rewards[\"sender\"].append(reward[\"sender\"])\n",
    "        current_rewards[\"receiver\"].append(reward[\"receiver\"])\n",
    "        next_obs = {\"sender\": torch.Tensor(next_obs[\"sender\"]).unsqueeze(0).to(device), \"receiver\": torch.Tensor(next_obs[\"receiver\"]).unsqueeze(0).to(device)}\n",
    "\n",
    "        if terminations[\"sender\"] or terminations[\"receiver\"] or truncations[\"sender\"] or truncations[\"receiver\"]:\n",
    "            next_obs, infos = reset_environment(env, device)\n",
    "            epoch_rewards[\"sender\"] += sum(current_rewards[\"sender\"])\n",
    "            epoch_rewards[\"receiver\"] += sum(current_rewards[\"receiver\"])\n",
    "\n",
    "            epoch_lengths.append(current_length)\n",
    "            current_length = 0\n",
    "\n",
    "            dynamic = env.env.env.environment_dynamics[3]\n",
    "\n",
    "            if len(dynamic.sendAccuracies) > 512:\n",
    "                episode_sendAccuracies = sum(dynamic.sendAccuracies[-512:]) / 512\n",
    "                del dynamic.sendAccuracies[:-513]\n",
    "                writer.add_scalar(\"charts/sender/accuracies\", episode_sendAccuracies, global_step)\n",
    "\n",
    "            if len(dynamic.accuracies) > 4:\n",
    "                window = min(15, len(dynamic.accuracies))\n",
    "                episode_accuracies = sum(dynamic.accuracies[-1 * window:]) / window\n",
    "                writer.add_scalar(\"charts/receiver/accuracies\", episode_accuracies, global_step)\n",
    "                if window == 15:\n",
    "                    del dynamic.accuracies[:-16]\n",
    "\n",
    "            if len(dynamic.variances) > 4:\n",
    "                window = min(15, len(dynamic.variances))\n",
    "                current_variance = sum(dynamic.variances[-1 * window:]) / window\n",
    "                writer.add_scalar(\"charts/receiver_variance\", current_variance, global_step)\n",
    "                if window == 15:\n",
    "                    del dynamic.variances[:-16]\n",
    "\n",
    "            if len(epoch_lengths) > 3:\n",
    "                window = min(10, len(epoch_lengths))\n",
    "                epoch_length = sum(epoch_lengths[-1 * window:]) / window\n",
    "                writer.add_scalar(\"charts/episodic_length\", epoch_length, global_step)\n",
    "                if window == 10:\n",
    "                    del epoch_lengths[:-11]\n",
    "            epoch_runs += 1\n",
    "        \n",
    "        buffer_sender.rewards[step] = torch.tensor(reward[\"sender\"]).to(device).view(-1)\n",
    "        buffer_receiver.rewards[step] = torch.tensor(reward[\"receiver\"]).to(device).view(-1)\n",
    "        next_done = {\"sender\": torch.Tensor([terminations[\"sender\"]]).to(device), \"receiver\": torch.Tensor([terminations[\"receiver\"]]).to(device)}\n",
    "    if update % store_freq == 0:\n",
    "        torch.save(sender, \"models/model\" + str(start_time) + \".pth\")\n",
    "        torch.save(receiver, \"models/model\" + str(start_time) + \".pth\")\n",
    "\n",
    "    update_agent(sender, buffer_sender, sender_optimizer, next_obs[\"sender\"], next_done[\"sender\"], env, batch_size, update_epochs, minibatch_size, clip_coef, vf_coef, ent_coef, max_grad_norm, target_kl, clip_vloss, norm_adv, gae_lambda, gae, gamma, device, step)\n",
    "    update_agent(receiver, buffer_receiver, receiver_optimizer, next_obs[\"receiver\"], next_done[\"receiver\"], env, batch_size, update_epochs, minibatch_size, clip_coef, vf_coef, ent_coef, max_grad_norm, target_kl, clip_vloss, norm_adv, gae_lambda, gae, gamma, device, step)\n",
    "\n",
    "    writer.add_scalar(\"charts/learning_rate\", sender_optimizer.param_groups[0][\"lr\"], global_step)\n",
    "    writer.add_scalar(\"charts/sender/episodic_return\", epoch_rewards[\"sender\"] / epoch_runs, global_step)\n",
    "    writer.add_scalar(\"charts/receiver/episodic_return\", epoch_rewards[\"receiver\"] / epoch_runs, global_step)\n",
    "    print(\"SPS:\", int(global_step / (time.time() - start_time)), \"Average Reward:\", epoch_rewards[\"sender\"] / epoch_runs)\n",
    "    writer.add_scalar(\"charts/SPS\", int(global_step / (time.time() - start_time)), global_step)\n",
    "\n",
    "torch.save(sender, \"models/model\" + str(start_time) + \".pth\")\n",
    "torch.save(receiver, \"models/model\" + str(start_time) + \".pth\")\n",
    "writer.close()"
   ]
  },
  {
   "cell_type": "code",
   "execution_count": 19,
   "metadata": {
    "ExecuteTime": {
     "end_time": "2024-03-07T00:28:26.183844Z",
     "start_time": "2024-03-07T00:28:26.102909Z"
    }
   },
   "outputs": [],
   "source": [
    "torch.save(sender, \"models/sender\" + str(start_time) + \".pth\")\n",
    "torch.save(receiver, \"models/receiver\" + str(start_time) + \".pth\")"
   ]
  },
  {
   "cell_type": "markdown",
   "metadata": {},
   "source": [
    "# Direct communication test"
   ]
  },
  {
   "cell_type": "code",
   "execution_count": 19,
   "metadata": {
    "ExecuteTime": {
     "end_time": "2024-03-12T09:53:23.686542Z",
     "start_time": "2024-03-12T09:53:23.627754Z"
    }
   },
   "outputs": [],
   "source": [
    "class Test_Communication:\n",
    "    def __init__(self, environment):\n",
    "        self.environment = environment\n",
    "        self.observation_space = {\"low\": [0, 0, 0, 0, 0, 0], \"high\": [1, 1, 1, 1, 1, 1]}\n",
    "        self.action_space = {\"low\": [0, 0, 0, 0, 0, 0], \"high\": [1, 1, 1, 1, 1, 1]}\n",
    "\n",
    "    def dynamic(self, agent, actions):\n",
    "        if \"utterance\" not in self.environment.data_store[agent].keys():\n",
    "            self.environment.data_store[agent][\"utterance\"] = None\n",
    "        if agent == \"receiver\":\n",
    "            utterance = [0, 0, 0, 0, 0, 0]\n",
    "            if \"utterance_max\" in self.environment.data_store[\"sender\"].keys():\n",
    "                observation = self.environment.data_store[\"sender\"][\"utterance_max\"]\n",
    "            else:\n",
    "                observation = utterance\n",
    "        elif agent == \"sender\":\n",
    "            utterance = [0, 0, 0, 0, 0, 0]\n",
    "            utterance[np.argmax(actions)] = 1\n",
    "            self.environment.data_store[agent][\"utterance\"] = actions\n",
    "            self.environment.data_store[agent][\"utterance_max\"] = utterance\n",
    "            observation = [0, 0, 0, 0, 0, 0]\n",
    "        else:\n",
    "            print(\"Dafaq is going on here?\")\n",
    "        return 0, observation, False, {}"
   ]
  },
  {
   "cell_type": "code",
   "execution_count": 18,
   "outputs": [],
   "source": [
    "sender = torch.load(\"models/sender1709758854.6746309.pth\")\n",
    "receiver = torch.load(\"models/receiver1709758854.6746309.pth\")"
   ],
   "metadata": {
    "collapsed": false,
    "ExecuteTime": {
     "end_time": "2024-03-07T07:17:28.370168Z",
     "start_time": "2024-03-07T07:17:28.325965Z"
    }
   }
  },
  {
   "cell_type": "code",
   "execution_count": 20,
   "metadata": {
    "ExecuteTime": {
     "end_time": "2024-03-12T09:53:24.006505Z",
     "start_time": "2024-03-12T09:53:23.632358Z"
    }
   },
   "outputs": [
    {
     "name": "stderr",
     "output_type": "stream",
     "text": [
      "/Users/imtezcan/Repositories/CogSci/EBIMAS/venv-ebimas/lib/python3.10/site-packages/gymnasium/spaces/box.py:130: UserWarning: \u001B[33mWARN: Box bound precision lowered by casting to float32\u001B[0m\n",
      "  gym.logger.warn(f\"Box bound precision lowered by casting to {self.dtype}\")\n"
     ]
    }
   ],
   "source": [
    "xml_files = [\"levels_shape_backup/modified/\" + file for file in os.listdir(\"levels_shape_backup/modified/\")]\n",
    "agents = [\"sender\", \"receiver\"]\n",
    "\n",
    "config_dict = {\"xmlPath\":xml_files, \n",
    "                   \"agents\":agents, \n",
    "                   \"rewardFunctions\":[collision_reward, target_reward], \n",
    "                   \"doneFunctions\":[target_done, border_done], \n",
    "                   \"skipFrames\":5,\n",
    "                   \"environmentDynamics\":[Image, Reward, Test_Communication, Accuracy],\n",
    "                   \"freeJoint\":True,\n",
    "                   \"renderMode\":False,\n",
    "                   \"maxSteps\":1024,\n",
    "                   \"agentCameras\":True}\n",
    "\n",
    "env = make_env(config_dict)()"
   ]
  },
  {
   "cell_type": "code",
   "execution_count": 21,
   "metadata": {
    "ExecuteTime": {
     "end_time": "2024-03-12T09:53:52.000788Z",
     "start_time": "2024-03-12T09:53:24.004042Z"
    }
   },
   "outputs": [
    {
     "name": "stderr",
     "output_type": "stream",
     "text": [
      "100%|██████████| 30/30 [00:27<00:00,  1.10it/s]"
     ]
    },
    {
     "name": "stdout",
     "output_type": "stream",
     "text": [
      "Accuracy: 0.5\n",
      "Variance: 1.0\n",
      "Send Accuracy: 0.6164179104477612\n",
      "Length: 63.96666666666667\n"
     ]
    },
    {
     "name": "stderr",
     "output_type": "stream",
     "text": [
      "\n"
     ]
    }
   ],
   "source": [
    "from tqdm import tqdm\n",
    "\n",
    "epochs = 30\n",
    "num_steps = 1024\n",
    "lengths = []\n",
    "\n",
    "random.seed(seed)\n",
    "np.random.seed(seed)\n",
    "torch.manual_seed(seed)\n",
    "torch.backends.cudnn.deterministic = torch_deterministic\n",
    "\n",
    "device = torch.device(\"cuda\" if torch.cuda.is_available() and cuda else \"cpu\")\n",
    "\n",
    "for epoch in tqdm(range(epochs)):\n",
    "    next_obs, infos = reset_environment(env, device)\n",
    "\n",
    "    next_obs = {k: torch.Tensor(v).unsqueeze(0).to(device) for k, v in next_obs.items()}\n",
    "    next_done = {\"sender\": torch.zeros(num_envs).to(device), \"receiver\": torch.zeros(num_envs).to(device)}\n",
    "\n",
    "    for step in range(0, num_steps):\n",
    "        sender_action = sender.get_action_and_value(next_obs[\"sender\"])[0]\n",
    "        receiver_action = receiver.get_action_and_value(next_obs[\"receiver\"])[0]\n",
    "\n",
    "        next_obs, reward, terminations, truncations, info = env.step({\"sender\": sender_action.cpu().numpy()[0], \"receiver\": receiver_action.cpu().numpy()[0]})\n",
    "        next_obs = {\"sender\": torch.Tensor(next_obs[\"sender\"]).unsqueeze(0).to(device), \"receiver\": torch.Tensor(next_obs[\"receiver\"]).unsqueeze(0).to(device)}\n",
    "\n",
    "        if terminations[\"sender\"] or terminations[\"receiver\"] or truncations[\"sender\"] or truncations[\"receiver\"]:\n",
    "            next_obs, infos = reset_environment(env, device)\n",
    "            lengths.append(step)\n",
    "            break\n",
    "            \n",
    "dynamic = env.env.env.environment_dynamics[3]\n",
    "print(\"Accuracy:\", sum(dynamic.accuracies) / len(dynamic.accuracies))\n",
    "print(\"Variance:\", sum(dynamic.variances) / len(dynamic.variances))\n",
    "print(\"Send Accuracy:\", sum(dynamic.sendAccuracies) / len(dynamic.sendAccuracies))\n",
    "print(\"Length:\", sum(lengths) / len(lengths))"
   ]
  },
  {
   "cell_type": "code",
   "execution_count": 22,
   "outputs": [
    {
     "name": "stdout",
     "output_type": "stream",
     "text": [
      "Accuracy: 0.5\n",
      "Variance: 1.0\n",
      "Send Accuracy: 0.6164179104477612\n",
      "Length: 63.96666666666667\n"
     ]
    }
   ],
   "source": [
    "dynamic = env.env.env.environment_dynamics[3]\n",
    "print(\"Accuracy:\", sum(dynamic.accuracies) / len(dynamic.accuracies))\n",
    "print(\"Variance:\", sum(dynamic.variances) / len(dynamic.variances))\n",
    "print(\"Send Accuracy:\", sum(dynamic.sendAccuracies) / len(dynamic.sendAccuracies))\n",
    "print(\"Length:\", sum(lengths) / len(lengths))"
   ],
   "metadata": {
    "collapsed": false,
    "ExecuteTime": {
     "end_time": "2024-03-12T09:53:52.005140Z",
     "start_time": "2024-03-12T09:53:51.194632Z"
    }
   }
  },
  {
   "cell_type": "code",
   "execution_count": null,
   "outputs": [],
   "source": [],
   "metadata": {
    "collapsed": false
   }
  }
 ],
 "metadata": {
  "kernelspec": {
   "display_name": "Ray",
   "language": "python",
   "name": "python3"
  },
  "language_info": {
   "codemirror_mode": {
    "name": "ipython",
    "version": 3
   },
   "file_extension": ".py",
   "mimetype": "text/x-python",
   "name": "python",
   "nbconvert_exporter": "python",
   "pygments_lexer": "ipython3",
   "version": "3.9.16"
  }
 },
 "nbformat": 4,
 "nbformat_minor": 2
}
